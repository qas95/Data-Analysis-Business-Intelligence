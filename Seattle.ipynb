{
  "nbformat": 4,
  "nbformat_minor": 0,
  "metadata": {
    "kernelspec": {
      "display_name": "Python 3",
      "language": "python",
      "name": "python3"
    },
    "language_info": {
      "codemirror_mode": {
        "name": "ipython",
        "version": 3
      },
      "file_extension": ".py",
      "mimetype": "text/x-python",
      "name": "python",
      "nbconvert_exporter": "python",
      "pygments_lexer": "ipython3",
      "version": "3.7.6"
    },
    "colab": {
      "name": "Seattle.ipynb",
      "provenance": [],
      "include_colab_link": true
    }
  },
  "cells": [
    {
      "cell_type": "markdown",
      "metadata": {
        "id": "view-in-github",
        "colab_type": "text"
      },
      "source": [
        "<a href=\"https://colab.research.google.com/github/qas95/Data-Analysis-Business-Intelligence/blob/main/Seattle.ipynb\" target=\"_parent\"><img src=\"https://colab.research.google.com/assets/colab-badge.svg\" alt=\"Open In Colab\"/></a>"
      ]
    },
    {
      "cell_type": "code",
      "metadata": {
        "id": "uF5OcyvD_Rww"
      },
      "source": [
        "import pandas as pd\n",
        "import numpy as np\n",
        "import matplotlib.pyplot as plt"
      ],
      "execution_count": null,
      "outputs": []
    },
    {
      "cell_type": "code",
      "metadata": {
        "id": "kLNQALA4_Rw4"
      },
      "source": [
        "df = pd.read_csv('./Seattle_Police.csv')"
      ],
      "execution_count": null,
      "outputs": []
    },
    {
      "cell_type": "markdown",
      "metadata": {
        "id": "0SmDU5L7_Rw4"
      },
      "source": [
        "## 1 - CAD CDW ID"
      ]
    },
    {
      "cell_type": "code",
      "metadata": {
        "id": "A9a7QeTl_Rw5",
        "outputId": "0c1f937b-7ae4-4835-c8ef-a0cc5bee28ce"
      },
      "source": [
        "m = df.loc[df['CAD CDW ID'].isna()]\n",
        "df['CAD CDW ID'][m.index]"
      ],
      "execution_count": null,
      "outputs": [
        {
          "output_type": "execute_result",
          "data": {
            "text/plain": [
              "144   NaN\n",
              "145   NaN\n",
              "146   NaN\n",
              "147   NaN\n",
              "148   NaN\n",
              "149   NaN\n",
              "Name: CAD CDW ID, dtype: float64"
            ]
          },
          "metadata": {
            "tags": []
          },
          "execution_count": 20
        }
      ]
    },
    {
      "cell_type": "markdown",
      "metadata": {
        "id": "vZ6knfGf_Rw6"
      },
      "source": [
        "##### **Lets look at the values above and below these NaN values**"
      ]
    },
    {
      "cell_type": "code",
      "metadata": {
        "id": "sDNJ03U7_Rw6",
        "outputId": "dd305b41-e5b0-4538-c342-6f997b3a28c8"
      },
      "source": [
        "df['CAD CDW ID'][142:152]"
      ],
      "execution_count": null,
      "outputs": [
        {
          "output_type": "execute_result",
          "data": {
            "text/plain": [
              "142    15882.0\n",
              "143    15883.0\n",
              "144        NaN\n",
              "145        NaN\n",
              "146        NaN\n",
              "147        NaN\n",
              "148        NaN\n",
              "149        NaN\n",
              "150    15890.0\n",
              "151    15891.0\n",
              "Name: CAD CDW ID, dtype: float64"
            ]
          },
          "metadata": {
            "tags": []
          },
          "execution_count": 21
        }
      ]
    },
    {
      "cell_type": "markdown",
      "metadata": {
        "id": "gQlPsZzD_Rw7"
      },
      "source": [
        "##### **These values are in a range with every value increasing by 1. Hence I will use the interpolate method to fill the values**"
      ]
    },
    {
      "cell_type": "code",
      "metadata": {
        "id": "iwsP_jpf_Rw7"
      },
      "source": [
        "df['CAD CDW ID'] = df['CAD CDW ID'].interpolate()"
      ],
      "execution_count": null,
      "outputs": []
    },
    {
      "cell_type": "code",
      "metadata": {
        "id": "FM2SCsTy_Rw7",
        "outputId": "eeb37649-7b6c-417d-ccef-965a5e1acefb"
      },
      "source": [
        "df['CAD CDW ID'][142:152] # As you can see they are all filled now. Lets look for more erroneous data."
      ],
      "execution_count": null,
      "outputs": [
        {
          "output_type": "execute_result",
          "data": {
            "text/plain": [
              "142    15882.0\n",
              "143    15883.0\n",
              "144    15884.0\n",
              "145    15885.0\n",
              "146    15886.0\n",
              "147    15887.0\n",
              "148    15888.0\n",
              "149    15889.0\n",
              "150    15890.0\n",
              "151    15891.0\n",
              "Name: CAD CDW ID, dtype: float64"
            ]
          },
          "metadata": {
            "tags": []
          },
          "execution_count": 23
        }
      ]
    },
    {
      "cell_type": "markdown",
      "metadata": {
        "id": "xouxjxPo_Rw8"
      },
      "source": [
        "##### **Looking for values that are out of range or erroneous. e.g values with more than 7 digits**"
      ]
    },
    {
      "cell_type": "code",
      "metadata": {
        "id": "n558zG-S_Rw8"
      },
      "source": [
        "df['CAD CDW ID'] = df['CAD CDW ID'].astype(str)"
      ],
      "execution_count": null,
      "outputs": []
    },
    {
      "cell_type": "code",
      "metadata": {
        "id": "vSIiKc4e_Rw9",
        "outputId": "42400de8-4f54-451f-dec0-1d014d9e6e57"
      },
      "source": [
        "df['CAD CDW ID'].str.len().value_counts()  # These values don't match the pattern(>7 digits) and are erroneous values."
      ],
      "execution_count": null,
      "outputs": [
        {
          "output_type": "execute_result",
          "data": {
            "text/plain": [
              "7    9864\n",
              "9     136\n",
              "Name: CAD CDW ID, dtype: int64"
            ]
          },
          "metadata": {
            "tags": []
          },
          "execution_count": 25
        }
      ]
    },
    {
      "cell_type": "code",
      "metadata": {
        "id": "lrYZYK7h_Rw9"
      },
      "source": [
        "#Lets set these values to NaN first\n",
        "\n",
        "a = df[df['CAD CDW ID'].str.len()>7]\n",
        "df['CAD CDW ID'].iloc[a.index] = np.nan"
      ],
      "execution_count": null,
      "outputs": []
    },
    {
      "cell_type": "code",
      "metadata": {
        "id": "udqiAnr-_Rw9",
        "outputId": "55cc74ce-7683-4f78-cc7d-42f88b7b768a"
      },
      "source": [
        "# Replaced all with NaN\n",
        "\n",
        "df['CAD CDW ID'][a.index] "
      ],
      "execution_count": null,
      "outputs": [
        {
          "output_type": "execute_result",
          "data": {
            "text/plain": [
              "48      NaN\n",
              "69      NaN\n",
              "104     NaN\n",
              "189     NaN\n",
              "254     NaN\n",
              "       ... \n",
              "9854    NaN\n",
              "9855    NaN\n",
              "9861    NaN\n",
              "9917    NaN\n",
              "9994    NaN\n",
              "Name: CAD CDW ID, Length: 136, dtype: object"
            ]
          },
          "metadata": {
            "tags": []
          },
          "execution_count": 27
        }
      ]
    },
    {
      "cell_type": "code",
      "metadata": {
        "id": "mhcEQIiy_Rw-"
      },
      "source": [
        "df['CAD CDW ID'] = df['CAD CDW ID'].astype(float)"
      ],
      "execution_count": null,
      "outputs": []
    },
    {
      "cell_type": "code",
      "metadata": {
        "id": "dKGODF1z_Rw-"
      },
      "source": [
        "# Updating the NaN by adding 1 to their previous value\n",
        "\n",
        "for i in a.index: \n",
        "    df['CAD CDW ID'].iloc[i] = (df['CAD CDW ID'].iloc[i-1])+1"
      ],
      "execution_count": null,
      "outputs": []
    },
    {
      "cell_type": "code",
      "metadata": {
        "id": "Skm-7Lpl_Rw-",
        "outputId": "59cde4a4-318a-4b33-cc3c-09405fa6fa55"
      },
      "source": [
        "df['CAD CDW ID'][a.index]"
      ],
      "execution_count": null,
      "outputs": [
        {
          "output_type": "execute_result",
          "data": {
            "text/plain": [
              "48      15786.0\n",
              "69      15807.0\n",
              "104     15842.0\n",
              "189     15930.0\n",
              "254     15997.0\n",
              "         ...   \n",
              "9854    25780.0\n",
              "9855    25781.0\n",
              "9861    25787.0\n",
              "9917    25845.0\n",
              "9994    25923.0\n",
              "Name: CAD CDW ID, Length: 136, dtype: float64"
            ]
          },
          "metadata": {
            "tags": []
          },
          "execution_count": 30
        }
      ]
    },
    {
      "cell_type": "code",
      "metadata": {
        "id": "4uhwgoum_Rw_",
        "outputId": "6861882a-bb1d-4a87-bcdf-bb4a387b6e8d"
      },
      "source": [
        "df['CAD CDW ID'].isna().sum() # RECHECK"
      ],
      "execution_count": null,
      "outputs": [
        {
          "output_type": "execute_result",
          "data": {
            "text/plain": [
              "0"
            ]
          },
          "metadata": {
            "tags": []
          },
          "execution_count": 31
        }
      ]
    },
    {
      "cell_type": "markdown",
      "metadata": {
        "id": "CElWn8LY_Rw_"
      },
      "source": [
        "## 2 CAD Event Number\n",
        "\n",
        "**1** - Copied (bfill) the value from General Offense Number to Null values in CAD event Number. <br>\n",
        "**2** - Replacing \"2016\" with 10000 and \"2010\" with 10000 in the column to conform to the pattern. Using REGEX"
      ]
    },
    {
      "cell_type": "code",
      "metadata": {
        "id": "xDeR3OzR_Rw_",
        "outputId": "0be872a4-b387-450a-879a-1e1b540eed8d"
      },
      "source": [
        "a2 = df[df['CAD Event Number'].isna()].head()\n",
        "a2"
      ],
      "execution_count": null,
      "outputs": [
        {
          "output_type": "execute_result",
          "data": {
            "text/html": [
              "<div>\n",
              "<style scoped>\n",
              "    .dataframe tbody tr th:only-of-type {\n",
              "        vertical-align: middle;\n",
              "    }\n",
              "\n",
              "    .dataframe tbody tr th {\n",
              "        vertical-align: top;\n",
              "    }\n",
              "\n",
              "    .dataframe thead th {\n",
              "        text-align: right;\n",
              "    }\n",
              "</style>\n",
              "<table border=\"1\" class=\"dataframe\">\n",
              "  <thead>\n",
              "    <tr style=\"text-align: right;\">\n",
              "      <th></th>\n",
              "      <th>CAD CDW ID</th>\n",
              "      <th>CAD Event Number</th>\n",
              "      <th>General Offense Number</th>\n",
              "      <th>Event Clearance Code</th>\n",
              "      <th>Event Clearance Description</th>\n",
              "      <th>Event Clearance SubGroup</th>\n",
              "      <th>Event Clearance Group</th>\n",
              "      <th>Event Clearance Date</th>\n",
              "      <th>Hundred Block Location</th>\n",
              "      <th>District/Sector</th>\n",
              "      <th>Zone/Beat</th>\n",
              "      <th>Census Tract</th>\n",
              "      <th>Longitude</th>\n",
              "      <th>Latitude</th>\n",
              "      <th>Incident Location</th>\n",
              "      <th>Initial Type Description</th>\n",
              "      <th>Initial Type Subgroup</th>\n",
              "      <th>Initial Type Group</th>\n",
              "      <th>At Scene Time</th>\n",
              "    </tr>\n",
              "  </thead>\n",
              "  <tbody>\n",
              "    <tr>\n",
              "      <th>29</th>\n",
              "      <td>15766.0</td>\n",
              "      <td>NaN</td>\n",
              "      <td>2010246426</td>\n",
              "      <td>280.0</td>\n",
              "      <td>SUSPICIOUS PERSON</td>\n",
              "      <td>SUSPICIOUS CIRCUMSTANCES</td>\n",
              "      <td>SUSPICIOUS CIRCUMSTANCES</td>\n",
              "      <td>7/17/10 20:46</td>\n",
              "      <td>9XX BLOCK OF NE 50TH ST</td>\n",
              "      <td>U</td>\n",
              "      <td>U3</td>\n",
              "      <td>5301.2004</td>\n",
              "      <td>-122.317921</td>\n",
              "      <td>47.664941</td>\n",
              "      <td>(47.664940729, -122.317920862)</td>\n",
              "      <td>NaN</td>\n",
              "      <td>NaN</td>\n",
              "      <td>NaN</td>\n",
              "      <td>NaN</td>\n",
              "    </tr>\n",
              "    <tr>\n",
              "      <th>30</th>\n",
              "      <td>15767.0</td>\n",
              "      <td>NaN</td>\n",
              "      <td>2010246213</td>\n",
              "      <td>470.0</td>\n",
              "      <td>PARKING VIOLATION (EXCEPT ABANDONED VEHICLES)</td>\n",
              "      <td>PARKING VIOLATIONS</td>\n",
              "      <td>TRAFFIC RELATED CALLS</td>\n",
              "      <td>7/17/10 20:48</td>\n",
              "      <td>3XX BLOCK OF TAYLOR AVE N</td>\n",
              "      <td>D</td>\n",
              "      <td>D1</td>\n",
              "      <td>7200.1022</td>\n",
              "      <td>-122.346293</td>\n",
              "      <td>47.621317</td>\n",
              "      <td>(47.621316912, -122.346293035)</td>\n",
              "      <td>NaN</td>\n",
              "      <td>NaN</td>\n",
              "      <td>NaN</td>\n",
              "      <td>NaN</td>\n",
              "    </tr>\n",
              "    <tr>\n",
              "      <th>31</th>\n",
              "      <td>15768.0</td>\n",
              "      <td>NaN</td>\n",
              "      <td>2010246429</td>\n",
              "      <td>245.0</td>\n",
              "      <td>DISTURBANCE, OTHER</td>\n",
              "      <td>DISTURBANCES</td>\n",
              "      <td>DISTURBANCES</td>\n",
              "      <td>7/17/10 20:48</td>\n",
              "      <td>2XX BLOCK OF THOMAS ST</td>\n",
              "      <td>D</td>\n",
              "      <td>D1</td>\n",
              "      <td>7100.2001</td>\n",
              "      <td>-122.352168</td>\n",
              "      <td>47.620924</td>\n",
              "      <td>(47.620924048, -122.352168318)</td>\n",
              "      <td>NaN</td>\n",
              "      <td>NaN</td>\n",
              "      <td>NaN</td>\n",
              "      <td>NaN</td>\n",
              "    </tr>\n",
              "    <tr>\n",
              "      <th>32</th>\n",
              "      <td>15769.0</td>\n",
              "      <td>NaN</td>\n",
              "      <td>2010246463</td>\n",
              "      <td>177.0</td>\n",
              "      <td>LIQUOR VIOLATION - INTOXICATED PERSON</td>\n",
              "      <td>LIQUOR VIOLATIONS</td>\n",
              "      <td>LIQUOR VIOLATIONS</td>\n",
              "      <td>7/17/10 20:49</td>\n",
              "      <td>1XX BLOCK OF BROADWAY E</td>\n",
              "      <td>E</td>\n",
              "      <td>E1</td>\n",
              "      <td>7400.3005</td>\n",
              "      <td>-122.320864</td>\n",
              "      <td>47.619324</td>\n",
              "      <td>(47.619323644, -122.320863687)</td>\n",
              "      <td>NaN</td>\n",
              "      <td>NaN</td>\n",
              "      <td>NaN</td>\n",
              "      <td>NaN</td>\n",
              "    </tr>\n",
              "    <tr>\n",
              "      <th>33</th>\n",
              "      <td>15770.0</td>\n",
              "      <td>NaN</td>\n",
              "      <td>2010246305</td>\n",
              "      <td>160.0</td>\n",
              "      <td>PROWLER</td>\n",
              "      <td>PROWLER</td>\n",
              "      <td>PROWLER</td>\n",
              "      <td>7/17/10 20:49</td>\n",
              "      <td>3XX BLOCK OF HARRISON ST</td>\n",
              "      <td>D</td>\n",
              "      <td>D1</td>\n",
              "      <td>7100.2001</td>\n",
              "      <td>-122.350854</td>\n",
              "      <td>47.622087</td>\n",
              "      <td>(47.622086915, -122.350854033)</td>\n",
              "      <td>NaN</td>\n",
              "      <td>NaN</td>\n",
              "      <td>NaN</td>\n",
              "      <td>NaN</td>\n",
              "    </tr>\n",
              "  </tbody>\n",
              "</table>\n",
              "</div>"
            ],
            "text/plain": [
              "    CAD CDW ID  CAD Event Number General Offense Number  Event Clearance Code  \\\n",
              "29     15766.0               NaN             2010246426                 280.0   \n",
              "30     15767.0               NaN             2010246213                 470.0   \n",
              "31     15768.0               NaN             2010246429                 245.0   \n",
              "32     15769.0               NaN             2010246463                 177.0   \n",
              "33     15770.0               NaN             2010246305                 160.0   \n",
              "\n",
              "                      Event Clearance Description  Event Clearance SubGroup  \\\n",
              "29                              SUSPICIOUS PERSON  SUSPICIOUS CIRCUMSTANCES   \n",
              "30  PARKING VIOLATION (EXCEPT ABANDONED VEHICLES)        PARKING VIOLATIONS   \n",
              "31                             DISTURBANCE, OTHER              DISTURBANCES   \n",
              "32          LIQUOR VIOLATION - INTOXICATED PERSON         LIQUOR VIOLATIONS   \n",
              "33                                        PROWLER                   PROWLER   \n",
              "\n",
              "       Event Clearance Group Event Clearance Date     Hundred Block Location  \\\n",
              "29  SUSPICIOUS CIRCUMSTANCES        7/17/10 20:46    9XX BLOCK OF NE 50TH ST   \n",
              "30     TRAFFIC RELATED CALLS        7/17/10 20:48  3XX BLOCK OF TAYLOR AVE N   \n",
              "31              DISTURBANCES        7/17/10 20:48     2XX BLOCK OF THOMAS ST   \n",
              "32         LIQUOR VIOLATIONS        7/17/10 20:49    1XX BLOCK OF BROADWAY E   \n",
              "33                   PROWLER        7/17/10 20:49   3XX BLOCK OF HARRISON ST   \n",
              "\n",
              "   District/Sector Zone/Beat  Census Tract   Longitude   Latitude  \\\n",
              "29               U        U3     5301.2004 -122.317921  47.664941   \n",
              "30               D        D1     7200.1022 -122.346293  47.621317   \n",
              "31               D        D1     7100.2001 -122.352168  47.620924   \n",
              "32               E        E1     7400.3005 -122.320864  47.619324   \n",
              "33               D        D1     7100.2001 -122.350854  47.622087   \n",
              "\n",
              "                 Incident Location Initial Type Description  \\\n",
              "29  (47.664940729, -122.317920862)                      NaN   \n",
              "30  (47.621316912, -122.346293035)                      NaN   \n",
              "31  (47.620924048, -122.352168318)                      NaN   \n",
              "32  (47.619323644, -122.320863687)                      NaN   \n",
              "33  (47.622086915, -122.350854033)                      NaN   \n",
              "\n",
              "   Initial Type Subgroup Initial Type Group At Scene Time  \n",
              "29                   NaN                NaN           NaN  \n",
              "30                   NaN                NaN           NaN  \n",
              "31                   NaN                NaN           NaN  \n",
              "32                   NaN                NaN           NaN  \n",
              "33                   NaN                NaN           NaN  "
            ]
          },
          "metadata": {
            "tags": []
          },
          "execution_count": 32
        }
      ]
    },
    {
      "cell_type": "code",
      "metadata": {
        "id": "sX-dxRCE_RxA"
      },
      "source": [
        "cols = ['CAD Event Number','General Offense Number']\n",
        "df.loc[:,cols] = df.loc[:,cols].bfill(axis = 1)"
      ],
      "execution_count": null,
      "outputs": []
    },
    {
      "cell_type": "code",
      "metadata": {
        "id": "NVBCz3St_RxA",
        "outputId": "8c26a8c8-6945-4b64-9bba-2203488c5daf"
      },
      "source": [
        "df[28:33] # As you can see the values have been copied. Now lets pluck out the starting digits."
      ],
      "execution_count": null,
      "outputs": [
        {
          "output_type": "execute_result",
          "data": {
            "text/html": [
              "<div>\n",
              "<style scoped>\n",
              "    .dataframe tbody tr th:only-of-type {\n",
              "        vertical-align: middle;\n",
              "    }\n",
              "\n",
              "    .dataframe tbody tr th {\n",
              "        vertical-align: top;\n",
              "    }\n",
              "\n",
              "    .dataframe thead th {\n",
              "        text-align: right;\n",
              "    }\n",
              "</style>\n",
              "<table border=\"1\" class=\"dataframe\">\n",
              "  <thead>\n",
              "    <tr style=\"text-align: right;\">\n",
              "      <th></th>\n",
              "      <th>CAD CDW ID</th>\n",
              "      <th>CAD Event Number</th>\n",
              "      <th>General Offense Number</th>\n",
              "      <th>Event Clearance Code</th>\n",
              "      <th>Event Clearance Description</th>\n",
              "      <th>Event Clearance SubGroup</th>\n",
              "      <th>Event Clearance Group</th>\n",
              "      <th>Event Clearance Date</th>\n",
              "      <th>Hundred Block Location</th>\n",
              "      <th>District/Sector</th>\n",
              "      <th>Zone/Beat</th>\n",
              "      <th>Census Tract</th>\n",
              "      <th>Longitude</th>\n",
              "      <th>Latitude</th>\n",
              "      <th>Incident Location</th>\n",
              "      <th>Initial Type Description</th>\n",
              "      <th>Initial Type Subgroup</th>\n",
              "      <th>Initial Type Group</th>\n",
              "      <th>At Scene Time</th>\n",
              "    </tr>\n",
              "  </thead>\n",
              "  <tbody>\n",
              "    <tr>\n",
              "      <th>28</th>\n",
              "      <td>15765.0</td>\n",
              "      <td>1.00002e+10</td>\n",
              "      <td>2010246224</td>\n",
              "      <td>184.0</td>\n",
              "      <td>NARCOTICS, OTHER</td>\n",
              "      <td>NARCOTICS COMPLAINTS</td>\n",
              "      <td>NARCOTICS COMPLAINTS</td>\n",
              "      <td>7/17/10 20:42</td>\n",
              "      <td>21XX BLOCK OF ALASKAN WAY</td>\n",
              "      <td>M</td>\n",
              "      <td>M3</td>\n",
              "      <td>8001.3023</td>\n",
              "      <td>-122.346955</td>\n",
              "      <td>47.610378</td>\n",
              "      <td>(47.610378237, -122.346954703)</td>\n",
              "      <td>NaN</td>\n",
              "      <td>NaN</td>\n",
              "      <td>NaN</td>\n",
              "      <td>NaN</td>\n",
              "    </tr>\n",
              "    <tr>\n",
              "      <th>29</th>\n",
              "      <td>15766.0</td>\n",
              "      <td>2010246426</td>\n",
              "      <td>2010246426</td>\n",
              "      <td>280.0</td>\n",
              "      <td>SUSPICIOUS PERSON</td>\n",
              "      <td>SUSPICIOUS CIRCUMSTANCES</td>\n",
              "      <td>SUSPICIOUS CIRCUMSTANCES</td>\n",
              "      <td>7/17/10 20:46</td>\n",
              "      <td>9XX BLOCK OF NE 50TH ST</td>\n",
              "      <td>U</td>\n",
              "      <td>U3</td>\n",
              "      <td>5301.2004</td>\n",
              "      <td>-122.317921</td>\n",
              "      <td>47.664941</td>\n",
              "      <td>(47.664940729, -122.317920862)</td>\n",
              "      <td>NaN</td>\n",
              "      <td>NaN</td>\n",
              "      <td>NaN</td>\n",
              "      <td>NaN</td>\n",
              "    </tr>\n",
              "    <tr>\n",
              "      <th>30</th>\n",
              "      <td>15767.0</td>\n",
              "      <td>2010246213</td>\n",
              "      <td>2010246213</td>\n",
              "      <td>470.0</td>\n",
              "      <td>PARKING VIOLATION (EXCEPT ABANDONED VEHICLES)</td>\n",
              "      <td>PARKING VIOLATIONS</td>\n",
              "      <td>TRAFFIC RELATED CALLS</td>\n",
              "      <td>7/17/10 20:48</td>\n",
              "      <td>3XX BLOCK OF TAYLOR AVE N</td>\n",
              "      <td>D</td>\n",
              "      <td>D1</td>\n",
              "      <td>7200.1022</td>\n",
              "      <td>-122.346293</td>\n",
              "      <td>47.621317</td>\n",
              "      <td>(47.621316912, -122.346293035)</td>\n",
              "      <td>NaN</td>\n",
              "      <td>NaN</td>\n",
              "      <td>NaN</td>\n",
              "      <td>NaN</td>\n",
              "    </tr>\n",
              "    <tr>\n",
              "      <th>31</th>\n",
              "      <td>15768.0</td>\n",
              "      <td>2010246429</td>\n",
              "      <td>2010246429</td>\n",
              "      <td>245.0</td>\n",
              "      <td>DISTURBANCE, OTHER</td>\n",
              "      <td>DISTURBANCES</td>\n",
              "      <td>DISTURBANCES</td>\n",
              "      <td>7/17/10 20:48</td>\n",
              "      <td>2XX BLOCK OF THOMAS ST</td>\n",
              "      <td>D</td>\n",
              "      <td>D1</td>\n",
              "      <td>7100.2001</td>\n",
              "      <td>-122.352168</td>\n",
              "      <td>47.620924</td>\n",
              "      <td>(47.620924048, -122.352168318)</td>\n",
              "      <td>NaN</td>\n",
              "      <td>NaN</td>\n",
              "      <td>NaN</td>\n",
              "      <td>NaN</td>\n",
              "    </tr>\n",
              "    <tr>\n",
              "      <th>32</th>\n",
              "      <td>15769.0</td>\n",
              "      <td>2010246463</td>\n",
              "      <td>2010246463</td>\n",
              "      <td>177.0</td>\n",
              "      <td>LIQUOR VIOLATION - INTOXICATED PERSON</td>\n",
              "      <td>LIQUOR VIOLATIONS</td>\n",
              "      <td>LIQUOR VIOLATIONS</td>\n",
              "      <td>7/17/10 20:49</td>\n",
              "      <td>1XX BLOCK OF BROADWAY E</td>\n",
              "      <td>E</td>\n",
              "      <td>E1</td>\n",
              "      <td>7400.3005</td>\n",
              "      <td>-122.320864</td>\n",
              "      <td>47.619324</td>\n",
              "      <td>(47.619323644, -122.320863687)</td>\n",
              "      <td>NaN</td>\n",
              "      <td>NaN</td>\n",
              "      <td>NaN</td>\n",
              "      <td>NaN</td>\n",
              "    </tr>\n",
              "  </tbody>\n",
              "</table>\n",
              "</div>"
            ],
            "text/plain": [
              "    CAD CDW ID CAD Event Number General Offense Number  Event Clearance Code  \\\n",
              "28     15765.0      1.00002e+10             2010246224                 184.0   \n",
              "29     15766.0       2010246426             2010246426                 280.0   \n",
              "30     15767.0       2010246213             2010246213                 470.0   \n",
              "31     15768.0       2010246429             2010246429                 245.0   \n",
              "32     15769.0       2010246463             2010246463                 177.0   \n",
              "\n",
              "                      Event Clearance Description  Event Clearance SubGroup  \\\n",
              "28                               NARCOTICS, OTHER      NARCOTICS COMPLAINTS   \n",
              "29                              SUSPICIOUS PERSON  SUSPICIOUS CIRCUMSTANCES   \n",
              "30  PARKING VIOLATION (EXCEPT ABANDONED VEHICLES)        PARKING VIOLATIONS   \n",
              "31                             DISTURBANCE, OTHER              DISTURBANCES   \n",
              "32          LIQUOR VIOLATION - INTOXICATED PERSON         LIQUOR VIOLATIONS   \n",
              "\n",
              "       Event Clearance Group Event Clearance Date     Hundred Block Location  \\\n",
              "28      NARCOTICS COMPLAINTS        7/17/10 20:42  21XX BLOCK OF ALASKAN WAY   \n",
              "29  SUSPICIOUS CIRCUMSTANCES        7/17/10 20:46    9XX BLOCK OF NE 50TH ST   \n",
              "30     TRAFFIC RELATED CALLS        7/17/10 20:48  3XX BLOCK OF TAYLOR AVE N   \n",
              "31              DISTURBANCES        7/17/10 20:48     2XX BLOCK OF THOMAS ST   \n",
              "32         LIQUOR VIOLATIONS        7/17/10 20:49    1XX BLOCK OF BROADWAY E   \n",
              "\n",
              "   District/Sector Zone/Beat  Census Tract   Longitude   Latitude  \\\n",
              "28               M        M3     8001.3023 -122.346955  47.610378   \n",
              "29               U        U3     5301.2004 -122.317921  47.664941   \n",
              "30               D        D1     7200.1022 -122.346293  47.621317   \n",
              "31               D        D1     7100.2001 -122.352168  47.620924   \n",
              "32               E        E1     7400.3005 -122.320864  47.619324   \n",
              "\n",
              "                 Incident Location Initial Type Description  \\\n",
              "28  (47.610378237, -122.346954703)                      NaN   \n",
              "29  (47.664940729, -122.317920862)                      NaN   \n",
              "30  (47.621316912, -122.346293035)                      NaN   \n",
              "31  (47.620924048, -122.352168318)                      NaN   \n",
              "32  (47.619323644, -122.320863687)                      NaN   \n",
              "\n",
              "   Initial Type Subgroup Initial Type Group At Scene Time  \n",
              "28                   NaN                NaN           NaN  \n",
              "29                   NaN                NaN           NaN  \n",
              "30                   NaN                NaN           NaN  \n",
              "31                   NaN                NaN           NaN  \n",
              "32                   NaN                NaN           NaN  "
            ]
          },
          "metadata": {
            "tags": []
          },
          "execution_count": 34
        }
      ]
    },
    {
      "cell_type": "code",
      "metadata": {
        "id": "3xlPUsBI_RxA"
      },
      "source": [
        "#Will replace only '2010' & 2016' from the entire digits and replace with 10000 and 160000 respectively\n",
        "df['CAD Event Number'] = df['CAD Event Number'].replace({'2010':'10000', '2016':'160000'}, regex=True)"
      ],
      "execution_count": null,
      "outputs": []
    },
    {
      "cell_type": "code",
      "metadata": {
        "id": "plySgTlG_RxA",
        "outputId": "b89bce44-b545-4b1d-ec52-4dfca8326536"
      },
      "source": [
        "df[28:33] #check it out to confirm."
      ],
      "execution_count": null,
      "outputs": [
        {
          "output_type": "execute_result",
          "data": {
            "text/html": [
              "<div>\n",
              "<style scoped>\n",
              "    .dataframe tbody tr th:only-of-type {\n",
              "        vertical-align: middle;\n",
              "    }\n",
              "\n",
              "    .dataframe tbody tr th {\n",
              "        vertical-align: top;\n",
              "    }\n",
              "\n",
              "    .dataframe thead th {\n",
              "        text-align: right;\n",
              "    }\n",
              "</style>\n",
              "<table border=\"1\" class=\"dataframe\">\n",
              "  <thead>\n",
              "    <tr style=\"text-align: right;\">\n",
              "      <th></th>\n",
              "      <th>CAD CDW ID</th>\n",
              "      <th>CAD Event Number</th>\n",
              "      <th>General Offense Number</th>\n",
              "      <th>Event Clearance Code</th>\n",
              "      <th>Event Clearance Description</th>\n",
              "      <th>Event Clearance SubGroup</th>\n",
              "      <th>Event Clearance Group</th>\n",
              "      <th>Event Clearance Date</th>\n",
              "      <th>Hundred Block Location</th>\n",
              "      <th>District/Sector</th>\n",
              "      <th>Zone/Beat</th>\n",
              "      <th>Census Tract</th>\n",
              "      <th>Longitude</th>\n",
              "      <th>Latitude</th>\n",
              "      <th>Incident Location</th>\n",
              "      <th>Initial Type Description</th>\n",
              "      <th>Initial Type Subgroup</th>\n",
              "      <th>Initial Type Group</th>\n",
              "      <th>At Scene Time</th>\n",
              "    </tr>\n",
              "  </thead>\n",
              "  <tbody>\n",
              "    <tr>\n",
              "      <th>28</th>\n",
              "      <td>15765.0</td>\n",
              "      <td>1.00002e+10</td>\n",
              "      <td>2010246224</td>\n",
              "      <td>184.0</td>\n",
              "      <td>NARCOTICS, OTHER</td>\n",
              "      <td>NARCOTICS COMPLAINTS</td>\n",
              "      <td>NARCOTICS COMPLAINTS</td>\n",
              "      <td>7/17/10 20:42</td>\n",
              "      <td>21XX BLOCK OF ALASKAN WAY</td>\n",
              "      <td>M</td>\n",
              "      <td>M3</td>\n",
              "      <td>8001.3023</td>\n",
              "      <td>-122.346955</td>\n",
              "      <td>47.610378</td>\n",
              "      <td>(47.610378237, -122.346954703)</td>\n",
              "      <td>NaN</td>\n",
              "      <td>NaN</td>\n",
              "      <td>NaN</td>\n",
              "      <td>NaN</td>\n",
              "    </tr>\n",
              "    <tr>\n",
              "      <th>29</th>\n",
              "      <td>15766.0</td>\n",
              "      <td>10000246426</td>\n",
              "      <td>2010246426</td>\n",
              "      <td>280.0</td>\n",
              "      <td>SUSPICIOUS PERSON</td>\n",
              "      <td>SUSPICIOUS CIRCUMSTANCES</td>\n",
              "      <td>SUSPICIOUS CIRCUMSTANCES</td>\n",
              "      <td>7/17/10 20:46</td>\n",
              "      <td>9XX BLOCK OF NE 50TH ST</td>\n",
              "      <td>U</td>\n",
              "      <td>U3</td>\n",
              "      <td>5301.2004</td>\n",
              "      <td>-122.317921</td>\n",
              "      <td>47.664941</td>\n",
              "      <td>(47.664940729, -122.317920862)</td>\n",
              "      <td>NaN</td>\n",
              "      <td>NaN</td>\n",
              "      <td>NaN</td>\n",
              "      <td>NaN</td>\n",
              "    </tr>\n",
              "    <tr>\n",
              "      <th>30</th>\n",
              "      <td>15767.0</td>\n",
              "      <td>10000246213</td>\n",
              "      <td>2010246213</td>\n",
              "      <td>470.0</td>\n",
              "      <td>PARKING VIOLATION (EXCEPT ABANDONED VEHICLES)</td>\n",
              "      <td>PARKING VIOLATIONS</td>\n",
              "      <td>TRAFFIC RELATED CALLS</td>\n",
              "      <td>7/17/10 20:48</td>\n",
              "      <td>3XX BLOCK OF TAYLOR AVE N</td>\n",
              "      <td>D</td>\n",
              "      <td>D1</td>\n",
              "      <td>7200.1022</td>\n",
              "      <td>-122.346293</td>\n",
              "      <td>47.621317</td>\n",
              "      <td>(47.621316912, -122.346293035)</td>\n",
              "      <td>NaN</td>\n",
              "      <td>NaN</td>\n",
              "      <td>NaN</td>\n",
              "      <td>NaN</td>\n",
              "    </tr>\n",
              "    <tr>\n",
              "      <th>31</th>\n",
              "      <td>15768.0</td>\n",
              "      <td>10000246429</td>\n",
              "      <td>2010246429</td>\n",
              "      <td>245.0</td>\n",
              "      <td>DISTURBANCE, OTHER</td>\n",
              "      <td>DISTURBANCES</td>\n",
              "      <td>DISTURBANCES</td>\n",
              "      <td>7/17/10 20:48</td>\n",
              "      <td>2XX BLOCK OF THOMAS ST</td>\n",
              "      <td>D</td>\n",
              "      <td>D1</td>\n",
              "      <td>7100.2001</td>\n",
              "      <td>-122.352168</td>\n",
              "      <td>47.620924</td>\n",
              "      <td>(47.620924048, -122.352168318)</td>\n",
              "      <td>NaN</td>\n",
              "      <td>NaN</td>\n",
              "      <td>NaN</td>\n",
              "      <td>NaN</td>\n",
              "    </tr>\n",
              "    <tr>\n",
              "      <th>32</th>\n",
              "      <td>15769.0</td>\n",
              "      <td>10000246463</td>\n",
              "      <td>2010246463</td>\n",
              "      <td>177.0</td>\n",
              "      <td>LIQUOR VIOLATION - INTOXICATED PERSON</td>\n",
              "      <td>LIQUOR VIOLATIONS</td>\n",
              "      <td>LIQUOR VIOLATIONS</td>\n",
              "      <td>7/17/10 20:49</td>\n",
              "      <td>1XX BLOCK OF BROADWAY E</td>\n",
              "      <td>E</td>\n",
              "      <td>E1</td>\n",
              "      <td>7400.3005</td>\n",
              "      <td>-122.320864</td>\n",
              "      <td>47.619324</td>\n",
              "      <td>(47.619323644, -122.320863687)</td>\n",
              "      <td>NaN</td>\n",
              "      <td>NaN</td>\n",
              "      <td>NaN</td>\n",
              "      <td>NaN</td>\n",
              "    </tr>\n",
              "  </tbody>\n",
              "</table>\n",
              "</div>"
            ],
            "text/plain": [
              "    CAD CDW ID CAD Event Number General Offense Number  Event Clearance Code  \\\n",
              "28     15765.0      1.00002e+10             2010246224                 184.0   \n",
              "29     15766.0      10000246426             2010246426                 280.0   \n",
              "30     15767.0      10000246213             2010246213                 470.0   \n",
              "31     15768.0      10000246429             2010246429                 245.0   \n",
              "32     15769.0      10000246463             2010246463                 177.0   \n",
              "\n",
              "                      Event Clearance Description  Event Clearance SubGroup  \\\n",
              "28                               NARCOTICS, OTHER      NARCOTICS COMPLAINTS   \n",
              "29                              SUSPICIOUS PERSON  SUSPICIOUS CIRCUMSTANCES   \n",
              "30  PARKING VIOLATION (EXCEPT ABANDONED VEHICLES)        PARKING VIOLATIONS   \n",
              "31                             DISTURBANCE, OTHER              DISTURBANCES   \n",
              "32          LIQUOR VIOLATION - INTOXICATED PERSON         LIQUOR VIOLATIONS   \n",
              "\n",
              "       Event Clearance Group Event Clearance Date     Hundred Block Location  \\\n",
              "28      NARCOTICS COMPLAINTS        7/17/10 20:42  21XX BLOCK OF ALASKAN WAY   \n",
              "29  SUSPICIOUS CIRCUMSTANCES        7/17/10 20:46    9XX BLOCK OF NE 50TH ST   \n",
              "30     TRAFFIC RELATED CALLS        7/17/10 20:48  3XX BLOCK OF TAYLOR AVE N   \n",
              "31              DISTURBANCES        7/17/10 20:48     2XX BLOCK OF THOMAS ST   \n",
              "32         LIQUOR VIOLATIONS        7/17/10 20:49    1XX BLOCK OF BROADWAY E   \n",
              "\n",
              "   District/Sector Zone/Beat  Census Tract   Longitude   Latitude  \\\n",
              "28               M        M3     8001.3023 -122.346955  47.610378   \n",
              "29               U        U3     5301.2004 -122.317921  47.664941   \n",
              "30               D        D1     7200.1022 -122.346293  47.621317   \n",
              "31               D        D1     7100.2001 -122.352168  47.620924   \n",
              "32               E        E1     7400.3005 -122.320864  47.619324   \n",
              "\n",
              "                 Incident Location Initial Type Description  \\\n",
              "28  (47.610378237, -122.346954703)                      NaN   \n",
              "29  (47.664940729, -122.317920862)                      NaN   \n",
              "30  (47.621316912, -122.346293035)                      NaN   \n",
              "31  (47.620924048, -122.352168318)                      NaN   \n",
              "32  (47.619323644, -122.320863687)                      NaN   \n",
              "\n",
              "   Initial Type Subgroup Initial Type Group At Scene Time  \n",
              "28                   NaN                NaN           NaN  \n",
              "29                   NaN                NaN           NaN  \n",
              "30                   NaN                NaN           NaN  \n",
              "31                   NaN                NaN           NaN  \n",
              "32                   NaN                NaN           NaN  "
            ]
          },
          "metadata": {
            "tags": []
          },
          "execution_count": 36
        }
      ]
    },
    {
      "cell_type": "code",
      "metadata": {
        "id": "J6e2tw0R_RxB",
        "outputId": "5a6b198b-e0ba-4ce4-c4fb-81c5d7c22449"
      },
      "source": [
        "df['CAD Event Number'].isna().sum()"
      ],
      "execution_count": null,
      "outputs": [
        {
          "output_type": "execute_result",
          "data": {
            "text/plain": [
              "0"
            ]
          },
          "metadata": {
            "tags": []
          },
          "execution_count": 37
        }
      ]
    },
    {
      "cell_type": "markdown",
      "metadata": {
        "id": "8PhDUD0U_RxB"
      },
      "source": [
        "## 3 Event Clearance Code\n",
        "\n",
        "**MAP() to fill the NAs**<br>\n",
        "\n",
        "1- Creating a mapping of Event Clearance description and Event Clearance Code. <br>\n",
        "2- Then, using this mapping to fill the NA values in column : Event Clearance description"
      ]
    },
    {
      "cell_type": "code",
      "metadata": {
        "id": "6BUtuXbp_RxB",
        "outputId": "b9d1f394-153b-4ba3-a828-a7c42c44418e"
      },
      "source": [
        "a3 = df[df['Event Clearance Code'].isna()].head()\n",
        "a3"
      ],
      "execution_count": null,
      "outputs": [
        {
          "output_type": "execute_result",
          "data": {
            "text/html": [
              "<div>\n",
              "<style scoped>\n",
              "    .dataframe tbody tr th:only-of-type {\n",
              "        vertical-align: middle;\n",
              "    }\n",
              "\n",
              "    .dataframe tbody tr th {\n",
              "        vertical-align: top;\n",
              "    }\n",
              "\n",
              "    .dataframe thead th {\n",
              "        text-align: right;\n",
              "    }\n",
              "</style>\n",
              "<table border=\"1\" class=\"dataframe\">\n",
              "  <thead>\n",
              "    <tr style=\"text-align: right;\">\n",
              "      <th></th>\n",
              "      <th>CAD CDW ID</th>\n",
              "      <th>CAD Event Number</th>\n",
              "      <th>General Offense Number</th>\n",
              "      <th>Event Clearance Code</th>\n",
              "      <th>Event Clearance Description</th>\n",
              "      <th>Event Clearance SubGroup</th>\n",
              "      <th>Event Clearance Group</th>\n",
              "      <th>Event Clearance Date</th>\n",
              "      <th>Hundred Block Location</th>\n",
              "      <th>District/Sector</th>\n",
              "      <th>Zone/Beat</th>\n",
              "      <th>Census Tract</th>\n",
              "      <th>Longitude</th>\n",
              "      <th>Latitude</th>\n",
              "      <th>Incident Location</th>\n",
              "      <th>Initial Type Description</th>\n",
              "      <th>Initial Type Subgroup</th>\n",
              "      <th>Initial Type Group</th>\n",
              "      <th>At Scene Time</th>\n",
              "    </tr>\n",
              "  </thead>\n",
              "  <tbody>\n",
              "    <tr>\n",
              "      <th>6</th>\n",
              "      <td>15743.0</td>\n",
              "      <td>1.00002e+10</td>\n",
              "      <td>2010246472</td>\n",
              "      <td>NaN</td>\n",
              "      <td>TRAFFIC (MOVING) VIOLATION</td>\n",
              "      <td>TRAFFIC RELATED CALLS</td>\n",
              "      <td>TRAFFIC RELATED CALLS</td>\n",
              "      <td>7/17/10 21:05</td>\n",
              "      <td>56XX BLOCK OF BROOKLYN AVE NE</td>\n",
              "      <td>U</td>\n",
              "      <td>U3</td>\n",
              "      <td>4400.5003</td>\n",
              "      <td>-122.314166</td>\n",
              "      <td>47.670345</td>\n",
              "      <td>NaN</td>\n",
              "      <td>NaN</td>\n",
              "      <td>NaN</td>\n",
              "      <td>NaN</td>\n",
              "      <td>NaN</td>\n",
              "    </tr>\n",
              "    <tr>\n",
              "      <th>7</th>\n",
              "      <td>15744.0</td>\n",
              "      <td>1.00002e+10</td>\n",
              "      <td>2010246493</td>\n",
              "      <td>NaN</td>\n",
              "      <td>LIQUOR VIOLATION - INTOXICATED PERSON</td>\n",
              "      <td>LIQUOR VIOLATIONS</td>\n",
              "      <td>LIQUOR VIOLATIONS</td>\n",
              "      <td>7/17/10 21:09</td>\n",
              "      <td>15XX BLOCK OF 4TH AVE</td>\n",
              "      <td>K</td>\n",
              "      <td>K1</td>\n",
              "      <td>8100.2005</td>\n",
              "      <td>-122.336891</td>\n",
              "      <td>47.610440</td>\n",
              "      <td>NaN</td>\n",
              "      <td>NaN</td>\n",
              "      <td>NaN</td>\n",
              "      <td>NaN</td>\n",
              "      <td>NaN</td>\n",
              "    </tr>\n",
              "    <tr>\n",
              "      <th>8</th>\n",
              "      <td>15745.0</td>\n",
              "      <td>1.00002e+10</td>\n",
              "      <td>2010246478</td>\n",
              "      <td>NaN</td>\n",
              "      <td>MENTAL COMPLAINT</td>\n",
              "      <td>MENTAL CALL</td>\n",
              "      <td>MENTAL HEALTH</td>\n",
              "      <td>7/17/10 21:17</td>\n",
              "      <td>100XX BLOCK OF COLLEGE WAY N</td>\n",
              "      <td>N</td>\n",
              "      <td>N3</td>\n",
              "      <td>1300.1009</td>\n",
              "      <td>-122.334524</td>\n",
              "      <td>47.702332</td>\n",
              "      <td>NaN</td>\n",
              "      <td>NaN</td>\n",
              "      <td>NaN</td>\n",
              "      <td>NaN</td>\n",
              "      <td>NaN</td>\n",
              "    </tr>\n",
              "    <tr>\n",
              "      <th>9</th>\n",
              "      <td>15746.0</td>\n",
              "      <td>1.00002e+10</td>\n",
              "      <td>2010246397</td>\n",
              "      <td>NaN</td>\n",
              "      <td>THEFT - MISCELLANEOUS</td>\n",
              "      <td>THEFT</td>\n",
              "      <td>OTHER PROPERTY</td>\n",
              "      <td>7/17/10 21:18</td>\n",
              "      <td>46XX BLOCK OF S AUSTIN ST</td>\n",
              "      <td>S</td>\n",
              "      <td>S2</td>\n",
              "      <td>11101.3001</td>\n",
              "      <td>-122.273985</td>\n",
              "      <td>47.534705</td>\n",
              "      <td>NaN</td>\n",
              "      <td>NaN</td>\n",
              "      <td>NaN</td>\n",
              "      <td>NaN</td>\n",
              "      <td>NaN</td>\n",
              "    </tr>\n",
              "    <tr>\n",
              "      <th>10</th>\n",
              "      <td>15747.0</td>\n",
              "      <td>1.00002e+10</td>\n",
              "      <td>2010246518</td>\n",
              "      <td>NaN</td>\n",
              "      <td>DISTURBANCE, OTHER</td>\n",
              "      <td>DISTURBANCES</td>\n",
              "      <td>DISTURBANCES</td>\n",
              "      <td>7/17/10 21:28</td>\n",
              "      <td>3XX BLOCK OF HARRISON ST</td>\n",
              "      <td>D</td>\n",
              "      <td>D1</td>\n",
              "      <td>7100.2001</td>\n",
              "      <td>-122.350854</td>\n",
              "      <td>47.622087</td>\n",
              "      <td>NaN</td>\n",
              "      <td>NaN</td>\n",
              "      <td>NaN</td>\n",
              "      <td>NaN</td>\n",
              "      <td>NaN</td>\n",
              "    </tr>\n",
              "  </tbody>\n",
              "</table>\n",
              "</div>"
            ],
            "text/plain": [
              "    CAD CDW ID CAD Event Number General Offense Number  Event Clearance Code  \\\n",
              "6      15743.0      1.00002e+10             2010246472                   NaN   \n",
              "7      15744.0      1.00002e+10             2010246493                   NaN   \n",
              "8      15745.0      1.00002e+10             2010246478                   NaN   \n",
              "9      15746.0      1.00002e+10             2010246397                   NaN   \n",
              "10     15747.0      1.00002e+10             2010246518                   NaN   \n",
              "\n",
              "              Event Clearance Description Event Clearance SubGroup  \\\n",
              "6              TRAFFIC (MOVING) VIOLATION    TRAFFIC RELATED CALLS   \n",
              "7   LIQUOR VIOLATION - INTOXICATED PERSON        LIQUOR VIOLATIONS   \n",
              "8                        MENTAL COMPLAINT              MENTAL CALL   \n",
              "9                   THEFT - MISCELLANEOUS                    THEFT   \n",
              "10                     DISTURBANCE, OTHER             DISTURBANCES   \n",
              "\n",
              "    Event Clearance Group Event Clearance Date         Hundred Block Location  \\\n",
              "6   TRAFFIC RELATED CALLS        7/17/10 21:05  56XX BLOCK OF BROOKLYN AVE NE   \n",
              "7       LIQUOR VIOLATIONS        7/17/10 21:09          15XX BLOCK OF 4TH AVE   \n",
              "8           MENTAL HEALTH        7/17/10 21:17   100XX BLOCK OF COLLEGE WAY N   \n",
              "9          OTHER PROPERTY        7/17/10 21:18      46XX BLOCK OF S AUSTIN ST   \n",
              "10           DISTURBANCES        7/17/10 21:28       3XX BLOCK OF HARRISON ST   \n",
              "\n",
              "   District/Sector Zone/Beat  Census Tract   Longitude   Latitude  \\\n",
              "6                U        U3     4400.5003 -122.314166  47.670345   \n",
              "7                K        K1     8100.2005 -122.336891  47.610440   \n",
              "8                N        N3     1300.1009 -122.334524  47.702332   \n",
              "9                S        S2    11101.3001 -122.273985  47.534705   \n",
              "10               D        D1     7100.2001 -122.350854  47.622087   \n",
              "\n",
              "   Incident Location Initial Type Description Initial Type Subgroup  \\\n",
              "6                NaN                      NaN                   NaN   \n",
              "7                NaN                      NaN                   NaN   \n",
              "8                NaN                      NaN                   NaN   \n",
              "9                NaN                      NaN                   NaN   \n",
              "10               NaN                      NaN                   NaN   \n",
              "\n",
              "   Initial Type Group At Scene Time  \n",
              "6                 NaN           NaN  \n",
              "7                 NaN           NaN  \n",
              "8                 NaN           NaN  \n",
              "9                 NaN           NaN  \n",
              "10                NaN           NaN  "
            ]
          },
          "metadata": {
            "tags": []
          },
          "execution_count": 38
        }
      ]
    },
    {
      "cell_type": "code",
      "metadata": {
        "id": "clM5i_l6_RxC",
        "outputId": "2af28062-cdbd-4387-8155-5c734edf377b"
      },
      "source": [
        "desc_code = df.dropna(subset=['Event Clearance Code']).drop_duplicates('Event Clearance Description').set_index('Event Clearance Description')['Event Clearance Code']\n",
        "desc_code"
      ],
      "execution_count": null,
      "outputs": [
        {
          "output_type": "execute_result",
          "data": {
            "text/plain": [
              "Event Clearance Description\n",
              "THEFT - MISCELLANEOUS                                       65.0\n",
              "MISCHIEF, NUISANCE COMPLAINTS                              250.0\n",
              "TRAFFIC (MOVING) VIOLATION                                 460.0\n",
              "SUSPICIOUS VEHICLE                                         281.0\n",
              "MENTAL COMPLAINT                                           220.0\n",
              "                                                           ...  \n",
              "HARBOR - ASSIST BOATER (NON EMERGENCY)                     343.0\n",
              "SEX OFFENDER - FAILURE TO REGISTER                         143.0\n",
              "SOAP (STAY OUT OF AREA OF PROSTITUTION) ORDER VIOLATION    127.0\n",
              "HOMICIDE                                                    10.0\n",
              "MARIJUANA PUBLIC USE (NOT DISPENSARY)                      188.0\n",
              "Name: Event Clearance Code, Length: 95, dtype: float64"
            ]
          },
          "metadata": {
            "tags": []
          },
          "execution_count": 39
        }
      ]
    },
    {
      "cell_type": "code",
      "metadata": {
        "id": "nUnMzB1a_RxC"
      },
      "source": [
        "df['Event Clearance Code'] = df['Event Clearance Code'].fillna(df['Event Clearance Description'].map(desc_code))"
      ],
      "execution_count": null,
      "outputs": []
    },
    {
      "cell_type": "code",
      "metadata": {
        "id": "ybFNziqc_RxC",
        "outputId": "e1dea056-5603-4079-98e8-7e62fe02b87b"
      },
      "source": [
        "df[5:11] # Confirm to see if the right codes have been filled"
      ],
      "execution_count": null,
      "outputs": [
        {
          "output_type": "execute_result",
          "data": {
            "text/html": [
              "<div>\n",
              "<style scoped>\n",
              "    .dataframe tbody tr th:only-of-type {\n",
              "        vertical-align: middle;\n",
              "    }\n",
              "\n",
              "    .dataframe tbody tr th {\n",
              "        vertical-align: top;\n",
              "    }\n",
              "\n",
              "    .dataframe thead th {\n",
              "        text-align: right;\n",
              "    }\n",
              "</style>\n",
              "<table border=\"1\" class=\"dataframe\">\n",
              "  <thead>\n",
              "    <tr style=\"text-align: right;\">\n",
              "      <th></th>\n",
              "      <th>CAD CDW ID</th>\n",
              "      <th>CAD Event Number</th>\n",
              "      <th>General Offense Number</th>\n",
              "      <th>Event Clearance Code</th>\n",
              "      <th>Event Clearance Description</th>\n",
              "      <th>Event Clearance SubGroup</th>\n",
              "      <th>Event Clearance Group</th>\n",
              "      <th>Event Clearance Date</th>\n",
              "      <th>Hundred Block Location</th>\n",
              "      <th>District/Sector</th>\n",
              "      <th>Zone/Beat</th>\n",
              "      <th>Census Tract</th>\n",
              "      <th>Longitude</th>\n",
              "      <th>Latitude</th>\n",
              "      <th>Incident Location</th>\n",
              "      <th>Initial Type Description</th>\n",
              "      <th>Initial Type Subgroup</th>\n",
              "      <th>Initial Type Group</th>\n",
              "      <th>At Scene Time</th>\n",
              "    </tr>\n",
              "  </thead>\n",
              "  <tbody>\n",
              "    <tr>\n",
              "      <th>5</th>\n",
              "      <td>15742.0</td>\n",
              "      <td>1.00002e+10</td>\n",
              "      <td>2010246436</td>\n",
              "      <td>220.0</td>\n",
              "      <td>MENTAL COMPLAINT</td>\n",
              "      <td>MENTAL CALL</td>\n",
              "      <td>MENTAL HEALTH</td>\n",
              "      <td>7/17/10 21:04</td>\n",
              "      <td>50XX BLOCK OF 57TH AVE S</td>\n",
              "      <td>R</td>\n",
              "      <td>R3</td>\n",
              "      <td>10200.1012</td>\n",
              "      <td>-122.263332</td>\n",
              "      <td>47.555956</td>\n",
              "      <td>(47.555955852, -122.263332426)</td>\n",
              "      <td>NaN</td>\n",
              "      <td>NaN</td>\n",
              "      <td>NaN</td>\n",
              "      <td>NaN</td>\n",
              "    </tr>\n",
              "    <tr>\n",
              "      <th>6</th>\n",
              "      <td>15743.0</td>\n",
              "      <td>1.00002e+10</td>\n",
              "      <td>2010246472</td>\n",
              "      <td>460.0</td>\n",
              "      <td>TRAFFIC (MOVING) VIOLATION</td>\n",
              "      <td>TRAFFIC RELATED CALLS</td>\n",
              "      <td>TRAFFIC RELATED CALLS</td>\n",
              "      <td>7/17/10 21:05</td>\n",
              "      <td>56XX BLOCK OF BROOKLYN AVE NE</td>\n",
              "      <td>U</td>\n",
              "      <td>U3</td>\n",
              "      <td>4400.5003</td>\n",
              "      <td>-122.314166</td>\n",
              "      <td>47.670345</td>\n",
              "      <td>NaN</td>\n",
              "      <td>NaN</td>\n",
              "      <td>NaN</td>\n",
              "      <td>NaN</td>\n",
              "      <td>NaN</td>\n",
              "    </tr>\n",
              "    <tr>\n",
              "      <th>7</th>\n",
              "      <td>15744.0</td>\n",
              "      <td>1.00002e+10</td>\n",
              "      <td>2010246493</td>\n",
              "      <td>177.0</td>\n",
              "      <td>LIQUOR VIOLATION - INTOXICATED PERSON</td>\n",
              "      <td>LIQUOR VIOLATIONS</td>\n",
              "      <td>LIQUOR VIOLATIONS</td>\n",
              "      <td>7/17/10 21:09</td>\n",
              "      <td>15XX BLOCK OF 4TH AVE</td>\n",
              "      <td>K</td>\n",
              "      <td>K1</td>\n",
              "      <td>8100.2005</td>\n",
              "      <td>-122.336891</td>\n",
              "      <td>47.610440</td>\n",
              "      <td>NaN</td>\n",
              "      <td>NaN</td>\n",
              "      <td>NaN</td>\n",
              "      <td>NaN</td>\n",
              "      <td>NaN</td>\n",
              "    </tr>\n",
              "    <tr>\n",
              "      <th>8</th>\n",
              "      <td>15745.0</td>\n",
              "      <td>1.00002e+10</td>\n",
              "      <td>2010246478</td>\n",
              "      <td>220.0</td>\n",
              "      <td>MENTAL COMPLAINT</td>\n",
              "      <td>MENTAL CALL</td>\n",
              "      <td>MENTAL HEALTH</td>\n",
              "      <td>7/17/10 21:17</td>\n",
              "      <td>100XX BLOCK OF COLLEGE WAY N</td>\n",
              "      <td>N</td>\n",
              "      <td>N3</td>\n",
              "      <td>1300.1009</td>\n",
              "      <td>-122.334524</td>\n",
              "      <td>47.702332</td>\n",
              "      <td>NaN</td>\n",
              "      <td>NaN</td>\n",
              "      <td>NaN</td>\n",
              "      <td>NaN</td>\n",
              "      <td>NaN</td>\n",
              "    </tr>\n",
              "    <tr>\n",
              "      <th>9</th>\n",
              "      <td>15746.0</td>\n",
              "      <td>1.00002e+10</td>\n",
              "      <td>2010246397</td>\n",
              "      <td>65.0</td>\n",
              "      <td>THEFT - MISCELLANEOUS</td>\n",
              "      <td>THEFT</td>\n",
              "      <td>OTHER PROPERTY</td>\n",
              "      <td>7/17/10 21:18</td>\n",
              "      <td>46XX BLOCK OF S AUSTIN ST</td>\n",
              "      <td>S</td>\n",
              "      <td>S2</td>\n",
              "      <td>11101.3001</td>\n",
              "      <td>-122.273985</td>\n",
              "      <td>47.534705</td>\n",
              "      <td>NaN</td>\n",
              "      <td>NaN</td>\n",
              "      <td>NaN</td>\n",
              "      <td>NaN</td>\n",
              "      <td>NaN</td>\n",
              "    </tr>\n",
              "    <tr>\n",
              "      <th>10</th>\n",
              "      <td>15747.0</td>\n",
              "      <td>1.00002e+10</td>\n",
              "      <td>2010246518</td>\n",
              "      <td>245.0</td>\n",
              "      <td>DISTURBANCE, OTHER</td>\n",
              "      <td>DISTURBANCES</td>\n",
              "      <td>DISTURBANCES</td>\n",
              "      <td>7/17/10 21:28</td>\n",
              "      <td>3XX BLOCK OF HARRISON ST</td>\n",
              "      <td>D</td>\n",
              "      <td>D1</td>\n",
              "      <td>7100.2001</td>\n",
              "      <td>-122.350854</td>\n",
              "      <td>47.622087</td>\n",
              "      <td>NaN</td>\n",
              "      <td>NaN</td>\n",
              "      <td>NaN</td>\n",
              "      <td>NaN</td>\n",
              "      <td>NaN</td>\n",
              "    </tr>\n",
              "  </tbody>\n",
              "</table>\n",
              "</div>"
            ],
            "text/plain": [
              "    CAD CDW ID CAD Event Number General Offense Number  Event Clearance Code  \\\n",
              "5      15742.0      1.00002e+10             2010246436                 220.0   \n",
              "6      15743.0      1.00002e+10             2010246472                 460.0   \n",
              "7      15744.0      1.00002e+10             2010246493                 177.0   \n",
              "8      15745.0      1.00002e+10             2010246478                 220.0   \n",
              "9      15746.0      1.00002e+10             2010246397                  65.0   \n",
              "10     15747.0      1.00002e+10             2010246518                 245.0   \n",
              "\n",
              "              Event Clearance Description Event Clearance SubGroup  \\\n",
              "5                        MENTAL COMPLAINT              MENTAL CALL   \n",
              "6              TRAFFIC (MOVING) VIOLATION    TRAFFIC RELATED CALLS   \n",
              "7   LIQUOR VIOLATION - INTOXICATED PERSON        LIQUOR VIOLATIONS   \n",
              "8                        MENTAL COMPLAINT              MENTAL CALL   \n",
              "9                   THEFT - MISCELLANEOUS                    THEFT   \n",
              "10                     DISTURBANCE, OTHER             DISTURBANCES   \n",
              "\n",
              "    Event Clearance Group Event Clearance Date         Hundred Block Location  \\\n",
              "5           MENTAL HEALTH        7/17/10 21:04       50XX BLOCK OF 57TH AVE S   \n",
              "6   TRAFFIC RELATED CALLS        7/17/10 21:05  56XX BLOCK OF BROOKLYN AVE NE   \n",
              "7       LIQUOR VIOLATIONS        7/17/10 21:09          15XX BLOCK OF 4TH AVE   \n",
              "8           MENTAL HEALTH        7/17/10 21:17   100XX BLOCK OF COLLEGE WAY N   \n",
              "9          OTHER PROPERTY        7/17/10 21:18      46XX BLOCK OF S AUSTIN ST   \n",
              "10           DISTURBANCES        7/17/10 21:28       3XX BLOCK OF HARRISON ST   \n",
              "\n",
              "   District/Sector Zone/Beat  Census Tract   Longitude   Latitude  \\\n",
              "5                R        R3    10200.1012 -122.263332  47.555956   \n",
              "6                U        U3     4400.5003 -122.314166  47.670345   \n",
              "7                K        K1     8100.2005 -122.336891  47.610440   \n",
              "8                N        N3     1300.1009 -122.334524  47.702332   \n",
              "9                S        S2    11101.3001 -122.273985  47.534705   \n",
              "10               D        D1     7100.2001 -122.350854  47.622087   \n",
              "\n",
              "                 Incident Location Initial Type Description  \\\n",
              "5   (47.555955852, -122.263332426)                      NaN   \n",
              "6                              NaN                      NaN   \n",
              "7                              NaN                      NaN   \n",
              "8                              NaN                      NaN   \n",
              "9                              NaN                      NaN   \n",
              "10                             NaN                      NaN   \n",
              "\n",
              "   Initial Type Subgroup Initial Type Group At Scene Time  \n",
              "5                    NaN                NaN           NaN  \n",
              "6                    NaN                NaN           NaN  \n",
              "7                    NaN                NaN           NaN  \n",
              "8                    NaN                NaN           NaN  \n",
              "9                    NaN                NaN           NaN  \n",
              "10                   NaN                NaN           NaN  "
            ]
          },
          "metadata": {
            "tags": []
          },
          "execution_count": 41
        }
      ]
    },
    {
      "cell_type": "code",
      "metadata": {
        "id": "V-T80YGt_RxC",
        "outputId": "2110a3df-0462-4bca-a61a-6d2aa13a8069"
      },
      "source": [
        "df['Event Clearance Code'].isna().sum()"
      ],
      "execution_count": null,
      "outputs": [
        {
          "output_type": "execute_result",
          "data": {
            "text/plain": [
              "0"
            ]
          },
          "metadata": {
            "tags": []
          },
          "execution_count": 42
        }
      ]
    },
    {
      "cell_type": "markdown",
      "metadata": {
        "id": "xgkXctYE_RxD"
      },
      "source": [
        "### 4 Event Clearance Group\n",
        "**MAP()**"
      ]
    },
    {
      "cell_type": "code",
      "metadata": {
        "id": "xDhyShEt_RxD"
      },
      "source": [
        "map1= df.dropna(subset=['Event Clearance Group']).drop_duplicates('Event Clearance SubGroup').set_index('Event Clearance SubGroup')['Event Clearance Group']"
      ],
      "execution_count": null,
      "outputs": []
    },
    {
      "cell_type": "code",
      "metadata": {
        "id": "ZrLHltlg_RxD"
      },
      "source": [
        "df['Event Clearance Group'] = df['Event Clearance Group'].fillna(df['Event Clearance SubGroup'].map(map1))"
      ],
      "execution_count": null,
      "outputs": []
    },
    {
      "cell_type": "code",
      "metadata": {
        "id": "ICY5kcT4_RxD",
        "outputId": "995aeaac-831d-4866-b761-0824861138d4"
      },
      "source": [
        "df['Event Clearance Group'].isna().sum()"
      ],
      "execution_count": null,
      "outputs": [
        {
          "output_type": "execute_result",
          "data": {
            "text/plain": [
              "0"
            ]
          },
          "metadata": {
            "tags": []
          },
          "execution_count": 45
        }
      ]
    },
    {
      "cell_type": "markdown",
      "metadata": {
        "id": "q5tRz41w_RxE"
      },
      "source": [
        "### Event Clearance SubGroup\n",
        "**MAP()**"
      ]
    },
    {
      "cell_type": "code",
      "metadata": {
        "id": "4StFS2AL_RxE"
      },
      "source": [
        "subgroup_desc = df.dropna(subset=['Event Clearance SubGroup']).drop_duplicates('Event Clearance Description').set_index('Event Clearance Description')['Event Clearance SubGroup']"
      ],
      "execution_count": null,
      "outputs": []
    },
    {
      "cell_type": "code",
      "metadata": {
        "id": "O2Jj7Xdm_RxE"
      },
      "source": [
        "df['Event Clearance SubGroup'] = df['Event Clearance SubGroup'].fillna(df['Event Clearance Description'].map(subgroup_desc))"
      ],
      "execution_count": null,
      "outputs": []
    },
    {
      "cell_type": "code",
      "metadata": {
        "id": "KlkLrgpY_RxE",
        "outputId": "76dace68-898f-4d8e-d6fb-63c0ad315d2f"
      },
      "source": [
        "df['Event Clearance SubGroup'].isna().sum()"
      ],
      "execution_count": null,
      "outputs": [
        {
          "output_type": "execute_result",
          "data": {
            "text/plain": [
              "0"
            ]
          },
          "metadata": {
            "tags": []
          },
          "execution_count": 48
        }
      ]
    },
    {
      "cell_type": "markdown",
      "metadata": {
        "id": "J_c7OIS7_RxF"
      },
      "source": [
        "### Event Clearance Description'\n"
      ]
    },
    {
      "cell_type": "code",
      "metadata": {
        "id": "nEJ-2F_T_RxF"
      },
      "source": [
        "c_desc = df.dropna(subset=['Event Clearance Description']).drop_duplicates(['Event Clearance Code']).set_index('Event Clearance Code')['Event Clearance Description']"
      ],
      "execution_count": null,
      "outputs": []
    },
    {
      "cell_type": "code",
      "metadata": {
        "id": "1DGDqfg-_RxF"
      },
      "source": [
        "df['Event Clearance Description'] = df['Event Clearance Description'].fillna(df['Event Clearance Code'].map(c_desc))"
      ],
      "execution_count": null,
      "outputs": []
    },
    {
      "cell_type": "markdown",
      "metadata": {
        "id": "4eis1bb__RxF"
      },
      "source": [
        "### Hundred Block Location"
      ]
    },
    {
      "cell_type": "code",
      "metadata": {
        "id": "vGNKsezC_RxG",
        "outputId": "87293e7b-163e-425c-a8f5-997a441aa236"
      },
      "source": [
        "print(\"Null Values before\")\n",
        "df['Hundred Block Location'].isna().sum()"
      ],
      "execution_count": null,
      "outputs": [
        {
          "output_type": "stream",
          "text": [
            "Null Values before\n"
          ],
          "name": "stdout"
        },
        {
          "output_type": "execute_result",
          "data": {
            "text/plain": [
              "6"
            ]
          },
          "metadata": {
            "tags": []
          },
          "execution_count": 51
        }
      ]
    },
    {
      "cell_type": "code",
      "metadata": {
        "id": "7neEU0vR_RxG"
      },
      "source": [
        "incid_loc_hblock = df.dropna(subset=['Hundred Block Location']).drop_duplicates(['Incident Location']).set_index('Incident Location')['Hundred Block Location']"
      ],
      "execution_count": null,
      "outputs": []
    },
    {
      "cell_type": "code",
      "metadata": {
        "id": "F2BC9vko_RxG"
      },
      "source": [
        "df['Hundred Block Location'] = df['Hundred Block Location'].fillna(df['Incident Location'].map(incid_loc_hblock))"
      ],
      "execution_count": null,
      "outputs": []
    },
    {
      "cell_type": "code",
      "metadata": {
        "id": "iw80HBMv_RxG",
        "outputId": "0f2c5c75-72cb-4739-9352-cfaaeaf72e30"
      },
      "source": [
        "df['Hundred Block Location'].isna().sum() #Only 2 NAs removed. No duplicate values for other to create mappings. These 4 values are unique."
      ],
      "execution_count": null,
      "outputs": [
        {
          "output_type": "execute_result",
          "data": {
            "text/plain": [
              "4"
            ]
          },
          "metadata": {
            "tags": []
          },
          "execution_count": 54
        }
      ]
    },
    {
      "cell_type": "markdown",
      "metadata": {
        "id": "CdQRGxWU_RxH"
      },
      "source": [
        "### Zone/Beat"
      ]
    },
    {
      "cell_type": "code",
      "metadata": {
        "id": "-sUVtzOu_RxH",
        "outputId": "3c454590-d0e8-412d-fac0-393625a3023b"
      },
      "source": [
        "df['Zone/Beat'].isna().sum()"
      ],
      "execution_count": null,
      "outputs": [
        {
          "output_type": "execute_result",
          "data": {
            "text/plain": [
              "26"
            ]
          },
          "metadata": {
            "tags": []
          },
          "execution_count": 55
        }
      ]
    },
    {
      "cell_type": "code",
      "metadata": {
        "id": "p8-_Z_lY_RxH",
        "outputId": "d10afad2-80a9-4ada-ebd2-70e32c270cde"
      },
      "source": [
        "df['Zone/Beat'].unique()\n"
      ],
      "execution_count": null,
      "outputs": [
        {
          "output_type": "execute_result",
          "data": {
            "text/plain": [
              "array(['Q1', 'M2', 'D1', 'R3', 'U3', 'K1', 'N3', 'S2', 'K2', 'F3', 'S3',\n",
              "       'Q3', 'D2', 'J2', 'L3', 'J3', 'W1', 'U2', 'R2', 'M3', 'E1', 'L1',\n",
              "       'E2', nan, 'W3', 'N2', 'R1', 'L2', 'J1', 'G3', 'G2', 'C2', 'B1',\n",
              "       'S1', 'M1', 'F1', 'G1', 'B2', 'K3', 'B3', 'C1', 'O1', 'C3', 'U1',\n",
              "       'D3', 'Q2', 'N1', 'O2', 'W2', 'E3', 'F2', 'O3', '99'], dtype=object)"
            ]
          },
          "metadata": {
            "tags": []
          },
          "execution_count": 56
        }
      ]
    },
    {
      "cell_type": "code",
      "metadata": {
        "id": "lx4pRdVS_RxI"
      },
      "source": [
        "df['Zone/Beat'] = df['Zone/Beat'].replace('99', np.nan)"
      ],
      "execution_count": null,
      "outputs": []
    },
    {
      "cell_type": "code",
      "metadata": {
        "id": "1qZUMMUh_RxI"
      },
      "source": [
        "Census_Zone = df.dropna(subset=['Zone/Beat']).drop_duplicates(['Census Tract']).set_index('Census Tract')['Zone/Beat']\n",
        "df['Zone/Beat'] = df['Zone/Beat'].fillna(df['Census Tract'].map(Census_Zone))"
      ],
      "execution_count": null,
      "outputs": []
    },
    {
      "cell_type": "code",
      "metadata": {
        "id": "5foioSDI_RxI",
        "outputId": "5962afcc-864c-4243-8dca-22345a7c797b"
      },
      "source": [
        "df['Zone/Beat'].isna().sum() # Some left since no matching values in mapping group for these values."
      ],
      "execution_count": null,
      "outputs": [
        {
          "output_type": "execute_result",
          "data": {
            "text/plain": [
              "6"
            ]
          },
          "metadata": {
            "tags": []
          },
          "execution_count": 59
        }
      ]
    },
    {
      "cell_type": "markdown",
      "metadata": {
        "id": "YZChQ976_RxI"
      },
      "source": [
        "### District/Sector"
      ]
    },
    {
      "cell_type": "code",
      "metadata": {
        "id": "_MtLQb9G_RxJ",
        "outputId": "706daf80-eed5-45c0-99e5-9ce116688236"
      },
      "source": [
        "#df['District/Sector'] = df['District/Sector'].astype(str)\n",
        "df['District/Sector'].isna().sum()"
      ],
      "execution_count": null,
      "outputs": [
        {
          "output_type": "execute_result",
          "data": {
            "text/plain": [
              "14"
            ]
          },
          "metadata": {
            "tags": []
          },
          "execution_count": 60
        }
      ]
    },
    {
      "cell_type": "code",
      "metadata": {
        "id": "2IAVJAeQ_RxJ",
        "outputId": "bb14d071-e842-4918-8fc0-e91b5a52357f"
      },
      "source": [
        "df['District/Sector'].unique()"
      ],
      "execution_count": null,
      "outputs": [
        {
          "output_type": "execute_result",
          "data": {
            "text/plain": [
              "array(['Q', 'M', 'D', 'R', 'U', 'K', 'N', 'S', 'F', 'J', 'L', 'W', 'E',\n",
              "       'C', 'G', 'B', 'O', nan, '99'], dtype=object)"
            ]
          },
          "metadata": {
            "tags": []
          },
          "execution_count": 61
        }
      ]
    },
    {
      "cell_type": "code",
      "metadata": {
        "id": "bgAn49pA_RxJ",
        "outputId": "0045499e-fb75-492b-8f80-fe9eddfe2c5c"
      },
      "source": [
        "df['District/Sector'] = df['District/Sector'].replace('99', np.nan)\n",
        "df['District/Sector'].isna().sum()"
      ],
      "execution_count": null,
      "outputs": [
        {
          "output_type": "execute_result",
          "data": {
            "text/plain": [
              "31"
            ]
          },
          "metadata": {
            "tags": []
          },
          "execution_count": 62
        }
      ]
    },
    {
      "cell_type": "code",
      "metadata": {
        "id": "y3qs-405_RxJ"
      },
      "source": [
        "Zone_District = df.dropna(subset=['District/Sector']).drop_duplicates('Zone/Beat').set_index(['Zone/Beat'])['District/Sector']\n",
        "df['District/Sector'] = df['District/Sector'].fillna(df['Zone/Beat'].map(Zone_District))"
      ],
      "execution_count": null,
      "outputs": []
    },
    {
      "cell_type": "code",
      "metadata": {
        "id": "qpfWtH2n_RxK",
        "outputId": "34b91c3b-5af8-4220-c4e7-eabe62a55ac2"
      },
      "source": [
        "df['District/Sector'].isna().sum()"
      ],
      "execution_count": null,
      "outputs": [
        {
          "output_type": "execute_result",
          "data": {
            "text/plain": [
              "0"
            ]
          },
          "metadata": {
            "tags": []
          },
          "execution_count": 64
        }
      ]
    },
    {
      "cell_type": "markdown",
      "metadata": {
        "id": "juqiPBQh_RxK"
      },
      "source": [
        "### Incident Location\n",
        "\n",
        "**Since the Incident location is a combination of Latitude and Longitude, let's join them and put inplace of NAs in Incident Location Column"
      ]
    },
    {
      "cell_type": "code",
      "metadata": {
        "id": "XaYkE2Oi_RxK",
        "outputId": "8965bd55-59ca-4431-8dfa-002130e15390"
      },
      "source": [
        "df['Incident Location'].isna().sum()"
      ],
      "execution_count": null,
      "outputs": [
        {
          "output_type": "execute_result",
          "data": {
            "text/plain": [
              "2469"
            ]
          },
          "metadata": {
            "tags": []
          },
          "execution_count": 65
        }
      ]
    },
    {
      "cell_type": "code",
      "metadata": {
        "id": "0CYY-pFW_RxK"
      },
      "source": [
        "a = df[df['Incident Location'].isna()].index"
      ],
      "execution_count": null,
      "outputs": []
    },
    {
      "cell_type": "code",
      "metadata": {
        "id": "RW2GRv69_RxL",
        "outputId": "f5aa2053-5c0b-4a78-9096-311746dac060"
      },
      "source": [
        "df.iloc[a].head()"
      ],
      "execution_count": null,
      "outputs": [
        {
          "output_type": "execute_result",
          "data": {
            "text/html": [
              "<div>\n",
              "<style scoped>\n",
              "    .dataframe tbody tr th:only-of-type {\n",
              "        vertical-align: middle;\n",
              "    }\n",
              "\n",
              "    .dataframe tbody tr th {\n",
              "        vertical-align: top;\n",
              "    }\n",
              "\n",
              "    .dataframe thead th {\n",
              "        text-align: right;\n",
              "    }\n",
              "</style>\n",
              "<table border=\"1\" class=\"dataframe\">\n",
              "  <thead>\n",
              "    <tr style=\"text-align: right;\">\n",
              "      <th></th>\n",
              "      <th>CAD CDW ID</th>\n",
              "      <th>CAD Event Number</th>\n",
              "      <th>General Offense Number</th>\n",
              "      <th>Event Clearance Code</th>\n",
              "      <th>Event Clearance Description</th>\n",
              "      <th>Event Clearance SubGroup</th>\n",
              "      <th>Event Clearance Group</th>\n",
              "      <th>Event Clearance Date</th>\n",
              "      <th>Hundred Block Location</th>\n",
              "      <th>District/Sector</th>\n",
              "      <th>Zone/Beat</th>\n",
              "      <th>Census Tract</th>\n",
              "      <th>Longitude</th>\n",
              "      <th>Latitude</th>\n",
              "      <th>Incident Location</th>\n",
              "      <th>Initial Type Description</th>\n",
              "      <th>Initial Type Subgroup</th>\n",
              "      <th>Initial Type Group</th>\n",
              "      <th>At Scene Time</th>\n",
              "    </tr>\n",
              "  </thead>\n",
              "  <tbody>\n",
              "    <tr>\n",
              "      <th>6</th>\n",
              "      <td>15743.0</td>\n",
              "      <td>1.00002e+10</td>\n",
              "      <td>2010246472</td>\n",
              "      <td>460.0</td>\n",
              "      <td>TRAFFIC (MOVING) VIOLATION</td>\n",
              "      <td>TRAFFIC RELATED CALLS</td>\n",
              "      <td>TRAFFIC RELATED CALLS</td>\n",
              "      <td>7/17/10 21:05</td>\n",
              "      <td>56XX BLOCK OF BROOKLYN AVE NE</td>\n",
              "      <td>U</td>\n",
              "      <td>U3</td>\n",
              "      <td>4400.5003</td>\n",
              "      <td>-122.314166</td>\n",
              "      <td>47.670345</td>\n",
              "      <td>NaN</td>\n",
              "      <td>NaN</td>\n",
              "      <td>NaN</td>\n",
              "      <td>NaN</td>\n",
              "      <td>NaN</td>\n",
              "    </tr>\n",
              "    <tr>\n",
              "      <th>7</th>\n",
              "      <td>15744.0</td>\n",
              "      <td>1.00002e+10</td>\n",
              "      <td>2010246493</td>\n",
              "      <td>177.0</td>\n",
              "      <td>LIQUOR VIOLATION - INTOXICATED PERSON</td>\n",
              "      <td>LIQUOR VIOLATIONS</td>\n",
              "      <td>LIQUOR VIOLATIONS</td>\n",
              "      <td>7/17/10 21:09</td>\n",
              "      <td>15XX BLOCK OF 4TH AVE</td>\n",
              "      <td>K</td>\n",
              "      <td>K1</td>\n",
              "      <td>8100.2005</td>\n",
              "      <td>-122.336891</td>\n",
              "      <td>47.610440</td>\n",
              "      <td>NaN</td>\n",
              "      <td>NaN</td>\n",
              "      <td>NaN</td>\n",
              "      <td>NaN</td>\n",
              "      <td>NaN</td>\n",
              "    </tr>\n",
              "    <tr>\n",
              "      <th>8</th>\n",
              "      <td>15745.0</td>\n",
              "      <td>1.00002e+10</td>\n",
              "      <td>2010246478</td>\n",
              "      <td>220.0</td>\n",
              "      <td>MENTAL COMPLAINT</td>\n",
              "      <td>MENTAL CALL</td>\n",
              "      <td>MENTAL HEALTH</td>\n",
              "      <td>7/17/10 21:17</td>\n",
              "      <td>100XX BLOCK OF COLLEGE WAY N</td>\n",
              "      <td>N</td>\n",
              "      <td>N3</td>\n",
              "      <td>1300.1009</td>\n",
              "      <td>-122.334524</td>\n",
              "      <td>47.702332</td>\n",
              "      <td>NaN</td>\n",
              "      <td>NaN</td>\n",
              "      <td>NaN</td>\n",
              "      <td>NaN</td>\n",
              "      <td>NaN</td>\n",
              "    </tr>\n",
              "    <tr>\n",
              "      <th>9</th>\n",
              "      <td>15746.0</td>\n",
              "      <td>1.00002e+10</td>\n",
              "      <td>2010246397</td>\n",
              "      <td>65.0</td>\n",
              "      <td>THEFT - MISCELLANEOUS</td>\n",
              "      <td>THEFT</td>\n",
              "      <td>OTHER PROPERTY</td>\n",
              "      <td>7/17/10 21:18</td>\n",
              "      <td>46XX BLOCK OF S AUSTIN ST</td>\n",
              "      <td>S</td>\n",
              "      <td>S2</td>\n",
              "      <td>11101.3001</td>\n",
              "      <td>-122.273985</td>\n",
              "      <td>47.534705</td>\n",
              "      <td>NaN</td>\n",
              "      <td>NaN</td>\n",
              "      <td>NaN</td>\n",
              "      <td>NaN</td>\n",
              "      <td>NaN</td>\n",
              "    </tr>\n",
              "    <tr>\n",
              "      <th>10</th>\n",
              "      <td>15747.0</td>\n",
              "      <td>1.00002e+10</td>\n",
              "      <td>2010246518</td>\n",
              "      <td>245.0</td>\n",
              "      <td>DISTURBANCE, OTHER</td>\n",
              "      <td>DISTURBANCES</td>\n",
              "      <td>DISTURBANCES</td>\n",
              "      <td>7/17/10 21:28</td>\n",
              "      <td>3XX BLOCK OF HARRISON ST</td>\n",
              "      <td>D</td>\n",
              "      <td>D1</td>\n",
              "      <td>7100.2001</td>\n",
              "      <td>-122.350854</td>\n",
              "      <td>47.622087</td>\n",
              "      <td>NaN</td>\n",
              "      <td>NaN</td>\n",
              "      <td>NaN</td>\n",
              "      <td>NaN</td>\n",
              "      <td>NaN</td>\n",
              "    </tr>\n",
              "  </tbody>\n",
              "</table>\n",
              "</div>"
            ],
            "text/plain": [
              "    CAD CDW ID CAD Event Number General Offense Number  Event Clearance Code  \\\n",
              "6      15743.0      1.00002e+10             2010246472                 460.0   \n",
              "7      15744.0      1.00002e+10             2010246493                 177.0   \n",
              "8      15745.0      1.00002e+10             2010246478                 220.0   \n",
              "9      15746.0      1.00002e+10             2010246397                  65.0   \n",
              "10     15747.0      1.00002e+10             2010246518                 245.0   \n",
              "\n",
              "              Event Clearance Description Event Clearance SubGroup  \\\n",
              "6              TRAFFIC (MOVING) VIOLATION    TRAFFIC RELATED CALLS   \n",
              "7   LIQUOR VIOLATION - INTOXICATED PERSON        LIQUOR VIOLATIONS   \n",
              "8                        MENTAL COMPLAINT              MENTAL CALL   \n",
              "9                   THEFT - MISCELLANEOUS                    THEFT   \n",
              "10                     DISTURBANCE, OTHER             DISTURBANCES   \n",
              "\n",
              "    Event Clearance Group Event Clearance Date         Hundred Block Location  \\\n",
              "6   TRAFFIC RELATED CALLS        7/17/10 21:05  56XX BLOCK OF BROOKLYN AVE NE   \n",
              "7       LIQUOR VIOLATIONS        7/17/10 21:09          15XX BLOCK OF 4TH AVE   \n",
              "8           MENTAL HEALTH        7/17/10 21:17   100XX BLOCK OF COLLEGE WAY N   \n",
              "9          OTHER PROPERTY        7/17/10 21:18      46XX BLOCK OF S AUSTIN ST   \n",
              "10           DISTURBANCES        7/17/10 21:28       3XX BLOCK OF HARRISON ST   \n",
              "\n",
              "   District/Sector Zone/Beat  Census Tract   Longitude   Latitude  \\\n",
              "6                U        U3     4400.5003 -122.314166  47.670345   \n",
              "7                K        K1     8100.2005 -122.336891  47.610440   \n",
              "8                N        N3     1300.1009 -122.334524  47.702332   \n",
              "9                S        S2    11101.3001 -122.273985  47.534705   \n",
              "10               D        D1     7100.2001 -122.350854  47.622087   \n",
              "\n",
              "   Incident Location Initial Type Description Initial Type Subgroup  \\\n",
              "6                NaN                      NaN                   NaN   \n",
              "7                NaN                      NaN                   NaN   \n",
              "8                NaN                      NaN                   NaN   \n",
              "9                NaN                      NaN                   NaN   \n",
              "10               NaN                      NaN                   NaN   \n",
              "\n",
              "   Initial Type Group At Scene Time  \n",
              "6                 NaN           NaN  \n",
              "7                 NaN           NaN  \n",
              "8                 NaN           NaN  \n",
              "9                 NaN           NaN  \n",
              "10                NaN           NaN  "
            ]
          },
          "metadata": {
            "tags": []
          },
          "execution_count": 67
        }
      ]
    },
    {
      "cell_type": "code",
      "metadata": {
        "id": "HqKqqyHn_RxM"
      },
      "source": [
        "df['Incident Location'] = df['Incident Location'].fillna(( '(' +df['Latitude'].astype(str) + ',-' + df['Longitude'].astype(str)+ ')' ))"
      ],
      "execution_count": null,
      "outputs": []
    },
    {
      "cell_type": "code",
      "metadata": {
        "id": "YANd3oVT_RxM",
        "outputId": "32f2df2e-ebfb-4ffc-aa3f-9f983b1358ee"
      },
      "source": [
        "df.iloc[a].head()"
      ],
      "execution_count": null,
      "outputs": [
        {
          "output_type": "execute_result",
          "data": {
            "text/html": [
              "<div>\n",
              "<style scoped>\n",
              "    .dataframe tbody tr th:only-of-type {\n",
              "        vertical-align: middle;\n",
              "    }\n",
              "\n",
              "    .dataframe tbody tr th {\n",
              "        vertical-align: top;\n",
              "    }\n",
              "\n",
              "    .dataframe thead th {\n",
              "        text-align: right;\n",
              "    }\n",
              "</style>\n",
              "<table border=\"1\" class=\"dataframe\">\n",
              "  <thead>\n",
              "    <tr style=\"text-align: right;\">\n",
              "      <th></th>\n",
              "      <th>CAD CDW ID</th>\n",
              "      <th>CAD Event Number</th>\n",
              "      <th>General Offense Number</th>\n",
              "      <th>Event Clearance Code</th>\n",
              "      <th>Event Clearance Description</th>\n",
              "      <th>Event Clearance SubGroup</th>\n",
              "      <th>Event Clearance Group</th>\n",
              "      <th>Event Clearance Date</th>\n",
              "      <th>Hundred Block Location</th>\n",
              "      <th>District/Sector</th>\n",
              "      <th>Zone/Beat</th>\n",
              "      <th>Census Tract</th>\n",
              "      <th>Longitude</th>\n",
              "      <th>Latitude</th>\n",
              "      <th>Incident Location</th>\n",
              "      <th>Initial Type Description</th>\n",
              "      <th>Initial Type Subgroup</th>\n",
              "      <th>Initial Type Group</th>\n",
              "      <th>At Scene Time</th>\n",
              "    </tr>\n",
              "  </thead>\n",
              "  <tbody>\n",
              "    <tr>\n",
              "      <th>6</th>\n",
              "      <td>15743.0</td>\n",
              "      <td>1.00002e+10</td>\n",
              "      <td>2010246472</td>\n",
              "      <td>460.0</td>\n",
              "      <td>TRAFFIC (MOVING) VIOLATION</td>\n",
              "      <td>TRAFFIC RELATED CALLS</td>\n",
              "      <td>TRAFFIC RELATED CALLS</td>\n",
              "      <td>7/17/10 21:05</td>\n",
              "      <td>56XX BLOCK OF BROOKLYN AVE NE</td>\n",
              "      <td>U</td>\n",
              "      <td>U3</td>\n",
              "      <td>4400.5003</td>\n",
              "      <td>-122.314166</td>\n",
              "      <td>47.670345</td>\n",
              "      <td>(47.67034535,--122.3141656)</td>\n",
              "      <td>NaN</td>\n",
              "      <td>NaN</td>\n",
              "      <td>NaN</td>\n",
              "      <td>NaN</td>\n",
              "    </tr>\n",
              "    <tr>\n",
              "      <th>7</th>\n",
              "      <td>15744.0</td>\n",
              "      <td>1.00002e+10</td>\n",
              "      <td>2010246493</td>\n",
              "      <td>177.0</td>\n",
              "      <td>LIQUOR VIOLATION - INTOXICATED PERSON</td>\n",
              "      <td>LIQUOR VIOLATIONS</td>\n",
              "      <td>LIQUOR VIOLATIONS</td>\n",
              "      <td>7/17/10 21:09</td>\n",
              "      <td>15XX BLOCK OF 4TH AVE</td>\n",
              "      <td>K</td>\n",
              "      <td>K1</td>\n",
              "      <td>8100.2005</td>\n",
              "      <td>-122.336891</td>\n",
              "      <td>47.610440</td>\n",
              "      <td>(47.61044025,--122.33689050000001)</td>\n",
              "      <td>NaN</td>\n",
              "      <td>NaN</td>\n",
              "      <td>NaN</td>\n",
              "      <td>NaN</td>\n",
              "    </tr>\n",
              "    <tr>\n",
              "      <th>8</th>\n",
              "      <td>15745.0</td>\n",
              "      <td>1.00002e+10</td>\n",
              "      <td>2010246478</td>\n",
              "      <td>220.0</td>\n",
              "      <td>MENTAL COMPLAINT</td>\n",
              "      <td>MENTAL CALL</td>\n",
              "      <td>MENTAL HEALTH</td>\n",
              "      <td>7/17/10 21:17</td>\n",
              "      <td>100XX BLOCK OF COLLEGE WAY N</td>\n",
              "      <td>N</td>\n",
              "      <td>N3</td>\n",
              "      <td>1300.1009</td>\n",
              "      <td>-122.334524</td>\n",
              "      <td>47.702332</td>\n",
              "      <td>(47.70233163,--122.3345243)</td>\n",
              "      <td>NaN</td>\n",
              "      <td>NaN</td>\n",
              "      <td>NaN</td>\n",
              "      <td>NaN</td>\n",
              "    </tr>\n",
              "    <tr>\n",
              "      <th>9</th>\n",
              "      <td>15746.0</td>\n",
              "      <td>1.00002e+10</td>\n",
              "      <td>2010246397</td>\n",
              "      <td>65.0</td>\n",
              "      <td>THEFT - MISCELLANEOUS</td>\n",
              "      <td>THEFT</td>\n",
              "      <td>OTHER PROPERTY</td>\n",
              "      <td>7/17/10 21:18</td>\n",
              "      <td>46XX BLOCK OF S AUSTIN ST</td>\n",
              "      <td>S</td>\n",
              "      <td>S2</td>\n",
              "      <td>11101.3001</td>\n",
              "      <td>-122.273985</td>\n",
              "      <td>47.534705</td>\n",
              "      <td>(47.53470464,--122.2739848)</td>\n",
              "      <td>NaN</td>\n",
              "      <td>NaN</td>\n",
              "      <td>NaN</td>\n",
              "      <td>NaN</td>\n",
              "    </tr>\n",
              "    <tr>\n",
              "      <th>10</th>\n",
              "      <td>15747.0</td>\n",
              "      <td>1.00002e+10</td>\n",
              "      <td>2010246518</td>\n",
              "      <td>245.0</td>\n",
              "      <td>DISTURBANCE, OTHER</td>\n",
              "      <td>DISTURBANCES</td>\n",
              "      <td>DISTURBANCES</td>\n",
              "      <td>7/17/10 21:28</td>\n",
              "      <td>3XX BLOCK OF HARRISON ST</td>\n",
              "      <td>D</td>\n",
              "      <td>D1</td>\n",
              "      <td>7100.2001</td>\n",
              "      <td>-122.350854</td>\n",
              "      <td>47.622087</td>\n",
              "      <td>(47.62208692,--122.350854)</td>\n",
              "      <td>NaN</td>\n",
              "      <td>NaN</td>\n",
              "      <td>NaN</td>\n",
              "      <td>NaN</td>\n",
              "    </tr>\n",
              "  </tbody>\n",
              "</table>\n",
              "</div>"
            ],
            "text/plain": [
              "    CAD CDW ID CAD Event Number General Offense Number  Event Clearance Code  \\\n",
              "6      15743.0      1.00002e+10             2010246472                 460.0   \n",
              "7      15744.0      1.00002e+10             2010246493                 177.0   \n",
              "8      15745.0      1.00002e+10             2010246478                 220.0   \n",
              "9      15746.0      1.00002e+10             2010246397                  65.0   \n",
              "10     15747.0      1.00002e+10             2010246518                 245.0   \n",
              "\n",
              "              Event Clearance Description Event Clearance SubGroup  \\\n",
              "6              TRAFFIC (MOVING) VIOLATION    TRAFFIC RELATED CALLS   \n",
              "7   LIQUOR VIOLATION - INTOXICATED PERSON        LIQUOR VIOLATIONS   \n",
              "8                        MENTAL COMPLAINT              MENTAL CALL   \n",
              "9                   THEFT - MISCELLANEOUS                    THEFT   \n",
              "10                     DISTURBANCE, OTHER             DISTURBANCES   \n",
              "\n",
              "    Event Clearance Group Event Clearance Date         Hundred Block Location  \\\n",
              "6   TRAFFIC RELATED CALLS        7/17/10 21:05  56XX BLOCK OF BROOKLYN AVE NE   \n",
              "7       LIQUOR VIOLATIONS        7/17/10 21:09          15XX BLOCK OF 4TH AVE   \n",
              "8           MENTAL HEALTH        7/17/10 21:17   100XX BLOCK OF COLLEGE WAY N   \n",
              "9          OTHER PROPERTY        7/17/10 21:18      46XX BLOCK OF S AUSTIN ST   \n",
              "10           DISTURBANCES        7/17/10 21:28       3XX BLOCK OF HARRISON ST   \n",
              "\n",
              "   District/Sector Zone/Beat  Census Tract   Longitude   Latitude  \\\n",
              "6                U        U3     4400.5003 -122.314166  47.670345   \n",
              "7                K        K1     8100.2005 -122.336891  47.610440   \n",
              "8                N        N3     1300.1009 -122.334524  47.702332   \n",
              "9                S        S2    11101.3001 -122.273985  47.534705   \n",
              "10               D        D1     7100.2001 -122.350854  47.622087   \n",
              "\n",
              "                     Incident Location Initial Type Description  \\\n",
              "6          (47.67034535,--122.3141656)                      NaN   \n",
              "7   (47.61044025,--122.33689050000001)                      NaN   \n",
              "8          (47.70233163,--122.3345243)                      NaN   \n",
              "9          (47.53470464,--122.2739848)                      NaN   \n",
              "10          (47.62208692,--122.350854)                      NaN   \n",
              "\n",
              "   Initial Type Subgroup Initial Type Group At Scene Time  \n",
              "6                    NaN                NaN           NaN  \n",
              "7                    NaN                NaN           NaN  \n",
              "8                    NaN                NaN           NaN  \n",
              "9                    NaN                NaN           NaN  \n",
              "10                   NaN                NaN           NaN  "
            ]
          },
          "metadata": {
            "tags": []
          },
          "execution_count": 69
        }
      ]
    },
    {
      "cell_type": "code",
      "metadata": {
        "id": "l-fzitly_RxM",
        "outputId": "41ea58bc-b0e1-4c87-f0a9-ccfbe17c1747"
      },
      "source": [
        "df['Incident Location'].isna().sum() # All values filled"
      ],
      "execution_count": null,
      "outputs": [
        {
          "output_type": "execute_result",
          "data": {
            "text/plain": [
              "0"
            ]
          },
          "metadata": {
            "tags": []
          },
          "execution_count": 70
        }
      ]
    },
    {
      "cell_type": "markdown",
      "metadata": {
        "id": "XK2FvHAs_RxN"
      },
      "source": [
        "### General Offense Number\n",
        "\n",
        "- There are a few string values in this column, lets get rid of them <br>\n",
        "- I converted the column to numeric so that strings will be set as NaN <br>\n",
        "- Then I filled the NaN with values from CAD Event Number <br>\n",
        "- Finally changed the starting digits from 10000 to 2010....etc using REGEX <br>"
      ]
    },
    {
      "cell_type": "code",
      "metadata": {
        "id": "-9JPkgIO_RxN"
      },
      "source": [
        "df['General Offense Number'] = pd.to_numeric(df['General Offense Number'], errors='coerce')"
      ],
      "execution_count": null,
      "outputs": []
    },
    {
      "cell_type": "code",
      "metadata": {
        "id": "Oy4BnGEv_RxN",
        "outputId": "eb5958ce-0935-4017-d39b-47e39d1fdea9"
      },
      "source": [
        "a5 = df[df['General Offense Number'].isna()]\n",
        "a5.head(3)"
      ],
      "execution_count": null,
      "outputs": [
        {
          "output_type": "execute_result",
          "data": {
            "text/html": [
              "<div>\n",
              "<style scoped>\n",
              "    .dataframe tbody tr th:only-of-type {\n",
              "        vertical-align: middle;\n",
              "    }\n",
              "\n",
              "    .dataframe tbody tr th {\n",
              "        vertical-align: top;\n",
              "    }\n",
              "\n",
              "    .dataframe thead th {\n",
              "        text-align: right;\n",
              "    }\n",
              "</style>\n",
              "<table border=\"1\" class=\"dataframe\">\n",
              "  <thead>\n",
              "    <tr style=\"text-align: right;\">\n",
              "      <th></th>\n",
              "      <th>CAD CDW ID</th>\n",
              "      <th>CAD Event Number</th>\n",
              "      <th>General Offense Number</th>\n",
              "      <th>Event Clearance Code</th>\n",
              "      <th>Event Clearance Description</th>\n",
              "      <th>Event Clearance SubGroup</th>\n",
              "      <th>Event Clearance Group</th>\n",
              "      <th>Event Clearance Date</th>\n",
              "      <th>Hundred Block Location</th>\n",
              "      <th>District/Sector</th>\n",
              "      <th>Zone/Beat</th>\n",
              "      <th>Census Tract</th>\n",
              "      <th>Longitude</th>\n",
              "      <th>Latitude</th>\n",
              "      <th>Incident Location</th>\n",
              "      <th>Initial Type Description</th>\n",
              "      <th>Initial Type Subgroup</th>\n",
              "      <th>Initial Type Group</th>\n",
              "      <th>At Scene Time</th>\n",
              "    </tr>\n",
              "  </thead>\n",
              "  <tbody>\n",
              "    <tr>\n",
              "      <th>0</th>\n",
              "      <td>15737.0</td>\n",
              "      <td>1.00002e+10</td>\n",
              "      <td>NaN</td>\n",
              "      <td>65.0</td>\n",
              "      <td>THEFT - MISCELLANEOUS</td>\n",
              "      <td>THEFT</td>\n",
              "      <td>OTHER PROPERTY</td>\n",
              "      <td>7/17/30 20:50</td>\n",
              "      <td>36XX BLOCK OF DISCOVERY PARK BLVD</td>\n",
              "      <td>Q</td>\n",
              "      <td>Q1</td>\n",
              "      <td>5700.1012</td>\n",
              "      <td>-122.404613</td>\n",
              "      <td>47.658325</td>\n",
              "      <td>(47.658324899, -122.404612874)</td>\n",
              "      <td>NaN</td>\n",
              "      <td>NaN</td>\n",
              "      <td>NaN</td>\n",
              "      <td>NaN</td>\n",
              "    </tr>\n",
              "    <tr>\n",
              "      <th>27</th>\n",
              "      <td>15764.0</td>\n",
              "      <td>1.00002e+10</td>\n",
              "      <td>NaN</td>\n",
              "      <td>64.0</td>\n",
              "      <td>SHOPLIFT</td>\n",
              "      <td>THEFT</td>\n",
              "      <td>SHOPLIFTING</td>\n",
              "      <td>7/17/40 20:39</td>\n",
              "      <td>5XX BLOCK OF PINE ST</td>\n",
              "      <td>K</td>\n",
              "      <td>K1</td>\n",
              "      <td>8200.1004</td>\n",
              "      <td>-122.335929</td>\n",
              "      <td>47.611904</td>\n",
              "      <td>(47.611904236, -122.335928554)</td>\n",
              "      <td>NaN</td>\n",
              "      <td>NaN</td>\n",
              "      <td>NaN</td>\n",
              "      <td>NaN</td>\n",
              "    </tr>\n",
              "    <tr>\n",
              "      <th>94</th>\n",
              "      <td>15833.0</td>\n",
              "      <td>1.00002e+10</td>\n",
              "      <td>NaN</td>\n",
              "      <td>177.0</td>\n",
              "      <td>LIQUOR VIOLATION - INTOXICATED PERSON</td>\n",
              "      <td>LIQUOR VIOLATIONS</td>\n",
              "      <td>LIQUOR VIOLATIONS</td>\n",
              "      <td>7/17/10 22:50</td>\n",
              "      <td>8XX BLOCK OF DENNY WAY</td>\n",
              "      <td>M</td>\n",
              "      <td>M2</td>\n",
              "      <td>7200.1039</td>\n",
              "      <td>-122.340602</td>\n",
              "      <td>47.618543</td>\n",
              "      <td>(47.61854329, -122.340602321)</td>\n",
              "      <td>NaN</td>\n",
              "      <td>NaN</td>\n",
              "      <td>NaN</td>\n",
              "      <td>NaN</td>\n",
              "    </tr>\n",
              "  </tbody>\n",
              "</table>\n",
              "</div>"
            ],
            "text/plain": [
              "    CAD CDW ID CAD Event Number  General Offense Number  Event Clearance Code  \\\n",
              "0      15737.0      1.00002e+10                     NaN                  65.0   \n",
              "27     15764.0      1.00002e+10                     NaN                  64.0   \n",
              "94     15833.0      1.00002e+10                     NaN                 177.0   \n",
              "\n",
              "              Event Clearance Description Event Clearance SubGroup  \\\n",
              "0                   THEFT - MISCELLANEOUS                    THEFT   \n",
              "27                               SHOPLIFT                    THEFT   \n",
              "94  LIQUOR VIOLATION - INTOXICATED PERSON        LIQUOR VIOLATIONS   \n",
              "\n",
              "   Event Clearance Group Event Clearance Date  \\\n",
              "0         OTHER PROPERTY        7/17/30 20:50   \n",
              "27           SHOPLIFTING        7/17/40 20:39   \n",
              "94     LIQUOR VIOLATIONS        7/17/10 22:50   \n",
              "\n",
              "               Hundred Block Location District/Sector Zone/Beat  Census Tract  \\\n",
              "0   36XX BLOCK OF DISCOVERY PARK BLVD               Q        Q1     5700.1012   \n",
              "27               5XX BLOCK OF PINE ST               K        K1     8200.1004   \n",
              "94             8XX BLOCK OF DENNY WAY               M        M2     7200.1039   \n",
              "\n",
              "     Longitude   Latitude               Incident Location  \\\n",
              "0  -122.404613  47.658325  (47.658324899, -122.404612874)   \n",
              "27 -122.335929  47.611904  (47.611904236, -122.335928554)   \n",
              "94 -122.340602  47.618543   (47.61854329, -122.340602321)   \n",
              "\n",
              "   Initial Type Description Initial Type Subgroup Initial Type Group  \\\n",
              "0                       NaN                   NaN                NaN   \n",
              "27                      NaN                   NaN                NaN   \n",
              "94                      NaN                   NaN                NaN   \n",
              "\n",
              "   At Scene Time  \n",
              "0            NaN  \n",
              "27           NaN  \n",
              "94           NaN  "
            ]
          },
          "metadata": {
            "tags": []
          },
          "execution_count": 72
        }
      ]
    },
    {
      "cell_type": "code",
      "metadata": {
        "id": "q_oc3PcO_RxN"
      },
      "source": [
        "c = ['CAD Event Number','General Offense Number']"
      ],
      "execution_count": null,
      "outputs": []
    },
    {
      "cell_type": "code",
      "metadata": {
        "id": "_9uv9Nu9_RxO"
      },
      "source": [
        "df.loc[:,c] = df.loc[:,c].ffill(axis = 1)"
      ],
      "execution_count": null,
      "outputs": []
    },
    {
      "cell_type": "code",
      "metadata": {
        "id": "isGc-nDt_RxO"
      },
      "source": [
        "df['General Offense Number'] = df['General Offense Number'].astype(str)\n",
        "df['General Offense Number'] = df['General Offense Number'].replace({'10000':'2010','160000':'2016'}, regex = True)"
      ],
      "execution_count": null,
      "outputs": []
    },
    {
      "cell_type": "code",
      "metadata": {
        "id": "FaXgPFO7_RxO",
        "outputId": "e716122e-be8d-4ca5-b03c-95df9456e38a"
      },
      "source": [
        "df['General Offense Number'].isna().sum()"
      ],
      "execution_count": null,
      "outputs": [
        {
          "output_type": "execute_result",
          "data": {
            "text/plain": [
              "0"
            ]
          },
          "metadata": {
            "tags": []
          },
          "execution_count": 76
        }
      ]
    },
    {
      "cell_type": "markdown",
      "metadata": {
        "id": "obgx6eH2_RxO"
      },
      "source": [
        "### Event Clearance Date\n",
        "\n",
        "**Looked for dates in range and found invalid values which were not in range**"
      ]
    },
    {
      "cell_type": "code",
      "metadata": {
        "id": "RyAT2WQs_RxP"
      },
      "source": [
        "df['Event Clearance Date'] = pd.to_datetime(df['Event Clearance Date'], errors = 'coerce')"
      ],
      "execution_count": null,
      "outputs": []
    },
    {
      "cell_type": "code",
      "metadata": {
        "id": "bdwNYrm5_RxP"
      },
      "source": [
        "a = df['Event Clearance Date']\n",
        "Startdate = pd.to_datetime('1/1/2000')\n",
        "Enddate = pd.to_datetime('1/1/2018')"
      ],
      "execution_count": null,
      "outputs": []
    },
    {
      "cell_type": "code",
      "metadata": {
        "id": "f75ZZ_Bu_RxP"
      },
      "source": [
        "error_dates1 = df.loc[df['Event Clearance Date'] < Startdate, : ]\n",
        "error_dates2 = df.loc[df['Event Clearance Date'] > Enddate, :]"
      ],
      "execution_count": null,
      "outputs": []
    },
    {
      "cell_type": "code",
      "metadata": {
        "id": "cX3sF_oL_RxP"
      },
      "source": [
        "df['Event Clearance Date'] = df['Event Clearance Date'].astype(str)\n",
        "error = df['Event Clearance Date'][error_dates2.index].to_list() + df['Event Clearance Date'][error_dates1.index].to_list()"
      ],
      "execution_count": null,
      "outputs": []
    },
    {
      "cell_type": "code",
      "metadata": {
        "id": "a92IzTN2_RxP",
        "outputId": "c1762437-5d24-4607-9da0-2b76a7d61e07"
      },
      "source": [
        "error # List of all Erroneous Dates"
      ],
      "execution_count": null,
      "outputs": [
        {
          "output_type": "execute_result",
          "data": {
            "text/plain": [
              "['2030-07-17 20:50:00',\n",
              " '2040-07-17 20:39:00',\n",
              " '2033-07-18 00:12:00',\n",
              " '2021-07-18 00:04:00',\n",
              " '1710-07-25 07:12:00']"
            ]
          },
          "metadata": {
            "tags": []
          },
          "execution_count": 81
        }
      ]
    },
    {
      "cell_type": "code",
      "metadata": {
        "id": "Vim3YeNB_RxQ"
      },
      "source": [
        "df['Event Clearance Date'] = df['Event Clearance Date'].replace(dict.fromkeys(['2030', '2040','2033','2021'],'2010'), regex = True)"
      ],
      "execution_count": null,
      "outputs": []
    },
    {
      "cell_type": "code",
      "metadata": {
        "id": "ThgF8uAV_RxQ",
        "outputId": "5c4be90a-bcb4-4f10-bea1-560a72dae356"
      },
      "source": [
        "df['Event Clearance Date'].iloc[error_dates2.index] # As you can see, the dates are now in proper range"
      ],
      "execution_count": null,
      "outputs": [
        {
          "output_type": "execute_result",
          "data": {
            "text/plain": [
              "0      2010-07-17 20:50:00\n",
              "27     2010-07-17 20:39:00\n",
              "90     2010-07-18 00:12:00\n",
              "205    2010-07-18 00:04:00\n",
              "Name: Event Clearance Date, dtype: object"
            ]
          },
          "metadata": {
            "tags": []
          },
          "execution_count": 86
        }
      ]
    },
    {
      "cell_type": "markdown",
      "metadata": {
        "id": "rDyuPVdM_RxQ"
      },
      "source": [
        "### Hundred Block Location - Invalid(anomalies)\n",
        "\n",
        "Looked for any string less than length of 10, which resulted in a list of country/city names"
      ]
    },
    {
      "cell_type": "code",
      "metadata": {
        "id": "F7c_ssEr_RxQ",
        "outputId": "f54ff0fd-8d6f-4235-e510-bcadd0ecdedb"
      },
      "source": [
        "df['Hundred Block Location'].isna().sum()"
      ],
      "execution_count": null,
      "outputs": [
        {
          "output_type": "execute_result",
          "data": {
            "text/plain": [
              "4"
            ]
          },
          "metadata": {
            "tags": []
          },
          "execution_count": 87
        }
      ]
    },
    {
      "cell_type": "code",
      "metadata": {
        "id": "mxDByVWd_RxR",
        "outputId": "7a564cb1-4333-4f72-d54e-e1d1b1e80836"
      },
      "source": [
        "mask = (df[df['Hundred Block Location'].str.len() <14])\n",
        "mask.head(2)"
      ],
      "execution_count": null,
      "outputs": [
        {
          "output_type": "execute_result",
          "data": {
            "text/html": [
              "<div>\n",
              "<style scoped>\n",
              "    .dataframe tbody tr th:only-of-type {\n",
              "        vertical-align: middle;\n",
              "    }\n",
              "\n",
              "    .dataframe tbody tr th {\n",
              "        vertical-align: top;\n",
              "    }\n",
              "\n",
              "    .dataframe thead th {\n",
              "        text-align: right;\n",
              "    }\n",
              "</style>\n",
              "<table border=\"1\" class=\"dataframe\">\n",
              "  <thead>\n",
              "    <tr style=\"text-align: right;\">\n",
              "      <th></th>\n",
              "      <th>CAD CDW ID</th>\n",
              "      <th>CAD Event Number</th>\n",
              "      <th>General Offense Number</th>\n",
              "      <th>Event Clearance Code</th>\n",
              "      <th>Event Clearance Description</th>\n",
              "      <th>Event Clearance SubGroup</th>\n",
              "      <th>Event Clearance Group</th>\n",
              "      <th>Event Clearance Date</th>\n",
              "      <th>Hundred Block Location</th>\n",
              "      <th>District/Sector</th>\n",
              "      <th>Zone/Beat</th>\n",
              "      <th>Census Tract</th>\n",
              "      <th>Longitude</th>\n",
              "      <th>Latitude</th>\n",
              "      <th>Incident Location</th>\n",
              "      <th>Initial Type Description</th>\n",
              "      <th>Initial Type Subgroup</th>\n",
              "      <th>Initial Type Group</th>\n",
              "      <th>At Scene Time</th>\n",
              "    </tr>\n",
              "  </thead>\n",
              "  <tbody>\n",
              "    <tr>\n",
              "      <th>11</th>\n",
              "      <td>15748.0</td>\n",
              "      <td>1.00002e+10</td>\n",
              "      <td>2010246470.0</td>\n",
              "      <td>161.0</td>\n",
              "      <td>TRESPASS</td>\n",
              "      <td>TRESPASS</td>\n",
              "      <td>TRESPASS</td>\n",
              "      <td>2010-07-17 21:28:00</td>\n",
              "      <td>Canada</td>\n",
              "      <td>K</td>\n",
              "      <td>K2</td>\n",
              "      <td>9100.1014</td>\n",
              "      <td>-122.327681</td>\n",
              "      <td>47.596655</td>\n",
              "      <td>(47.59665538,--122.3276807)</td>\n",
              "      <td>NaN</td>\n",
              "      <td>NaN</td>\n",
              "      <td>NaN</td>\n",
              "      <td>NaN</td>\n",
              "    </tr>\n",
              "    <tr>\n",
              "      <th>1680</th>\n",
              "      <td>17462.0</td>\n",
              "      <td>1.00002e+10</td>\n",
              "      <td>2010249050.0</td>\n",
              "      <td>280.0</td>\n",
              "      <td>SUSPICIOUS PERSON</td>\n",
              "      <td>SUSPICIOUS CIRCUMSTANCES</td>\n",
              "      <td>SUSPICIOUS CIRCUMSTANCES</td>\n",
              "      <td>2010-07-19 23:18:00</td>\n",
              "      <td>Alaska</td>\n",
              "      <td>G</td>\n",
              "      <td>G3</td>\n",
              "      <td>8800.5007</td>\n",
              "      <td>-122.298169</td>\n",
              "      <td>47.611560</td>\n",
              "      <td>(47.611560252, -122.298168661)</td>\n",
              "      <td>NaN</td>\n",
              "      <td>NaN</td>\n",
              "      <td>NaN</td>\n",
              "      <td>NaN</td>\n",
              "    </tr>\n",
              "  </tbody>\n",
              "</table>\n",
              "</div>"
            ],
            "text/plain": [
              "      CAD CDW ID CAD Event Number General Offense Number  \\\n",
              "11       15748.0      1.00002e+10           2010246470.0   \n",
              "1680     17462.0      1.00002e+10           2010249050.0   \n",
              "\n",
              "      Event Clearance Code Event Clearance Description  \\\n",
              "11                   161.0                   TRESPASS    \n",
              "1680                 280.0           SUSPICIOUS PERSON   \n",
              "\n",
              "      Event Clearance SubGroup     Event Clearance Group Event Clearance Date  \\\n",
              "11                    TRESPASS                  TRESPASS  2010-07-17 21:28:00   \n",
              "1680  SUSPICIOUS CIRCUMSTANCES  SUSPICIOUS CIRCUMSTANCES  2010-07-19 23:18:00   \n",
              "\n",
              "     Hundred Block Location District/Sector Zone/Beat  Census Tract  \\\n",
              "11                   Canada               K        K2     9100.1014   \n",
              "1680                 Alaska               G        G3     8800.5007   \n",
              "\n",
              "       Longitude   Latitude               Incident Location  \\\n",
              "11   -122.327681  47.596655     (47.59665538,--122.3276807)   \n",
              "1680 -122.298169  47.611560  (47.611560252, -122.298168661)   \n",
              "\n",
              "     Initial Type Description Initial Type Subgroup Initial Type Group  \\\n",
              "11                        NaN                   NaN                NaN   \n",
              "1680                      NaN                   NaN                NaN   \n",
              "\n",
              "     At Scene Time  \n",
              "11             NaN  \n",
              "1680           NaN  "
            ]
          },
          "metadata": {
            "tags": []
          },
          "execution_count": 88
        }
      ]
    },
    {
      "cell_type": "code",
      "metadata": {
        "id": "yIo5vCXZ_RxR",
        "outputId": "1a529b6c-780f-4816-a435-5048428a109e"
      },
      "source": [
        "df.loc[mask.index]['Hundred Block Location']"
      ],
      "execution_count": null,
      "outputs": [
        {
          "output_type": "execute_result",
          "data": {
            "text/plain": [
              "11             Canada\n",
              "1680           Alaska\n",
              "5718     Pennsylvania\n",
              "7352         Brooklyn\n",
              "7359        Manhattan\n",
              "7826    Washington DC\n",
              "Name: Hundred Block Location, dtype: object"
            ]
          },
          "metadata": {
            "tags": []
          },
          "execution_count": 89
        }
      ]
    },
    {
      "cell_type": "code",
      "metadata": {
        "id": "LK_phzcD_RxR"
      },
      "source": [
        "df['Hundred Block Location'].iloc[mask.index] = np.nan"
      ],
      "execution_count": null,
      "outputs": []
    },
    {
      "cell_type": "code",
      "metadata": {
        "id": "TVkKfxlp_RxR"
      },
      "source": [
        "Long_HBloc = df.dropna(subset=['Hundred Block Location']).drop_duplicates(['Longitude']).set_index('Longitude')['Hundred Block Location']"
      ],
      "execution_count": null,
      "outputs": []
    },
    {
      "cell_type": "code",
      "metadata": {
        "id": "0coUEENB_RxS"
      },
      "source": [
        "df['Hundred Block Location'] = df['Hundred Block Location'].fillna(df['Longitude'].map(Long_HBloc))"
      ],
      "execution_count": null,
      "outputs": []
    },
    {
      "cell_type": "code",
      "metadata": {
        "id": "urNxO18r_RxS",
        "outputId": "2f5ff2a5-644d-4caa-8e60-53023d320118"
      },
      "source": [
        "df['Hundred Block Location'].isna().sum()            #    4 values left, as they are unique and don't a match in the mappings group."
      ],
      "execution_count": null,
      "outputs": [
        {
          "output_type": "execute_result",
          "data": {
            "text/plain": [
              "4"
            ]
          },
          "metadata": {
            "tags": []
          },
          "execution_count": 95
        }
      ]
    },
    {
      "cell_type": "markdown",
      "metadata": {
        "id": "v4XO1b6H_RxS"
      },
      "source": [
        "**For the last 4 columns, there are so many NA values and they little in common with other columns to retrieve the lost data <br>\n",
        "Hence will lose this data**"
      ]
    },
    {
      "cell_type": "code",
      "metadata": {
        "id": "AVK-WItT_RxS"
      },
      "source": [
        "df = df.drop(['Initial Type Description', 'Initial Type Subgroup','Initial Type Group','At Scene Time'], axis = 1)"
      ],
      "execution_count": null,
      "outputs": []
    },
    {
      "cell_type": "code",
      "metadata": {
        "id": "MP_iKjba_RxT",
        "outputId": "af374da4-80ee-478a-f25f-15f7c7c844fb"
      },
      "source": [
        "df.isna().sum()"
      ],
      "execution_count": null,
      "outputs": [
        {
          "output_type": "execute_result",
          "data": {
            "text/plain": [
              "CAD CDW ID                      0\n",
              "CAD Event Number                0\n",
              "General Offense Number          0\n",
              "Event Clearance Code            0\n",
              "Event Clearance Description     0\n",
              "Event Clearance SubGroup        0\n",
              "Event Clearance Group           0\n",
              "Event Clearance Date            0\n",
              "Hundred Block Location          4\n",
              "District/Sector                 0\n",
              "Zone/Beat                       6\n",
              "Census Tract                   18\n",
              "Longitude                       0\n",
              "Latitude                        0\n",
              "Incident Location               0\n",
              "dtype: int64"
            ]
          },
          "metadata": {
            "tags": []
          },
          "execution_count": 97
        }
      ]
    },
    {
      "cell_type": "markdown",
      "metadata": {
        "id": "3M9UAfZo_RxT"
      },
      "source": [
        "**Since there are only a few null values, we will drop these values, given they are unique and have no match in any of the mappings-group to find their value.**"
      ]
    },
    {
      "cell_type": "code",
      "metadata": {
        "id": "fN5ZXzC5_RxT"
      },
      "source": [
        "df = df.dropna() # Only 28 values lost out of 10,000"
      ],
      "execution_count": null,
      "outputs": []
    },
    {
      "cell_type": "code",
      "metadata": {
        "id": "9is-lk7V_RxT",
        "outputId": "e88147b0-8b8f-482a-9461-ea1938f3995c"
      },
      "source": [
        "df.isna().sum()"
      ],
      "execution_count": null,
      "outputs": [
        {
          "output_type": "execute_result",
          "data": {
            "text/plain": [
              "CAD CDW ID                     0\n",
              "CAD Event Number               0\n",
              "General Offense Number         0\n",
              "Event Clearance Code           0\n",
              "Event Clearance Description    0\n",
              "Event Clearance SubGroup       0\n",
              "Event Clearance Group          0\n",
              "Event Clearance Date           0\n",
              "Hundred Block Location         0\n",
              "District/Sector                0\n",
              "Zone/Beat                      0\n",
              "Census Tract                   0\n",
              "Longitude                      0\n",
              "Latitude                       0\n",
              "Incident Location              0\n",
              "dtype: int64"
            ]
          },
          "metadata": {
            "tags": []
          },
          "execution_count": 99
        }
      ]
    },
    {
      "cell_type": "code",
      "metadata": {
        "id": "20PV8k1i_RxT"
      },
      "source": [
        "df.to_csv('/Users/qas/Desktop/cleanedSeattle.csv')"
      ],
      "execution_count": null,
      "outputs": []
    },
    {
      "cell_type": "code",
      "metadata": {
        "id": "0_OxTLGl_RxU"
      },
      "source": [
        "import pandas as pd\n",
        "import seaborn as sns\n",
        "sns.set(style=\"whitegrid\", palette=\"muted\")\n",
        "# \"Melt\" the dataset to \"long-form\" or \"tidy\" representation\n",
        "iris = pd.melt(df, \"District/Sector\", var_name=\"measurement\")"
      ],
      "execution_count": null,
      "outputs": []
    },
    {
      "cell_type": "code",
      "metadata": {
        "id": "4Q1Qv1qR_RxU"
      },
      "source": [
        "c = df['District/Sector'].value_counts()"
      ],
      "execution_count": null,
      "outputs": []
    },
    {
      "cell_type": "code",
      "metadata": {
        "id": "eXvaGeB0_RxU",
        "outputId": "45aedb58-94ba-487e-e51d-b70edd18b287"
      },
      "source": [
        "sns.set(style=\"darkgrid\")\n",
        "sns.barplot(c.index, c.values, alpha=0.9)\n",
        "plt.title('Frequency of Disctrict/Sector')\n",
        "plt.ylabel('Number of Occurrences', fontsize=12)\n",
        "plt.show()"
      ],
      "execution_count": null,
      "outputs": [
        {
          "output_type": "display_data",
          "data": {
            "image/png": "[encoded data removed]",
            "text/plain": [
              "<Figure size 432x288 with 1 Axes>"
            ]
          },
          "metadata": {
            "tags": []
          }
        }
      ]
    },
    {
      "cell_type": "markdown",
      "metadata": {
        "id": "SMN9dt5J_RxV"
      },
      "source": [
        "## **Visualization in Tableau**"
      ]
    },
    {
      "cell_type": "markdown",
      "metadata": {
        "id": "KgURZ3sb_RxV"
      },
      "source": [
        "![a1.png](attachment:a1.png)"
      ]
    },
    {
      "cell_type": "markdown",
      "metadata": {
        "id": "Ov--llEn_RxV"
      },
      "source": [
        "![a2.png](attachment:a2.png)"
      ]
    },
    {
      "cell_type": "code",
      "metadata": {
        "id": "gbvFsfAj_RxV"
      },
      "source": [
        ""
      ],
      "execution_count": null,
      "outputs": []
    }
  ]
}