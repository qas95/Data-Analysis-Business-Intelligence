{
  "nbformat": 4,
  "nbformat_minor": 0,
  "metadata": {
    "kernelspec": {
      "display_name": "Python 3",
      "language": "python",
      "name": "python3"
    },
    "language_info": {
      "codemirror_mode": {
        "name": "ipython",
        "version": 3
      },
      "file_extension": ".py",
      "mimetype": "text/x-python",
      "name": "python",
      "nbconvert_exporter": "python",
      "pygments_lexer": "ipython3",
      "version": "3.7.6"
    },
    "colab": {
      "name": "BI_covid.ipynb",
      "provenance": [],
      "include_colab_link": true
    }
  },
  "cells": [
    {
      "cell_type": "markdown",
      "metadata": {
        "id": "view-in-github",
        "colab_type": "text"
      },
      "source": [
        "<a href=\"https://colab.research.google.com/github/qas95/Data-Analysis-Business-Intelligence/blob/main/BI_covid.ipynb\" target=\"_parent\"><img src=\"https://colab.research.google.com/assets/colab-badge.svg\" alt=\"Open In Colab\"/></a>"
      ]
    },
    {
      "cell_type": "code",
      "metadata": {
        "id": "9-p-ws9z_j5V"
      },
      "source": [
        "import pandas as pd\n",
        "import matplotlib.pyplot as plt\n",
        "%matplotlib inline\n",
        "from matplotlib import style\n",
        "style.use('ggplot')"
      ],
      "execution_count": 1,
      "outputs": []
    },
    {
      "cell_type": "code",
      "metadata": {
        "id": "XjOeczf-_j5Y"
      },
      "source": [
        "import plotly\n",
        "import plotly.graph_objs as go\n",
        "import plotly.express as px\n",
        "import plotly.offline as pyo\n",
        "from plotly.offline import iplot, init_notebook_mode\n",
        "import cufflinks as cf"
      ],
      "execution_count": 2,
      "outputs": []
    },
    {
      "cell_type": "code",
      "metadata": {
        "colab": {
          "base_uri": "https://localhost:8080/",
          "height": 17
        },
        "id": "Akuhv07s_j5Z",
        "outputId": "d67ececb-2823-4d19-e55a-d57805de2890"
      },
      "source": [
        "init_notebook_mode(connected = True)\n",
        "cf.go_offline()"
      ],
      "execution_count": 3,
      "outputs": [
        {
          "output_type": "display_data",
          "data": {
            "text/html": [
              "        <script type=\"text/javascript\">\n",
              "        window.PlotlyConfig = {MathJaxConfig: 'local'};\n",
              "        if (window.MathJax) {MathJax.Hub.Config({SVG: {font: \"STIX-Web\"}});}\n",
              "        if (typeof require !== 'undefined') {\n",
              "        require.undef(\"plotly\");\n",
              "        requirejs.config({\n",
              "            paths: {\n",
              "                'plotly': ['https://cdn.plot.ly/plotly-latest.min']\n",
              "            }\n",
              "        });\n",
              "        require(['plotly'], function(Plotly) {\n",
              "            window._Plotly = Plotly;\n",
              "        });\n",
              "        }\n",
              "        </script>\n",
              "        "
            ]
          },
          "metadata": {
            "tags": []
          }
        },
        {
          "output_type": "display_data",
          "data": {
            "text/html": [
              "        <script type=\"text/javascript\">\n",
              "        window.PlotlyConfig = {MathJaxConfig: 'local'};\n",
              "        if (window.MathJax) {MathJax.Hub.Config({SVG: {font: \"STIX-Web\"}});}\n",
              "        if (typeof require !== 'undefined') {\n",
              "        require.undef(\"plotly\");\n",
              "        requirejs.config({\n",
              "            paths: {\n",
              "                'plotly': ['https://cdn.plot.ly/plotly-latest.min']\n",
              "            }\n",
              "        });\n",
              "        require(['plotly'], function(Plotly) {\n",
              "            window._Plotly = Plotly;\n",
              "        });\n",
              "        }\n",
              "        </script>\n",
              "        "
            ]
          },
          "metadata": {
            "tags": []
          }
        }
      ]
    },
    {
      "cell_type": "code",
      "metadata": {
        "id": "O9fxoLd6_j5Z"
      },
      "source": [
        "df = pd.read_csv('coronavirus-disease-covid-19-statistics-and-research.csv', parse_dates=True)"
      ],
      "execution_count": 4,
      "outputs": []
    },
    {
      "cell_type": "code",
      "metadata": {
        "colab": {
          "base_uri": "https://localhost:8080/",
          "height": 165
        },
        "id": "IlUKiJxf_j5a",
        "outputId": "3aa547dd-a6c3-47e9-d991-29cddce86427"
      },
      "source": [
        "df.head(2)"
      ],
      "execution_count": 5,
      "outputs": [
        {
          "output_type": "execute_result",
          "data": {
            "text/html": [
              "<div>\n",
              "<style scoped>\n",
              "    .dataframe tbody tr th:only-of-type {\n",
              "        vertical-align: middle;\n",
              "    }\n",
              "\n",
              "    .dataframe tbody tr th {\n",
              "        vertical-align: top;\n",
              "    }\n",
              "\n",
              "    .dataframe thead th {\n",
              "        text-align: right;\n",
              "    }\n",
              "</style>\n",
              "<table border=\"1\" class=\"dataframe\">\n",
              "  <thead>\n",
              "    <tr style=\"text-align: right;\">\n",
              "      <th></th>\n",
              "      <th>iso_code</th>\n",
              "      <th>location</th>\n",
              "      <th>date</th>\n",
              "      <th>total_cases</th>\n",
              "      <th>new_cases</th>\n",
              "      <th>total_deaths</th>\n",
              "      <th>new_deaths</th>\n",
              "      <th>total_cases_per_million</th>\n",
              "      <th>new_cases_per_million</th>\n",
              "      <th>total_deaths_per_million</th>\n",
              "      <th>new_deaths_per_million</th>\n",
              "      <th>total_tests</th>\n",
              "      <th>new_tests</th>\n",
              "      <th>total_tests_per_thousand</th>\n",
              "      <th>new_tests_per_thousand</th>\n",
              "      <th>tests_units</th>\n",
              "    </tr>\n",
              "  </thead>\n",
              "  <tbody>\n",
              "    <tr>\n",
              "      <th>0</th>\n",
              "      <td>ABW</td>\n",
              "      <td>Aruba</td>\n",
              "      <td>2020-03-13</td>\n",
              "      <td>2</td>\n",
              "      <td>2</td>\n",
              "      <td>0</td>\n",
              "      <td>0</td>\n",
              "      <td>18.733</td>\n",
              "      <td>18.733</td>\n",
              "      <td>0.0</td>\n",
              "      <td>0.0</td>\n",
              "      <td>NaN</td>\n",
              "      <td>NaN</td>\n",
              "      <td>NaN</td>\n",
              "      <td>NaN</td>\n",
              "      <td>NaN</td>\n",
              "    </tr>\n",
              "    <tr>\n",
              "      <th>1</th>\n",
              "      <td>ABW</td>\n",
              "      <td>Aruba</td>\n",
              "      <td>2020-03-20</td>\n",
              "      <td>4</td>\n",
              "      <td>2</td>\n",
              "      <td>0</td>\n",
              "      <td>0</td>\n",
              "      <td>37.465</td>\n",
              "      <td>18.733</td>\n",
              "      <td>0.0</td>\n",
              "      <td>0.0</td>\n",
              "      <td>NaN</td>\n",
              "      <td>NaN</td>\n",
              "      <td>NaN</td>\n",
              "      <td>NaN</td>\n",
              "      <td>NaN</td>\n",
              "    </tr>\n",
              "  </tbody>\n",
              "</table>\n",
              "</div>"
            ],
            "text/plain": [
              "  iso_code location  ... new_tests_per_thousand  tests_units\n",
              "0      ABW    Aruba  ...                    NaN          NaN\n",
              "1      ABW    Aruba  ...                    NaN          NaN\n",
              "\n",
              "[2 rows x 16 columns]"
            ]
          },
          "metadata": {
            "tags": []
          },
          "execution_count": 5
        }
      ]
    },
    {
      "cell_type": "code",
      "metadata": {
        "colab": {
          "base_uri": "https://localhost:8080/"
        },
        "id": "LcNxebHl_j5a",
        "outputId": "b8d691b8-247c-473b-f907-28f2bfe60ae0"
      },
      "source": [
        "df.isna().sum()"
      ],
      "execution_count": 6,
      "outputs": [
        {
          "output_type": "execute_result",
          "data": {
            "text/plain": [
              "iso_code                      185\n",
              "location                        0\n",
              "date                            0\n",
              "total_cases                     0\n",
              "new_cases                       0\n",
              "total_deaths                    0\n",
              "new_deaths                      0\n",
              "total_cases_per_million       286\n",
              "new_cases_per_million         286\n",
              "total_deaths_per_million      286\n",
              "new_deaths_per_million        286\n",
              "total_tests                 10642\n",
              "new_tests                   11019\n",
              "total_tests_per_thousand    10642\n",
              "new_tests_per_thousand      11014\n",
              "tests_units                 10642\n",
              "dtype: int64"
            ]
          },
          "metadata": {
            "tags": []
          },
          "execution_count": 6
        }
      ]
    },
    {
      "cell_type": "code",
      "metadata": {
        "id": "DZBSPHvV_j5b"
      },
      "source": [
        "df.fillna(0, inplace = True)"
      ],
      "execution_count": 7,
      "outputs": []
    },
    {
      "cell_type": "code",
      "metadata": {
        "colab": {
          "base_uri": "https://localhost:8080/",
          "height": 309
        },
        "id": "ri8hOz36_j5b",
        "outputId": "e48360bc-5055-4b61-d78f-8e748e46b638"
      },
      "source": [
        "df.head()"
      ],
      "execution_count": 8,
      "outputs": [
        {
          "output_type": "execute_result",
          "data": {
            "text/html": [
              "<div>\n",
              "<style scoped>\n",
              "    .dataframe tbody tr th:only-of-type {\n",
              "        vertical-align: middle;\n",
              "    }\n",
              "\n",
              "    .dataframe tbody tr th {\n",
              "        vertical-align: top;\n",
              "    }\n",
              "\n",
              "    .dataframe thead th {\n",
              "        text-align: right;\n",
              "    }\n",
              "</style>\n",
              "<table border=\"1\" class=\"dataframe\">\n",
              "  <thead>\n",
              "    <tr style=\"text-align: right;\">\n",
              "      <th></th>\n",
              "      <th>iso_code</th>\n",
              "      <th>location</th>\n",
              "      <th>date</th>\n",
              "      <th>total_cases</th>\n",
              "      <th>new_cases</th>\n",
              "      <th>total_deaths</th>\n",
              "      <th>new_deaths</th>\n",
              "      <th>total_cases_per_million</th>\n",
              "      <th>new_cases_per_million</th>\n",
              "      <th>total_deaths_per_million</th>\n",
              "      <th>new_deaths_per_million</th>\n",
              "      <th>total_tests</th>\n",
              "      <th>new_tests</th>\n",
              "      <th>total_tests_per_thousand</th>\n",
              "      <th>new_tests_per_thousand</th>\n",
              "      <th>tests_units</th>\n",
              "    </tr>\n",
              "  </thead>\n",
              "  <tbody>\n",
              "    <tr>\n",
              "      <th>0</th>\n",
              "      <td>ABW</td>\n",
              "      <td>Aruba</td>\n",
              "      <td>2020-03-13</td>\n",
              "      <td>2</td>\n",
              "      <td>2</td>\n",
              "      <td>0</td>\n",
              "      <td>0</td>\n",
              "      <td>18.733</td>\n",
              "      <td>18.733</td>\n",
              "      <td>0.0</td>\n",
              "      <td>0.0</td>\n",
              "      <td>0.0</td>\n",
              "      <td>0.0</td>\n",
              "      <td>0.0</td>\n",
              "      <td>0.0</td>\n",
              "      <td>0</td>\n",
              "    </tr>\n",
              "    <tr>\n",
              "      <th>1</th>\n",
              "      <td>ABW</td>\n",
              "      <td>Aruba</td>\n",
              "      <td>2020-03-20</td>\n",
              "      <td>4</td>\n",
              "      <td>2</td>\n",
              "      <td>0</td>\n",
              "      <td>0</td>\n",
              "      <td>37.465</td>\n",
              "      <td>18.733</td>\n",
              "      <td>0.0</td>\n",
              "      <td>0.0</td>\n",
              "      <td>0.0</td>\n",
              "      <td>0.0</td>\n",
              "      <td>0.0</td>\n",
              "      <td>0.0</td>\n",
              "      <td>0</td>\n",
              "    </tr>\n",
              "    <tr>\n",
              "      <th>2</th>\n",
              "      <td>ABW</td>\n",
              "      <td>Aruba</td>\n",
              "      <td>2020-03-24</td>\n",
              "      <td>12</td>\n",
              "      <td>8</td>\n",
              "      <td>0</td>\n",
              "      <td>0</td>\n",
              "      <td>112.395</td>\n",
              "      <td>74.930</td>\n",
              "      <td>0.0</td>\n",
              "      <td>0.0</td>\n",
              "      <td>0.0</td>\n",
              "      <td>0.0</td>\n",
              "      <td>0.0</td>\n",
              "      <td>0.0</td>\n",
              "      <td>0</td>\n",
              "    </tr>\n",
              "    <tr>\n",
              "      <th>3</th>\n",
              "      <td>ABW</td>\n",
              "      <td>Aruba</td>\n",
              "      <td>2020-03-25</td>\n",
              "      <td>17</td>\n",
              "      <td>5</td>\n",
              "      <td>0</td>\n",
              "      <td>0</td>\n",
              "      <td>159.227</td>\n",
              "      <td>46.831</td>\n",
              "      <td>0.0</td>\n",
              "      <td>0.0</td>\n",
              "      <td>0.0</td>\n",
              "      <td>0.0</td>\n",
              "      <td>0.0</td>\n",
              "      <td>0.0</td>\n",
              "      <td>0</td>\n",
              "    </tr>\n",
              "    <tr>\n",
              "      <th>4</th>\n",
              "      <td>ABW</td>\n",
              "      <td>Aruba</td>\n",
              "      <td>2020-03-26</td>\n",
              "      <td>19</td>\n",
              "      <td>2</td>\n",
              "      <td>0</td>\n",
              "      <td>0</td>\n",
              "      <td>177.959</td>\n",
              "      <td>18.733</td>\n",
              "      <td>0.0</td>\n",
              "      <td>0.0</td>\n",
              "      <td>0.0</td>\n",
              "      <td>0.0</td>\n",
              "      <td>0.0</td>\n",
              "      <td>0.0</td>\n",
              "      <td>0</td>\n",
              "    </tr>\n",
              "  </tbody>\n",
              "</table>\n",
              "</div>"
            ],
            "text/plain": [
              "  iso_code location  ... new_tests_per_thousand  tests_units\n",
              "0      ABW    Aruba  ...                    0.0            0\n",
              "1      ABW    Aruba  ...                    0.0            0\n",
              "2      ABW    Aruba  ...                    0.0            0\n",
              "3      ABW    Aruba  ...                    0.0            0\n",
              "4      ABW    Aruba  ...                    0.0            0\n",
              "\n",
              "[5 rows x 16 columns]"
            ]
          },
          "metadata": {
            "tags": []
          },
          "execution_count": 8
        }
      ]
    },
    {
      "cell_type": "code",
      "metadata": {
        "id": "6Sd9fXxU_j5b"
      },
      "source": [
        "#plt.scatter(df['location'], df['total_cases'])"
      ],
      "execution_count": 9,
      "outputs": []
    },
    {
      "cell_type": "code",
      "metadata": {
        "id": "qF71KtxR_j5c"
      },
      "source": [
        "loc_cases = df.groupby('location')['total_cases'].sum().sort_values(ascending = False).to_frame()"
      ],
      "execution_count": 10,
      "outputs": []
    },
    {
      "cell_type": "code",
      "metadata": {
        "colab": {
          "base_uri": "https://localhost:8080/",
          "height": 1000
        },
        "id": "uDhNL3O__j5c",
        "outputId": "47350c4c-4297-443c-9250-3628fd89cf9a"
      },
      "source": [
        "loc_cases.style.background_gradient(cmap = 'Blues')"
      ],
      "execution_count": 11,
      "outputs": [
        {
          "output_type": "execute_result",
          "data": {
            "text/html": [
              "<style  type=\"text/css\" >\n",
              "#T_9e88c452_7514_11eb_8427_0242ac1c0002row0_col0{\n",
              "            background-color:  #08306b;\n",
              "            color:  #f1f1f1;\n",
              "        }#T_9e88c452_7514_11eb_8427_0242ac1c0002row1_col0{\n",
              "            background-color:  #bdd7ec;\n",
              "            color:  #000000;\n",
              "        }#T_9e88c452_7514_11eb_8427_0242ac1c0002row2_col0{\n",
              "            background-color:  #e3eef9;\n",
              "            color:  #000000;\n",
              "        }#T_9e88c452_7514_11eb_8427_0242ac1c0002row3_col0{\n",
              "            background-color:  #e6f0f9;\n",
              "            color:  #000000;\n",
              "        }#T_9e88c452_7514_11eb_8427_0242ac1c0002row4_col0{\n",
              "            background-color:  #e7f1fa;\n",
              "            color:  #000000;\n",
              "        }#T_9e88c452_7514_11eb_8427_0242ac1c0002row5_col0{\n",
              "            background-color:  #ebf3fb;\n",
              "            color:  #000000;\n",
              "        }#T_9e88c452_7514_11eb_8427_0242ac1c0002row6_col0{\n",
              "            background-color:  #eef5fc;\n",
              "            color:  #000000;\n",
              "        }#T_9e88c452_7514_11eb_8427_0242ac1c0002row7_col0{\n",
              "            background-color:  #eff6fc;\n",
              "            color:  #000000;\n",
              "        }#T_9e88c452_7514_11eb_8427_0242ac1c0002row8_col0{\n",
              "            background-color:  #f0f6fd;\n",
              "            color:  #000000;\n",
              "        }#T_9e88c452_7514_11eb_8427_0242ac1c0002row9_col0{\n",
              "            background-color:  #f2f7fd;\n",
              "            color:  #000000;\n",
              "        }#T_9e88c452_7514_11eb_8427_0242ac1c0002row10_col0,#T_9e88c452_7514_11eb_8427_0242ac1c0002row11_col0,#T_9e88c452_7514_11eb_8427_0242ac1c0002row12_col0,#T_9e88c452_7514_11eb_8427_0242ac1c0002row13_col0,#T_9e88c452_7514_11eb_8427_0242ac1c0002row14_col0,#T_9e88c452_7514_11eb_8427_0242ac1c0002row15_col0{\n",
              "            background-color:  #f5f9fe;\n",
              "            color:  #000000;\n",
              "        }#T_9e88c452_7514_11eb_8427_0242ac1c0002row16_col0,#T_9e88c452_7514_11eb_8427_0242ac1c0002row17_col0{\n",
              "            background-color:  #f5fafe;\n",
              "            color:  #000000;\n",
              "        }#T_9e88c452_7514_11eb_8427_0242ac1c0002row18_col0,#T_9e88c452_7514_11eb_8427_0242ac1c0002row19_col0,#T_9e88c452_7514_11eb_8427_0242ac1c0002row20_col0,#T_9e88c452_7514_11eb_8427_0242ac1c0002row21_col0,#T_9e88c452_7514_11eb_8427_0242ac1c0002row22_col0,#T_9e88c452_7514_11eb_8427_0242ac1c0002row23_col0,#T_9e88c452_7514_11eb_8427_0242ac1c0002row24_col0{\n",
              "            background-color:  #f6faff;\n",
              "            color:  #000000;\n",
              "        }#T_9e88c452_7514_11eb_8427_0242ac1c0002row25_col0,#T_9e88c452_7514_11eb_8427_0242ac1c0002row26_col0,#T_9e88c452_7514_11eb_8427_0242ac1c0002row27_col0,#T_9e88c452_7514_11eb_8427_0242ac1c0002row28_col0,#T_9e88c452_7514_11eb_8427_0242ac1c0002row29_col0,#T_9e88c452_7514_11eb_8427_0242ac1c0002row30_col0,#T_9e88c452_7514_11eb_8427_0242ac1c0002row31_col0,#T_9e88c452_7514_11eb_8427_0242ac1c0002row32_col0,#T_9e88c452_7514_11eb_8427_0242ac1c0002row33_col0,#T_9e88c452_7514_11eb_8427_0242ac1c0002row34_col0,#T_9e88c452_7514_11eb_8427_0242ac1c0002row35_col0,#T_9e88c452_7514_11eb_8427_0242ac1c0002row36_col0,#T_9e88c452_7514_11eb_8427_0242ac1c0002row37_col0,#T_9e88c452_7514_11eb_8427_0242ac1c0002row38_col0,#T_9e88c452_7514_11eb_8427_0242ac1c0002row39_col0,#T_9e88c452_7514_11eb_8427_0242ac1c0002row40_col0,#T_9e88c452_7514_11eb_8427_0242ac1c0002row41_col0,#T_9e88c452_7514_11eb_8427_0242ac1c0002row42_col0,#T_9e88c452_7514_11eb_8427_0242ac1c0002row43_col0,#T_9e88c452_7514_11eb_8427_0242ac1c0002row44_col0,#T_9e88c452_7514_11eb_8427_0242ac1c0002row45_col0,#T_9e88c452_7514_11eb_8427_0242ac1c0002row46_col0,#T_9e88c452_7514_11eb_8427_0242ac1c0002row47_col0,#T_9e88c452_7514_11eb_8427_0242ac1c0002row48_col0,#T_9e88c452_7514_11eb_8427_0242ac1c0002row49_col0,#T_9e88c452_7514_11eb_8427_0242ac1c0002row50_col0,#T_9e88c452_7514_11eb_8427_0242ac1c0002row51_col0,#T_9e88c452_7514_11eb_8427_0242ac1c0002row52_col0,#T_9e88c452_7514_11eb_8427_0242ac1c0002row53_col0,#T_9e88c452_7514_11eb_8427_0242ac1c0002row54_col0,#T_9e88c452_7514_11eb_8427_0242ac1c0002row55_col0,#T_9e88c452_7514_11eb_8427_0242ac1c0002row56_col0,#T_9e88c452_7514_11eb_8427_0242ac1c0002row57_col0,#T_9e88c452_7514_11eb_8427_0242ac1c0002row58_col0,#T_9e88c452_7514_11eb_8427_0242ac1c0002row59_col0,#T_9e88c452_7514_11eb_8427_0242ac1c0002row60_col0,#T_9e88c452_7514_11eb_8427_0242ac1c0002row61_col0,#T_9e88c452_7514_11eb_8427_0242ac1c0002row62_col0,#T_9e88c452_7514_11eb_8427_0242ac1c0002row63_col0,#T_9e88c452_7514_11eb_8427_0242ac1c0002row64_col0,#T_9e88c452_7514_11eb_8427_0242ac1c0002row65_col0,#T_9e88c452_7514_11eb_8427_0242ac1c0002row66_col0,#T_9e88c452_7514_11eb_8427_0242ac1c0002row67_col0,#T_9e88c452_7514_11eb_8427_0242ac1c0002row68_col0,#T_9e88c452_7514_11eb_8427_0242ac1c0002row69_col0,#T_9e88c452_7514_11eb_8427_0242ac1c0002row70_col0,#T_9e88c452_7514_11eb_8427_0242ac1c0002row71_col0,#T_9e88c452_7514_11eb_8427_0242ac1c0002row72_col0,#T_9e88c452_7514_11eb_8427_0242ac1c0002row73_col0,#T_9e88c452_7514_11eb_8427_0242ac1c0002row74_col0,#T_9e88c452_7514_11eb_8427_0242ac1c0002row75_col0,#T_9e88c452_7514_11eb_8427_0242ac1c0002row76_col0,#T_9e88c452_7514_11eb_8427_0242ac1c0002row77_col0,#T_9e88c452_7514_11eb_8427_0242ac1c0002row78_col0,#T_9e88c452_7514_11eb_8427_0242ac1c0002row79_col0,#T_9e88c452_7514_11eb_8427_0242ac1c0002row80_col0,#T_9e88c452_7514_11eb_8427_0242ac1c0002row81_col0,#T_9e88c452_7514_11eb_8427_0242ac1c0002row82_col0,#T_9e88c452_7514_11eb_8427_0242ac1c0002row83_col0,#T_9e88c452_7514_11eb_8427_0242ac1c0002row84_col0,#T_9e88c452_7514_11eb_8427_0242ac1c0002row85_col0,#T_9e88c452_7514_11eb_8427_0242ac1c0002row86_col0,#T_9e88c452_7514_11eb_8427_0242ac1c0002row87_col0,#T_9e88c452_7514_11eb_8427_0242ac1c0002row88_col0,#T_9e88c452_7514_11eb_8427_0242ac1c0002row89_col0,#T_9e88c452_7514_11eb_8427_0242ac1c0002row90_col0,#T_9e88c452_7514_11eb_8427_0242ac1c0002row91_col0,#T_9e88c452_7514_11eb_8427_0242ac1c0002row92_col0,#T_9e88c452_7514_11eb_8427_0242ac1c0002row93_col0,#T_9e88c452_7514_11eb_8427_0242ac1c0002row94_col0,#T_9e88c452_7514_11eb_8427_0242ac1c0002row95_col0,#T_9e88c452_7514_11eb_8427_0242ac1c0002row96_col0,#T_9e88c452_7514_11eb_8427_0242ac1c0002row97_col0,#T_9e88c452_7514_11eb_8427_0242ac1c0002row98_col0,#T_9e88c452_7514_11eb_8427_0242ac1c0002row99_col0,#T_9e88c452_7514_11eb_8427_0242ac1c0002row100_col0,#T_9e88c452_7514_11eb_8427_0242ac1c0002row101_col0,#T_9e88c452_7514_11eb_8427_0242ac1c0002row102_col0,#T_9e88c452_7514_11eb_8427_0242ac1c0002row103_col0,#T_9e88c452_7514_11eb_8427_0242ac1c0002row104_col0,#T_9e88c452_7514_11eb_8427_0242ac1c0002row105_col0,#T_9e88c452_7514_11eb_8427_0242ac1c0002row106_col0,#T_9e88c452_7514_11eb_8427_0242ac1c0002row107_col0,#T_9e88c452_7514_11eb_8427_0242ac1c0002row108_col0,#T_9e88c452_7514_11eb_8427_0242ac1c0002row109_col0,#T_9e88c452_7514_11eb_8427_0242ac1c0002row110_col0,#T_9e88c452_7514_11eb_8427_0242ac1c0002row111_col0,#T_9e88c452_7514_11eb_8427_0242ac1c0002row112_col0,#T_9e88c452_7514_11eb_8427_0242ac1c0002row113_col0,#T_9e88c452_7514_11eb_8427_0242ac1c0002row114_col0,#T_9e88c452_7514_11eb_8427_0242ac1c0002row115_col0,#T_9e88c452_7514_11eb_8427_0242ac1c0002row116_col0,#T_9e88c452_7514_11eb_8427_0242ac1c0002row117_col0,#T_9e88c452_7514_11eb_8427_0242ac1c0002row118_col0,#T_9e88c452_7514_11eb_8427_0242ac1c0002row119_col0,#T_9e88c452_7514_11eb_8427_0242ac1c0002row120_col0,#T_9e88c452_7514_11eb_8427_0242ac1c0002row121_col0,#T_9e88c452_7514_11eb_8427_0242ac1c0002row122_col0,#T_9e88c452_7514_11eb_8427_0242ac1c0002row123_col0,#T_9e88c452_7514_11eb_8427_0242ac1c0002row124_col0,#T_9e88c452_7514_11eb_8427_0242ac1c0002row125_col0,#T_9e88c452_7514_11eb_8427_0242ac1c0002row126_col0,#T_9e88c452_7514_11eb_8427_0242ac1c0002row127_col0,#T_9e88c452_7514_11eb_8427_0242ac1c0002row128_col0,#T_9e88c452_7514_11eb_8427_0242ac1c0002row129_col0,#T_9e88c452_7514_11eb_8427_0242ac1c0002row130_col0,#T_9e88c452_7514_11eb_8427_0242ac1c0002row131_col0,#T_9e88c452_7514_11eb_8427_0242ac1c0002row132_col0,#T_9e88c452_7514_11eb_8427_0242ac1c0002row133_col0,#T_9e88c452_7514_11eb_8427_0242ac1c0002row134_col0,#T_9e88c452_7514_11eb_8427_0242ac1c0002row135_col0,#T_9e88c452_7514_11eb_8427_0242ac1c0002row136_col0,#T_9e88c452_7514_11eb_8427_0242ac1c0002row137_col0,#T_9e88c452_7514_11eb_8427_0242ac1c0002row138_col0,#T_9e88c452_7514_11eb_8427_0242ac1c0002row139_col0,#T_9e88c452_7514_11eb_8427_0242ac1c0002row140_col0,#T_9e88c452_7514_11eb_8427_0242ac1c0002row141_col0,#T_9e88c452_7514_11eb_8427_0242ac1c0002row142_col0,#T_9e88c452_7514_11eb_8427_0242ac1c0002row143_col0,#T_9e88c452_7514_11eb_8427_0242ac1c0002row144_col0,#T_9e88c452_7514_11eb_8427_0242ac1c0002row145_col0,#T_9e88c452_7514_11eb_8427_0242ac1c0002row146_col0,#T_9e88c452_7514_11eb_8427_0242ac1c0002row147_col0,#T_9e88c452_7514_11eb_8427_0242ac1c0002row148_col0,#T_9e88c452_7514_11eb_8427_0242ac1c0002row149_col0,#T_9e88c452_7514_11eb_8427_0242ac1c0002row150_col0,#T_9e88c452_7514_11eb_8427_0242ac1c0002row151_col0,#T_9e88c452_7514_11eb_8427_0242ac1c0002row152_col0,#T_9e88c452_7514_11eb_8427_0242ac1c0002row153_col0,#T_9e88c452_7514_11eb_8427_0242ac1c0002row154_col0,#T_9e88c452_7514_11eb_8427_0242ac1c0002row155_col0,#T_9e88c452_7514_11eb_8427_0242ac1c0002row156_col0,#T_9e88c452_7514_11eb_8427_0242ac1c0002row157_col0,#T_9e88c452_7514_11eb_8427_0242ac1c0002row158_col0,#T_9e88c452_7514_11eb_8427_0242ac1c0002row159_col0,#T_9e88c452_7514_11eb_8427_0242ac1c0002row160_col0,#T_9e88c452_7514_11eb_8427_0242ac1c0002row161_col0,#T_9e88c452_7514_11eb_8427_0242ac1c0002row162_col0,#T_9e88c452_7514_11eb_8427_0242ac1c0002row163_col0,#T_9e88c452_7514_11eb_8427_0242ac1c0002row164_col0,#T_9e88c452_7514_11eb_8427_0242ac1c0002row165_col0,#T_9e88c452_7514_11eb_8427_0242ac1c0002row166_col0,#T_9e88c452_7514_11eb_8427_0242ac1c0002row167_col0,#T_9e88c452_7514_11eb_8427_0242ac1c0002row168_col0,#T_9e88c452_7514_11eb_8427_0242ac1c0002row169_col0,#T_9e88c452_7514_11eb_8427_0242ac1c0002row170_col0,#T_9e88c452_7514_11eb_8427_0242ac1c0002row171_col0,#T_9e88c452_7514_11eb_8427_0242ac1c0002row172_col0,#T_9e88c452_7514_11eb_8427_0242ac1c0002row173_col0,#T_9e88c452_7514_11eb_8427_0242ac1c0002row174_col0,#T_9e88c452_7514_11eb_8427_0242ac1c0002row175_col0,#T_9e88c452_7514_11eb_8427_0242ac1c0002row176_col0,#T_9e88c452_7514_11eb_8427_0242ac1c0002row177_col0,#T_9e88c452_7514_11eb_8427_0242ac1c0002row178_col0,#T_9e88c452_7514_11eb_8427_0242ac1c0002row179_col0,#T_9e88c452_7514_11eb_8427_0242ac1c0002row180_col0,#T_9e88c452_7514_11eb_8427_0242ac1c0002row181_col0,#T_9e88c452_7514_11eb_8427_0242ac1c0002row182_col0,#T_9e88c452_7514_11eb_8427_0242ac1c0002row183_col0,#T_9e88c452_7514_11eb_8427_0242ac1c0002row184_col0,#T_9e88c452_7514_11eb_8427_0242ac1c0002row185_col0,#T_9e88c452_7514_11eb_8427_0242ac1c0002row186_col0,#T_9e88c452_7514_11eb_8427_0242ac1c0002row187_col0,#T_9e88c452_7514_11eb_8427_0242ac1c0002row188_col0,#T_9e88c452_7514_11eb_8427_0242ac1c0002row189_col0,#T_9e88c452_7514_11eb_8427_0242ac1c0002row190_col0,#T_9e88c452_7514_11eb_8427_0242ac1c0002row191_col0,#T_9e88c452_7514_11eb_8427_0242ac1c0002row192_col0,#T_9e88c452_7514_11eb_8427_0242ac1c0002row193_col0,#T_9e88c452_7514_11eb_8427_0242ac1c0002row194_col0,#T_9e88c452_7514_11eb_8427_0242ac1c0002row195_col0,#T_9e88c452_7514_11eb_8427_0242ac1c0002row196_col0,#T_9e88c452_7514_11eb_8427_0242ac1c0002row197_col0,#T_9e88c452_7514_11eb_8427_0242ac1c0002row198_col0,#T_9e88c452_7514_11eb_8427_0242ac1c0002row199_col0,#T_9e88c452_7514_11eb_8427_0242ac1c0002row200_col0,#T_9e88c452_7514_11eb_8427_0242ac1c0002row201_col0,#T_9e88c452_7514_11eb_8427_0242ac1c0002row202_col0,#T_9e88c452_7514_11eb_8427_0242ac1c0002row203_col0,#T_9e88c452_7514_11eb_8427_0242ac1c0002row204_col0,#T_9e88c452_7514_11eb_8427_0242ac1c0002row205_col0,#T_9e88c452_7514_11eb_8427_0242ac1c0002row206_col0,#T_9e88c452_7514_11eb_8427_0242ac1c0002row207_col0,#T_9e88c452_7514_11eb_8427_0242ac1c0002row208_col0{\n",
              "            background-color:  #f7fbff;\n",
              "            color:  #000000;\n",
              "        }</style><table id=\"T_9e88c452_7514_11eb_8427_0242ac1c0002\" ><thead>    <tr>        <th class=\"blank level0\" ></th>        <th class=\"col_heading level0 col0\" >total_cases</th>    </tr>    <tr>        <th class=\"index_name level0\" >location</th>        <th class=\"blank\" ></th>    </tr></thead><tbody>\n",
              "                <tr>\n",
              "                        <th id=\"T_9e88c452_7514_11eb_8427_0242ac1c0002level0_row0\" class=\"row_heading level0 row0\" >World</th>\n",
              "                        <td id=\"T_9e88c452_7514_11eb_8427_0242ac1c0002row0_col0\" class=\"data row0 col0\" >66513187</td>\n",
              "            </tr>\n",
              "            <tr>\n",
              "                        <th id=\"T_9e88c452_7514_11eb_8427_0242ac1c0002level0_row1\" class=\"row_heading level0 row1\" >United States</th>\n",
              "                        <td id=\"T_9e88c452_7514_11eb_8427_0242ac1c0002row1_col0\" class=\"data row1 col0\" >18581764</td>\n",
              "            </tr>\n",
              "            <tr>\n",
              "                        <th id=\"T_9e88c452_7514_11eb_8427_0242ac1c0002level0_row2\" class=\"row_heading level0 row2\" >China</th>\n",
              "                        <td id=\"T_9e88c452_7514_11eb_8427_0242ac1c0002row2_col0\" class=\"data row2 col0\" >6565374</td>\n",
              "            </tr>\n",
              "            <tr>\n",
              "                        <th id=\"T_9e88c452_7514_11eb_8427_0242ac1c0002level0_row3\" class=\"row_heading level0 row3\" >Italy</th>\n",
              "                        <td id=\"T_9e88c452_7514_11eb_8427_0242ac1c0002row3_col0\" class=\"data row3 col0\" >5732331</td>\n",
              "            </tr>\n",
              "            <tr>\n",
              "                        <th id=\"T_9e88c452_7514_11eb_8427_0242ac1c0002level0_row4\" class=\"row_heading level0 row4\" >Spain</th>\n",
              "                        <td id=\"T_9e88c452_7514_11eb_8427_0242ac1c0002row4_col0\" class=\"data row4 col0\" >5281954</td>\n",
              "            </tr>\n",
              "            <tr>\n",
              "                        <th id=\"T_9e88c452_7514_11eb_8427_0242ac1c0002level0_row5\" class=\"row_heading level0 row5\" >Germany</th>\n",
              "                        <td id=\"T_9e88c452_7514_11eb_8427_0242ac1c0002row5_col0\" class=\"data row5 col0\" >4060205</td>\n",
              "            </tr>\n",
              "            <tr>\n",
              "                        <th id=\"T_9e88c452_7514_11eb_8427_0242ac1c0002level0_row6\" class=\"row_heading level0 row6\" >France</th>\n",
              "                        <td id=\"T_9e88c452_7514_11eb_8427_0242ac1c0002row6_col0\" class=\"data row6 col0\" >3174150</td>\n",
              "            </tr>\n",
              "            <tr>\n",
              "                        <th id=\"T_9e88c452_7514_11eb_8427_0242ac1c0002level0_row7\" class=\"row_heading level0 row7\" >United Kingdom</th>\n",
              "                        <td id=\"T_9e88c452_7514_11eb_8427_0242ac1c0002row7_col0\" class=\"data row7 col0\" >2837287</td>\n",
              "            </tr>\n",
              "            <tr>\n",
              "                        <th id=\"T_9e88c452_7514_11eb_8427_0242ac1c0002level0_row8\" class=\"row_heading level0 row8\" >Iran</th>\n",
              "                        <td id=\"T_9e88c452_7514_11eb_8427_0242ac1c0002row8_col0\" class=\"data row8 col0\" >2592390</td>\n",
              "            </tr>\n",
              "            <tr>\n",
              "                        <th id=\"T_9e88c452_7514_11eb_8427_0242ac1c0002level0_row9\" class=\"row_heading level0 row9\" >Turkey</th>\n",
              "                        <td id=\"T_9e88c452_7514_11eb_8427_0242ac1c0002row9_col0\" class=\"data row9 col0\" >1920121</td>\n",
              "            </tr>\n",
              "            <tr>\n",
              "                        <th id=\"T_9e88c452_7514_11eb_8427_0242ac1c0002level0_row10\" class=\"row_heading level0 row10\" >Belgium</th>\n",
              "                        <td id=\"T_9e88c452_7514_11eb_8427_0242ac1c0002row10_col0\" class=\"data row10 col0\" >986383</td>\n",
              "            </tr>\n",
              "            <tr>\n",
              "                        <th id=\"T_9e88c452_7514_11eb_8427_0242ac1c0002level0_row11\" class=\"row_heading level0 row11\" >Russia</th>\n",
              "                        <td id=\"T_9e88c452_7514_11eb_8427_0242ac1c0002row11_col0\" class=\"data row11 col0\" >935877</td>\n",
              "            </tr>\n",
              "            <tr>\n",
              "                        <th id=\"T_9e88c452_7514_11eb_8427_0242ac1c0002level0_row12\" class=\"row_heading level0 row12\" >Brazil</th>\n",
              "                        <td id=\"T_9e88c452_7514_11eb_8427_0242ac1c0002row12_col0\" class=\"data row12 col0\" >911507</td>\n",
              "            </tr>\n",
              "            <tr>\n",
              "                        <th id=\"T_9e88c452_7514_11eb_8427_0242ac1c0002level0_row13\" class=\"row_heading level0 row13\" >Netherlands</th>\n",
              "                        <td id=\"T_9e88c452_7514_11eb_8427_0242ac1c0002row13_col0\" class=\"data row13 col0\" >866348</td>\n",
              "            </tr>\n",
              "            <tr>\n",
              "                        <th id=\"T_9e88c452_7514_11eb_8427_0242ac1c0002level0_row14\" class=\"row_heading level0 row14\" >Canada</th>\n",
              "                        <td id=\"T_9e88c452_7514_11eb_8427_0242ac1c0002row14_col0\" class=\"data row14 col0\" >861624</td>\n",
              "            </tr>\n",
              "            <tr>\n",
              "                        <th id=\"T_9e88c452_7514_11eb_8427_0242ac1c0002level0_row15\" class=\"row_heading level0 row15\" >Switzerland</th>\n",
              "                        <td id=\"T_9e88c452_7514_11eb_8427_0242ac1c0002row15_col0\" class=\"data row15 col0\" >849232</td>\n",
              "            </tr>\n",
              "            <tr>\n",
              "                        <th id=\"T_9e88c452_7514_11eb_8427_0242ac1c0002level0_row16\" class=\"row_heading level0 row16\" >South Korea</th>\n",
              "                        <td id=\"T_9e88c452_7514_11eb_8427_0242ac1c0002row16_col0\" class=\"data row16 col0\" >558174</td>\n",
              "            </tr>\n",
              "            <tr>\n",
              "                        <th id=\"T_9e88c452_7514_11eb_8427_0242ac1c0002level0_row17\" class=\"row_heading level0 row17\" >Portugal</th>\n",
              "                        <td id=\"T_9e88c452_7514_11eb_8427_0242ac1c0002row17_col0\" class=\"data row17 col0\" >530637</td>\n",
              "            </tr>\n",
              "            <tr>\n",
              "                        <th id=\"T_9e88c452_7514_11eb_8427_0242ac1c0002level0_row18\" class=\"row_heading level0 row18\" >Austria</th>\n",
              "                        <td id=\"T_9e88c452_7514_11eb_8427_0242ac1c0002row18_col0\" class=\"data row18 col0\" >472274</td>\n",
              "            </tr>\n",
              "            <tr>\n",
              "                        <th id=\"T_9e88c452_7514_11eb_8427_0242ac1c0002level0_row19\" class=\"row_heading level0 row19\" >India</th>\n",
              "                        <td id=\"T_9e88c452_7514_11eb_8427_0242ac1c0002row19_col0\" class=\"data row19 col0\" >389301</td>\n",
              "            </tr>\n",
              "            <tr>\n",
              "                        <th id=\"T_9e88c452_7514_11eb_8427_0242ac1c0002level0_row20\" class=\"row_heading level0 row20\" >Sweden</th>\n",
              "                        <td id=\"T_9e88c452_7514_11eb_8427_0242ac1c0002row20_col0\" class=\"data row20 col0\" >380258</td>\n",
              "            </tr>\n",
              "            <tr>\n",
              "                        <th id=\"T_9e88c452_7514_11eb_8427_0242ac1c0002level0_row21\" class=\"row_heading level0 row21\" >Israel</th>\n",
              "                        <td id=\"T_9e88c452_7514_11eb_8427_0242ac1c0002row21_col0\" class=\"data row21 col0\" >362210</td>\n",
              "            </tr>\n",
              "            <tr>\n",
              "                        <th id=\"T_9e88c452_7514_11eb_8427_0242ac1c0002level0_row22\" class=\"row_heading level0 row22\" >Ireland</th>\n",
              "                        <td id=\"T_9e88c452_7514_11eb_8427_0242ac1c0002row22_col0\" class=\"data row22 col0\" >349644</td>\n",
              "            </tr>\n",
              "            <tr>\n",
              "                        <th id=\"T_9e88c452_7514_11eb_8427_0242ac1c0002level0_row23\" class=\"row_heading level0 row23\" >Peru</th>\n",
              "                        <td id=\"T_9e88c452_7514_11eb_8427_0242ac1c0002row23_col0\" class=\"data row23 col0\" >345639</td>\n",
              "            </tr>\n",
              "            <tr>\n",
              "                        <th id=\"T_9e88c452_7514_11eb_8427_0242ac1c0002level0_row24\" class=\"row_heading level0 row24\" >Ecuador</th>\n",
              "                        <td id=\"T_9e88c452_7514_11eb_8427_0242ac1c0002row24_col0\" class=\"data row24 col0\" >265489</td>\n",
              "            </tr>\n",
              "            <tr>\n",
              "                        <th id=\"T_9e88c452_7514_11eb_8427_0242ac1c0002level0_row25\" class=\"row_heading level0 row25\" >Japan</th>\n",
              "                        <td id=\"T_9e88c452_7514_11eb_8427_0242ac1c0002row25_col0\" class=\"data row25 col0\" >258994</td>\n",
              "            </tr>\n",
              "            <tr>\n",
              "                        <th id=\"T_9e88c452_7514_11eb_8427_0242ac1c0002level0_row26\" class=\"row_heading level0 row26\" >Chile</th>\n",
              "                        <td id=\"T_9e88c452_7514_11eb_8427_0242ac1c0002row26_col0\" class=\"data row26 col0\" >251395</td>\n",
              "            </tr>\n",
              "            <tr>\n",
              "                        <th id=\"T_9e88c452_7514_11eb_8427_0242ac1c0002level0_row27\" class=\"row_heading level0 row27\" >Norway</th>\n",
              "                        <td id=\"T_9e88c452_7514_11eb_8427_0242ac1c0002row27_col0\" class=\"data row27 col0\" >229802</td>\n",
              "            </tr>\n",
              "            <tr>\n",
              "                        <th id=\"T_9e88c452_7514_11eb_8427_0242ac1c0002level0_row28\" class=\"row_heading level0 row28\" >Saudi Arabia</th>\n",
              "                        <td id=\"T_9e88c452_7514_11eb_8427_0242ac1c0002row28_col0\" class=\"data row28 col0\" >229789</td>\n",
              "            </tr>\n",
              "            <tr>\n",
              "                        <th id=\"T_9e88c452_7514_11eb_8427_0242ac1c0002level0_row29\" class=\"row_heading level0 row29\" >Poland</th>\n",
              "                        <td id=\"T_9e88c452_7514_11eb_8427_0242ac1c0002row29_col0\" class=\"data row29 col0\" >225981</td>\n",
              "            </tr>\n",
              "            <tr>\n",
              "                        <th id=\"T_9e88c452_7514_11eb_8427_0242ac1c0002level0_row30\" class=\"row_heading level0 row30\" >Pakistan</th>\n",
              "                        <td id=\"T_9e88c452_7514_11eb_8427_0242ac1c0002row30_col0\" class=\"data row30 col0\" >215795</td>\n",
              "            </tr>\n",
              "            <tr>\n",
              "                        <th id=\"T_9e88c452_7514_11eb_8427_0242ac1c0002level0_row31\" class=\"row_heading level0 row31\" >Australia</th>\n",
              "                        <td id=\"T_9e88c452_7514_11eb_8427_0242ac1c0002row31_col0\" class=\"data row31 col0\" >214390</td>\n",
              "            </tr>\n",
              "            <tr>\n",
              "                        <th id=\"T_9e88c452_7514_11eb_8427_0242ac1c0002level0_row32\" class=\"row_heading level0 row32\" >Romania</th>\n",
              "                        <td id=\"T_9e88c452_7514_11eb_8427_0242ac1c0002row32_col0\" class=\"data row32 col0\" >213313</td>\n",
              "            </tr>\n",
              "            <tr>\n",
              "                        <th id=\"T_9e88c452_7514_11eb_8427_0242ac1c0002level0_row33\" class=\"row_heading level0 row33\" >Denmark</th>\n",
              "                        <td id=\"T_9e88c452_7514_11eb_8427_0242ac1c0002row33_col0\" class=\"data row33 col0\" >210686</td>\n",
              "            </tr>\n",
              "            <tr>\n",
              "                        <th id=\"T_9e88c452_7514_11eb_8427_0242ac1c0002level0_row34\" class=\"row_heading level0 row34\" >Mexico</th>\n",
              "                        <td id=\"T_9e88c452_7514_11eb_8427_0242ac1c0002row34_col0\" class=\"data row34 col0\" >200582</td>\n",
              "            </tr>\n",
              "            <tr>\n",
              "                        <th id=\"T_9e88c452_7514_11eb_8427_0242ac1c0002level0_row35\" class=\"row_heading level0 row35\" >Czech Republic</th>\n",
              "                        <td id=\"T_9e88c452_7514_11eb_8427_0242ac1c0002row35_col0\" class=\"data row35 col0\" >195798</td>\n",
              "            </tr>\n",
              "            <tr>\n",
              "                        <th id=\"T_9e88c452_7514_11eb_8427_0242ac1c0002level0_row36\" class=\"row_heading level0 row36\" >Singapore</th>\n",
              "                        <td id=\"T_9e88c452_7514_11eb_8427_0242ac1c0002row36_col0\" class=\"data row36 col0\" >169006</td>\n",
              "            </tr>\n",
              "            <tr>\n",
              "                        <th id=\"T_9e88c452_7514_11eb_8427_0242ac1c0002level0_row37\" class=\"row_heading level0 row37\" >Malaysia</th>\n",
              "                        <td id=\"T_9e88c452_7514_11eb_8427_0242ac1c0002row37_col0\" class=\"data row37 col0\" >161281</td>\n",
              "            </tr>\n",
              "            <tr>\n",
              "                        <th id=\"T_9e88c452_7514_11eb_8427_0242ac1c0002level0_row38\" class=\"row_heading level0 row38\" >Philippines</th>\n",
              "                        <td id=\"T_9e88c452_7514_11eb_8427_0242ac1c0002row38_col0\" class=\"data row38 col0\" >159029</td>\n",
              "            </tr>\n",
              "            <tr>\n",
              "                        <th id=\"T_9e88c452_7514_11eb_8427_0242ac1c0002level0_row39\" class=\"row_heading level0 row39\" >Indonesia</th>\n",
              "                        <td id=\"T_9e88c452_7514_11eb_8427_0242ac1c0002row39_col0\" class=\"data row39 col0\" >156781</td>\n",
              "            </tr>\n",
              "            <tr>\n",
              "                        <th id=\"T_9e88c452_7514_11eb_8427_0242ac1c0002level0_row40\" class=\"row_heading level0 row40\" >United Arab Emirates</th>\n",
              "                        <td id=\"T_9e88c452_7514_11eb_8427_0242ac1c0002row40_col0\" class=\"data row40 col0\" >155990</td>\n",
              "            </tr>\n",
              "            <tr>\n",
              "                        <th id=\"T_9e88c452_7514_11eb_8427_0242ac1c0002level0_row41\" class=\"row_heading level0 row41\" >Qatar</th>\n",
              "                        <td id=\"T_9e88c452_7514_11eb_8427_0242ac1c0002row41_col0\" class=\"data row41 col0\" >140759</td>\n",
              "            </tr>\n",
              "            <tr>\n",
              "                        <th id=\"T_9e88c452_7514_11eb_8427_0242ac1c0002level0_row42\" class=\"row_heading level0 row42\" >Serbia</th>\n",
              "                        <td id=\"T_9e88c452_7514_11eb_8427_0242ac1c0002row42_col0\" class=\"data row42 col0\" >137899</td>\n",
              "            </tr>\n",
              "            <tr>\n",
              "                        <th id=\"T_9e88c452_7514_11eb_8427_0242ac1c0002level0_row43\" class=\"row_heading level0 row43\" >Ukraine</th>\n",
              "                        <td id=\"T_9e88c452_7514_11eb_8427_0242ac1c0002row43_col0\" class=\"data row43 col0\" >124417</td>\n",
              "            </tr>\n",
              "            <tr>\n",
              "                        <th id=\"T_9e88c452_7514_11eb_8427_0242ac1c0002level0_row44\" class=\"row_heading level0 row44\" >Belarus</th>\n",
              "                        <td id=\"T_9e88c452_7514_11eb_8427_0242ac1c0002row44_col0\" class=\"data row44 col0\" >123035</td>\n",
              "            </tr>\n",
              "            <tr>\n",
              "                        <th id=\"T_9e88c452_7514_11eb_8427_0242ac1c0002level0_row45\" class=\"row_heading level0 row45\" >Panama</th>\n",
              "                        <td id=\"T_9e88c452_7514_11eb_8427_0242ac1c0002row45_col0\" class=\"data row45 col0\" >112079</td>\n",
              "            </tr>\n",
              "            <tr>\n",
              "                        <th id=\"T_9e88c452_7514_11eb_8427_0242ac1c0002level0_row46\" class=\"row_heading level0 row46\" >Luxembourg</th>\n",
              "                        <td id=\"T_9e88c452_7514_11eb_8427_0242ac1c0002row46_col0\" class=\"data row46 col0\" >108969</td>\n",
              "            </tr>\n",
              "            <tr>\n",
              "                        <th id=\"T_9e88c452_7514_11eb_8427_0242ac1c0002level0_row47\" class=\"row_heading level0 row47\" >Dominican Republic</th>\n",
              "                        <td id=\"T_9e88c452_7514_11eb_8427_0242ac1c0002row47_col0\" class=\"data row47 col0\" >108299</td>\n",
              "            </tr>\n",
              "            <tr>\n",
              "                        <th id=\"T_9e88c452_7514_11eb_8427_0242ac1c0002level0_row48\" class=\"row_heading level0 row48\" >Finland</th>\n",
              "                        <td id=\"T_9e88c452_7514_11eb_8427_0242ac1c0002row48_col0\" class=\"data row48 col0\" >103043</td>\n",
              "            </tr>\n",
              "            <tr>\n",
              "                        <th id=\"T_9e88c452_7514_11eb_8427_0242ac1c0002level0_row49\" class=\"row_heading level0 row49\" >Colombia</th>\n",
              "                        <td id=\"T_9e88c452_7514_11eb_8427_0242ac1c0002row49_col0\" class=\"data row49 col0\" >95251</td>\n",
              "            </tr>\n",
              "            <tr>\n",
              "                        <th id=\"T_9e88c452_7514_11eb_8427_0242ac1c0002level0_row50\" class=\"row_heading level0 row50\" >South Africa</th>\n",
              "                        <td id=\"T_9e88c452_7514_11eb_8427_0242ac1c0002row50_col0\" class=\"data row50 col0\" >87232</td>\n",
              "            </tr>\n",
              "            <tr>\n",
              "                        <th id=\"T_9e88c452_7514_11eb_8427_0242ac1c0002level0_row51\" class=\"row_heading level0 row51\" >Thailand</th>\n",
              "                        <td id=\"T_9e88c452_7514_11eb_8427_0242ac1c0002row51_col0\" class=\"data row51 col0\" >86920</td>\n",
              "            </tr>\n",
              "            <tr>\n",
              "                        <th id=\"T_9e88c452_7514_11eb_8427_0242ac1c0002level0_row52\" class=\"row_heading level0 row52\" >Egypt</th>\n",
              "                        <td id=\"T_9e88c452_7514_11eb_8427_0242ac1c0002row52_col0\" class=\"data row52 col0\" >77670</td>\n",
              "            </tr>\n",
              "            <tr>\n",
              "                        <th id=\"T_9e88c452_7514_11eb_8427_0242ac1c0002level0_row53\" class=\"row_heading level0 row53\" >Argentina</th>\n",
              "                        <td id=\"T_9e88c452_7514_11eb_8427_0242ac1c0002row53_col0\" class=\"data row53 col0\" >77108</td>\n",
              "            </tr>\n",
              "            <tr>\n",
              "                        <th id=\"T_9e88c452_7514_11eb_8427_0242ac1c0002level0_row54\" class=\"row_heading level0 row54\" >Greece</th>\n",
              "                        <td id=\"T_9e88c452_7514_11eb_8427_0242ac1c0002row54_col0\" class=\"data row54 col0\" >72525</td>\n",
              "            </tr>\n",
              "            <tr>\n",
              "                        <th id=\"T_9e88c452_7514_11eb_8427_0242ac1c0002level0_row55\" class=\"row_heading level0 row55\" >Morocco</th>\n",
              "                        <td id=\"T_9e88c452_7514_11eb_8427_0242ac1c0002row55_col0\" class=\"data row55 col0\" >66692</td>\n",
              "            </tr>\n",
              "            <tr>\n",
              "                        <th id=\"T_9e88c452_7514_11eb_8427_0242ac1c0002level0_row56\" class=\"row_heading level0 row56\" >Algeria</th>\n",
              "                        <td id=\"T_9e88c452_7514_11eb_8427_0242ac1c0002row56_col0\" class=\"data row56 col0\" >66423</td>\n",
              "            </tr>\n",
              "            <tr>\n",
              "                        <th id=\"T_9e88c452_7514_11eb_8427_0242ac1c0002level0_row57\" class=\"row_heading level0 row57\" >Iceland</th>\n",
              "                        <td id=\"T_9e88c452_7514_11eb_8427_0242ac1c0002row57_col0\" class=\"data row57 col0\" >57902</td>\n",
              "            </tr>\n",
              "            <tr>\n",
              "                        <th id=\"T_9e88c452_7514_11eb_8427_0242ac1c0002level0_row58\" class=\"row_heading level0 row58\" >Moldova</th>\n",
              "                        <td id=\"T_9e88c452_7514_11eb_8427_0242ac1c0002row58_col0\" class=\"data row58 col0\" >57375</td>\n",
              "            </tr>\n",
              "            <tr>\n",
              "                        <th id=\"T_9e88c452_7514_11eb_8427_0242ac1c0002level0_row59\" class=\"row_heading level0 row59\" >Bangladesh</th>\n",
              "                        <td id=\"T_9e88c452_7514_11eb_8427_0242ac1c0002row59_col0\" class=\"data row59 col0\" >56024</td>\n",
              "            </tr>\n",
              "            <tr>\n",
              "                        <th id=\"T_9e88c452_7514_11eb_8427_0242ac1c0002level0_row60\" class=\"row_heading level0 row60\" >Croatia</th>\n",
              "                        <td id=\"T_9e88c452_7514_11eb_8427_0242ac1c0002row60_col0\" class=\"data row60 col0\" >51842</td>\n",
              "            </tr>\n",
              "            <tr>\n",
              "                        <th id=\"T_9e88c452_7514_11eb_8427_0242ac1c0002level0_row61\" class=\"row_heading level0 row61\" >Bahrain</th>\n",
              "                        <td id=\"T_9e88c452_7514_11eb_8427_0242ac1c0002row61_col0\" class=\"data row61 col0\" >50520</td>\n",
              "            </tr>\n",
              "            <tr>\n",
              "                        <th id=\"T_9e88c452_7514_11eb_8427_0242ac1c0002level0_row62\" class=\"row_heading level0 row62\" >Hungary</th>\n",
              "                        <td id=\"T_9e88c452_7514_11eb_8427_0242ac1c0002row62_col0\" class=\"data row62 col0\" >49512</td>\n",
              "            </tr>\n",
              "            <tr>\n",
              "                        <th id=\"T_9e88c452_7514_11eb_8427_0242ac1c0002level0_row63\" class=\"row_heading level0 row63\" >Kuwait</th>\n",
              "                        <td id=\"T_9e88c452_7514_11eb_8427_0242ac1c0002row63_col0\" class=\"data row63 col0\" >47714</td>\n",
              "            </tr>\n",
              "            <tr>\n",
              "                        <th id=\"T_9e88c452_7514_11eb_8427_0242ac1c0002level0_row64\" class=\"row_heading level0 row64\" >Estonia</th>\n",
              "                        <td id=\"T_9e88c452_7514_11eb_8427_0242ac1c0002row64_col0\" class=\"data row64 col0\" >45030</td>\n",
              "            </tr>\n",
              "            <tr>\n",
              "                        <th id=\"T_9e88c452_7514_11eb_8427_0242ac1c0002level0_row65\" class=\"row_heading level0 row65\" >Iraq</th>\n",
              "                        <td id=\"T_9e88c452_7514_11eb_8427_0242ac1c0002row65_col0\" class=\"data row65 col0\" >44282</td>\n",
              "            </tr>\n",
              "            <tr>\n",
              "                        <th id=\"T_9e88c452_7514_11eb_8427_0242ac1c0002level0_row66\" class=\"row_heading level0 row66\" >Slovenia</th>\n",
              "                        <td id=\"T_9e88c452_7514_11eb_8427_0242ac1c0002row66_col0\" class=\"data row66 col0\" >42463</td>\n",
              "            </tr>\n",
              "            <tr>\n",
              "                        <th id=\"T_9e88c452_7514_11eb_8427_0242ac1c0002level0_row67\" class=\"row_heading level0 row67\" >Kazakhstan</th>\n",
              "                        <td id=\"T_9e88c452_7514_11eb_8427_0242ac1c0002row67_col0\" class=\"data row67 col0\" >42335</td>\n",
              "            </tr>\n",
              "            <tr>\n",
              "                        <th id=\"T_9e88c452_7514_11eb_8427_0242ac1c0002level0_row68\" class=\"row_heading level0 row68\" >Armenia</th>\n",
              "                        <td id=\"T_9e88c452_7514_11eb_8427_0242ac1c0002row68_col0\" class=\"data row68 col0\" >37618</td>\n",
              "            </tr>\n",
              "            <tr>\n",
              "                        <th id=\"T_9e88c452_7514_11eb_8427_0242ac1c0002level0_row69\" class=\"row_heading level0 row69\" >Lithuania</th>\n",
              "                        <td id=\"T_9e88c452_7514_11eb_8427_0242ac1c0002row69_col0\" class=\"data row69 col0\" >34946</td>\n",
              "            </tr>\n",
              "            <tr>\n",
              "                        <th id=\"T_9e88c452_7514_11eb_8427_0242ac1c0002level0_row70\" class=\"row_heading level0 row70\" >Azerbaijan</th>\n",
              "                        <td id=\"T_9e88c452_7514_11eb_8427_0242ac1c0002row70_col0\" class=\"data row70 col0\" >33666</td>\n",
              "            </tr>\n",
              "            <tr>\n",
              "                        <th id=\"T_9e88c452_7514_11eb_8427_0242ac1c0002level0_row71\" class=\"row_heading level0 row71\" >New Zealand</th>\n",
              "                        <td id=\"T_9e88c452_7514_11eb_8427_0242ac1c0002row71_col0\" class=\"data row71 col0\" >32850</td>\n",
              "            </tr>\n",
              "            <tr>\n",
              "                        <th id=\"T_9e88c452_7514_11eb_8427_0242ac1c0002level0_row72\" class=\"row_heading level0 row72\" >Bosnia and Herzegovina</th>\n",
              "                        <td id=\"T_9e88c452_7514_11eb_8427_0242ac1c0002row72_col0\" class=\"data row72 col0\" >32616</td>\n",
              "            </tr>\n",
              "            <tr>\n",
              "                        <th id=\"T_9e88c452_7514_11eb_8427_0242ac1c0002level0_row73\" class=\"row_heading level0 row73\" >Uzbekistan</th>\n",
              "                        <td id=\"T_9e88c452_7514_11eb_8427_0242ac1c0002row73_col0\" class=\"data row73 col0\" >32308</td>\n",
              "            </tr>\n",
              "            <tr>\n",
              "                        <th id=\"T_9e88c452_7514_11eb_8427_0242ac1c0002level0_row74\" class=\"row_heading level0 row74\" >Oman</th>\n",
              "                        <td id=\"T_9e88c452_7514_11eb_8427_0242ac1c0002row74_col0\" class=\"data row74 col0\" >29558</td>\n",
              "            </tr>\n",
              "            <tr>\n",
              "                        <th id=\"T_9e88c452_7514_11eb_8427_0242ac1c0002level0_row75\" class=\"row_heading level0 row75\" >Slovakia</th>\n",
              "                        <td id=\"T_9e88c452_7514_11eb_8427_0242ac1c0002row75_col0\" class=\"data row75 col0\" >29031</td>\n",
              "            </tr>\n",
              "            <tr>\n",
              "                        <th id=\"T_9e88c452_7514_11eb_8427_0242ac1c0002level0_row76\" class=\"row_heading level0 row76\" >Macedonia</th>\n",
              "                        <td id=\"T_9e88c452_7514_11eb_8427_0242ac1c0002row76_col0\" class=\"data row76 col0\" >28531</td>\n",
              "            </tr>\n",
              "            <tr>\n",
              "                        <th id=\"T_9e88c452_7514_11eb_8427_0242ac1c0002level0_row77\" class=\"row_heading level0 row77\" >Cameroon</th>\n",
              "                        <td id=\"T_9e88c452_7514_11eb_8427_0242ac1c0002row77_col0\" class=\"data row77 col0\" >27648</td>\n",
              "            </tr>\n",
              "            <tr>\n",
              "                        <th id=\"T_9e88c452_7514_11eb_8427_0242ac1c0002level0_row78\" class=\"row_heading level0 row78\" >Bulgaria</th>\n",
              "                        <td id=\"T_9e88c452_7514_11eb_8427_0242ac1c0002row78_col0\" class=\"data row78 col0\" >26447</td>\n",
              "            </tr>\n",
              "            <tr>\n",
              "                        <th id=\"T_9e88c452_7514_11eb_8427_0242ac1c0002level0_row79\" class=\"row_heading level0 row79\" >Puerto Rico</th>\n",
              "                        <td id=\"T_9e88c452_7514_11eb_8427_0242ac1c0002row79_col0\" class=\"data row79 col0\" >26403</td>\n",
              "            </tr>\n",
              "            <tr>\n",
              "                        <th id=\"T_9e88c452_7514_11eb_8427_0242ac1c0002level0_row80\" class=\"row_heading level0 row80\" >Afghanistan</th>\n",
              "                        <td id=\"T_9e88c452_7514_11eb_8427_0242ac1c0002row80_col0\" class=\"data row80 col0\" >23749</td>\n",
              "            </tr>\n",
              "            <tr>\n",
              "                        <th id=\"T_9e88c452_7514_11eb_8427_0242ac1c0002level0_row81\" class=\"row_heading level0 row81\" >Cuba</th>\n",
              "                        <td id=\"T_9e88c452_7514_11eb_8427_0242ac1c0002row81_col0\" class=\"data row81 col0\" >23502</td>\n",
              "            </tr>\n",
              "            <tr>\n",
              "                        <th id=\"T_9e88c452_7514_11eb_8427_0242ac1c0002level0_row82\" class=\"row_heading level0 row82\" >Tunisia</th>\n",
              "                        <td id=\"T_9e88c452_7514_11eb_8427_0242ac1c0002row82_col0\" class=\"data row82 col0\" >23225</td>\n",
              "            </tr>\n",
              "            <tr>\n",
              "                        <th id=\"T_9e88c452_7514_11eb_8427_0242ac1c0002level0_row83\" class=\"row_heading level0 row83\" >Lebanon</th>\n",
              "                        <td id=\"T_9e88c452_7514_11eb_8427_0242ac1c0002row83_col0\" class=\"data row83 col0\" >22579</td>\n",
              "            </tr>\n",
              "            <tr>\n",
              "                        <th id=\"T_9e88c452_7514_11eb_8427_0242ac1c0002level0_row84\" class=\"row_heading level0 row84\" >Latvia</th>\n",
              "                        <td id=\"T_9e88c452_7514_11eb_8427_0242ac1c0002row84_col0\" class=\"data row84 col0\" >21769</td>\n",
              "            </tr>\n",
              "            <tr>\n",
              "                        <th id=\"T_9e88c452_7514_11eb_8427_0242ac1c0002level0_row85\" class=\"row_heading level0 row85\" >Ghana</th>\n",
              "                        <td id=\"T_9e88c452_7514_11eb_8427_0242ac1c0002row85_col0\" class=\"data row85 col0\" >21482</td>\n",
              "            </tr>\n",
              "            <tr>\n",
              "                        <th id=\"T_9e88c452_7514_11eb_8427_0242ac1c0002level0_row86\" class=\"row_heading level0 row86\" >Andorra</th>\n",
              "                        <td id=\"T_9e88c452_7514_11eb_8427_0242ac1c0002row86_col0\" class=\"data row86 col0\" >20456</td>\n",
              "            </tr>\n",
              "            <tr>\n",
              "                        <th id=\"T_9e88c452_7514_11eb_8427_0242ac1c0002level0_row87\" class=\"row_heading level0 row87\" >Cyprus</th>\n",
              "                        <td id=\"T_9e88c452_7514_11eb_8427_0242ac1c0002row87_col0\" class=\"data row87 col0\" >20218</td>\n",
              "            </tr>\n",
              "            <tr>\n",
              "                        <th id=\"T_9e88c452_7514_11eb_8427_0242ac1c0002level0_row88\" class=\"row_heading level0 row88\" >Cote d'Ivoire</th>\n",
              "                        <td id=\"T_9e88c452_7514_11eb_8427_0242ac1c0002row88_col0\" class=\"data row88 col0\" >19721</td>\n",
              "            </tr>\n",
              "            <tr>\n",
              "                        <th id=\"T_9e88c452_7514_11eb_8427_0242ac1c0002level0_row89\" class=\"row_heading level0 row89\" >Costa Rica</th>\n",
              "                        <td id=\"T_9e88c452_7514_11eb_8427_0242ac1c0002row89_col0\" class=\"data row89 col0\" >19523</td>\n",
              "            </tr>\n",
              "            <tr>\n",
              "                        <th id=\"T_9e88c452_7514_11eb_8427_0242ac1c0002level0_row90\" class=\"row_heading level0 row90\" >Nigeria</th>\n",
              "                        <td id=\"T_9e88c452_7514_11eb_8427_0242ac1c0002row90_col0\" class=\"data row90 col0\" >16738</td>\n",
              "            </tr>\n",
              "            <tr>\n",
              "                        <th id=\"T_9e88c452_7514_11eb_8427_0242ac1c0002level0_row91\" class=\"row_heading level0 row91\" >Uruguay</th>\n",
              "                        <td id=\"T_9e88c452_7514_11eb_8427_0242ac1c0002row91_col0\" class=\"data row91 col0\" >16537</td>\n",
              "            </tr>\n",
              "            <tr>\n",
              "                        <th id=\"T_9e88c452_7514_11eb_8427_0242ac1c0002level0_row92\" class=\"row_heading level0 row92\" >Albania</th>\n",
              "                        <td id=\"T_9e88c452_7514_11eb_8427_0242ac1c0002row92_col0\" class=\"data row92 col0\" >16332</td>\n",
              "            </tr>\n",
              "            <tr>\n",
              "                        <th id=\"T_9e88c452_7514_11eb_8427_0242ac1c0002level0_row93\" class=\"row_heading level0 row93\" >Burkina Faso</th>\n",
              "                        <td id=\"T_9e88c452_7514_11eb_8427_0242ac1c0002row93_col0\" class=\"data row93 col0\" >15595</td>\n",
              "            </tr>\n",
              "            <tr>\n",
              "                        <th id=\"T_9e88c452_7514_11eb_8427_0242ac1c0002level0_row94\" class=\"row_heading level0 row94\" >Taiwan</th>\n",
              "                        <td id=\"T_9e88c452_7514_11eb_8427_0242ac1c0002row94_col0\" class=\"data row94 col0\" >15552</td>\n",
              "            </tr>\n",
              "            <tr>\n",
              "                        <th id=\"T_9e88c452_7514_11eb_8427_0242ac1c0002level0_row95\" class=\"row_heading level0 row95\" >San Marino</th>\n",
              "                        <td id=\"T_9e88c452_7514_11eb_8427_0242ac1c0002row95_col0\" class=\"data row95 col0\" >14469</td>\n",
              "            </tr>\n",
              "            <tr>\n",
              "                        <th id=\"T_9e88c452_7514_11eb_8427_0242ac1c0002level0_row96\" class=\"row_heading level0 row96\" >Djibouti</th>\n",
              "                        <td id=\"T_9e88c452_7514_11eb_8427_0242ac1c0002row96_col0\" class=\"data row96 col0\" >14287</td>\n",
              "            </tr>\n",
              "            <tr>\n",
              "                        <th id=\"T_9e88c452_7514_11eb_8427_0242ac1c0002level0_row97\" class=\"row_heading level0 row97\" >Bolivia</th>\n",
              "                        <td id=\"T_9e88c452_7514_11eb_8427_0242ac1c0002row97_col0\" class=\"data row97 col0\" >13856</td>\n",
              "            </tr>\n",
              "            <tr>\n",
              "                        <th id=\"T_9e88c452_7514_11eb_8427_0242ac1c0002level0_row98\" class=\"row_heading level0 row98\" >Niger</th>\n",
              "                        <td id=\"T_9e88c452_7514_11eb_8427_0242ac1c0002row98_col0\" class=\"data row98 col0\" >13729</td>\n",
              "            </tr>\n",
              "            <tr>\n",
              "                        <th id=\"T_9e88c452_7514_11eb_8427_0242ac1c0002level0_row99\" class=\"row_heading level0 row99\" >Honduras</th>\n",
              "                        <td id=\"T_9e88c452_7514_11eb_8427_0242ac1c0002row99_col0\" class=\"data row99 col0\" >13230</td>\n",
              "            </tr>\n",
              "            <tr>\n",
              "                        <th id=\"T_9e88c452_7514_11eb_8427_0242ac1c0002level0_row100\" class=\"row_heading level0 row100\" >Guinea</th>\n",
              "                        <td id=\"T_9e88c452_7514_11eb_8427_0242ac1c0002row100_col0\" class=\"data row100 col0\" >13225</td>\n",
              "            </tr>\n",
              "            <tr>\n",
              "                        <th id=\"T_9e88c452_7514_11eb_8427_0242ac1c0002level0_row101\" class=\"row_heading level0 row101\" >Jordan</th>\n",
              "                        <td id=\"T_9e88c452_7514_11eb_8427_0242ac1c0002row101_col0\" class=\"data row101 col0\" >13128</td>\n",
              "            </tr>\n",
              "            <tr>\n",
              "                        <th id=\"T_9e88c452_7514_11eb_8427_0242ac1c0002level0_row102\" class=\"row_heading level0 row102\" >Kyrgyzstan</th>\n",
              "                        <td id=\"T_9e88c452_7514_11eb_8427_0242ac1c0002row102_col0\" class=\"data row102 col0\" >12988</td>\n",
              "            </tr>\n",
              "            <tr>\n",
              "                        <th id=\"T_9e88c452_7514_11eb_8427_0242ac1c0002level0_row103\" class=\"row_heading level0 row103\" >Kosovo</th>\n",
              "                        <td id=\"T_9e88c452_7514_11eb_8427_0242ac1c0002row103_col0\" class=\"data row103 col0\" >12573</td>\n",
              "            </tr>\n",
              "            <tr>\n",
              "                        <th id=\"T_9e88c452_7514_11eb_8427_0242ac1c0002level0_row104\" class=\"row_heading level0 row104\" >Malta</th>\n",
              "                        <td id=\"T_9e88c452_7514_11eb_8427_0242ac1c0002row104_col0\" class=\"data row104 col0\" >11890</td>\n",
              "            </tr>\n",
              "            <tr>\n",
              "                        <th id=\"T_9e88c452_7514_11eb_8427_0242ac1c0002level0_row105\" class=\"row_heading level0 row105\" >International</th>\n",
              "                        <td id=\"T_9e88c452_7514_11eb_8427_0242ac1c0002row105_col0\" class=\"data row105 col0\" >11737</td>\n",
              "            </tr>\n",
              "            <tr>\n",
              "                        <th id=\"T_9e88c452_7514_11eb_8427_0242ac1c0002level0_row106\" class=\"row_heading level0 row106\" >Senegal</th>\n",
              "                        <td id=\"T_9e88c452_7514_11eb_8427_0242ac1c0002row106_col0\" class=\"data row106 col0\" >11686</td>\n",
              "            </tr>\n",
              "            <tr>\n",
              "                        <th id=\"T_9e88c452_7514_11eb_8427_0242ac1c0002level0_row107\" class=\"row_heading level0 row107\" >Vietnam</th>\n",
              "                        <td id=\"T_9e88c452_7514_11eb_8427_0242ac1c0002row107_col0\" class=\"data row107 col0\" >10294</td>\n",
              "            </tr>\n",
              "            <tr>\n",
              "                        <th id=\"T_9e88c452_7514_11eb_8427_0242ac1c0002level0_row108\" class=\"row_heading level0 row108\" >Georgia</th>\n",
              "                        <td id=\"T_9e88c452_7514_11eb_8427_0242ac1c0002row108_col0\" class=\"data row108 col0\" >9942</td>\n",
              "            </tr>\n",
              "            <tr>\n",
              "                        <th id=\"T_9e88c452_7514_11eb_8427_0242ac1c0002level0_row109\" class=\"row_heading level0 row109\" >Palestine</th>\n",
              "                        <td id=\"T_9e88c452_7514_11eb_8427_0242ac1c0002row109_col0\" class=\"data row109 col0\" >9433</td>\n",
              "            </tr>\n",
              "            <tr>\n",
              "                        <th id=\"T_9e88c452_7514_11eb_8427_0242ac1c0002level0_row110\" class=\"row_heading level0 row110\" >Sri Lanka</th>\n",
              "                        <td id=\"T_9e88c452_7514_11eb_8427_0242ac1c0002row110_col0\" class=\"data row110 col0\" >9221</td>\n",
              "            </tr>\n",
              "            <tr>\n",
              "                        <th id=\"T_9e88c452_7514_11eb_8427_0242ac1c0002level0_row111\" class=\"row_heading level0 row111\" >Mauritius</th>\n",
              "                        <td id=\"T_9e88c452_7514_11eb_8427_0242ac1c0002row111_col0\" class=\"data row111 col0\" >9084</td>\n",
              "            </tr>\n",
              "            <tr>\n",
              "                        <th id=\"T_9e88c452_7514_11eb_8427_0242ac1c0002level0_row112\" class=\"row_heading level0 row112\" >Democratic Republic of Congo</th>\n",
              "                        <td id=\"T_9e88c452_7514_11eb_8427_0242ac1c0002row112_col0\" class=\"data row112 col0\" >8553</td>\n",
              "            </tr>\n",
              "            <tr>\n",
              "                        <th id=\"T_9e88c452_7514_11eb_8427_0242ac1c0002level0_row113\" class=\"row_heading level0 row113\" >Montenegro</th>\n",
              "                        <td id=\"T_9e88c452_7514_11eb_8427_0242ac1c0002row113_col0\" class=\"data row113 col0\" >8260</td>\n",
              "            </tr>\n",
              "            <tr>\n",
              "                        <th id=\"T_9e88c452_7514_11eb_8427_0242ac1c0002level0_row114\" class=\"row_heading level0 row114\" >Venezuela</th>\n",
              "                        <td id=\"T_9e88c452_7514_11eb_8427_0242ac1c0002row114_col0\" class=\"data row114 col0\" >7441</td>\n",
              "            </tr>\n",
              "            <tr>\n",
              "                        <th id=\"T_9e88c452_7514_11eb_8427_0242ac1c0002level0_row115\" class=\"row_heading level0 row115\" >Kenya</th>\n",
              "                        <td id=\"T_9e88c452_7514_11eb_8427_0242ac1c0002row115_col0\" class=\"data row115 col0\" >6840</td>\n",
              "            </tr>\n",
              "            <tr>\n",
              "                        <th id=\"T_9e88c452_7514_11eb_8427_0242ac1c0002level0_row116\" class=\"row_heading level0 row116\" >Faeroe Islands</th>\n",
              "                        <td id=\"T_9e88c452_7514_11eb_8427_0242ac1c0002row116_col0\" class=\"data row116 col0\" >6810</td>\n",
              "            </tr>\n",
              "            <tr>\n",
              "                        <th id=\"T_9e88c452_7514_11eb_8427_0242ac1c0002level0_row117\" class=\"row_heading level0 row117\" >Guatemala</th>\n",
              "                        <td id=\"T_9e88c452_7514_11eb_8427_0242ac1c0002row117_col0\" class=\"data row117 col0\" >6797</td>\n",
              "            </tr>\n",
              "            <tr>\n",
              "                        <th id=\"T_9e88c452_7514_11eb_8427_0242ac1c0002level0_row118\" class=\"row_heading level0 row118\" >Isle of Man</th>\n",
              "                        <td id=\"T_9e88c452_7514_11eb_8427_0242ac1c0002row118_col0\" class=\"data row118 col0\" >6750</td>\n",
              "            </tr>\n",
              "            <tr>\n",
              "                        <th id=\"T_9e88c452_7514_11eb_8427_0242ac1c0002level0_row119\" class=\"row_heading level0 row119\" >Jersey</th>\n",
              "                        <td id=\"T_9e88c452_7514_11eb_8427_0242ac1c0002row119_col0\" class=\"data row119 col0\" >6342</td>\n",
              "            </tr>\n",
              "            <tr>\n",
              "                        <th id=\"T_9e88c452_7514_11eb_8427_0242ac1c0002level0_row120\" class=\"row_heading level0 row120\" >Guernsey</th>\n",
              "                        <td id=\"T_9e88c452_7514_11eb_8427_0242ac1c0002row120_col0\" class=\"data row120 col0\" >6063</td>\n",
              "            </tr>\n",
              "            <tr>\n",
              "                        <th id=\"T_9e88c452_7514_11eb_8427_0242ac1c0002level0_row121\" class=\"row_heading level0 row121\" >Brunei</th>\n",
              "                        <td id=\"T_9e88c452_7514_11eb_8427_0242ac1c0002row121_col0\" class=\"data row121 col0\" >5509</td>\n",
              "            </tr>\n",
              "            <tr>\n",
              "                        <th id=\"T_9e88c452_7514_11eb_8427_0242ac1c0002level0_row122\" class=\"row_heading level0 row122\" >Paraguay</th>\n",
              "                        <td id=\"T_9e88c452_7514_11eb_8427_0242ac1c0002row122_col0\" class=\"data row122 col0\" >5237</td>\n",
              "            </tr>\n",
              "            <tr>\n",
              "                        <th id=\"T_9e88c452_7514_11eb_8427_0242ac1c0002level0_row123\" class=\"row_heading level0 row123\" >Mali</th>\n",
              "                        <td id=\"T_9e88c452_7514_11eb_8427_0242ac1c0002row123_col0\" class=\"data row123 col0\" >5029</td>\n",
              "            </tr>\n",
              "            <tr>\n",
              "                        <th id=\"T_9e88c452_7514_11eb_8427_0242ac1c0002level0_row124\" class=\"row_heading level0 row124\" >El Salvador</th>\n",
              "                        <td id=\"T_9e88c452_7514_11eb_8427_0242ac1c0002row124_col0\" class=\"data row124 col0\" >4842</td>\n",
              "            </tr>\n",
              "            <tr>\n",
              "                        <th id=\"T_9e88c452_7514_11eb_8427_0242ac1c0002level0_row125\" class=\"row_heading level0 row125\" >Jamaica</th>\n",
              "                        <td id=\"T_9e88c452_7514_11eb_8427_0242ac1c0002row125_col0\" class=\"data row125 col0\" >4733</td>\n",
              "            </tr>\n",
              "            <tr>\n",
              "                        <th id=\"T_9e88c452_7514_11eb_8427_0242ac1c0002level0_row126\" class=\"row_heading level0 row126\" >Cambodia</th>\n",
              "                        <td id=\"T_9e88c452_7514_11eb_8427_0242ac1c0002row126_col0\" class=\"data row126 col0\" >4597</td>\n",
              "            </tr>\n",
              "            <tr>\n",
              "                        <th id=\"T_9e88c452_7514_11eb_8427_0242ac1c0002level0_row127\" class=\"row_heading level0 row127\" >Rwanda</th>\n",
              "                        <td id=\"T_9e88c452_7514_11eb_8427_0242ac1c0002row127_col0\" class=\"data row127 col0\" >4387</td>\n",
              "            </tr>\n",
              "            <tr>\n",
              "                        <th id=\"T_9e88c452_7514_11eb_8427_0242ac1c0002level0_row128\" class=\"row_heading level0 row128\" >Somalia</th>\n",
              "                        <td id=\"T_9e88c452_7514_11eb_8427_0242ac1c0002row128_col0\" class=\"data row128 col0\" >4117</td>\n",
              "            </tr>\n",
              "            <tr>\n",
              "                        <th id=\"T_9e88c452_7514_11eb_8427_0242ac1c0002level0_row129\" class=\"row_heading level0 row129\" >Guam</th>\n",
              "                        <td id=\"T_9e88c452_7514_11eb_8427_0242ac1c0002row129_col0\" class=\"data row129 col0\" >4049</td>\n",
              "            </tr>\n",
              "            <tr>\n",
              "                        <th id=\"T_9e88c452_7514_11eb_8427_0242ac1c0002level0_row130\" class=\"row_heading level0 row130\" >Gibraltar</th>\n",
              "                        <td id=\"T_9e88c452_7514_11eb_8427_0242ac1c0002row130_col0\" class=\"data row130 col0\" >3898</td>\n",
              "            </tr>\n",
              "            <tr>\n",
              "                        <th id=\"T_9e88c452_7514_11eb_8427_0242ac1c0002level0_row131\" class=\"row_heading level0 row131\" >Trinidad and Tobago</th>\n",
              "                        <td id=\"T_9e88c452_7514_11eb_8427_0242ac1c0002row131_col0\" class=\"data row131 col0\" >3858</td>\n",
              "            </tr>\n",
              "            <tr>\n",
              "                        <th id=\"T_9e88c452_7514_11eb_8427_0242ac1c0002level0_row132\" class=\"row_heading level0 row132\" >Tanzania</th>\n",
              "                        <td id=\"T_9e88c452_7514_11eb_8427_0242ac1c0002row132_col0\" class=\"data row132 col0\" >3701</td>\n",
              "            </tr>\n",
              "            <tr>\n",
              "                        <th id=\"T_9e88c452_7514_11eb_8427_0242ac1c0002level0_row133\" class=\"row_heading level0 row133\" >Congo</th>\n",
              "                        <td id=\"T_9e88c452_7514_11eb_8427_0242ac1c0002row133_col0\" class=\"data row133 col0\" >3248</td>\n",
              "            </tr>\n",
              "            <tr>\n",
              "                        <th id=\"T_9e88c452_7514_11eb_8427_0242ac1c0002level0_row134\" class=\"row_heading level0 row134\" >Madagascar</th>\n",
              "                        <td id=\"T_9e88c452_7514_11eb_8427_0242ac1c0002row134_col0\" class=\"data row134 col0\" >3145</td>\n",
              "            </tr>\n",
              "            <tr>\n",
              "                        <th id=\"T_9e88c452_7514_11eb_8427_0242ac1c0002level0_row135\" class=\"row_heading level0 row135\" >Liechtenstein</th>\n",
              "                        <td id=\"T_9e88c452_7514_11eb_8427_0242ac1c0002row135_col0\" class=\"data row135 col0\" >2960</td>\n",
              "            </tr>\n",
              "            <tr>\n",
              "                        <th id=\"T_9e88c452_7514_11eb_8427_0242ac1c0002level0_row136\" class=\"row_heading level0 row136\" >Monaco</th>\n",
              "                        <td id=\"T_9e88c452_7514_11eb_8427_0242ac1c0002row136_col0\" class=\"data row136 col0\" >2866</td>\n",
              "            </tr>\n",
              "            <tr>\n",
              "                        <th id=\"T_9e88c452_7514_11eb_8427_0242ac1c0002level0_row137\" class=\"row_heading level0 row137\" >Gabon</th>\n",
              "                        <td id=\"T_9e88c452_7514_11eb_8427_0242ac1c0002row137_col0\" class=\"data row137 col0\" >2693</td>\n",
              "            </tr>\n",
              "            <tr>\n",
              "                        <th id=\"T_9e88c452_7514_11eb_8427_0242ac1c0002level0_row138\" class=\"row_heading level0 row138\" >Aruba</th>\n",
              "                        <td id=\"T_9e88c452_7514_11eb_8427_0242ac1c0002row138_col0\" class=\"data row138 col0\" >2677</td>\n",
              "            </tr>\n",
              "            <tr>\n",
              "                        <th id=\"T_9e88c452_7514_11eb_8427_0242ac1c0002level0_row139\" class=\"row_heading level0 row139\" >Ethiopia</th>\n",
              "                        <td id=\"T_9e88c452_7514_11eb_8427_0242ac1c0002row139_col0\" class=\"data row139 col0\" >2497</td>\n",
              "            </tr>\n",
              "            <tr>\n",
              "                        <th id=\"T_9e88c452_7514_11eb_8427_0242ac1c0002level0_row140\" class=\"row_heading level0 row140\" >Togo</th>\n",
              "                        <td id=\"T_9e88c452_7514_11eb_8427_0242ac1c0002row140_col0\" class=\"data row140 col0\" >2369</td>\n",
              "            </tr>\n",
              "            <tr>\n",
              "                        <th id=\"T_9e88c452_7514_11eb_8427_0242ac1c0002level0_row141\" class=\"row_heading level0 row141\" >Equatorial Guinea</th>\n",
              "                        <td id=\"T_9e88c452_7514_11eb_8427_0242ac1c0002row141_col0\" class=\"data row141 col0\" >2323</td>\n",
              "            </tr>\n",
              "            <tr>\n",
              "                        <th id=\"T_9e88c452_7514_11eb_8427_0242ac1c0002level0_row142\" class=\"row_heading level0 row142\" >Sudan</th>\n",
              "                        <td id=\"T_9e88c452_7514_11eb_8427_0242ac1c0002row142_col0\" class=\"data row142 col0\" >2209</td>\n",
              "            </tr>\n",
              "            <tr>\n",
              "                        <th id=\"T_9e88c452_7514_11eb_8427_0242ac1c0002level0_row143\" class=\"row_heading level0 row143\" >Myanmar</th>\n",
              "                        <td id=\"T_9e88c452_7514_11eb_8427_0242ac1c0002row143_col0\" class=\"data row143 col0\" >2192</td>\n",
              "            </tr>\n",
              "            <tr>\n",
              "                        <th id=\"T_9e88c452_7514_11eb_8427_0242ac1c0002level0_row144\" class=\"row_heading level0 row144\" >Barbados</th>\n",
              "                        <td id=\"T_9e88c452_7514_11eb_8427_0242ac1c0002row144_col0\" class=\"data row144 col0\" >2185</td>\n",
              "            </tr>\n",
              "            <tr>\n",
              "                        <th id=\"T_9e88c452_7514_11eb_8427_0242ac1c0002level0_row145\" class=\"row_heading level0 row145\" >Bermuda</th>\n",
              "                        <td id=\"T_9e88c452_7514_11eb_8427_0242ac1c0002row145_col0\" class=\"data row145 col0\" >2103</td>\n",
              "            </tr>\n",
              "            <tr>\n",
              "                        <th id=\"T_9e88c452_7514_11eb_8427_0242ac1c0002level0_row146\" class=\"row_heading level0 row146\" >Maldives</th>\n",
              "                        <td id=\"T_9e88c452_7514_11eb_8427_0242ac1c0002row146_col0\" class=\"data row146 col0\" >1995</td>\n",
              "            </tr>\n",
              "            <tr>\n",
              "                        <th id=\"T_9e88c452_7514_11eb_8427_0242ac1c0002level0_row147\" class=\"row_heading level0 row147\" >Liberia</th>\n",
              "                        <td id=\"T_9e88c452_7514_11eb_8427_0242ac1c0002row147_col0\" class=\"data row147 col0\" >1844</td>\n",
              "            </tr>\n",
              "            <tr>\n",
              "                        <th id=\"T_9e88c452_7514_11eb_8427_0242ac1c0002level0_row148\" class=\"row_heading level0 row148\" >Uganda</th>\n",
              "                        <td id=\"T_9e88c452_7514_11eb_8427_0242ac1c0002row148_col0\" class=\"data row148 col0\" >1829</td>\n",
              "            </tr>\n",
              "            <tr>\n",
              "                        <th id=\"T_9e88c452_7514_11eb_8427_0242ac1c0002level0_row149\" class=\"row_heading level0 row149\" >French Polynesia</th>\n",
              "                        <td id=\"T_9e88c452_7514_11eb_8427_0242ac1c0002row149_col0\" class=\"data row149 col0\" >1769</td>\n",
              "            </tr>\n",
              "            <tr>\n",
              "                        <th id=\"T_9e88c452_7514_11eb_8427_0242ac1c0002level0_row150\" class=\"row_heading level0 row150\" >Zambia</th>\n",
              "                        <td id=\"T_9e88c452_7514_11eb_8427_0242ac1c0002row150_col0\" class=\"data row150 col0\" >1733</td>\n",
              "            </tr>\n",
              "            <tr>\n",
              "                        <th id=\"T_9e88c452_7514_11eb_8427_0242ac1c0002level0_row151\" class=\"row_heading level0 row151\" >Cayman Islands</th>\n",
              "                        <td id=\"T_9e88c452_7514_11eb_8427_0242ac1c0002row151_col0\" class=\"data row151 col0\" >1574</td>\n",
              "            </tr>\n",
              "            <tr>\n",
              "                        <th id=\"T_9e88c452_7514_11eb_8427_0242ac1c0002level0_row152\" class=\"row_heading level0 row152\" >Bahamas</th>\n",
              "                        <td id=\"T_9e88c452_7514_11eb_8427_0242ac1c0002row152_col0\" class=\"data row152 col0\" >1553</td>\n",
              "            </tr>\n",
              "            <tr>\n",
              "                        <th id=\"T_9e88c452_7514_11eb_8427_0242ac1c0002level0_row153\" class=\"row_heading level0 row153\" >United States Virgin Islands</th>\n",
              "                        <td id=\"T_9e88c452_7514_11eb_8427_0242ac1c0002row153_col0\" class=\"data row153 col0\" >1547</td>\n",
              "            </tr>\n",
              "            <tr>\n",
              "                        <th id=\"T_9e88c452_7514_11eb_8427_0242ac1c0002level0_row154\" class=\"row_heading level0 row154\" >Guyana</th>\n",
              "                        <td id=\"T_9e88c452_7514_11eb_8427_0242ac1c0002row154_col0\" class=\"data row154 col0\" >1519</td>\n",
              "            </tr>\n",
              "            <tr>\n",
              "                        <th id=\"T_9e88c452_7514_11eb_8427_0242ac1c0002level0_row155\" class=\"row_heading level0 row155\" >Sint Maarten (Dutch part)</th>\n",
              "                        <td id=\"T_9e88c452_7514_11eb_8427_0242ac1c0002row155_col0\" class=\"data row155 col0\" >1493</td>\n",
              "            </tr>\n",
              "            <tr>\n",
              "                        <th id=\"T_9e88c452_7514_11eb_8427_0242ac1c0002level0_row156\" class=\"row_heading level0 row156\" >Haiti</th>\n",
              "                        <td id=\"T_9e88c452_7514_11eb_8427_0242ac1c0002row156_col0\" class=\"data row156 col0\" >1310</td>\n",
              "            </tr>\n",
              "            <tr>\n",
              "                        <th id=\"T_9e88c452_7514_11eb_8427_0242ac1c0002level0_row157\" class=\"row_heading level0 row157\" >Cape Verde</th>\n",
              "                        <td id=\"T_9e88c452_7514_11eb_8427_0242ac1c0002row157_col0\" class=\"data row157 col0\" >1235</td>\n",
              "            </tr>\n",
              "            <tr>\n",
              "                        <th id=\"T_9e88c452_7514_11eb_8427_0242ac1c0002level0_row158\" class=\"row_heading level0 row158\" >Guinea-Bissau</th>\n",
              "                        <td id=\"T_9e88c452_7514_11eb_8427_0242ac1c0002row158_col0\" class=\"data row158 col0\" >1156</td>\n",
              "            </tr>\n",
              "            <tr>\n",
              "                        <th id=\"T_9e88c452_7514_11eb_8427_0242ac1c0002level0_row159\" class=\"row_heading level0 row159\" >Benin</th>\n",
              "                        <td id=\"T_9e88c452_7514_11eb_8427_0242ac1c0002row159_col0\" class=\"data row159 col0\" >1138</td>\n",
              "            </tr>\n",
              "            <tr>\n",
              "                        <th id=\"T_9e88c452_7514_11eb_8427_0242ac1c0002level0_row160\" class=\"row_heading level0 row160\" >Libya</th>\n",
              "                        <td id=\"T_9e88c452_7514_11eb_8427_0242ac1c0002row160_col0\" class=\"data row160 col0\" >1086</td>\n",
              "            </tr>\n",
              "            <tr>\n",
              "                        <th id=\"T_9e88c452_7514_11eb_8427_0242ac1c0002level0_row161\" class=\"row_heading level0 row161\" >Eritrea</th>\n",
              "                        <td id=\"T_9e88c452_7514_11eb_8427_0242ac1c0002row161_col0\" class=\"data row161 col0\" >1014</td>\n",
              "            </tr>\n",
              "            <tr>\n",
              "                        <th id=\"T_9e88c452_7514_11eb_8427_0242ac1c0002level0_row162\" class=\"row_heading level0 row162\" >Mozambique</th>\n",
              "                        <td id=\"T_9e88c452_7514_11eb_8427_0242ac1c0002row162_col0\" class=\"data row162 col0\" >970</td>\n",
              "            </tr>\n",
              "            <tr>\n",
              "                        <th id=\"T_9e88c452_7514_11eb_8427_0242ac1c0002level0_row163\" class=\"row_heading level0 row163\" >Sierra Leone</th>\n",
              "                        <td id=\"T_9e88c452_7514_11eb_8427_0242ac1c0002row163_col0\" class=\"data row163 col0\" >889</td>\n",
              "            </tr>\n",
              "            <tr>\n",
              "                        <th id=\"T_9e88c452_7514_11eb_8427_0242ac1c0002level0_row164\" class=\"row_heading level0 row164\" >Syria</th>\n",
              "                        <td id=\"T_9e88c452_7514_11eb_8427_0242ac1c0002row164_col0\" class=\"data row164 col0\" >883</td>\n",
              "            </tr>\n",
              "            <tr>\n",
              "                        <th id=\"T_9e88c452_7514_11eb_8427_0242ac1c0002level0_row165\" class=\"row_heading level0 row165\" >Mongolia</th>\n",
              "                        <td id=\"T_9e88c452_7514_11eb_8427_0242ac1c0002row165_col0\" class=\"data row165 col0\" >851</td>\n",
              "            </tr>\n",
              "            <tr>\n",
              "                        <th id=\"T_9e88c452_7514_11eb_8427_0242ac1c0002level0_row166\" class=\"row_heading level0 row166\" >Nepal</th>\n",
              "                        <td id=\"T_9e88c452_7514_11eb_8427_0242ac1c0002row166_col0\" class=\"data row166 col0\" >753</td>\n",
              "            </tr>\n",
              "            <tr>\n",
              "                        <th id=\"T_9e88c452_7514_11eb_8427_0242ac1c0002level0_row167\" class=\"row_heading level0 row167\" >Chad</th>\n",
              "                        <td id=\"T_9e88c452_7514_11eb_8427_0242ac1c0002row167_col0\" class=\"data row167 col0\" >726</td>\n",
              "            </tr>\n",
              "            <tr>\n",
              "                        <th id=\"T_9e88c452_7514_11eb_8427_0242ac1c0002level0_row168\" class=\"row_heading level0 row168\" >Swaziland</th>\n",
              "                        <td id=\"T_9e88c452_7514_11eb_8427_0242ac1c0002row168_col0\" class=\"data row168 col0\" >712</td>\n",
              "            </tr>\n",
              "            <tr>\n",
              "                        <th id=\"T_9e88c452_7514_11eb_8427_0242ac1c0002level0_row169\" class=\"row_heading level0 row169\" >New Caledonia</th>\n",
              "                        <td id=\"T_9e88c452_7514_11eb_8427_0242ac1c0002row169_col0\" class=\"data row169 col0\" >633</td>\n",
              "            </tr>\n",
              "            <tr>\n",
              "                        <th id=\"T_9e88c452_7514_11eb_8427_0242ac1c0002level0_row170\" class=\"row_heading level0 row170\" >Antigua and Barbuda</th>\n",
              "                        <td id=\"T_9e88c452_7514_11eb_8427_0242ac1c0002row170_col0\" class=\"data row170 col0\" >617</td>\n",
              "            </tr>\n",
              "            <tr>\n",
              "                        <th id=\"T_9e88c452_7514_11eb_8427_0242ac1c0002level0_row171\" class=\"row_heading level0 row171\" >Zimbabwe</th>\n",
              "                        <td id=\"T_9e88c452_7514_11eb_8427_0242ac1c0002row171_col0\" class=\"data row171 col0\" >592</td>\n",
              "            </tr>\n",
              "            <tr>\n",
              "                        <th id=\"T_9e88c452_7514_11eb_8427_0242ac1c0002level0_row172\" class=\"row_heading level0 row172\" >Angola</th>\n",
              "                        <td id=\"T_9e88c452_7514_11eb_8427_0242ac1c0002row172_col0\" class=\"data row172 col0\" >588</td>\n",
              "            </tr>\n",
              "            <tr>\n",
              "                        <th id=\"T_9e88c452_7514_11eb_8427_0242ac1c0002level0_row173\" class=\"row_heading level0 row173\" >Namibia</th>\n",
              "                        <td id=\"T_9e88c452_7514_11eb_8427_0242ac1c0002row173_col0\" class=\"data row173 col0\" >526</td>\n",
              "            </tr>\n",
              "            <tr>\n",
              "                        <th id=\"T_9e88c452_7514_11eb_8427_0242ac1c0002level0_row174\" class=\"row_heading level0 row174\" >Laos</th>\n",
              "                        <td id=\"T_9e88c452_7514_11eb_8427_0242ac1c0002row174_col0\" class=\"data row174 col0\" >509</td>\n",
              "            </tr>\n",
              "            <tr>\n",
              "                        <th id=\"T_9e88c452_7514_11eb_8427_0242ac1c0002level0_row175\" class=\"row_heading level0 row175\" >Dominica</th>\n",
              "                        <td id=\"T_9e88c452_7514_11eb_8427_0242ac1c0002row175_col0\" class=\"data row175 col0\" >508</td>\n",
              "            </tr>\n",
              "            <tr>\n",
              "                        <th id=\"T_9e88c452_7514_11eb_8427_0242ac1c0002level0_row176\" class=\"row_heading level0 row176\" >Fiji</th>\n",
              "                        <td id=\"T_9e88c452_7514_11eb_8427_0242ac1c0002row176_col0\" class=\"data row176 col0\" >488</td>\n",
              "            </tr>\n",
              "            <tr>\n",
              "                        <th id=\"T_9e88c452_7514_11eb_8427_0242ac1c0002level0_row177\" class=\"row_heading level0 row177\" >Saint Lucia</th>\n",
              "                        <td id=\"T_9e88c452_7514_11eb_8427_0242ac1c0002row177_col0\" class=\"data row177 col0\" >474</td>\n",
              "            </tr>\n",
              "            <tr>\n",
              "                        <th id=\"T_9e88c452_7514_11eb_8427_0242ac1c0002level0_row178\" class=\"row_heading level0 row178\" >Central African Republic</th>\n",
              "                        <td id=\"T_9e88c452_7514_11eb_8427_0242ac1c0002row178_col0\" class=\"data row178 col0\" >470</td>\n",
              "            </tr>\n",
              "            <tr>\n",
              "                        <th id=\"T_9e88c452_7514_11eb_8427_0242ac1c0002level0_row179\" class=\"row_heading level0 row179\" >Malawi</th>\n",
              "                        <td id=\"T_9e88c452_7514_11eb_8427_0242ac1c0002row179_col0\" class=\"data row179 col0\" >455</td>\n",
              "            </tr>\n",
              "            <tr>\n",
              "                        <th id=\"T_9e88c452_7514_11eb_8427_0242ac1c0002level0_row180\" class=\"row_heading level0 row180\" >Curacao</th>\n",
              "                        <td id=\"T_9e88c452_7514_11eb_8427_0242ac1c0002row180_col0\" class=\"data row180 col0\" >444</td>\n",
              "            </tr>\n",
              "            <tr>\n",
              "                        <th id=\"T_9e88c452_7514_11eb_8427_0242ac1c0002level0_row181\" class=\"row_heading level0 row181\" >Grenada</th>\n",
              "                        <td id=\"T_9e88c452_7514_11eb_8427_0242ac1c0002row181_col0\" class=\"data row181 col0\" >443</td>\n",
              "            </tr>\n",
              "            <tr>\n",
              "                        <th id=\"T_9e88c452_7514_11eb_8427_0242ac1c0002level0_row182\" class=\"row_heading level0 row182\" >Seychelles</th>\n",
              "                        <td id=\"T_9e88c452_7514_11eb_8427_0242ac1c0002row182_col0\" class=\"data row182 col0\" >411</td>\n",
              "            </tr>\n",
              "            <tr>\n",
              "                        <th id=\"T_9e88c452_7514_11eb_8427_0242ac1c0002level0_row183\" class=\"row_heading level0 row183\" >Botswana</th>\n",
              "                        <td id=\"T_9e88c452_7514_11eb_8427_0242ac1c0002row183_col0\" class=\"data row183 col0\" >395</td>\n",
              "            </tr>\n",
              "            <tr>\n",
              "                        <th id=\"T_9e88c452_7514_11eb_8427_0242ac1c0002level0_row184\" class=\"row_heading level0 row184\" >Belize</th>\n",
              "                        <td id=\"T_9e88c452_7514_11eb_8427_0242ac1c0002row184_col0\" class=\"data row184 col0\" >393</td>\n",
              "            </tr>\n",
              "            <tr>\n",
              "                        <th id=\"T_9e88c452_7514_11eb_8427_0242ac1c0002level0_row185\" class=\"row_heading level0 row185\" >Saint Kitts and Nevis</th>\n",
              "                        <td id=\"T_9e88c452_7514_11eb_8427_0242ac1c0002row185_col0\" class=\"data row185 col0\" >387</td>\n",
              "            </tr>\n",
              "            <tr>\n",
              "                        <th id=\"T_9e88c452_7514_11eb_8427_0242ac1c0002level0_row186\" class=\"row_heading level0 row186\" >Greenland</th>\n",
              "                        <td id=\"T_9e88c452_7514_11eb_8427_0242ac1c0002row186_col0\" class=\"data row186 col0\" >380</td>\n",
              "            </tr>\n",
              "            <tr>\n",
              "                        <th id=\"T_9e88c452_7514_11eb_8427_0242ac1c0002level0_row187\" class=\"row_heading level0 row187\" >Suriname</th>\n",
              "                        <td id=\"T_9e88c452_7514_11eb_8427_0242ac1c0002row187_col0\" class=\"data row187 col0\" >364</td>\n",
              "            </tr>\n",
              "            <tr>\n",
              "                        <th id=\"T_9e88c452_7514_11eb_8427_0242ac1c0002level0_row188\" class=\"row_heading level0 row188\" >Northern Mariana Islands</th>\n",
              "                        <td id=\"T_9e88c452_7514_11eb_8427_0242ac1c0002row188_col0\" class=\"data row188 col0\" >335</td>\n",
              "            </tr>\n",
              "            <tr>\n",
              "                        <th id=\"T_9e88c452_7514_11eb_8427_0242ac1c0002level0_row189\" class=\"row_heading level0 row189\" >Timor</th>\n",
              "                        <td id=\"T_9e88c452_7514_11eb_8427_0242ac1c0002row189_col0\" class=\"data row189 col0\" >327</td>\n",
              "            </tr>\n",
              "            <tr>\n",
              "                        <th id=\"T_9e88c452_7514_11eb_8427_0242ac1c0002level0_row190\" class=\"row_heading level0 row190\" >Saint Vincent and the Grenadines</th>\n",
              "                        <td id=\"T_9e88c452_7514_11eb_8427_0242ac1c0002row190_col0\" class=\"data row190 col0\" >312</td>\n",
              "            </tr>\n",
              "            <tr>\n",
              "                        <th id=\"T_9e88c452_7514_11eb_8427_0242ac1c0002level0_row191\" class=\"row_heading level0 row191\" >Montserrat</th>\n",
              "                        <td id=\"T_9e88c452_7514_11eb_8427_0242ac1c0002row191_col0\" class=\"data row191 col0\" >293</td>\n",
              "            </tr>\n",
              "            <tr>\n",
              "                        <th id=\"T_9e88c452_7514_11eb_8427_0242ac1c0002level0_row192\" class=\"row_heading level0 row192\" >Turks and Caicos Islands</th>\n",
              "                        <td id=\"T_9e88c452_7514_11eb_8427_0242ac1c0002row192_col0\" class=\"data row192 col0\" >286</td>\n",
              "            </tr>\n",
              "            <tr>\n",
              "                        <th id=\"T_9e88c452_7514_11eb_8427_0242ac1c0002level0_row193\" class=\"row_heading level0 row193\" >Vatican</th>\n",
              "                        <td id=\"T_9e88c452_7514_11eb_8427_0242ac1c0002row193_col0\" class=\"data row193 col0\" >270</td>\n",
              "            </tr>\n",
              "            <tr>\n",
              "                        <th id=\"T_9e88c452_7514_11eb_8427_0242ac1c0002level0_row194\" class=\"row_heading level0 row194\" >Nicaragua</th>\n",
              "                        <td id=\"T_9e88c452_7514_11eb_8427_0242ac1c0002row194_col0\" class=\"data row194 col0\" >270</td>\n",
              "            </tr>\n",
              "            <tr>\n",
              "                        <th id=\"T_9e88c452_7514_11eb_8427_0242ac1c0002level0_row195\" class=\"row_heading level0 row195\" >Gambia</th>\n",
              "                        <td id=\"T_9e88c452_7514_11eb_8427_0242ac1c0002row195_col0\" class=\"data row195 col0\" >246</td>\n",
              "            </tr>\n",
              "            <tr>\n",
              "                        <th id=\"T_9e88c452_7514_11eb_8427_0242ac1c0002level0_row196\" class=\"row_heading level0 row196\" >Mauritania</th>\n",
              "                        <td id=\"T_9e88c452_7514_11eb_8427_0242ac1c0002row196_col0\" class=\"data row196 col0\" >232</td>\n",
              "            </tr>\n",
              "            <tr>\n",
              "                        <th id=\"T_9e88c452_7514_11eb_8427_0242ac1c0002level0_row197\" class=\"row_heading level0 row197\" >Falkland Islands</th>\n",
              "                        <td id=\"T_9e88c452_7514_11eb_8427_0242ac1c0002row197_col0\" class=\"data row197 col0\" >218</td>\n",
              "            </tr>\n",
              "            <tr>\n",
              "                        <th id=\"T_9e88c452_7514_11eb_8427_0242ac1c0002level0_row198\" class=\"row_heading level0 row198\" >Bhutan</th>\n",
              "                        <td id=\"T_9e88c452_7514_11eb_8427_0242ac1c0002row198_col0\" class=\"data row198 col0\" >198</td>\n",
              "            </tr>\n",
              "            <tr>\n",
              "                        <th id=\"T_9e88c452_7514_11eb_8427_0242ac1c0002level0_row199\" class=\"row_heading level0 row199\" >Burundi</th>\n",
              "                        <td id=\"T_9e88c452_7514_11eb_8427_0242ac1c0002row199_col0\" class=\"data row199 col0\" >185</td>\n",
              "            </tr>\n",
              "            <tr>\n",
              "                        <th id=\"T_9e88c452_7514_11eb_8427_0242ac1c0002level0_row200\" class=\"row_heading level0 row200\" >Papua New Guinea</th>\n",
              "                        <td id=\"T_9e88c452_7514_11eb_8427_0242ac1c0002row200_col0\" class=\"data row200 col0\" >134</td>\n",
              "            </tr>\n",
              "            <tr>\n",
              "                        <th id=\"T_9e88c452_7514_11eb_8427_0242ac1c0002level0_row201\" class=\"row_heading level0 row201\" >British Virgin Islands</th>\n",
              "                        <td id=\"T_9e88c452_7514_11eb_8427_0242ac1c0002row201_col0\" class=\"data row201 col0\" >122</td>\n",
              "            </tr>\n",
              "            <tr>\n",
              "                        <th id=\"T_9e88c452_7514_11eb_8427_0242ac1c0002level0_row202\" class=\"row_heading level0 row202\" >South Sudan</th>\n",
              "                        <td id=\"T_9e88c452_7514_11eb_8427_0242ac1c0002row202_col0\" class=\"data row202 col0\" >118</td>\n",
              "            </tr>\n",
              "            <tr>\n",
              "                        <th id=\"T_9e88c452_7514_11eb_8427_0242ac1c0002level0_row203\" class=\"row_heading level0 row203\" >Sao Tome and Principe</th>\n",
              "                        <td id=\"T_9e88c452_7514_11eb_8427_0242ac1c0002row203_col0\" class=\"data row203 col0\" >114</td>\n",
              "            </tr>\n",
              "            <tr>\n",
              "                        <th id=\"T_9e88c452_7514_11eb_8427_0242ac1c0002level0_row204\" class=\"row_heading level0 row204\" >Bonaire Sint Eustatius and Saba</th>\n",
              "                        <td id=\"T_9e88c452_7514_11eb_8427_0242ac1c0002row204_col0\" class=\"data row204 col0\" >107</td>\n",
              "            </tr>\n",
              "            <tr>\n",
              "                        <th id=\"T_9e88c452_7514_11eb_8427_0242ac1c0002level0_row205\" class=\"row_heading level0 row205\" >Anguilla</th>\n",
              "                        <td id=\"T_9e88c452_7514_11eb_8427_0242ac1c0002row205_col0\" class=\"data row205 col0\" >95</td>\n",
              "            </tr>\n",
              "            <tr>\n",
              "                        <th id=\"T_9e88c452_7514_11eb_8427_0242ac1c0002level0_row206\" class=\"row_heading level0 row206\" >Western Sahara</th>\n",
              "                        <td id=\"T_9e88c452_7514_11eb_8427_0242ac1c0002row206_col0\" class=\"data row206 col0\" >24</td>\n",
              "            </tr>\n",
              "            <tr>\n",
              "                        <th id=\"T_9e88c452_7514_11eb_8427_0242ac1c0002level0_row207\" class=\"row_heading level0 row207\" >Yemen</th>\n",
              "                        <td id=\"T_9e88c452_7514_11eb_8427_0242ac1c0002row207_col0\" class=\"data row207 col0\" >20</td>\n",
              "            </tr>\n",
              "            <tr>\n",
              "                        <th id=\"T_9e88c452_7514_11eb_8427_0242ac1c0002level0_row208\" class=\"row_heading level0 row208\" >Hong Kong</th>\n",
              "                        <td id=\"T_9e88c452_7514_11eb_8427_0242ac1c0002row208_col0\" class=\"data row208 col0\" >0</td>\n",
              "            </tr>\n",
              "    </tbody></table>"
            ],
            "text/plain": [
              "<pandas.io.formats.style.Styler at 0x7ff4f12aed30>"
            ]
          },
          "metadata": {
            "tags": []
          },
          "execution_count": 11
        }
      ]
    },
    {
      "cell_type": "code",
      "metadata": {
        "colab": {
          "base_uri": "https://localhost:8080/",
          "height": 309
        },
        "id": "L6b_aYSM_j5d",
        "outputId": "fda26097-aba6-4c29-9b0c-ca1544d65e14"
      },
      "source": [
        "df.head()"
      ],
      "execution_count": 12,
      "outputs": [
        {
          "output_type": "execute_result",
          "data": {
            "text/html": [
              "<div>\n",
              "<style scoped>\n",
              "    .dataframe tbody tr th:only-of-type {\n",
              "        vertical-align: middle;\n",
              "    }\n",
              "\n",
              "    .dataframe tbody tr th {\n",
              "        vertical-align: top;\n",
              "    }\n",
              "\n",
              "    .dataframe thead th {\n",
              "        text-align: right;\n",
              "    }\n",
              "</style>\n",
              "<table border=\"1\" class=\"dataframe\">\n",
              "  <thead>\n",
              "    <tr style=\"text-align: right;\">\n",
              "      <th></th>\n",
              "      <th>iso_code</th>\n",
              "      <th>location</th>\n",
              "      <th>date</th>\n",
              "      <th>total_cases</th>\n",
              "      <th>new_cases</th>\n",
              "      <th>total_deaths</th>\n",
              "      <th>new_deaths</th>\n",
              "      <th>total_cases_per_million</th>\n",
              "      <th>new_cases_per_million</th>\n",
              "      <th>total_deaths_per_million</th>\n",
              "      <th>new_deaths_per_million</th>\n",
              "      <th>total_tests</th>\n",
              "      <th>new_tests</th>\n",
              "      <th>total_tests_per_thousand</th>\n",
              "      <th>new_tests_per_thousand</th>\n",
              "      <th>tests_units</th>\n",
              "    </tr>\n",
              "  </thead>\n",
              "  <tbody>\n",
              "    <tr>\n",
              "      <th>0</th>\n",
              "      <td>ABW</td>\n",
              "      <td>Aruba</td>\n",
              "      <td>2020-03-13</td>\n",
              "      <td>2</td>\n",
              "      <td>2</td>\n",
              "      <td>0</td>\n",
              "      <td>0</td>\n",
              "      <td>18.733</td>\n",
              "      <td>18.733</td>\n",
              "      <td>0.0</td>\n",
              "      <td>0.0</td>\n",
              "      <td>0.0</td>\n",
              "      <td>0.0</td>\n",
              "      <td>0.0</td>\n",
              "      <td>0.0</td>\n",
              "      <td>0</td>\n",
              "    </tr>\n",
              "    <tr>\n",
              "      <th>1</th>\n",
              "      <td>ABW</td>\n",
              "      <td>Aruba</td>\n",
              "      <td>2020-03-20</td>\n",
              "      <td>4</td>\n",
              "      <td>2</td>\n",
              "      <td>0</td>\n",
              "      <td>0</td>\n",
              "      <td>37.465</td>\n",
              "      <td>18.733</td>\n",
              "      <td>0.0</td>\n",
              "      <td>0.0</td>\n",
              "      <td>0.0</td>\n",
              "      <td>0.0</td>\n",
              "      <td>0.0</td>\n",
              "      <td>0.0</td>\n",
              "      <td>0</td>\n",
              "    </tr>\n",
              "    <tr>\n",
              "      <th>2</th>\n",
              "      <td>ABW</td>\n",
              "      <td>Aruba</td>\n",
              "      <td>2020-03-24</td>\n",
              "      <td>12</td>\n",
              "      <td>8</td>\n",
              "      <td>0</td>\n",
              "      <td>0</td>\n",
              "      <td>112.395</td>\n",
              "      <td>74.930</td>\n",
              "      <td>0.0</td>\n",
              "      <td>0.0</td>\n",
              "      <td>0.0</td>\n",
              "      <td>0.0</td>\n",
              "      <td>0.0</td>\n",
              "      <td>0.0</td>\n",
              "      <td>0</td>\n",
              "    </tr>\n",
              "    <tr>\n",
              "      <th>3</th>\n",
              "      <td>ABW</td>\n",
              "      <td>Aruba</td>\n",
              "      <td>2020-03-25</td>\n",
              "      <td>17</td>\n",
              "      <td>5</td>\n",
              "      <td>0</td>\n",
              "      <td>0</td>\n",
              "      <td>159.227</td>\n",
              "      <td>46.831</td>\n",
              "      <td>0.0</td>\n",
              "      <td>0.0</td>\n",
              "      <td>0.0</td>\n",
              "      <td>0.0</td>\n",
              "      <td>0.0</td>\n",
              "      <td>0.0</td>\n",
              "      <td>0</td>\n",
              "    </tr>\n",
              "    <tr>\n",
              "      <th>4</th>\n",
              "      <td>ABW</td>\n",
              "      <td>Aruba</td>\n",
              "      <td>2020-03-26</td>\n",
              "      <td>19</td>\n",
              "      <td>2</td>\n",
              "      <td>0</td>\n",
              "      <td>0</td>\n",
              "      <td>177.959</td>\n",
              "      <td>18.733</td>\n",
              "      <td>0.0</td>\n",
              "      <td>0.0</td>\n",
              "      <td>0.0</td>\n",
              "      <td>0.0</td>\n",
              "      <td>0.0</td>\n",
              "      <td>0.0</td>\n",
              "      <td>0</td>\n",
              "    </tr>\n",
              "  </tbody>\n",
              "</table>\n",
              "</div>"
            ],
            "text/plain": [
              "  iso_code location  ... new_tests_per_thousand  tests_units\n",
              "0      ABW    Aruba  ...                    0.0            0\n",
              "1      ABW    Aruba  ...                    0.0            0\n",
              "2      ABW    Aruba  ...                    0.0            0\n",
              "3      ABW    Aruba  ...                    0.0            0\n",
              "4      ABW    Aruba  ...                    0.0            0\n",
              "\n",
              "[5 rows x 16 columns]"
            ]
          },
          "metadata": {
            "tags": []
          },
          "execution_count": 12
        }
      ]
    },
    {
      "cell_type": "code",
      "metadata": {
        "id": "HFUm6ExS_j5d"
      },
      "source": [
        "#let look at new cases statistics in countries"
      ],
      "execution_count": 13,
      "outputs": []
    },
    {
      "cell_type": "code",
      "metadata": {
        "id": "Ea17uDfe_j5d"
      },
      "source": [
        "new_cases = df.groupby('location')['new_cases'].sum().sort_values(ascending = False).to_frame()"
      ],
      "execution_count": 14,
      "outputs": []
    },
    {
      "cell_type": "code",
      "metadata": {
        "colab": {
          "base_uri": "https://localhost:8080/",
          "height": 1000
        },
        "id": "nOsp1Nl-_j5d",
        "outputId": "0ffdd136-c746-47b3-a2dd-9921b15bdb68"
      },
      "source": [
        "new_cases.style.background_gradient(cmap = 'Reds')"
      ],
      "execution_count": 15,
      "outputs": [
        {
          "output_type": "execute_result",
          "data": {
            "text/html": [
              "<style  type=\"text/css\" >\n",
              "#T_9e9ed882_7514_11eb_8427_0242ac1c0002row0_col0{\n",
              "            background-color:  #67000d;\n",
              "            color:  #f1f1f1;\n",
              "        }#T_9e9ed882_7514_11eb_8427_0242ac1c0002row1_col0{\n",
              "            background-color:  #fca183;\n",
              "            color:  #000000;\n",
              "        }#T_9e9ed882_7514_11eb_8427_0242ac1c0002row2_col0{\n",
              "            background-color:  #feeae0;\n",
              "            color:  #000000;\n",
              "        }#T_9e9ed882_7514_11eb_8427_0242ac1c0002row3_col0{\n",
              "            background-color:  #feeae1;\n",
              "            color:  #000000;\n",
              "        }#T_9e9ed882_7514_11eb_8427_0242ac1c0002row4_col0,#T_9e9ed882_7514_11eb_8427_0242ac1c0002row5_col0{\n",
              "            background-color:  #ffece4;\n",
              "            color:  #000000;\n",
              "        }#T_9e9ed882_7514_11eb_8427_0242ac1c0002row6_col0{\n",
              "            background-color:  #ffeee7;\n",
              "            color:  #000000;\n",
              "        }#T_9e9ed882_7514_11eb_8427_0242ac1c0002row7_col0{\n",
              "            background-color:  #ffefe8;\n",
              "            color:  #000000;\n",
              "        }#T_9e9ed882_7514_11eb_8427_0242ac1c0002row8_col0,#T_9e9ed882_7514_11eb_8427_0242ac1c0002row9_col0,#T_9e9ed882_7514_11eb_8427_0242ac1c0002row10_col0{\n",
              "            background-color:  #fff0e9;\n",
              "            color:  #000000;\n",
              "        }#T_9e9ed882_7514_11eb_8427_0242ac1c0002row11_col0{\n",
              "            background-color:  #fff1ea;\n",
              "            color:  #000000;\n",
              "        }#T_9e9ed882_7514_11eb_8427_0242ac1c0002row12_col0{\n",
              "            background-color:  #fff2ec;\n",
              "            color:  #000000;\n",
              "        }#T_9e9ed882_7514_11eb_8427_0242ac1c0002row13_col0,#T_9e9ed882_7514_11eb_8427_0242ac1c0002row14_col0{\n",
              "            background-color:  #fff3ed;\n",
              "            color:  #000000;\n",
              "        }#T_9e9ed882_7514_11eb_8427_0242ac1c0002row15_col0,#T_9e9ed882_7514_11eb_8427_0242ac1c0002row16_col0,#T_9e9ed882_7514_11eb_8427_0242ac1c0002row17_col0,#T_9e9ed882_7514_11eb_8427_0242ac1c0002row18_col0,#T_9e9ed882_7514_11eb_8427_0242ac1c0002row19_col0{\n",
              "            background-color:  #fff4ee;\n",
              "            color:  #000000;\n",
              "        }#T_9e9ed882_7514_11eb_8427_0242ac1c0002row20_col0,#T_9e9ed882_7514_11eb_8427_0242ac1c0002row21_col0,#T_9e9ed882_7514_11eb_8427_0242ac1c0002row22_col0,#T_9e9ed882_7514_11eb_8427_0242ac1c0002row23_col0,#T_9e9ed882_7514_11eb_8427_0242ac1c0002row24_col0,#T_9e9ed882_7514_11eb_8427_0242ac1c0002row25_col0,#T_9e9ed882_7514_11eb_8427_0242ac1c0002row26_col0,#T_9e9ed882_7514_11eb_8427_0242ac1c0002row27_col0,#T_9e9ed882_7514_11eb_8427_0242ac1c0002row28_col0,#T_9e9ed882_7514_11eb_8427_0242ac1c0002row29_col0,#T_9e9ed882_7514_11eb_8427_0242ac1c0002row30_col0,#T_9e9ed882_7514_11eb_8427_0242ac1c0002row31_col0{\n",
              "            background-color:  #fff4ef;\n",
              "            color:  #000000;\n",
              "        }#T_9e9ed882_7514_11eb_8427_0242ac1c0002row32_col0,#T_9e9ed882_7514_11eb_8427_0242ac1c0002row33_col0,#T_9e9ed882_7514_11eb_8427_0242ac1c0002row34_col0,#T_9e9ed882_7514_11eb_8427_0242ac1c0002row35_col0,#T_9e9ed882_7514_11eb_8427_0242ac1c0002row36_col0,#T_9e9ed882_7514_11eb_8427_0242ac1c0002row37_col0,#T_9e9ed882_7514_11eb_8427_0242ac1c0002row38_col0,#T_9e9ed882_7514_11eb_8427_0242ac1c0002row39_col0,#T_9e9ed882_7514_11eb_8427_0242ac1c0002row40_col0,#T_9e9ed882_7514_11eb_8427_0242ac1c0002row41_col0,#T_9e9ed882_7514_11eb_8427_0242ac1c0002row42_col0,#T_9e9ed882_7514_11eb_8427_0242ac1c0002row43_col0,#T_9e9ed882_7514_11eb_8427_0242ac1c0002row44_col0,#T_9e9ed882_7514_11eb_8427_0242ac1c0002row45_col0,#T_9e9ed882_7514_11eb_8427_0242ac1c0002row46_col0,#T_9e9ed882_7514_11eb_8427_0242ac1c0002row47_col0,#T_9e9ed882_7514_11eb_8427_0242ac1c0002row48_col0,#T_9e9ed882_7514_11eb_8427_0242ac1c0002row49_col0,#T_9e9ed882_7514_11eb_8427_0242ac1c0002row50_col0,#T_9e9ed882_7514_11eb_8427_0242ac1c0002row51_col0,#T_9e9ed882_7514_11eb_8427_0242ac1c0002row52_col0,#T_9e9ed882_7514_11eb_8427_0242ac1c0002row53_col0,#T_9e9ed882_7514_11eb_8427_0242ac1c0002row54_col0,#T_9e9ed882_7514_11eb_8427_0242ac1c0002row55_col0,#T_9e9ed882_7514_11eb_8427_0242ac1c0002row56_col0,#T_9e9ed882_7514_11eb_8427_0242ac1c0002row57_col0,#T_9e9ed882_7514_11eb_8427_0242ac1c0002row58_col0,#T_9e9ed882_7514_11eb_8427_0242ac1c0002row59_col0,#T_9e9ed882_7514_11eb_8427_0242ac1c0002row60_col0,#T_9e9ed882_7514_11eb_8427_0242ac1c0002row61_col0,#T_9e9ed882_7514_11eb_8427_0242ac1c0002row62_col0,#T_9e9ed882_7514_11eb_8427_0242ac1c0002row63_col0,#T_9e9ed882_7514_11eb_8427_0242ac1c0002row64_col0,#T_9e9ed882_7514_11eb_8427_0242ac1c0002row65_col0,#T_9e9ed882_7514_11eb_8427_0242ac1c0002row66_col0,#T_9e9ed882_7514_11eb_8427_0242ac1c0002row67_col0,#T_9e9ed882_7514_11eb_8427_0242ac1c0002row68_col0,#T_9e9ed882_7514_11eb_8427_0242ac1c0002row69_col0,#T_9e9ed882_7514_11eb_8427_0242ac1c0002row70_col0,#T_9e9ed882_7514_11eb_8427_0242ac1c0002row71_col0,#T_9e9ed882_7514_11eb_8427_0242ac1c0002row72_col0,#T_9e9ed882_7514_11eb_8427_0242ac1c0002row73_col0,#T_9e9ed882_7514_11eb_8427_0242ac1c0002row74_col0,#T_9e9ed882_7514_11eb_8427_0242ac1c0002row75_col0,#T_9e9ed882_7514_11eb_8427_0242ac1c0002row76_col0,#T_9e9ed882_7514_11eb_8427_0242ac1c0002row77_col0,#T_9e9ed882_7514_11eb_8427_0242ac1c0002row78_col0,#T_9e9ed882_7514_11eb_8427_0242ac1c0002row79_col0,#T_9e9ed882_7514_11eb_8427_0242ac1c0002row80_col0,#T_9e9ed882_7514_11eb_8427_0242ac1c0002row81_col0,#T_9e9ed882_7514_11eb_8427_0242ac1c0002row82_col0,#T_9e9ed882_7514_11eb_8427_0242ac1c0002row83_col0,#T_9e9ed882_7514_11eb_8427_0242ac1c0002row84_col0,#T_9e9ed882_7514_11eb_8427_0242ac1c0002row85_col0,#T_9e9ed882_7514_11eb_8427_0242ac1c0002row86_col0,#T_9e9ed882_7514_11eb_8427_0242ac1c0002row87_col0,#T_9e9ed882_7514_11eb_8427_0242ac1c0002row88_col0,#T_9e9ed882_7514_11eb_8427_0242ac1c0002row89_col0,#T_9e9ed882_7514_11eb_8427_0242ac1c0002row90_col0,#T_9e9ed882_7514_11eb_8427_0242ac1c0002row91_col0,#T_9e9ed882_7514_11eb_8427_0242ac1c0002row92_col0,#T_9e9ed882_7514_11eb_8427_0242ac1c0002row93_col0,#T_9e9ed882_7514_11eb_8427_0242ac1c0002row94_col0,#T_9e9ed882_7514_11eb_8427_0242ac1c0002row95_col0,#T_9e9ed882_7514_11eb_8427_0242ac1c0002row96_col0,#T_9e9ed882_7514_11eb_8427_0242ac1c0002row97_col0,#T_9e9ed882_7514_11eb_8427_0242ac1c0002row98_col0,#T_9e9ed882_7514_11eb_8427_0242ac1c0002row99_col0,#T_9e9ed882_7514_11eb_8427_0242ac1c0002row100_col0,#T_9e9ed882_7514_11eb_8427_0242ac1c0002row101_col0,#T_9e9ed882_7514_11eb_8427_0242ac1c0002row102_col0,#T_9e9ed882_7514_11eb_8427_0242ac1c0002row103_col0,#T_9e9ed882_7514_11eb_8427_0242ac1c0002row104_col0,#T_9e9ed882_7514_11eb_8427_0242ac1c0002row105_col0,#T_9e9ed882_7514_11eb_8427_0242ac1c0002row106_col0,#T_9e9ed882_7514_11eb_8427_0242ac1c0002row107_col0,#T_9e9ed882_7514_11eb_8427_0242ac1c0002row108_col0,#T_9e9ed882_7514_11eb_8427_0242ac1c0002row109_col0,#T_9e9ed882_7514_11eb_8427_0242ac1c0002row110_col0,#T_9e9ed882_7514_11eb_8427_0242ac1c0002row111_col0,#T_9e9ed882_7514_11eb_8427_0242ac1c0002row112_col0,#T_9e9ed882_7514_11eb_8427_0242ac1c0002row113_col0,#T_9e9ed882_7514_11eb_8427_0242ac1c0002row114_col0,#T_9e9ed882_7514_11eb_8427_0242ac1c0002row115_col0,#T_9e9ed882_7514_11eb_8427_0242ac1c0002row116_col0,#T_9e9ed882_7514_11eb_8427_0242ac1c0002row117_col0,#T_9e9ed882_7514_11eb_8427_0242ac1c0002row118_col0,#T_9e9ed882_7514_11eb_8427_0242ac1c0002row119_col0,#T_9e9ed882_7514_11eb_8427_0242ac1c0002row120_col0,#T_9e9ed882_7514_11eb_8427_0242ac1c0002row121_col0,#T_9e9ed882_7514_11eb_8427_0242ac1c0002row122_col0,#T_9e9ed882_7514_11eb_8427_0242ac1c0002row123_col0,#T_9e9ed882_7514_11eb_8427_0242ac1c0002row124_col0,#T_9e9ed882_7514_11eb_8427_0242ac1c0002row125_col0,#T_9e9ed882_7514_11eb_8427_0242ac1c0002row126_col0,#T_9e9ed882_7514_11eb_8427_0242ac1c0002row127_col0,#T_9e9ed882_7514_11eb_8427_0242ac1c0002row128_col0,#T_9e9ed882_7514_11eb_8427_0242ac1c0002row129_col0,#T_9e9ed882_7514_11eb_8427_0242ac1c0002row130_col0,#T_9e9ed882_7514_11eb_8427_0242ac1c0002row131_col0,#T_9e9ed882_7514_11eb_8427_0242ac1c0002row132_col0,#T_9e9ed882_7514_11eb_8427_0242ac1c0002row133_col0,#T_9e9ed882_7514_11eb_8427_0242ac1c0002row134_col0,#T_9e9ed882_7514_11eb_8427_0242ac1c0002row135_col0,#T_9e9ed882_7514_11eb_8427_0242ac1c0002row136_col0,#T_9e9ed882_7514_11eb_8427_0242ac1c0002row137_col0,#T_9e9ed882_7514_11eb_8427_0242ac1c0002row138_col0,#T_9e9ed882_7514_11eb_8427_0242ac1c0002row139_col0,#T_9e9ed882_7514_11eb_8427_0242ac1c0002row140_col0,#T_9e9ed882_7514_11eb_8427_0242ac1c0002row141_col0,#T_9e9ed882_7514_11eb_8427_0242ac1c0002row142_col0,#T_9e9ed882_7514_11eb_8427_0242ac1c0002row143_col0,#T_9e9ed882_7514_11eb_8427_0242ac1c0002row144_col0,#T_9e9ed882_7514_11eb_8427_0242ac1c0002row145_col0,#T_9e9ed882_7514_11eb_8427_0242ac1c0002row146_col0,#T_9e9ed882_7514_11eb_8427_0242ac1c0002row147_col0,#T_9e9ed882_7514_11eb_8427_0242ac1c0002row148_col0,#T_9e9ed882_7514_11eb_8427_0242ac1c0002row149_col0,#T_9e9ed882_7514_11eb_8427_0242ac1c0002row150_col0,#T_9e9ed882_7514_11eb_8427_0242ac1c0002row151_col0,#T_9e9ed882_7514_11eb_8427_0242ac1c0002row152_col0,#T_9e9ed882_7514_11eb_8427_0242ac1c0002row153_col0,#T_9e9ed882_7514_11eb_8427_0242ac1c0002row154_col0,#T_9e9ed882_7514_11eb_8427_0242ac1c0002row155_col0,#T_9e9ed882_7514_11eb_8427_0242ac1c0002row156_col0,#T_9e9ed882_7514_11eb_8427_0242ac1c0002row157_col0,#T_9e9ed882_7514_11eb_8427_0242ac1c0002row158_col0,#T_9e9ed882_7514_11eb_8427_0242ac1c0002row159_col0,#T_9e9ed882_7514_11eb_8427_0242ac1c0002row160_col0,#T_9e9ed882_7514_11eb_8427_0242ac1c0002row161_col0,#T_9e9ed882_7514_11eb_8427_0242ac1c0002row162_col0,#T_9e9ed882_7514_11eb_8427_0242ac1c0002row163_col0,#T_9e9ed882_7514_11eb_8427_0242ac1c0002row164_col0,#T_9e9ed882_7514_11eb_8427_0242ac1c0002row165_col0,#T_9e9ed882_7514_11eb_8427_0242ac1c0002row166_col0,#T_9e9ed882_7514_11eb_8427_0242ac1c0002row167_col0,#T_9e9ed882_7514_11eb_8427_0242ac1c0002row168_col0,#T_9e9ed882_7514_11eb_8427_0242ac1c0002row169_col0,#T_9e9ed882_7514_11eb_8427_0242ac1c0002row170_col0,#T_9e9ed882_7514_11eb_8427_0242ac1c0002row171_col0,#T_9e9ed882_7514_11eb_8427_0242ac1c0002row172_col0,#T_9e9ed882_7514_11eb_8427_0242ac1c0002row173_col0,#T_9e9ed882_7514_11eb_8427_0242ac1c0002row174_col0,#T_9e9ed882_7514_11eb_8427_0242ac1c0002row175_col0,#T_9e9ed882_7514_11eb_8427_0242ac1c0002row176_col0,#T_9e9ed882_7514_11eb_8427_0242ac1c0002row177_col0,#T_9e9ed882_7514_11eb_8427_0242ac1c0002row178_col0,#T_9e9ed882_7514_11eb_8427_0242ac1c0002row179_col0,#T_9e9ed882_7514_11eb_8427_0242ac1c0002row180_col0,#T_9e9ed882_7514_11eb_8427_0242ac1c0002row181_col0,#T_9e9ed882_7514_11eb_8427_0242ac1c0002row182_col0,#T_9e9ed882_7514_11eb_8427_0242ac1c0002row183_col0,#T_9e9ed882_7514_11eb_8427_0242ac1c0002row184_col0,#T_9e9ed882_7514_11eb_8427_0242ac1c0002row185_col0,#T_9e9ed882_7514_11eb_8427_0242ac1c0002row186_col0,#T_9e9ed882_7514_11eb_8427_0242ac1c0002row187_col0,#T_9e9ed882_7514_11eb_8427_0242ac1c0002row188_col0,#T_9e9ed882_7514_11eb_8427_0242ac1c0002row189_col0,#T_9e9ed882_7514_11eb_8427_0242ac1c0002row190_col0,#T_9e9ed882_7514_11eb_8427_0242ac1c0002row191_col0,#T_9e9ed882_7514_11eb_8427_0242ac1c0002row192_col0,#T_9e9ed882_7514_11eb_8427_0242ac1c0002row193_col0,#T_9e9ed882_7514_11eb_8427_0242ac1c0002row194_col0,#T_9e9ed882_7514_11eb_8427_0242ac1c0002row195_col0,#T_9e9ed882_7514_11eb_8427_0242ac1c0002row196_col0,#T_9e9ed882_7514_11eb_8427_0242ac1c0002row197_col0,#T_9e9ed882_7514_11eb_8427_0242ac1c0002row198_col0,#T_9e9ed882_7514_11eb_8427_0242ac1c0002row199_col0,#T_9e9ed882_7514_11eb_8427_0242ac1c0002row200_col0,#T_9e9ed882_7514_11eb_8427_0242ac1c0002row201_col0,#T_9e9ed882_7514_11eb_8427_0242ac1c0002row202_col0,#T_9e9ed882_7514_11eb_8427_0242ac1c0002row203_col0,#T_9e9ed882_7514_11eb_8427_0242ac1c0002row204_col0,#T_9e9ed882_7514_11eb_8427_0242ac1c0002row205_col0,#T_9e9ed882_7514_11eb_8427_0242ac1c0002row206_col0,#T_9e9ed882_7514_11eb_8427_0242ac1c0002row207_col0,#T_9e9ed882_7514_11eb_8427_0242ac1c0002row208_col0{\n",
              "            background-color:  #fff5f0;\n",
              "            color:  #000000;\n",
              "        }</style><table id=\"T_9e9ed882_7514_11eb_8427_0242ac1c0002\" ><thead>    <tr>        <th class=\"blank level0\" ></th>        <th class=\"col_heading level0 col0\" >new_cases</th>    </tr>    <tr>        <th class=\"index_name level0\" >location</th>        <th class=\"blank\" ></th>    </tr></thead><tbody>\n",
              "                <tr>\n",
              "                        <th id=\"T_9e9ed882_7514_11eb_8427_0242ac1c0002level0_row0\" class=\"row_heading level0 row0\" >World</th>\n",
              "                        <td id=\"T_9e9ed882_7514_11eb_8427_0242ac1c0002row0_col0\" class=\"data row0 col0\" >3052370</td>\n",
              "            </tr>\n",
              "            <tr>\n",
              "                        <th id=\"T_9e9ed882_7514_11eb_8427_0242ac1c0002level0_row1\" class=\"row_heading level0 row1\" >United States</th>\n",
              "                        <td id=\"T_9e9ed882_7514_11eb_8427_0242ac1c0002row1_col0\" class=\"data row1 col0\" >1012583</td>\n",
              "            </tr>\n",
              "            <tr>\n",
              "                        <th id=\"T_9e9ed882_7514_11eb_8427_0242ac1c0002level0_row2\" class=\"row_heading level0 row2\" >Spain</th>\n",
              "                        <td id=\"T_9e9ed882_7514_11eb_8427_0242ac1c0002row2_col0\" class=\"data row2 col0\" >210773</td>\n",
              "            </tr>\n",
              "            <tr>\n",
              "                        <th id=\"T_9e9ed882_7514_11eb_8427_0242ac1c0002level0_row3\" class=\"row_heading level0 row3\" >Italy</th>\n",
              "                        <td id=\"T_9e9ed882_7514_11eb_8427_0242ac1c0002row3_col0\" class=\"data row3 col0\" >201505</td>\n",
              "            </tr>\n",
              "            <tr>\n",
              "                        <th id=\"T_9e9ed882_7514_11eb_8427_0242ac1c0002level0_row4\" class=\"row_heading level0 row4\" >United Kingdom</th>\n",
              "                        <td id=\"T_9e9ed882_7514_11eb_8427_0242ac1c0002row4_col0\" class=\"data row4 col0\" >161145</td>\n",
              "            </tr>\n",
              "            <tr>\n",
              "                        <th id=\"T_9e9ed882_7514_11eb_8427_0242ac1c0002level0_row5\" class=\"row_heading level0 row5\" >Germany</th>\n",
              "                        <td id=\"T_9e9ed882_7514_11eb_8427_0242ac1c0002row5_col0\" class=\"data row5 col0\" >157641</td>\n",
              "            </tr>\n",
              "            <tr>\n",
              "                        <th id=\"T_9e9ed882_7514_11eb_8427_0242ac1c0002level0_row6\" class=\"row_heading level0 row6\" >France</th>\n",
              "                        <td id=\"T_9e9ed882_7514_11eb_8427_0242ac1c0002row6_col0\" class=\"data row6 col0\" >126835</td>\n",
              "            </tr>\n",
              "            <tr>\n",
              "                        <th id=\"T_9e9ed882_7514_11eb_8427_0242ac1c0002level0_row7\" class=\"row_heading level0 row7\" >Turkey</th>\n",
              "                        <td id=\"T_9e9ed882_7514_11eb_8427_0242ac1c0002row7_col0\" class=\"data row7 col0\" >114653</td>\n",
              "            </tr>\n",
              "            <tr>\n",
              "                        <th id=\"T_9e9ed882_7514_11eb_8427_0242ac1c0002level0_row8\" class=\"row_heading level0 row8\" >Russia</th>\n",
              "                        <td id=\"T_9e9ed882_7514_11eb_8427_0242ac1c0002row8_col0\" class=\"data row8 col0\" >93558</td>\n",
              "            </tr>\n",
              "            <tr>\n",
              "                        <th id=\"T_9e9ed882_7514_11eb_8427_0242ac1c0002level0_row9\" class=\"row_heading level0 row9\" >Iran</th>\n",
              "                        <td id=\"T_9e9ed882_7514_11eb_8427_0242ac1c0002row9_col0\" class=\"data row9 col0\" >92584</td>\n",
              "            </tr>\n",
              "            <tr>\n",
              "                        <th id=\"T_9e9ed882_7514_11eb_8427_0242ac1c0002level0_row10\" class=\"row_heading level0 row10\" >China</th>\n",
              "                        <td id=\"T_9e9ed882_7514_11eb_8427_0242ac1c0002row10_col0\" class=\"data row10 col0\" >83940</td>\n",
              "            </tr>\n",
              "            <tr>\n",
              "                        <th id=\"T_9e9ed882_7514_11eb_8427_0242ac1c0002level0_row11\" class=\"row_heading level0 row11\" >Brazil</th>\n",
              "                        <td id=\"T_9e9ed882_7514_11eb_8427_0242ac1c0002row11_col0\" class=\"data row11 col0\" >71886</td>\n",
              "            </tr>\n",
              "            <tr>\n",
              "                        <th id=\"T_9e9ed882_7514_11eb_8427_0242ac1c0002level0_row12\" class=\"row_heading level0 row12\" >Canada</th>\n",
              "                        <td id=\"T_9e9ed882_7514_11eb_8427_0242ac1c0002row12_col0\" class=\"data row12 col0\" >50015</td>\n",
              "            </tr>\n",
              "            <tr>\n",
              "                        <th id=\"T_9e9ed882_7514_11eb_8427_0242ac1c0002level0_row13\" class=\"row_heading level0 row13\" >Belgium</th>\n",
              "                        <td id=\"T_9e9ed882_7514_11eb_8427_0242ac1c0002row13_col0\" class=\"data row13 col0\" >47334</td>\n",
              "            </tr>\n",
              "            <tr>\n",
              "                        <th id=\"T_9e9ed882_7514_11eb_8427_0242ac1c0002level0_row14\" class=\"row_heading level0 row14\" >Netherlands</th>\n",
              "                        <td id=\"T_9e9ed882_7514_11eb_8427_0242ac1c0002row14_col0\" class=\"data row14 col0\" >38416</td>\n",
              "            </tr>\n",
              "            <tr>\n",
              "                        <th id=\"T_9e9ed882_7514_11eb_8427_0242ac1c0002level0_row15\" class=\"row_heading level0 row15\" >India</th>\n",
              "                        <td id=\"T_9e9ed882_7514_11eb_8427_0242ac1c0002row15_col0\" class=\"data row15 col0\" >31332</td>\n",
              "            </tr>\n",
              "            <tr>\n",
              "                        <th id=\"T_9e9ed882_7514_11eb_8427_0242ac1c0002level0_row16\" class=\"row_heading level0 row16\" >Peru</th>\n",
              "                        <td id=\"T_9e9ed882_7514_11eb_8427_0242ac1c0002row16_col0\" class=\"data row16 col0\" >31190</td>\n",
              "            </tr>\n",
              "            <tr>\n",
              "                        <th id=\"T_9e9ed882_7514_11eb_8427_0242ac1c0002level0_row17\" class=\"row_heading level0 row17\" >Switzerland</th>\n",
              "                        <td id=\"T_9e9ed882_7514_11eb_8427_0242ac1c0002row17_col0\" class=\"data row17 col0\" >29181</td>\n",
              "            </tr>\n",
              "            <tr>\n",
              "                        <th id=\"T_9e9ed882_7514_11eb_8427_0242ac1c0002level0_row18\" class=\"row_heading level0 row18\" >Portugal</th>\n",
              "                        <td id=\"T_9e9ed882_7514_11eb_8427_0242ac1c0002row18_col0\" class=\"data row18 col0\" >24322</td>\n",
              "            </tr>\n",
              "            <tr>\n",
              "                        <th id=\"T_9e9ed882_7514_11eb_8427_0242ac1c0002level0_row19\" class=\"row_heading level0 row19\" >Ecuador</th>\n",
              "                        <td id=\"T_9e9ed882_7514_11eb_8427_0242ac1c0002row19_col0\" class=\"data row19 col0\" >24258</td>\n",
              "            </tr>\n",
              "            <tr>\n",
              "                        <th id=\"T_9e9ed882_7514_11eb_8427_0242ac1c0002level0_row20\" class=\"row_heading level0 row20\" >Saudi Arabia</th>\n",
              "                        <td id=\"T_9e9ed882_7514_11eb_8427_0242ac1c0002row20_col0\" class=\"data row20 col0\" >20077</td>\n",
              "            </tr>\n",
              "            <tr>\n",
              "                        <th id=\"T_9e9ed882_7514_11eb_8427_0242ac1c0002level0_row21\" class=\"row_heading level0 row21\" >Ireland</th>\n",
              "                        <td id=\"T_9e9ed882_7514_11eb_8427_0242ac1c0002row21_col0\" class=\"data row21 col0\" >19877</td>\n",
              "            </tr>\n",
              "            <tr>\n",
              "                        <th id=\"T_9e9ed882_7514_11eb_8427_0242ac1c0002level0_row22\" class=\"row_heading level0 row22\" >Sweden</th>\n",
              "                        <td id=\"T_9e9ed882_7514_11eb_8427_0242ac1c0002row22_col0\" class=\"data row22 col0\" >19621</td>\n",
              "            </tr>\n",
              "            <tr>\n",
              "                        <th id=\"T_9e9ed882_7514_11eb_8427_0242ac1c0002level0_row23\" class=\"row_heading level0 row23\" >Mexico</th>\n",
              "                        <td id=\"T_9e9ed882_7514_11eb_8427_0242ac1c0002row23_col0\" class=\"data row23 col0\" >16752</td>\n",
              "            </tr>\n",
              "            <tr>\n",
              "                        <th id=\"T_9e9ed882_7514_11eb_8427_0242ac1c0002level0_row24\" class=\"row_heading level0 row24\" >Israel</th>\n",
              "                        <td id=\"T_9e9ed882_7514_11eb_8427_0242ac1c0002row24_col0\" class=\"data row24 col0\" >15589</td>\n",
              "            </tr>\n",
              "            <tr>\n",
              "                        <th id=\"T_9e9ed882_7514_11eb_8427_0242ac1c0002level0_row25\" class=\"row_heading level0 row25\" >Austria</th>\n",
              "                        <td id=\"T_9e9ed882_7514_11eb_8427_0242ac1c0002row25_col0\" class=\"data row25 col0\" >15314</td>\n",
              "            </tr>\n",
              "            <tr>\n",
              "                        <th id=\"T_9e9ed882_7514_11eb_8427_0242ac1c0002level0_row26\" class=\"row_heading level0 row26\" >Singapore</th>\n",
              "                        <td id=\"T_9e9ed882_7514_11eb_8427_0242ac1c0002row26_col0\" class=\"data row26 col0\" >14951</td>\n",
              "            </tr>\n",
              "            <tr>\n",
              "                        <th id=\"T_9e9ed882_7514_11eb_8427_0242ac1c0002level0_row27\" class=\"row_heading level0 row27\" >Pakistan</th>\n",
              "                        <td id=\"T_9e9ed882_7514_11eb_8427_0242ac1c0002row27_col0\" class=\"data row27 col0\" >14885</td>\n",
              "            </tr>\n",
              "            <tr>\n",
              "                        <th id=\"T_9e9ed882_7514_11eb_8427_0242ac1c0002level0_row28\" class=\"row_heading level0 row28\" >Chile</th>\n",
              "                        <td id=\"T_9e9ed882_7514_11eb_8427_0242ac1c0002row28_col0\" class=\"data row28 col0\" >14365</td>\n",
              "            </tr>\n",
              "            <tr>\n",
              "                        <th id=\"T_9e9ed882_7514_11eb_8427_0242ac1c0002level0_row29\" class=\"row_heading level0 row29\" >Japan</th>\n",
              "                        <td id=\"T_9e9ed882_7514_11eb_8427_0242ac1c0002row29_col0\" class=\"data row29 col0\" >13852</td>\n",
              "            </tr>\n",
              "            <tr>\n",
              "                        <th id=\"T_9e9ed882_7514_11eb_8427_0242ac1c0002level0_row30\" class=\"row_heading level0 row30\" >Poland</th>\n",
              "                        <td id=\"T_9e9ed882_7514_11eb_8427_0242ac1c0002row30_col0\" class=\"data row30 col0\" >12218</td>\n",
              "            </tr>\n",
              "            <tr>\n",
              "                        <th id=\"T_9e9ed882_7514_11eb_8427_0242ac1c0002level0_row31\" class=\"row_heading level0 row31\" >Belarus</th>\n",
              "                        <td id=\"T_9e9ed882_7514_11eb_8427_0242ac1c0002row31_col0\" class=\"data row31 col0\" >12208</td>\n",
              "            </tr>\n",
              "            <tr>\n",
              "                        <th id=\"T_9e9ed882_7514_11eb_8427_0242ac1c0002level0_row32\" class=\"row_heading level0 row32\" >Qatar</th>\n",
              "                        <td id=\"T_9e9ed882_7514_11eb_8427_0242ac1c0002row32_col0\" class=\"data row32 col0\" >11921</td>\n",
              "            </tr>\n",
              "            <tr>\n",
              "                        <th id=\"T_9e9ed882_7514_11eb_8427_0242ac1c0002level0_row33\" class=\"row_heading level0 row33\" >Romania</th>\n",
              "                        <td id=\"T_9e9ed882_7514_11eb_8427_0242ac1c0002row33_col0\" class=\"data row33 col0\" >11616</td>\n",
              "            </tr>\n",
              "            <tr>\n",
              "                        <th id=\"T_9e9ed882_7514_11eb_8427_0242ac1c0002level0_row34\" class=\"row_heading level0 row34\" >United Arab Emirates</th>\n",
              "                        <td id=\"T_9e9ed882_7514_11eb_8427_0242ac1c0002row34_col0\" class=\"data row34 col0\" >11380</td>\n",
              "            </tr>\n",
              "            <tr>\n",
              "                        <th id=\"T_9e9ed882_7514_11eb_8427_0242ac1c0002level0_row35\" class=\"row_heading level0 row35\" >South Korea</th>\n",
              "                        <td id=\"T_9e9ed882_7514_11eb_8427_0242ac1c0002row35_col0\" class=\"data row35 col0\" >10761</td>\n",
              "            </tr>\n",
              "            <tr>\n",
              "                        <th id=\"T_9e9ed882_7514_11eb_8427_0242ac1c0002level0_row36\" class=\"row_heading level0 row36\" >Indonesia</th>\n",
              "                        <td id=\"T_9e9ed882_7514_11eb_8427_0242ac1c0002row36_col0\" class=\"data row36 col0\" >9511</td>\n",
              "            </tr>\n",
              "            <tr>\n",
              "                        <th id=\"T_9e9ed882_7514_11eb_8427_0242ac1c0002level0_row37\" class=\"row_heading level0 row37\" >Ukraine</th>\n",
              "                        <td id=\"T_9e9ed882_7514_11eb_8427_0242ac1c0002row37_col0\" class=\"data row37 col0\" >9410</td>\n",
              "            </tr>\n",
              "            <tr>\n",
              "                        <th id=\"T_9e9ed882_7514_11eb_8427_0242ac1c0002level0_row38\" class=\"row_heading level0 row38\" >Denmark</th>\n",
              "                        <td id=\"T_9e9ed882_7514_11eb_8427_0242ac1c0002row38_col0\" class=\"data row38 col0\" >8851</td>\n",
              "            </tr>\n",
              "            <tr>\n",
              "                        <th id=\"T_9e9ed882_7514_11eb_8427_0242ac1c0002level0_row39\" class=\"row_heading level0 row39\" >Serbia</th>\n",
              "                        <td id=\"T_9e9ed882_7514_11eb_8427_0242ac1c0002row39_col0\" class=\"data row39 col0\" >8497</td>\n",
              "            </tr>\n",
              "            <tr>\n",
              "                        <th id=\"T_9e9ed882_7514_11eb_8427_0242ac1c0002level0_row40\" class=\"row_heading level0 row40\" >Philippines</th>\n",
              "                        <td id=\"T_9e9ed882_7514_11eb_8427_0242ac1c0002row40_col0\" class=\"data row40 col0\" >7958</td>\n",
              "            </tr>\n",
              "            <tr>\n",
              "                        <th id=\"T_9e9ed882_7514_11eb_8427_0242ac1c0002level0_row41\" class=\"row_heading level0 row41\" >Norway</th>\n",
              "                        <td id=\"T_9e9ed882_7514_11eb_8427_0242ac1c0002row41_col0\" class=\"data row41 col0\" >7605</td>\n",
              "            </tr>\n",
              "            <tr>\n",
              "                        <th id=\"T_9e9ed882_7514_11eb_8427_0242ac1c0002level0_row42\" class=\"row_heading level0 row42\" >Czech Republic</th>\n",
              "                        <td id=\"T_9e9ed882_7514_11eb_8427_0242ac1c0002row42_col0\" class=\"data row42 col0\" >7504</td>\n",
              "            </tr>\n",
              "            <tr>\n",
              "                        <th id=\"T_9e9ed882_7514_11eb_8427_0242ac1c0002level0_row43\" class=\"row_heading level0 row43\" >Australia</th>\n",
              "                        <td id=\"T_9e9ed882_7514_11eb_8427_0242ac1c0002row43_col0\" class=\"data row43 col0\" >6738</td>\n",
              "            </tr>\n",
              "            <tr>\n",
              "                        <th id=\"T_9e9ed882_7514_11eb_8427_0242ac1c0002level0_row44\" class=\"row_heading level0 row44\" >Bangladesh</th>\n",
              "                        <td id=\"T_9e9ed882_7514_11eb_8427_0242ac1c0002row44_col0\" class=\"data row44 col0\" >6462</td>\n",
              "            </tr>\n",
              "            <tr>\n",
              "                        <th id=\"T_9e9ed882_7514_11eb_8427_0242ac1c0002level0_row45\" class=\"row_heading level0 row45\" >Dominican Republic</th>\n",
              "                        <td id=\"T_9e9ed882_7514_11eb_8427_0242ac1c0002row45_col0\" class=\"data row45 col0\" >6416</td>\n",
              "            </tr>\n",
              "            <tr>\n",
              "                        <th id=\"T_9e9ed882_7514_11eb_8427_0242ac1c0002level0_row46\" class=\"row_heading level0 row46\" >Panama</th>\n",
              "                        <td id=\"T_9e9ed882_7514_11eb_8427_0242ac1c0002row46_col0\" class=\"data row46 col0\" >6200</td>\n",
              "            </tr>\n",
              "            <tr>\n",
              "                        <th id=\"T_9e9ed882_7514_11eb_8427_0242ac1c0002level0_row47\" class=\"row_heading level0 row47\" >Colombia</th>\n",
              "                        <td id=\"T_9e9ed882_7514_11eb_8427_0242ac1c0002row47_col0\" class=\"data row47 col0\" >5949</td>\n",
              "            </tr>\n",
              "            <tr>\n",
              "                        <th id=\"T_9e9ed882_7514_11eb_8427_0242ac1c0002level0_row48\" class=\"row_heading level0 row48\" >Malaysia</th>\n",
              "                        <td id=\"T_9e9ed882_7514_11eb_8427_0242ac1c0002row48_col0\" class=\"data row48 col0\" >5851</td>\n",
              "            </tr>\n",
              "            <tr>\n",
              "                        <th id=\"T_9e9ed882_7514_11eb_8427_0242ac1c0002level0_row49\" class=\"row_heading level0 row49\" >Egypt</th>\n",
              "                        <td id=\"T_9e9ed882_7514_11eb_8427_0242ac1c0002row49_col0\" class=\"data row49 col0\" >5042</td>\n",
              "            </tr>\n",
              "            <tr>\n",
              "                        <th id=\"T_9e9ed882_7514_11eb_8427_0242ac1c0002level0_row50\" class=\"row_heading level0 row50\" >South Africa</th>\n",
              "                        <td id=\"T_9e9ed882_7514_11eb_8427_0242ac1c0002row50_col0\" class=\"data row50 col0\" >4996</td>\n",
              "            </tr>\n",
              "            <tr>\n",
              "                        <th id=\"T_9e9ed882_7514_11eb_8427_0242ac1c0002level0_row51\" class=\"row_heading level0 row51\" >Finland</th>\n",
              "                        <td id=\"T_9e9ed882_7514_11eb_8427_0242ac1c0002row51_col0\" class=\"data row51 col0\" >4740</td>\n",
              "            </tr>\n",
              "            <tr>\n",
              "                        <th id=\"T_9e9ed882_7514_11eb_8427_0242ac1c0002level0_row52\" class=\"row_heading level0 row52\" >Morocco</th>\n",
              "                        <td id=\"T_9e9ed882_7514_11eb_8427_0242ac1c0002row52_col0\" class=\"data row52 col0\" >4252</td>\n",
              "            </tr>\n",
              "            <tr>\n",
              "                        <th id=\"T_9e9ed882_7514_11eb_8427_0242ac1c0002level0_row53\" class=\"row_heading level0 row53\" >Argentina</th>\n",
              "                        <td id=\"T_9e9ed882_7514_11eb_8427_0242ac1c0002row53_col0\" class=\"data row53 col0\" >4114</td>\n",
              "            </tr>\n",
              "            <tr>\n",
              "                        <th id=\"T_9e9ed882_7514_11eb_8427_0242ac1c0002level0_row54\" class=\"row_heading level0 row54\" >Luxembourg</th>\n",
              "                        <td id=\"T_9e9ed882_7514_11eb_8427_0242ac1c0002row54_col0\" class=\"data row54 col0\" >3741</td>\n",
              "            </tr>\n",
              "            <tr>\n",
              "                        <th id=\"T_9e9ed882_7514_11eb_8427_0242ac1c0002level0_row55\" class=\"row_heading level0 row55\" >Algeria</th>\n",
              "                        <td id=\"T_9e9ed882_7514_11eb_8427_0242ac1c0002row55_col0\" class=\"data row55 col0\" >3649</td>\n",
              "            </tr>\n",
              "            <tr>\n",
              "                        <th id=\"T_9e9ed882_7514_11eb_8427_0242ac1c0002level0_row56\" class=\"row_heading level0 row56\" >Moldova</th>\n",
              "                        <td id=\"T_9e9ed882_7514_11eb_8427_0242ac1c0002row56_col0\" class=\"data row56 col0\" >3638</td>\n",
              "            </tr>\n",
              "            <tr>\n",
              "                        <th id=\"T_9e9ed882_7514_11eb_8427_0242ac1c0002level0_row57\" class=\"row_heading level0 row57\" >Kuwait</th>\n",
              "                        <td id=\"T_9e9ed882_7514_11eb_8427_0242ac1c0002row57_col0\" class=\"data row57 col0\" >3440</td>\n",
              "            </tr>\n",
              "            <tr>\n",
              "                        <th id=\"T_9e9ed882_7514_11eb_8427_0242ac1c0002level0_row58\" class=\"row_heading level0 row58\" >Kazakhstan</th>\n",
              "                        <td id=\"T_9e9ed882_7514_11eb_8427_0242ac1c0002row58_col0\" class=\"data row58 col0\" >3063</td>\n",
              "            </tr>\n",
              "            <tr>\n",
              "                        <th id=\"T_9e9ed882_7514_11eb_8427_0242ac1c0002level0_row59\" class=\"row_heading level0 row59\" >Thailand</th>\n",
              "                        <td id=\"T_9e9ed882_7514_11eb_8427_0242ac1c0002row59_col0\" class=\"data row59 col0\" >2938</td>\n",
              "            </tr>\n",
              "            <tr>\n",
              "                        <th id=\"T_9e9ed882_7514_11eb_8427_0242ac1c0002level0_row60\" class=\"row_heading level0 row60\" >Bahrain</th>\n",
              "                        <td id=\"T_9e9ed882_7514_11eb_8427_0242ac1c0002row60_col0\" class=\"data row60 col0\" >2811</td>\n",
              "            </tr>\n",
              "            <tr>\n",
              "                        <th id=\"T_9e9ed882_7514_11eb_8427_0242ac1c0002level0_row61\" class=\"row_heading level0 row61\" >Hungary</th>\n",
              "                        <td id=\"T_9e9ed882_7514_11eb_8427_0242ac1c0002row61_col0\" class=\"data row61 col0\" >2727</td>\n",
              "            </tr>\n",
              "            <tr>\n",
              "                        <th id=\"T_9e9ed882_7514_11eb_8427_0242ac1c0002level0_row62\" class=\"row_heading level0 row62\" >Greece</th>\n",
              "                        <td id=\"T_9e9ed882_7514_11eb_8427_0242ac1c0002row62_col0\" class=\"data row62 col0\" >2534</td>\n",
              "            </tr>\n",
              "            <tr>\n",
              "                        <th id=\"T_9e9ed882_7514_11eb_8427_0242ac1c0002level0_row63\" class=\"row_heading level0 row63\" >Oman</th>\n",
              "                        <td id=\"T_9e9ed882_7514_11eb_8427_0242ac1c0002row63_col0\" class=\"data row63 col0\" >2131</td>\n",
              "            </tr>\n",
              "            <tr>\n",
              "                        <th id=\"T_9e9ed882_7514_11eb_8427_0242ac1c0002level0_row64\" class=\"row_heading level0 row64\" >Croatia</th>\n",
              "                        <td id=\"T_9e9ed882_7514_11eb_8427_0242ac1c0002row64_col0\" class=\"data row64 col0\" >2047</td>\n",
              "            </tr>\n",
              "            <tr>\n",
              "                        <th id=\"T_9e9ed882_7514_11eb_8427_0242ac1c0002level0_row65\" class=\"row_heading level0 row65\" >Uzbekistan</th>\n",
              "                        <td id=\"T_9e9ed882_7514_11eb_8427_0242ac1c0002row65_col0\" class=\"data row65 col0\" >1939</td>\n",
              "            </tr>\n",
              "            <tr>\n",
              "                        <th id=\"T_9e9ed882_7514_11eb_8427_0242ac1c0002level0_row66\" class=\"row_heading level0 row66\" >Armenia</th>\n",
              "                        <td id=\"T_9e9ed882_7514_11eb_8427_0242ac1c0002row66_col0\" class=\"data row66 col0\" >1932</td>\n",
              "            </tr>\n",
              "            <tr>\n",
              "                        <th id=\"T_9e9ed882_7514_11eb_8427_0242ac1c0002level0_row67\" class=\"row_heading level0 row67\" >Iraq</th>\n",
              "                        <td id=\"T_9e9ed882_7514_11eb_8427_0242ac1c0002row67_col0\" class=\"data row67 col0\" >1847</td>\n",
              "            </tr>\n",
              "            <tr>\n",
              "                        <th id=\"T_9e9ed882_7514_11eb_8427_0242ac1c0002level0_row68\" class=\"row_heading level0 row68\" >Afghanistan</th>\n",
              "                        <td id=\"T_9e9ed882_7514_11eb_8427_0242ac1c0002row68_col0\" class=\"data row68 col0\" >1827</td>\n",
              "            </tr>\n",
              "            <tr>\n",
              "                        <th id=\"T_9e9ed882_7514_11eb_8427_0242ac1c0002level0_row69\" class=\"row_heading level0 row69\" >Cameroon</th>\n",
              "                        <td id=\"T_9e9ed882_7514_11eb_8427_0242ac1c0002row69_col0\" class=\"data row69 col0\" >1806</td>\n",
              "            </tr>\n",
              "            <tr>\n",
              "                        <th id=\"T_9e9ed882_7514_11eb_8427_0242ac1c0002level0_row70\" class=\"row_heading level0 row70\" >Iceland</th>\n",
              "                        <td id=\"T_9e9ed882_7514_11eb_8427_0242ac1c0002row70_col0\" class=\"data row70 col0\" >1795</td>\n",
              "            </tr>\n",
              "            <tr>\n",
              "                        <th id=\"T_9e9ed882_7514_11eb_8427_0242ac1c0002level0_row71\" class=\"row_heading level0 row71\" >Azerbaijan</th>\n",
              "                        <td id=\"T_9e9ed882_7514_11eb_8427_0242ac1c0002row71_col0\" class=\"data row71 col0\" >1717</td>\n",
              "            </tr>\n",
              "            <tr>\n",
              "                        <th id=\"T_9e9ed882_7514_11eb_8427_0242ac1c0002level0_row72\" class=\"row_heading level0 row72\" >Ghana</th>\n",
              "                        <td id=\"T_9e9ed882_7514_11eb_8427_0242ac1c0002row72_col0\" class=\"data row72 col0\" >1671</td>\n",
              "            </tr>\n",
              "            <tr>\n",
              "                        <th id=\"T_9e9ed882_7514_11eb_8427_0242ac1c0002level0_row73\" class=\"row_heading level0 row73\" >Estonia</th>\n",
              "                        <td id=\"T_9e9ed882_7514_11eb_8427_0242ac1c0002row73_col0\" class=\"data row73 col0\" >1660</td>\n",
              "            </tr>\n",
              "            <tr>\n",
              "                        <th id=\"T_9e9ed882_7514_11eb_8427_0242ac1c0002level0_row74\" class=\"row_heading level0 row74\" >Bosnia and Herzegovina</th>\n",
              "                        <td id=\"T_9e9ed882_7514_11eb_8427_0242ac1c0002row74_col0\" class=\"data row74 col0\" >1588</td>\n",
              "            </tr>\n",
              "            <tr>\n",
              "                        <th id=\"T_9e9ed882_7514_11eb_8427_0242ac1c0002level0_row75\" class=\"row_heading level0 row75\" >Nigeria</th>\n",
              "                        <td id=\"T_9e9ed882_7514_11eb_8427_0242ac1c0002row75_col0\" class=\"data row75 col0\" >1532</td>\n",
              "            </tr>\n",
              "            <tr>\n",
              "                        <th id=\"T_9e9ed882_7514_11eb_8427_0242ac1c0002level0_row76\" class=\"row_heading level0 row76\" >Lithuania</th>\n",
              "                        <td id=\"T_9e9ed882_7514_11eb_8427_0242ac1c0002row76_col0\" class=\"data row76 col0\" >1449</td>\n",
              "            </tr>\n",
              "            <tr>\n",
              "                        <th id=\"T_9e9ed882_7514_11eb_8427_0242ac1c0002level0_row77\" class=\"row_heading level0 row77\" >Cuba</th>\n",
              "                        <td id=\"T_9e9ed882_7514_11eb_8427_0242ac1c0002row77_col0\" class=\"data row77 col0\" >1437</td>\n",
              "            </tr>\n",
              "            <tr>\n",
              "                        <th id=\"T_9e9ed882_7514_11eb_8427_0242ac1c0002level0_row78\" class=\"row_heading level0 row78\" >Macedonia</th>\n",
              "                        <td id=\"T_9e9ed882_7514_11eb_8427_0242ac1c0002row78_col0\" class=\"data row78 col0\" >1421</td>\n",
              "            </tr>\n",
              "            <tr>\n",
              "                        <th id=\"T_9e9ed882_7514_11eb_8427_0242ac1c0002level0_row79\" class=\"row_heading level0 row79\" >Slovenia</th>\n",
              "                        <td id=\"T_9e9ed882_7514_11eb_8427_0242ac1c0002row79_col0\" class=\"data row79 col0\" >1408</td>\n",
              "            </tr>\n",
              "            <tr>\n",
              "                        <th id=\"T_9e9ed882_7514_11eb_8427_0242ac1c0002level0_row80\" class=\"row_heading level0 row80\" >Puerto Rico</th>\n",
              "                        <td id=\"T_9e9ed882_7514_11eb_8427_0242ac1c0002row80_col0\" class=\"data row80 col0\" >1400</td>\n",
              "            </tr>\n",
              "            <tr>\n",
              "                        <th id=\"T_9e9ed882_7514_11eb_8427_0242ac1c0002level0_row81\" class=\"row_heading level0 row81\" >Bulgaria</th>\n",
              "                        <td id=\"T_9e9ed882_7514_11eb_8427_0242ac1c0002row81_col0\" class=\"data row81 col0\" >1399</td>\n",
              "            </tr>\n",
              "            <tr>\n",
              "                        <th id=\"T_9e9ed882_7514_11eb_8427_0242ac1c0002level0_row82\" class=\"row_heading level0 row82\" >Slovakia</th>\n",
              "                        <td id=\"T_9e9ed882_7514_11eb_8427_0242ac1c0002row82_col0\" class=\"data row82 col0\" >1384</td>\n",
              "            </tr>\n",
              "            <tr>\n",
              "                        <th id=\"T_9e9ed882_7514_11eb_8427_0242ac1c0002level0_row83\" class=\"row_heading level0 row83\" >Guinea</th>\n",
              "                        <td id=\"T_9e9ed882_7514_11eb_8427_0242ac1c0002row83_col0\" class=\"data row83 col0\" >1240</td>\n",
              "            </tr>\n",
              "            <tr>\n",
              "                        <th id=\"T_9e9ed882_7514_11eb_8427_0242ac1c0002level0_row84\" class=\"row_heading level0 row84\" >Cote d'Ivoire</th>\n",
              "                        <td id=\"T_9e9ed882_7514_11eb_8427_0242ac1c0002row84_col0\" class=\"data row84 col0\" >1183</td>\n",
              "            </tr>\n",
              "            <tr>\n",
              "                        <th id=\"T_9e9ed882_7514_11eb_8427_0242ac1c0002level0_row85\" class=\"row_heading level0 row85\" >New Zealand</th>\n",
              "                        <td id=\"T_9e9ed882_7514_11eb_8427_0242ac1c0002row85_col0\" class=\"data row85 col0\" >1126</td>\n",
              "            </tr>\n",
              "            <tr>\n",
              "                        <th id=\"T_9e9ed882_7514_11eb_8427_0242ac1c0002level0_row86\" class=\"row_heading level0 row86\" >Djibouti</th>\n",
              "                        <td id=\"T_9e9ed882_7514_11eb_8427_0242ac1c0002row86_col0\" class=\"data row86 col0\" >1072</td>\n",
              "            </tr>\n",
              "            <tr>\n",
              "                        <th id=\"T_9e9ed882_7514_11eb_8427_0242ac1c0002level0_row87\" class=\"row_heading level0 row87\" >Bolivia</th>\n",
              "                        <td id=\"T_9e9ed882_7514_11eb_8427_0242ac1c0002row87_col0\" class=\"data row87 col0\" >1053</td>\n",
              "            </tr>\n",
              "            <tr>\n",
              "                        <th id=\"T_9e9ed882_7514_11eb_8427_0242ac1c0002level0_row88\" class=\"row_heading level0 row88\" >Tunisia</th>\n",
              "                        <td id=\"T_9e9ed882_7514_11eb_8427_0242ac1c0002row88_col0\" class=\"data row88 col0\" >975</td>\n",
              "            </tr>\n",
              "            <tr>\n",
              "                        <th id=\"T_9e9ed882_7514_11eb_8427_0242ac1c0002level0_row89\" class=\"row_heading level0 row89\" >Cyprus</th>\n",
              "                        <td id=\"T_9e9ed882_7514_11eb_8427_0242ac1c0002row89_col0\" class=\"data row89 col0\" >837</td>\n",
              "            </tr>\n",
              "            <tr>\n",
              "                        <th id=\"T_9e9ed882_7514_11eb_8427_0242ac1c0002level0_row90\" class=\"row_heading level0 row90\" >Latvia</th>\n",
              "                        <td id=\"T_9e9ed882_7514_11eb_8427_0242ac1c0002row90_col0\" class=\"data row90 col0\" >836</td>\n",
              "            </tr>\n",
              "            <tr>\n",
              "                        <th id=\"T_9e9ed882_7514_11eb_8427_0242ac1c0002level0_row91\" class=\"row_heading level0 row91\" >Senegal</th>\n",
              "                        <td id=\"T_9e9ed882_7514_11eb_8427_0242ac1c0002row91_col0\" class=\"data row91 col0\" >823</td>\n",
              "            </tr>\n",
              "            <tr>\n",
              "                        <th id=\"T_9e9ed882_7514_11eb_8427_0242ac1c0002level0_row92\" class=\"row_heading level0 row92\" >Kosovo</th>\n",
              "                        <td id=\"T_9e9ed882_7514_11eb_8427_0242ac1c0002row92_col0\" class=\"data row92 col0\" >790</td>\n",
              "            </tr>\n",
              "            <tr>\n",
              "                        <th id=\"T_9e9ed882_7514_11eb_8427_0242ac1c0002level0_row93\" class=\"row_heading level0 row93\" >Albania</th>\n",
              "                        <td id=\"T_9e9ed882_7514_11eb_8427_0242ac1c0002row93_col0\" class=\"data row93 col0\" >750</td>\n",
              "            </tr>\n",
              "            <tr>\n",
              "                        <th id=\"T_9e9ed882_7514_11eb_8427_0242ac1c0002level0_row94\" class=\"row_heading level0 row94\" >Andorra</th>\n",
              "                        <td id=\"T_9e9ed882_7514_11eb_8427_0242ac1c0002row94_col0\" class=\"data row94 col0\" >748</td>\n",
              "            </tr>\n",
              "            <tr>\n",
              "                        <th id=\"T_9e9ed882_7514_11eb_8427_0242ac1c0002level0_row95\" class=\"row_heading level0 row95\" >Honduras</th>\n",
              "                        <td id=\"T_9e9ed882_7514_11eb_8427_0242ac1c0002row95_col0\" class=\"data row95 col0\" >738</td>\n",
              "            </tr>\n",
              "            <tr>\n",
              "                        <th id=\"T_9e9ed882_7514_11eb_8427_0242ac1c0002level0_row96\" class=\"row_heading level0 row96\" >Kyrgyzstan</th>\n",
              "                        <td id=\"T_9e9ed882_7514_11eb_8427_0242ac1c0002row96_col0\" class=\"data row96 col0\" >729</td>\n",
              "            </tr>\n",
              "            <tr>\n",
              "                        <th id=\"T_9e9ed882_7514_11eb_8427_0242ac1c0002level0_row97\" class=\"row_heading level0 row97\" >Lebanon</th>\n",
              "                        <td id=\"T_9e9ed882_7514_11eb_8427_0242ac1c0002row97_col0\" class=\"data row97 col0\" >717</td>\n",
              "            </tr>\n",
              "            <tr>\n",
              "                        <th id=\"T_9e9ed882_7514_11eb_8427_0242ac1c0002level0_row98\" class=\"row_heading level0 row98\" >Niger</th>\n",
              "                        <td id=\"T_9e9ed882_7514_11eb_8427_0242ac1c0002row98_col0\" class=\"data row98 col0\" >709</td>\n",
              "            </tr>\n",
              "            <tr>\n",
              "                        <th id=\"T_9e9ed882_7514_11eb_8427_0242ac1c0002level0_row99\" class=\"row_heading level0 row99\" >Costa Rica</th>\n",
              "                        <td id=\"T_9e9ed882_7514_11eb_8427_0242ac1c0002row99_col0\" class=\"data row99 col0\" >705</td>\n",
              "            </tr>\n",
              "            <tr>\n",
              "                        <th id=\"T_9e9ed882_7514_11eb_8427_0242ac1c0002level0_row100\" class=\"row_heading level0 row100\" >International</th>\n",
              "                        <td id=\"T_9e9ed882_7514_11eb_8427_0242ac1c0002row100_col0\" class=\"data row100 col0\" >696</td>\n",
              "            </tr>\n",
              "            <tr>\n",
              "                        <th id=\"T_9e9ed882_7514_11eb_8427_0242ac1c0002level0_row101\" class=\"row_heading level0 row101\" >Burkina Faso</th>\n",
              "                        <td id=\"T_9e9ed882_7514_11eb_8427_0242ac1c0002row101_col0\" class=\"data row101 col0\" >638</td>\n",
              "            </tr>\n",
              "            <tr>\n",
              "                        <th id=\"T_9e9ed882_7514_11eb_8427_0242ac1c0002level0_row102\" class=\"row_heading level0 row102\" >Uruguay</th>\n",
              "                        <td id=\"T_9e9ed882_7514_11eb_8427_0242ac1c0002row102_col0\" class=\"data row102 col0\" >625</td>\n",
              "            </tr>\n",
              "            <tr>\n",
              "                        <th id=\"T_9e9ed882_7514_11eb_8427_0242ac1c0002level0_row103\" class=\"row_heading level0 row103\" >Sri Lanka</th>\n",
              "                        <td id=\"T_9e9ed882_7514_11eb_8427_0242ac1c0002row103_col0\" class=\"data row103 col0\" >619</td>\n",
              "            </tr>\n",
              "            <tr>\n",
              "                        <th id=\"T_9e9ed882_7514_11eb_8427_0242ac1c0002level0_row104\" class=\"row_heading level0 row104\" >Guatemala</th>\n",
              "                        <td id=\"T_9e9ed882_7514_11eb_8427_0242ac1c0002row104_col0\" class=\"data row104 col0\" >557</td>\n",
              "            </tr>\n",
              "            <tr>\n",
              "                        <th id=\"T_9e9ed882_7514_11eb_8427_0242ac1c0002level0_row105\" class=\"row_heading level0 row105\" >San Marino</th>\n",
              "                        <td id=\"T_9e9ed882_7514_11eb_8427_0242ac1c0002row105_col0\" class=\"data row105 col0\" >553</td>\n",
              "            </tr>\n",
              "            <tr>\n",
              "                        <th id=\"T_9e9ed882_7514_11eb_8427_0242ac1c0002level0_row106\" class=\"row_heading level0 row106\" >Somalia</th>\n",
              "                        <td id=\"T_9e9ed882_7514_11eb_8427_0242ac1c0002row106_col0\" class=\"data row106 col0\" >528</td>\n",
              "            </tr>\n",
              "            <tr>\n",
              "                        <th id=\"T_9e9ed882_7514_11eb_8427_0242ac1c0002level0_row107\" class=\"row_heading level0 row107\" >Georgia</th>\n",
              "                        <td id=\"T_9e9ed882_7514_11eb_8427_0242ac1c0002row107_col0\" class=\"data row107 col0\" >511</td>\n",
              "            </tr>\n",
              "            <tr>\n",
              "                        <th id=\"T_9e9ed882_7514_11eb_8427_0242ac1c0002level0_row108\" class=\"row_heading level0 row108\" >Palestine</th>\n",
              "                        <td id=\"T_9e9ed882_7514_11eb_8427_0242ac1c0002row108_col0\" class=\"data row108 col0\" >495</td>\n",
              "            </tr>\n",
              "            <tr>\n",
              "                        <th id=\"T_9e9ed882_7514_11eb_8427_0242ac1c0002level0_row109\" class=\"row_heading level0 row109\" >Democratic Republic of Congo</th>\n",
              "                        <td id=\"T_9e9ed882_7514_11eb_8427_0242ac1c0002row109_col0\" class=\"data row109 col0\" >491</td>\n",
              "            </tr>\n",
              "            <tr>\n",
              "                        <th id=\"T_9e9ed882_7514_11eb_8427_0242ac1c0002level0_row110\" class=\"row_heading level0 row110\" >Malta</th>\n",
              "                        <td id=\"T_9e9ed882_7514_11eb_8427_0242ac1c0002row110_col0\" class=\"data row110 col0\" >450</td>\n",
              "            </tr>\n",
              "            <tr>\n",
              "                        <th id=\"T_9e9ed882_7514_11eb_8427_0242ac1c0002level0_row111\" class=\"row_heading level0 row111\" >Jordan</th>\n",
              "                        <td id=\"T_9e9ed882_7514_11eb_8427_0242ac1c0002row111_col0\" class=\"data row111 col0\" >449</td>\n",
              "            </tr>\n",
              "            <tr>\n",
              "                        <th id=\"T_9e9ed882_7514_11eb_8427_0242ac1c0002level0_row112\" class=\"row_heading level0 row112\" >Taiwan</th>\n",
              "                        <td id=\"T_9e9ed882_7514_11eb_8427_0242ac1c0002row112_col0\" class=\"data row112 col0\" >429</td>\n",
              "            </tr>\n",
              "            <tr>\n",
              "                        <th id=\"T_9e9ed882_7514_11eb_8427_0242ac1c0002level0_row113\" class=\"row_heading level0 row113\" >Mali</th>\n",
              "                        <td id=\"T_9e9ed882_7514_11eb_8427_0242ac1c0002row113_col0\" class=\"data row113 col0\" >424</td>\n",
              "            </tr>\n",
              "            <tr>\n",
              "                        <th id=\"T_9e9ed882_7514_11eb_8427_0242ac1c0002level0_row114\" class=\"row_heading level0 row114\" >Jamaica</th>\n",
              "                        <td id=\"T_9e9ed882_7514_11eb_8427_0242ac1c0002row114_col0\" class=\"data row114 col0\" >381</td>\n",
              "            </tr>\n",
              "            <tr>\n",
              "                        <th id=\"T_9e9ed882_7514_11eb_8427_0242ac1c0002level0_row115\" class=\"row_heading level0 row115\" >Kenya</th>\n",
              "                        <td id=\"T_9e9ed882_7514_11eb_8427_0242ac1c0002row115_col0\" class=\"data row115 col0\" >374</td>\n",
              "            </tr>\n",
              "            <tr>\n",
              "                        <th id=\"T_9e9ed882_7514_11eb_8427_0242ac1c0002level0_row116\" class=\"row_heading level0 row116\" >El Salvador</th>\n",
              "                        <td id=\"T_9e9ed882_7514_11eb_8427_0242ac1c0002row116_col0\" class=\"data row116 col0\" >345</td>\n",
              "            </tr>\n",
              "            <tr>\n",
              "                        <th id=\"T_9e9ed882_7514_11eb_8427_0242ac1c0002level0_row117\" class=\"row_heading level0 row117\" >Mauritius</th>\n",
              "                        <td id=\"T_9e9ed882_7514_11eb_8427_0242ac1c0002row117_col0\" class=\"data row117 col0\" >334</td>\n",
              "            </tr>\n",
              "            <tr>\n",
              "                        <th id=\"T_9e9ed882_7514_11eb_8427_0242ac1c0002level0_row118\" class=\"row_heading level0 row118\" >Venezuela</th>\n",
              "                        <td id=\"T_9e9ed882_7514_11eb_8427_0242ac1c0002row118_col0\" class=\"data row118 col0\" >329</td>\n",
              "            </tr>\n",
              "            <tr>\n",
              "                        <th id=\"T_9e9ed882_7514_11eb_8427_0242ac1c0002level0_row119\" class=\"row_heading level0 row119\" >Montenegro</th>\n",
              "                        <td id=\"T_9e9ed882_7514_11eb_8427_0242ac1c0002row119_col0\" class=\"data row119 col0\" >321</td>\n",
              "            </tr>\n",
              "            <tr>\n",
              "                        <th id=\"T_9e9ed882_7514_11eb_8427_0242ac1c0002level0_row120\" class=\"row_heading level0 row120\" >Sudan</th>\n",
              "                        <td id=\"T_9e9ed882_7514_11eb_8427_0242ac1c0002row120_col0\" class=\"data row120 col0\" >318</td>\n",
              "            </tr>\n",
              "            <tr>\n",
              "                        <th id=\"T_9e9ed882_7514_11eb_8427_0242ac1c0002level0_row121\" class=\"row_heading level0 row121\" >Equatorial Guinea</th>\n",
              "                        <td id=\"T_9e9ed882_7514_11eb_8427_0242ac1c0002row121_col0\" class=\"data row121 col0\" >315</td>\n",
              "            </tr>\n",
              "            <tr>\n",
              "                        <th id=\"T_9e9ed882_7514_11eb_8427_0242ac1c0002level0_row122\" class=\"row_heading level0 row122\" >Isle of Man</th>\n",
              "                        <td id=\"T_9e9ed882_7514_11eb_8427_0242ac1c0002row122_col0\" class=\"data row122 col0\" >309</td>\n",
              "            </tr>\n",
              "            <tr>\n",
              "                        <th id=\"T_9e9ed882_7514_11eb_8427_0242ac1c0002level0_row123\" class=\"row_heading level0 row123\" >Tanzania</th>\n",
              "                        <td id=\"T_9e9ed882_7514_11eb_8427_0242ac1c0002row123_col0\" class=\"data row123 col0\" >306</td>\n",
              "            </tr>\n",
              "            <tr>\n",
              "                        <th id=\"T_9e9ed882_7514_11eb_8427_0242ac1c0002level0_row124\" class=\"row_heading level0 row124\" >Jersey</th>\n",
              "                        <td id=\"T_9e9ed882_7514_11eb_8427_0242ac1c0002row124_col0\" class=\"data row124 col0\" >284</td>\n",
              "            </tr>\n",
              "            <tr>\n",
              "                        <th id=\"T_9e9ed882_7514_11eb_8427_0242ac1c0002level0_row125\" class=\"row_heading level0 row125\" >Vietnam</th>\n",
              "                        <td id=\"T_9e9ed882_7514_11eb_8427_0242ac1c0002row125_col0\" class=\"data row125 col0\" >270</td>\n",
              "            </tr>\n",
              "            <tr>\n",
              "                        <th id=\"T_9e9ed882_7514_11eb_8427_0242ac1c0002level0_row126\" class=\"row_heading level0 row126\" >Guernsey</th>\n",
              "                        <td id=\"T_9e9ed882_7514_11eb_8427_0242ac1c0002row126_col0\" class=\"data row126 col0\" >247</td>\n",
              "            </tr>\n",
              "            <tr>\n",
              "                        <th id=\"T_9e9ed882_7514_11eb_8427_0242ac1c0002level0_row127\" class=\"row_heading level0 row127\" >Maldives</th>\n",
              "                        <td id=\"T_9e9ed882_7514_11eb_8427_0242ac1c0002row127_col0\" class=\"data row127 col0\" >245</td>\n",
              "            </tr>\n",
              "            <tr>\n",
              "                        <th id=\"T_9e9ed882_7514_11eb_8427_0242ac1c0002level0_row128\" class=\"row_heading level0 row128\" >Paraguay</th>\n",
              "                        <td id=\"T_9e9ed882_7514_11eb_8427_0242ac1c0002row128_col0\" class=\"data row128 col0\" >239</td>\n",
              "            </tr>\n",
              "            <tr>\n",
              "                        <th id=\"T_9e9ed882_7514_11eb_8427_0242ac1c0002level0_row129\" class=\"row_heading level0 row129\" >Gabon</th>\n",
              "                        <td id=\"T_9e9ed882_7514_11eb_8427_0242ac1c0002row129_col0\" class=\"data row129 col0\" >238</td>\n",
              "            </tr>\n",
              "            <tr>\n",
              "                        <th id=\"T_9e9ed882_7514_11eb_8427_0242ac1c0002level0_row130\" class=\"row_heading level0 row130\" >Rwanda</th>\n",
              "                        <td id=\"T_9e9ed882_7514_11eb_8427_0242ac1c0002row130_col0\" class=\"data row130 col0\" >212</td>\n",
              "            </tr>\n",
              "            <tr>\n",
              "                        <th id=\"T_9e9ed882_7514_11eb_8427_0242ac1c0002level0_row131\" class=\"row_heading level0 row131\" >Congo</th>\n",
              "                        <td id=\"T_9e9ed882_7514_11eb_8427_0242ac1c0002row131_col0\" class=\"data row131 col0\" >207</td>\n",
              "            </tr>\n",
              "            <tr>\n",
              "                        <th id=\"T_9e9ed882_7514_11eb_8427_0242ac1c0002level0_row132\" class=\"row_heading level0 row132\" >Faeroe Islands</th>\n",
              "                        <td id=\"T_9e9ed882_7514_11eb_8427_0242ac1c0002row132_col0\" class=\"data row132 col0\" >187</td>\n",
              "            </tr>\n",
              "            <tr>\n",
              "                        <th id=\"T_9e9ed882_7514_11eb_8427_0242ac1c0002level0_row133\" class=\"row_heading level0 row133\" >Myanmar</th>\n",
              "                        <td id=\"T_9e9ed882_7514_11eb_8427_0242ac1c0002row133_col0\" class=\"data row133 col0\" >150</td>\n",
              "            </tr>\n",
              "            <tr>\n",
              "                        <th id=\"T_9e9ed882_7514_11eb_8427_0242ac1c0002level0_row134\" class=\"row_heading level0 row134\" >Guam</th>\n",
              "                        <td id=\"T_9e9ed882_7514_11eb_8427_0242ac1c0002row134_col0\" class=\"data row134 col0\" >145</td>\n",
              "            </tr>\n",
              "            <tr>\n",
              "                        <th id=\"T_9e9ed882_7514_11eb_8427_0242ac1c0002level0_row135\" class=\"row_heading level0 row135\" >Gibraltar</th>\n",
              "                        <td id=\"T_9e9ed882_7514_11eb_8427_0242ac1c0002row135_col0\" class=\"data row135 col0\" >141</td>\n",
              "            </tr>\n",
              "            <tr>\n",
              "                        <th id=\"T_9e9ed882_7514_11eb_8427_0242ac1c0002level0_row136\" class=\"row_heading level0 row136\" >Liberia</th>\n",
              "                        <td id=\"T_9e9ed882_7514_11eb_8427_0242ac1c0002row136_col0\" class=\"data row136 col0\" >141</td>\n",
              "            </tr>\n",
              "            <tr>\n",
              "                        <th id=\"T_9e9ed882_7514_11eb_8427_0242ac1c0002level0_row137\" class=\"row_heading level0 row137\" >Brunei</th>\n",
              "                        <td id=\"T_9e9ed882_7514_11eb_8427_0242ac1c0002row137_col0\" class=\"data row137 col0\" >138</td>\n",
              "            </tr>\n",
              "            <tr>\n",
              "                        <th id=\"T_9e9ed882_7514_11eb_8427_0242ac1c0002level0_row138\" class=\"row_heading level0 row138\" >Madagascar</th>\n",
              "                        <td id=\"T_9e9ed882_7514_11eb_8427_0242ac1c0002row138_col0\" class=\"data row138 col0\" >128</td>\n",
              "            </tr>\n",
              "            <tr>\n",
              "                        <th id=\"T_9e9ed882_7514_11eb_8427_0242ac1c0002level0_row139\" class=\"row_heading level0 row139\" >Ethiopia</th>\n",
              "                        <td id=\"T_9e9ed882_7514_11eb_8427_0242ac1c0002row139_col0\" class=\"data row139 col0\" >126</td>\n",
              "            </tr>\n",
              "            <tr>\n",
              "                        <th id=\"T_9e9ed882_7514_11eb_8427_0242ac1c0002level0_row140\" class=\"row_heading level0 row140\" >Cambodia</th>\n",
              "                        <td id=\"T_9e9ed882_7514_11eb_8427_0242ac1c0002row140_col0\" class=\"data row140 col0\" >122</td>\n",
              "            </tr>\n",
              "            <tr>\n",
              "                        <th id=\"T_9e9ed882_7514_11eb_8427_0242ac1c0002level0_row141\" class=\"row_heading level0 row141\" >Trinidad and Tobago</th>\n",
              "                        <td id=\"T_9e9ed882_7514_11eb_8427_0242ac1c0002row141_col0\" class=\"data row141 col0\" >116</td>\n",
              "            </tr>\n",
              "            <tr>\n",
              "                        <th id=\"T_9e9ed882_7514_11eb_8427_0242ac1c0002level0_row142\" class=\"row_heading level0 row142\" >Cape Verde</th>\n",
              "                        <td id=\"T_9e9ed882_7514_11eb_8427_0242ac1c0002row142_col0\" class=\"data row142 col0\" >113</td>\n",
              "            </tr>\n",
              "            <tr>\n",
              "                        <th id=\"T_9e9ed882_7514_11eb_8427_0242ac1c0002level0_row143\" class=\"row_heading level0 row143\" >Bermuda</th>\n",
              "                        <td id=\"T_9e9ed882_7514_11eb_8427_0242ac1c0002row143_col0\" class=\"data row143 col0\" >110</td>\n",
              "            </tr>\n",
              "            <tr>\n",
              "                        <th id=\"T_9e9ed882_7514_11eb_8427_0242ac1c0002level0_row144\" class=\"row_heading level0 row144\" >Sierra Leone</th>\n",
              "                        <td id=\"T_9e9ed882_7514_11eb_8427_0242ac1c0002row144_col0\" class=\"data row144 col0\" >104</td>\n",
              "            </tr>\n",
              "            <tr>\n",
              "                        <th id=\"T_9e9ed882_7514_11eb_8427_0242ac1c0002level0_row145\" class=\"row_heading level0 row145\" >Aruba</th>\n",
              "                        <td id=\"T_9e9ed882_7514_11eb_8427_0242ac1c0002row145_col0\" class=\"data row145 col0\" >100</td>\n",
              "            </tr>\n",
              "            <tr>\n",
              "                        <th id=\"T_9e9ed882_7514_11eb_8427_0242ac1c0002level0_row146\" class=\"row_heading level0 row146\" >Togo</th>\n",
              "                        <td id=\"T_9e9ed882_7514_11eb_8427_0242ac1c0002row146_col0\" class=\"data row146 col0\" >99</td>\n",
              "            </tr>\n",
              "            <tr>\n",
              "                        <th id=\"T_9e9ed882_7514_11eb_8427_0242ac1c0002level0_row147\" class=\"row_heading level0 row147\" >Monaco</th>\n",
              "                        <td id=\"T_9e9ed882_7514_11eb_8427_0242ac1c0002row147_col0\" class=\"data row147 col0\" >95</td>\n",
              "            </tr>\n",
              "            <tr>\n",
              "                        <th id=\"T_9e9ed882_7514_11eb_8427_0242ac1c0002level0_row148\" class=\"row_heading level0 row148\" >Zambia</th>\n",
              "                        <td id=\"T_9e9ed882_7514_11eb_8427_0242ac1c0002row148_col0\" class=\"data row148 col0\" >95</td>\n",
              "            </tr>\n",
              "            <tr>\n",
              "                        <th id=\"T_9e9ed882_7514_11eb_8427_0242ac1c0002level0_row149\" class=\"row_heading level0 row149\" >Liechtenstein</th>\n",
              "                        <td id=\"T_9e9ed882_7514_11eb_8427_0242ac1c0002row149_col0\" class=\"data row149 col0\" >83</td>\n",
              "            </tr>\n",
              "            <tr>\n",
              "                        <th id=\"T_9e9ed882_7514_11eb_8427_0242ac1c0002level0_row150\" class=\"row_heading level0 row150\" >Barbados</th>\n",
              "                        <td id=\"T_9e9ed882_7514_11eb_8427_0242ac1c0002row150_col0\" class=\"data row150 col0\" >80</td>\n",
              "            </tr>\n",
              "            <tr>\n",
              "                        <th id=\"T_9e9ed882_7514_11eb_8427_0242ac1c0002level0_row151\" class=\"row_heading level0 row151\" >Bahamas</th>\n",
              "                        <td id=\"T_9e9ed882_7514_11eb_8427_0242ac1c0002row151_col0\" class=\"data row151 col0\" >80</td>\n",
              "            </tr>\n",
              "            <tr>\n",
              "                        <th id=\"T_9e9ed882_7514_11eb_8427_0242ac1c0002level0_row152\" class=\"row_heading level0 row152\" >Uganda</th>\n",
              "                        <td id=\"T_9e9ed882_7514_11eb_8427_0242ac1c0002row152_col0\" class=\"data row152 col0\" >79</td>\n",
              "            </tr>\n",
              "            <tr>\n",
              "                        <th id=\"T_9e9ed882_7514_11eb_8427_0242ac1c0002level0_row153\" class=\"row_heading level0 row153\" >Haiti</th>\n",
              "                        <td id=\"T_9e9ed882_7514_11eb_8427_0242ac1c0002row153_col0\" class=\"data row153 col0\" >76</td>\n",
              "            </tr>\n",
              "            <tr>\n",
              "                        <th id=\"T_9e9ed882_7514_11eb_8427_0242ac1c0002level0_row154\" class=\"row_heading level0 row154\" >Mozambique</th>\n",
              "                        <td id=\"T_9e9ed882_7514_11eb_8427_0242ac1c0002row154_col0\" class=\"data row154 col0\" >76</td>\n",
              "            </tr>\n",
              "            <tr>\n",
              "                        <th id=\"T_9e9ed882_7514_11eb_8427_0242ac1c0002level0_row155\" class=\"row_heading level0 row155\" >Guyana</th>\n",
              "                        <td id=\"T_9e9ed882_7514_11eb_8427_0242ac1c0002row155_col0\" class=\"data row155 col0\" >75</td>\n",
              "            </tr>\n",
              "            <tr>\n",
              "                        <th id=\"T_9e9ed882_7514_11eb_8427_0242ac1c0002level0_row156\" class=\"row_heading level0 row156\" >Sint Maarten (Dutch part)</th>\n",
              "                        <td id=\"T_9e9ed882_7514_11eb_8427_0242ac1c0002row156_col0\" class=\"data row156 col0\" >75</td>\n",
              "            </tr>\n",
              "            <tr>\n",
              "                        <th id=\"T_9e9ed882_7514_11eb_8427_0242ac1c0002level0_row157\" class=\"row_heading level0 row157\" >Guinea-Bissau</th>\n",
              "                        <td id=\"T_9e9ed882_7514_11eb_8427_0242ac1c0002row157_col0\" class=\"data row157 col0\" >73</td>\n",
              "            </tr>\n",
              "            <tr>\n",
              "                        <th id=\"T_9e9ed882_7514_11eb_8427_0242ac1c0002level0_row158\" class=\"row_heading level0 row158\" >Swaziland</th>\n",
              "                        <td id=\"T_9e9ed882_7514_11eb_8427_0242ac1c0002row158_col0\" class=\"data row158 col0\" >71</td>\n",
              "            </tr>\n",
              "            <tr>\n",
              "                        <th id=\"T_9e9ed882_7514_11eb_8427_0242ac1c0002level0_row159\" class=\"row_heading level0 row159\" >Cayman Islands</th>\n",
              "                        <td id=\"T_9e9ed882_7514_11eb_8427_0242ac1c0002row159_col0\" class=\"data row159 col0\" >70</td>\n",
              "            </tr>\n",
              "            <tr>\n",
              "                        <th id=\"T_9e9ed882_7514_11eb_8427_0242ac1c0002level0_row160\" class=\"row_heading level0 row160\" >Benin</th>\n",
              "                        <td id=\"T_9e9ed882_7514_11eb_8427_0242ac1c0002row160_col0\" class=\"data row160 col0\" >64</td>\n",
              "            </tr>\n",
              "            <tr>\n",
              "                        <th id=\"T_9e9ed882_7514_11eb_8427_0242ac1c0002level0_row161\" class=\"row_heading level0 row161\" >Libya</th>\n",
              "                        <td id=\"T_9e9ed882_7514_11eb_8427_0242ac1c0002row161_col0\" class=\"data row161 col0\" >61</td>\n",
              "            </tr>\n",
              "            <tr>\n",
              "                        <th id=\"T_9e9ed882_7514_11eb_8427_0242ac1c0002level0_row162\" class=\"row_heading level0 row162\" >United States Virgin Islands</th>\n",
              "                        <td id=\"T_9e9ed882_7514_11eb_8427_0242ac1c0002row162_col0\" class=\"data row162 col0\" >59</td>\n",
              "            </tr>\n",
              "            <tr>\n",
              "                        <th id=\"T_9e9ed882_7514_11eb_8427_0242ac1c0002level0_row163\" class=\"row_heading level0 row163\" >French Polynesia</th>\n",
              "                        <td id=\"T_9e9ed882_7514_11eb_8427_0242ac1c0002row163_col0\" class=\"data row163 col0\" >58</td>\n",
              "            </tr>\n",
              "            <tr>\n",
              "                        <th id=\"T_9e9ed882_7514_11eb_8427_0242ac1c0002level0_row164\" class=\"row_heading level0 row164\" >Nepal</th>\n",
              "                        <td id=\"T_9e9ed882_7514_11eb_8427_0242ac1c0002row164_col0\" class=\"data row164 col0\" >54</td>\n",
              "            </tr>\n",
              "            <tr>\n",
              "                        <th id=\"T_9e9ed882_7514_11eb_8427_0242ac1c0002level0_row165\" class=\"row_heading level0 row165\" >Chad</th>\n",
              "                        <td id=\"T_9e9ed882_7514_11eb_8427_0242ac1c0002row165_col0\" class=\"data row165 col0\" >52</td>\n",
              "            </tr>\n",
              "            <tr>\n",
              "                        <th id=\"T_9e9ed882_7514_11eb_8427_0242ac1c0002level0_row166\" class=\"row_heading level0 row166\" >Central African Republic</th>\n",
              "                        <td id=\"T_9e9ed882_7514_11eb_8427_0242ac1c0002row166_col0\" class=\"data row166 col0\" >50</td>\n",
              "            </tr>\n",
              "            <tr>\n",
              "                        <th id=\"T_9e9ed882_7514_11eb_8427_0242ac1c0002level0_row167\" class=\"row_heading level0 row167\" >Syria</th>\n",
              "                        <td id=\"T_9e9ed882_7514_11eb_8427_0242ac1c0002row167_col0\" class=\"data row167 col0\" >43</td>\n",
              "            </tr>\n",
              "            <tr>\n",
              "                        <th id=\"T_9e9ed882_7514_11eb_8427_0242ac1c0002level0_row168\" class=\"row_heading level0 row168\" >Eritrea</th>\n",
              "                        <td id=\"T_9e9ed882_7514_11eb_8427_0242ac1c0002row168_col0\" class=\"data row168 col0\" >39</td>\n",
              "            </tr>\n",
              "            <tr>\n",
              "                        <th id=\"T_9e9ed882_7514_11eb_8427_0242ac1c0002level0_row169\" class=\"row_heading level0 row169\" >Mongolia</th>\n",
              "                        <td id=\"T_9e9ed882_7514_11eb_8427_0242ac1c0002row169_col0\" class=\"data row169 col0\" >38</td>\n",
              "            </tr>\n",
              "            <tr>\n",
              "                        <th id=\"T_9e9ed882_7514_11eb_8427_0242ac1c0002level0_row170\" class=\"row_heading level0 row170\" >Malawi</th>\n",
              "                        <td id=\"T_9e9ed882_7514_11eb_8427_0242ac1c0002row170_col0\" class=\"data row170 col0\" >36</td>\n",
              "            </tr>\n",
              "            <tr>\n",
              "                        <th id=\"T_9e9ed882_7514_11eb_8427_0242ac1c0002level0_row171\" class=\"row_heading level0 row171\" >South Sudan</th>\n",
              "                        <td id=\"T_9e9ed882_7514_11eb_8427_0242ac1c0002row171_col0\" class=\"data row171 col0\" >34</td>\n",
              "            </tr>\n",
              "            <tr>\n",
              "                        <th id=\"T_9e9ed882_7514_11eb_8427_0242ac1c0002level0_row172\" class=\"row_heading level0 row172\" >Zimbabwe</th>\n",
              "                        <td id=\"T_9e9ed882_7514_11eb_8427_0242ac1c0002row172_col0\" class=\"data row172 col0\" >32</td>\n",
              "            </tr>\n",
              "            <tr>\n",
              "                        <th id=\"T_9e9ed882_7514_11eb_8427_0242ac1c0002level0_row173\" class=\"row_heading level0 row173\" >Angola</th>\n",
              "                        <td id=\"T_9e9ed882_7514_11eb_8427_0242ac1c0002row173_col0\" class=\"data row173 col0\" >27</td>\n",
              "            </tr>\n",
              "            <tr>\n",
              "                        <th id=\"T_9e9ed882_7514_11eb_8427_0242ac1c0002level0_row174\" class=\"row_heading level0 row174\" >Timor</th>\n",
              "                        <td id=\"T_9e9ed882_7514_11eb_8427_0242ac1c0002row174_col0\" class=\"data row174 col0\" >24</td>\n",
              "            </tr>\n",
              "            <tr>\n",
              "                        <th id=\"T_9e9ed882_7514_11eb_8427_0242ac1c0002level0_row175\" class=\"row_heading level0 row175\" >Antigua and Barbuda</th>\n",
              "                        <td id=\"T_9e9ed882_7514_11eb_8427_0242ac1c0002row175_col0\" class=\"data row175 col0\" >24</td>\n",
              "            </tr>\n",
              "            <tr>\n",
              "                        <th id=\"T_9e9ed882_7514_11eb_8427_0242ac1c0002level0_row176\" class=\"row_heading level0 row176\" >Botswana</th>\n",
              "                        <td id=\"T_9e9ed882_7514_11eb_8427_0242ac1c0002row176_col0\" class=\"data row176 col0\" >23</td>\n",
              "            </tr>\n",
              "            <tr>\n",
              "                        <th id=\"T_9e9ed882_7514_11eb_8427_0242ac1c0002level0_row177\" class=\"row_heading level0 row177\" >Laos</th>\n",
              "                        <td id=\"T_9e9ed882_7514_11eb_8427_0242ac1c0002row177_col0\" class=\"data row177 col0\" >19</td>\n",
              "            </tr>\n",
              "            <tr>\n",
              "                        <th id=\"T_9e9ed882_7514_11eb_8427_0242ac1c0002level0_row178\" class=\"row_heading level0 row178\" >Grenada</th>\n",
              "                        <td id=\"T_9e9ed882_7514_11eb_8427_0242ac1c0002row178_col0\" class=\"data row178 col0\" >18</td>\n",
              "            </tr>\n",
              "            <tr>\n",
              "                        <th id=\"T_9e9ed882_7514_11eb_8427_0242ac1c0002level0_row179\" class=\"row_heading level0 row179\" >Belize</th>\n",
              "                        <td id=\"T_9e9ed882_7514_11eb_8427_0242ac1c0002row179_col0\" class=\"data row179 col0\" >18</td>\n",
              "            </tr>\n",
              "            <tr>\n",
              "                        <th id=\"T_9e9ed882_7514_11eb_8427_0242ac1c0002level0_row180\" class=\"row_heading level0 row180\" >Fiji</th>\n",
              "                        <td id=\"T_9e9ed882_7514_11eb_8427_0242ac1c0002row180_col0\" class=\"data row180 col0\" >18</td>\n",
              "            </tr>\n",
              "            <tr>\n",
              "                        <th id=\"T_9e9ed882_7514_11eb_8427_0242ac1c0002level0_row181\" class=\"row_heading level0 row181\" >New Caledonia</th>\n",
              "                        <td id=\"T_9e9ed882_7514_11eb_8427_0242ac1c0002row181_col0\" class=\"data row181 col0\" >18</td>\n",
              "            </tr>\n",
              "            <tr>\n",
              "                        <th id=\"T_9e9ed882_7514_11eb_8427_0242ac1c0002level0_row182\" class=\"row_heading level0 row182\" >Namibia</th>\n",
              "                        <td id=\"T_9e9ed882_7514_11eb_8427_0242ac1c0002row182_col0\" class=\"data row182 col0\" >16</td>\n",
              "            </tr>\n",
              "            <tr>\n",
              "                        <th id=\"T_9e9ed882_7514_11eb_8427_0242ac1c0002level0_row183\" class=\"row_heading level0 row183\" >Curacao</th>\n",
              "                        <td id=\"T_9e9ed882_7514_11eb_8427_0242ac1c0002row183_col0\" class=\"data row183 col0\" >16</td>\n",
              "            </tr>\n",
              "            <tr>\n",
              "                        <th id=\"T_9e9ed882_7514_11eb_8427_0242ac1c0002level0_row184\" class=\"row_heading level0 row184\" >Saint Vincent and the Grenadines</th>\n",
              "                        <td id=\"T_9e9ed882_7514_11eb_8427_0242ac1c0002row184_col0\" class=\"data row184 col0\" >16</td>\n",
              "            </tr>\n",
              "            <tr>\n",
              "                        <th id=\"T_9e9ed882_7514_11eb_8427_0242ac1c0002level0_row185\" class=\"row_heading level0 row185\" >Dominica</th>\n",
              "                        <td id=\"T_9e9ed882_7514_11eb_8427_0242ac1c0002row185_col0\" class=\"data row185 col0\" >16</td>\n",
              "            </tr>\n",
              "            <tr>\n",
              "                        <th id=\"T_9e9ed882_7514_11eb_8427_0242ac1c0002level0_row186\" class=\"row_heading level0 row186\" >Saint Lucia</th>\n",
              "                        <td id=\"T_9e9ed882_7514_11eb_8427_0242ac1c0002row186_col0\" class=\"data row186 col0\" >15</td>\n",
              "            </tr>\n",
              "            <tr>\n",
              "                        <th id=\"T_9e9ed882_7514_11eb_8427_0242ac1c0002level0_row187\" class=\"row_heading level0 row187\" >Burundi</th>\n",
              "                        <td id=\"T_9e9ed882_7514_11eb_8427_0242ac1c0002row187_col0\" class=\"data row187 col0\" >15</td>\n",
              "            </tr>\n",
              "            <tr>\n",
              "                        <th id=\"T_9e9ed882_7514_11eb_8427_0242ac1c0002level0_row188\" class=\"row_heading level0 row188\" >Saint Kitts and Nevis</th>\n",
              "                        <td id=\"T_9e9ed882_7514_11eb_8427_0242ac1c0002row188_col0\" class=\"data row188 col0\" >15</td>\n",
              "            </tr>\n",
              "            <tr>\n",
              "                        <th id=\"T_9e9ed882_7514_11eb_8427_0242ac1c0002level0_row189\" class=\"row_heading level0 row189\" >Northern Mariana Islands</th>\n",
              "                        <td id=\"T_9e9ed882_7514_11eb_8427_0242ac1c0002row189_col0\" class=\"data row189 col0\" >14</td>\n",
              "            </tr>\n",
              "            <tr>\n",
              "                        <th id=\"T_9e9ed882_7514_11eb_8427_0242ac1c0002level0_row190\" class=\"row_heading level0 row190\" >Falkland Islands</th>\n",
              "                        <td id=\"T_9e9ed882_7514_11eb_8427_0242ac1c0002row190_col0\" class=\"data row190 col0\" >13</td>\n",
              "            </tr>\n",
              "            <tr>\n",
              "                        <th id=\"T_9e9ed882_7514_11eb_8427_0242ac1c0002level0_row191\" class=\"row_heading level0 row191\" >Nicaragua</th>\n",
              "                        <td id=\"T_9e9ed882_7514_11eb_8427_0242ac1c0002row191_col0\" class=\"data row191 col0\" >13</td>\n",
              "            </tr>\n",
              "            <tr>\n",
              "                        <th id=\"T_9e9ed882_7514_11eb_8427_0242ac1c0002level0_row192\" class=\"row_heading level0 row192\" >Turks and Caicos Islands</th>\n",
              "                        <td id=\"T_9e9ed882_7514_11eb_8427_0242ac1c0002row192_col0\" class=\"data row192 col0\" >12</td>\n",
              "            </tr>\n",
              "            <tr>\n",
              "                        <th id=\"T_9e9ed882_7514_11eb_8427_0242ac1c0002level0_row193\" class=\"row_heading level0 row193\" >Greenland</th>\n",
              "                        <td id=\"T_9e9ed882_7514_11eb_8427_0242ac1c0002row193_col0\" class=\"data row193 col0\" >11</td>\n",
              "            </tr>\n",
              "            <tr>\n",
              "                        <th id=\"T_9e9ed882_7514_11eb_8427_0242ac1c0002level0_row194\" class=\"row_heading level0 row194\" >Montserrat</th>\n",
              "                        <td id=\"T_9e9ed882_7514_11eb_8427_0242ac1c0002row194_col0\" class=\"data row194 col0\" >11</td>\n",
              "            </tr>\n",
              "            <tr>\n",
              "                        <th id=\"T_9e9ed882_7514_11eb_8427_0242ac1c0002level0_row195\" class=\"row_heading level0 row195\" >Sao Tome and Principe</th>\n",
              "                        <td id=\"T_9e9ed882_7514_11eb_8427_0242ac1c0002row195_col0\" class=\"data row195 col0\" >11</td>\n",
              "            </tr>\n",
              "            <tr>\n",
              "                        <th id=\"T_9e9ed882_7514_11eb_8427_0242ac1c0002level0_row196\" class=\"row_heading level0 row196\" >Seychelles</th>\n",
              "                        <td id=\"T_9e9ed882_7514_11eb_8427_0242ac1c0002row196_col0\" class=\"data row196 col0\" >11</td>\n",
              "            </tr>\n",
              "            <tr>\n",
              "                        <th id=\"T_9e9ed882_7514_11eb_8427_0242ac1c0002level0_row197\" class=\"row_heading level0 row197\" >Gambia</th>\n",
              "                        <td id=\"T_9e9ed882_7514_11eb_8427_0242ac1c0002row197_col0\" class=\"data row197 col0\" >10</td>\n",
              "            </tr>\n",
              "            <tr>\n",
              "                        <th id=\"T_9e9ed882_7514_11eb_8427_0242ac1c0002level0_row198\" class=\"row_heading level0 row198\" >Suriname</th>\n",
              "                        <td id=\"T_9e9ed882_7514_11eb_8427_0242ac1c0002row198_col0\" class=\"data row198 col0\" >10</td>\n",
              "            </tr>\n",
              "            <tr>\n",
              "                        <th id=\"T_9e9ed882_7514_11eb_8427_0242ac1c0002level0_row199\" class=\"row_heading level0 row199\" >Vatican</th>\n",
              "                        <td id=\"T_9e9ed882_7514_11eb_8427_0242ac1c0002row199_col0\" class=\"data row199 col0\" >9</td>\n",
              "            </tr>\n",
              "            <tr>\n",
              "                        <th id=\"T_9e9ed882_7514_11eb_8427_0242ac1c0002level0_row200\" class=\"row_heading level0 row200\" >Papua New Guinea</th>\n",
              "                        <td id=\"T_9e9ed882_7514_11eb_8427_0242ac1c0002row200_col0\" class=\"data row200 col0\" >8</td>\n",
              "            </tr>\n",
              "            <tr>\n",
              "                        <th id=\"T_9e9ed882_7514_11eb_8427_0242ac1c0002level0_row201\" class=\"row_heading level0 row201\" >Bhutan</th>\n",
              "                        <td id=\"T_9e9ed882_7514_11eb_8427_0242ac1c0002row201_col0\" class=\"data row201 col0\" >7</td>\n",
              "            </tr>\n",
              "            <tr>\n",
              "                        <th id=\"T_9e9ed882_7514_11eb_8427_0242ac1c0002level0_row202\" class=\"row_heading level0 row202\" >Mauritania</th>\n",
              "                        <td id=\"T_9e9ed882_7514_11eb_8427_0242ac1c0002row202_col0\" class=\"data row202 col0\" >7</td>\n",
              "            </tr>\n",
              "            <tr>\n",
              "                        <th id=\"T_9e9ed882_7514_11eb_8427_0242ac1c0002level0_row203\" class=\"row_heading level0 row203\" >Bonaire Sint Eustatius and Saba</th>\n",
              "                        <td id=\"T_9e9ed882_7514_11eb_8427_0242ac1c0002row203_col0\" class=\"data row203 col0\" >6</td>\n",
              "            </tr>\n",
              "            <tr>\n",
              "                        <th id=\"T_9e9ed882_7514_11eb_8427_0242ac1c0002level0_row204\" class=\"row_heading level0 row204\" >Western Sahara</th>\n",
              "                        <td id=\"T_9e9ed882_7514_11eb_8427_0242ac1c0002row204_col0\" class=\"data row204 col0\" >6</td>\n",
              "            </tr>\n",
              "            <tr>\n",
              "                        <th id=\"T_9e9ed882_7514_11eb_8427_0242ac1c0002level0_row205\" class=\"row_heading level0 row205\" >British Virgin Islands</th>\n",
              "                        <td id=\"T_9e9ed882_7514_11eb_8427_0242ac1c0002row205_col0\" class=\"data row205 col0\" >6</td>\n",
              "            </tr>\n",
              "            <tr>\n",
              "                        <th id=\"T_9e9ed882_7514_11eb_8427_0242ac1c0002level0_row206\" class=\"row_heading level0 row206\" >Anguilla</th>\n",
              "                        <td id=\"T_9e9ed882_7514_11eb_8427_0242ac1c0002row206_col0\" class=\"data row206 col0\" >3</td>\n",
              "            </tr>\n",
              "            <tr>\n",
              "                        <th id=\"T_9e9ed882_7514_11eb_8427_0242ac1c0002level0_row207\" class=\"row_heading level0 row207\" >Yemen</th>\n",
              "                        <td id=\"T_9e9ed882_7514_11eb_8427_0242ac1c0002row207_col0\" class=\"data row207 col0\" >1</td>\n",
              "            </tr>\n",
              "            <tr>\n",
              "                        <th id=\"T_9e9ed882_7514_11eb_8427_0242ac1c0002level0_row208\" class=\"row_heading level0 row208\" >Hong Kong</th>\n",
              "                        <td id=\"T_9e9ed882_7514_11eb_8427_0242ac1c0002row208_col0\" class=\"data row208 col0\" >0</td>\n",
              "            </tr>\n",
              "    </tbody></table>"
            ],
            "text/plain": [
              "<pandas.io.formats.style.Styler at 0x7ff503c5d780>"
            ]
          },
          "metadata": {
            "tags": []
          },
          "execution_count": 15
        }
      ]
    },
    {
      "cell_type": "code",
      "metadata": {
        "id": "qUehKrnl_j5e"
      },
      "source": [
        "#cases w.r.t to deaths"
      ],
      "execution_count": 16,
      "outputs": []
    },
    {
      "cell_type": "code",
      "metadata": {
        "colab": {
          "base_uri": "https://localhost:8080/"
        },
        "id": "UC4MQJvO_j5e",
        "outputId": "a9bbda1f-2da5-4dc8-d511-4df77016b94c"
      },
      "source": [
        "cases_tests = df.groupby('location')['total_cases', 'total_deaths'].sum()"
      ],
      "execution_count": 17,
      "outputs": [
        {
          "output_type": "stream",
          "text": [
            "/usr/local/lib/python3.6/dist-packages/ipykernel_launcher.py:1: FutureWarning:\n",
            "\n",
            "Indexing with multiple keys (implicitly converted to a tuple of keys) will be deprecated, use a list instead.\n",
            "\n"
          ],
          "name": "stderr"
        }
      ]
    },
    {
      "cell_type": "code",
      "metadata": {
        "colab": {
          "base_uri": "https://localhost:8080/",
          "height": 450
        },
        "id": "vYb9BpSv_j5e",
        "outputId": "8c1f451d-e636-4948-95ea-49b5fe54e625"
      },
      "source": [
        "cases_tests"
      ],
      "execution_count": 18,
      "outputs": [
        {
          "output_type": "execute_result",
          "data": {
            "text/html": [
              "<div>\n",
              "<style scoped>\n",
              "    .dataframe tbody tr th:only-of-type {\n",
              "        vertical-align: middle;\n",
              "    }\n",
              "\n",
              "    .dataframe tbody tr th {\n",
              "        vertical-align: top;\n",
              "    }\n",
              "\n",
              "    .dataframe thead th {\n",
              "        text-align: right;\n",
              "    }\n",
              "</style>\n",
              "<table border=\"1\" class=\"dataframe\">\n",
              "  <thead>\n",
              "    <tr style=\"text-align: right;\">\n",
              "      <th></th>\n",
              "      <th>total_cases</th>\n",
              "      <th>total_deaths</th>\n",
              "    </tr>\n",
              "    <tr>\n",
              "      <th>location</th>\n",
              "      <th></th>\n",
              "      <th></th>\n",
              "    </tr>\n",
              "  </thead>\n",
              "  <tbody>\n",
              "    <tr>\n",
              "      <th>Afghanistan</th>\n",
              "      <td>23749</td>\n",
              "      <td>751</td>\n",
              "    </tr>\n",
              "    <tr>\n",
              "      <th>Albania</th>\n",
              "      <td>16332</td>\n",
              "      <td>761</td>\n",
              "    </tr>\n",
              "    <tr>\n",
              "      <th>Algeria</th>\n",
              "      <td>66423</td>\n",
              "      <td>8599</td>\n",
              "    </tr>\n",
              "    <tr>\n",
              "      <th>Andorra</th>\n",
              "      <td>20456</td>\n",
              "      <td>870</td>\n",
              "    </tr>\n",
              "    <tr>\n",
              "      <th>Angola</th>\n",
              "      <td>588</td>\n",
              "      <td>62</td>\n",
              "    </tr>\n",
              "    <tr>\n",
              "      <th>...</th>\n",
              "      <td>...</td>\n",
              "      <td>...</td>\n",
              "    </tr>\n",
              "    <tr>\n",
              "      <th>Western Sahara</th>\n",
              "      <td>24</td>\n",
              "      <td>0</td>\n",
              "    </tr>\n",
              "    <tr>\n",
              "      <th>World</th>\n",
              "      <td>66513187</td>\n",
              "      <td>4143642</td>\n",
              "    </tr>\n",
              "    <tr>\n",
              "      <th>Yemen</th>\n",
              "      <td>20</td>\n",
              "      <td>0</td>\n",
              "    </tr>\n",
              "    <tr>\n",
              "      <th>Zambia</th>\n",
              "      <td>1733</td>\n",
              "      <td>56</td>\n",
              "    </tr>\n",
              "    <tr>\n",
              "      <th>Zimbabwe</th>\n",
              "      <td>592</td>\n",
              "      <td>83</td>\n",
              "    </tr>\n",
              "  </tbody>\n",
              "</table>\n",
              "<p>209 rows × 2 columns</p>\n",
              "</div>"
            ],
            "text/plain": [
              "                total_cases  total_deaths\n",
              "location                                 \n",
              "Afghanistan           23749           751\n",
              "Albania               16332           761\n",
              "Algeria               66423          8599\n",
              "Andorra               20456           870\n",
              "Angola                  588            62\n",
              "...                     ...           ...\n",
              "Western Sahara           24             0\n",
              "World              66513187       4143642\n",
              "Yemen                    20             0\n",
              "Zambia                 1733            56\n",
              "Zimbabwe                592            83\n",
              "\n",
              "[209 rows x 2 columns]"
            ]
          },
          "metadata": {
            "tags": []
          },
          "execution_count": 18
        }
      ]
    },
    {
      "cell_type": "code",
      "metadata": {
        "colab": {
          "base_uri": "https://localhost:8080/",
          "height": 310
        },
        "id": "rkYRsbEf_j5f",
        "outputId": "5defec4a-4b3e-4d64-ed58-9be9671c0015"
      },
      "source": [
        "plt.scatter(cases_tests['total_cases'], cases_tests['total_deaths'])\n",
        "plt.xlabel('Deaths')\n",
        "plt.ylabel('Cases')"
      ],
      "execution_count": 19,
      "outputs": [
        {
          "output_type": "execute_result",
          "data": {
            "text/plain": [
              "Text(0, 0.5, 'Cases')"
            ]
          },
          "metadata": {
            "tags": []
          },
          "execution_count": 19
        },
        {
          "output_type": "display_data",
          "data": {
            "image/png": "[encoded data removed]",
            "text/plain": [
              "<Figure size 432x288 with 1 Axes>"
            ]
          },
          "metadata": {
            "tags": [],
            "needs_background": "light"
          }
        }
      ]
    },
    {
      "cell_type": "code",
      "metadata": {
        "colab": {
          "base_uri": "https://localhost:8080/",
          "height": 309
        },
        "id": "pU2JNnc__j5f",
        "outputId": "b910c181-6dfb-4582-93ac-d1cd1052a6a2"
      },
      "source": [
        "df.head()"
      ],
      "execution_count": 20,
      "outputs": [
        {
          "output_type": "execute_result",
          "data": {
            "text/html": [
              "<div>\n",
              "<style scoped>\n",
              "    .dataframe tbody tr th:only-of-type {\n",
              "        vertical-align: middle;\n",
              "    }\n",
              "\n",
              "    .dataframe tbody tr th {\n",
              "        vertical-align: top;\n",
              "    }\n",
              "\n",
              "    .dataframe thead th {\n",
              "        text-align: right;\n",
              "    }\n",
              "</style>\n",
              "<table border=\"1\" class=\"dataframe\">\n",
              "  <thead>\n",
              "    <tr style=\"text-align: right;\">\n",
              "      <th></th>\n",
              "      <th>iso_code</th>\n",
              "      <th>location</th>\n",
              "      <th>date</th>\n",
              "      <th>total_cases</th>\n",
              "      <th>new_cases</th>\n",
              "      <th>total_deaths</th>\n",
              "      <th>new_deaths</th>\n",
              "      <th>total_cases_per_million</th>\n",
              "      <th>new_cases_per_million</th>\n",
              "      <th>total_deaths_per_million</th>\n",
              "      <th>new_deaths_per_million</th>\n",
              "      <th>total_tests</th>\n",
              "      <th>new_tests</th>\n",
              "      <th>total_tests_per_thousand</th>\n",
              "      <th>new_tests_per_thousand</th>\n",
              "      <th>tests_units</th>\n",
              "    </tr>\n",
              "  </thead>\n",
              "  <tbody>\n",
              "    <tr>\n",
              "      <th>0</th>\n",
              "      <td>ABW</td>\n",
              "      <td>Aruba</td>\n",
              "      <td>2020-03-13</td>\n",
              "      <td>2</td>\n",
              "      <td>2</td>\n",
              "      <td>0</td>\n",
              "      <td>0</td>\n",
              "      <td>18.733</td>\n",
              "      <td>18.733</td>\n",
              "      <td>0.0</td>\n",
              "      <td>0.0</td>\n",
              "      <td>0.0</td>\n",
              "      <td>0.0</td>\n",
              "      <td>0.0</td>\n",
              "      <td>0.0</td>\n",
              "      <td>0</td>\n",
              "    </tr>\n",
              "    <tr>\n",
              "      <th>1</th>\n",
              "      <td>ABW</td>\n",
              "      <td>Aruba</td>\n",
              "      <td>2020-03-20</td>\n",
              "      <td>4</td>\n",
              "      <td>2</td>\n",
              "      <td>0</td>\n",
              "      <td>0</td>\n",
              "      <td>37.465</td>\n",
              "      <td>18.733</td>\n",
              "      <td>0.0</td>\n",
              "      <td>0.0</td>\n",
              "      <td>0.0</td>\n",
              "      <td>0.0</td>\n",
              "      <td>0.0</td>\n",
              "      <td>0.0</td>\n",
              "      <td>0</td>\n",
              "    </tr>\n",
              "    <tr>\n",
              "      <th>2</th>\n",
              "      <td>ABW</td>\n",
              "      <td>Aruba</td>\n",
              "      <td>2020-03-24</td>\n",
              "      <td>12</td>\n",
              "      <td>8</td>\n",
              "      <td>0</td>\n",
              "      <td>0</td>\n",
              "      <td>112.395</td>\n",
              "      <td>74.930</td>\n",
              "      <td>0.0</td>\n",
              "      <td>0.0</td>\n",
              "      <td>0.0</td>\n",
              "      <td>0.0</td>\n",
              "      <td>0.0</td>\n",
              "      <td>0.0</td>\n",
              "      <td>0</td>\n",
              "    </tr>\n",
              "    <tr>\n",
              "      <th>3</th>\n",
              "      <td>ABW</td>\n",
              "      <td>Aruba</td>\n",
              "      <td>2020-03-25</td>\n",
              "      <td>17</td>\n",
              "      <td>5</td>\n",
              "      <td>0</td>\n",
              "      <td>0</td>\n",
              "      <td>159.227</td>\n",
              "      <td>46.831</td>\n",
              "      <td>0.0</td>\n",
              "      <td>0.0</td>\n",
              "      <td>0.0</td>\n",
              "      <td>0.0</td>\n",
              "      <td>0.0</td>\n",
              "      <td>0.0</td>\n",
              "      <td>0</td>\n",
              "    </tr>\n",
              "    <tr>\n",
              "      <th>4</th>\n",
              "      <td>ABW</td>\n",
              "      <td>Aruba</td>\n",
              "      <td>2020-03-26</td>\n",
              "      <td>19</td>\n",
              "      <td>2</td>\n",
              "      <td>0</td>\n",
              "      <td>0</td>\n",
              "      <td>177.959</td>\n",
              "      <td>18.733</td>\n",
              "      <td>0.0</td>\n",
              "      <td>0.0</td>\n",
              "      <td>0.0</td>\n",
              "      <td>0.0</td>\n",
              "      <td>0.0</td>\n",
              "      <td>0.0</td>\n",
              "      <td>0</td>\n",
              "    </tr>\n",
              "  </tbody>\n",
              "</table>\n",
              "</div>"
            ],
            "text/plain": [
              "  iso_code location  ... new_tests_per_thousand  tests_units\n",
              "0      ABW    Aruba  ...                    0.0            0\n",
              "1      ABW    Aruba  ...                    0.0            0\n",
              "2      ABW    Aruba  ...                    0.0            0\n",
              "3      ABW    Aruba  ...                    0.0            0\n",
              "4      ABW    Aruba  ...                    0.0            0\n",
              "\n",
              "[5 rows x 16 columns]"
            ]
          },
          "metadata": {
            "tags": []
          },
          "execution_count": 20
        }
      ]
    },
    {
      "cell_type": "markdown",
      "metadata": {
        "id": "TGdJPCPc_j5f"
      },
      "source": [
        "#### lets look at the tests per cases in most affected countries like America, Spain etc"
      ]
    },
    {
      "cell_type": "code",
      "metadata": {
        "id": "dDrZyB3S_j5g"
      },
      "source": [
        "america = df[df['location'] == 'United States']"
      ],
      "execution_count": 21,
      "outputs": []
    },
    {
      "cell_type": "code",
      "metadata": {
        "colab": {
          "base_uri": "https://localhost:8080/",
          "height": 542
        },
        "id": "t14Wt9d5_j5g",
        "outputId": "9ac9450c-230d-4bb2-fd50-5ce6096cdef5"
      },
      "source": [
        "america.iplot(kind = 'scatter', x = 'total_cases', y = 'total_tests', xTitle='Cases', yTitle='Tests', title = 'Cases/tests in America', mode = 'lines+markers', colors = 'blue')"
      ],
      "execution_count": 37,
      "outputs": [
        {
          "output_type": "display_data",
          "data": {
            "text/html": [
              "<div>\n",
              "        \n",
              "        \n",
              "            <div id=\"dcf25e03-3d53-4325-8dd6-9159fef8c62a\" class=\"plotly-graph-div\" style=\"height:525px; width:100%;\"></div>\n",
              "            <script type=\"text/javascript\">\n",
              "                require([\"plotly\"], function(Plotly) {\n",
              "                    window.PLOTLYENV=window.PLOTLYENV || {};\n",
              "                    window.PLOTLYENV.BASE_URL='https://plot.ly';\n",
              "                    \n",
              "                if (document.getElementById(\"dcf25e03-3d53-4325-8dd6-9159fef8c62a\")) {\n",
              "                    Plotly.newPlot(\n",
              "                        'dcf25e03-3d53-4325-8dd6-9159fef8c62a',\n",
              "                        [{\"line\": {\"color\": \"rgba(55, 128, 191, 1.0)\", \"dash\": \"solid\", \"shape\": \"linear\", \"width\": 1.3}, \"marker\": {\"size\": 12, \"symbol\": \"circle\"}, \"mode\": \"lines+markers\", \"name\": \"total_tests\", \"text\": \"\", \"type\": \"scatter\", \"x\": [0, 0, 0, 0, 0, 0, 0, 0, 0, 0, 0, 0, 0, 0, 0, 0, 0, 0, 0, 0, 0, 1, 1, 1, 1, 2, 2, 5, 5, 5, 5, 6, 7, 8, 11, 11, 11, 12, 12, 12, 12, 12, 13, 13, 14, 15, 15, 15, 15, 15, 15, 15, 16, 35, 35, 35, 53, 53, 59, 60, 66, 69, 89, 103, 125, 159, 233, 338, 433, 554, 754, 1025, 1312, 1663, 2174, 2951, 3774, 4661, 6427, 9415, 14250, 19624, 26747, 35206, 46442, 55231, 69194, 85991, 104686, 124665, 143025, 164620, 189618, 216721, 245540, 277965, 312237, 337635, 368196, 398809, 432132, 466033, 501560, 529951, 557571, 582594, 609516, 639664, 671331, 702164, 735086, 759687, 787752, 825041, 842629, 869172, 890524, 939053, 965910, 988451, 1012583], \"y\": [0.0, 0.0, 0.0, 0.0, 0.0, 0.0, 0.0, 0.0, 0.0, 0.0, 0.0, 0.0, 0.0, 0.0, 0.0, 0.0, 0.0, 0.0, 0.0, 0.0, 0.0, 0.0, 0.0, 0.0, 0.0, 0.0, 0.0, 0.0, 0.0, 0.0, 0.0, 0.0, 0.0, 0.0, 0.0, 0.0, 0.0, 0.0, 0.0, 0.0, 0.0, 0.0, 0.0, 0.0, 0.0, 0.0, 0.0, 0.0, 0.0, 0.0, 0.0, 0.0, 0.0, 0.0, 0.0, 0.0, 0.0, 0.0, 0.0, 0.0, 0.0, 0.0, 0.0, 0.0, 0.0, 0.0, 0.0, 3753.0, 4624.0, 6420.0, 8832.0, 12580.0, 17717.0, 26773.0, 31291.0, 38949.0, 56610.0, 72219.0, 96858.0, 124258.0, 160419.0, 205172.0, 249769.0, 306904.0, 375517.0, 459004.0, 559468.0, 662538.0, 766904.0, 855684.0, 973134.0, 1084228.0, 1191810.0, 1309833.0, 1442065.0, 1670862.0, 1790521.0, 1941251.0, 2093996.0, 2238429.0, 2404262.0, 2562007.0, 2700554.0, 2842322.0, 2975315.0, 3125731.0, 3262564.0, 3424690.0, 3582610.0, 3724925.0, 3891383.0, 4038895.0, 4186974.0, 4501156.0, 4693168.0, 4925393.0, 5196649.0, 5403052.0, 5593495.0, 0.0, 0.0]}],\n",
              "                        {\"legend\": {\"bgcolor\": \"#F5F6F9\", \"font\": {\"color\": \"#4D5663\"}}, \"paper_bgcolor\": \"#F5F6F9\", \"plot_bgcolor\": \"#F5F6F9\", \"template\": {\"data\": {\"bar\": [{\"error_x\": {\"color\": \"#2a3f5f\"}, \"error_y\": {\"color\": \"#2a3f5f\"}, \"marker\": {\"line\": {\"color\": \"#E5ECF6\", \"width\": 0.5}}, \"type\": \"bar\"}], \"barpolar\": [{\"marker\": {\"line\": {\"color\": \"#E5ECF6\", \"width\": 0.5}}, \"type\": \"barpolar\"}], \"carpet\": [{\"aaxis\": {\"endlinecolor\": \"#2a3f5f\", \"gridcolor\": \"white\", \"linecolor\": \"white\", \"minorgridcolor\": \"white\", \"startlinecolor\": \"#2a3f5f\"}, \"baxis\": {\"endlinecolor\": \"#2a3f5f\", \"gridcolor\": \"white\", \"linecolor\": \"white\", \"minorgridcolor\": \"white\", \"startlinecolor\": \"#2a3f5f\"}, \"type\": \"carpet\"}], \"choropleth\": [{\"colorbar\": {\"outlinewidth\": 0, \"ticks\": \"\"}, \"type\": \"choropleth\"}], \"contour\": [{\"colorbar\": {\"outlinewidth\": 0, \"ticks\": \"\"}, \"colorscale\": [[0.0, \"#0d0887\"], [0.1111111111111111, \"#46039f\"], [0.2222222222222222, \"#7201a8\"], [0.3333333333333333, \"#9c179e\"], [0.4444444444444444, \"#bd3786\"], [0.5555555555555556, \"#d8576b\"], [0.6666666666666666, \"#ed7953\"], [0.7777777777777778, \"#fb9f3a\"], [0.8888888888888888, \"#fdca26\"], [1.0, \"#f0f921\"]], \"type\": \"contour\"}], \"contourcarpet\": [{\"colorbar\": {\"outlinewidth\": 0, \"ticks\": \"\"}, \"type\": \"contourcarpet\"}], \"heatmap\": [{\"colorbar\": {\"outlinewidth\": 0, \"ticks\": \"\"}, \"colorscale\": [[0.0, \"#0d0887\"], [0.1111111111111111, \"#46039f\"], [0.2222222222222222, \"#7201a8\"], [0.3333333333333333, \"#9c179e\"], [0.4444444444444444, \"#bd3786\"], [0.5555555555555556, \"#d8576b\"], [0.6666666666666666, \"#ed7953\"], [0.7777777777777778, \"#fb9f3a\"], [0.8888888888888888, \"#fdca26\"], [1.0, \"#f0f921\"]], \"type\": \"heatmap\"}], \"heatmapgl\": [{\"colorbar\": {\"outlinewidth\": 0, \"ticks\": \"\"}, \"colorscale\": [[0.0, \"#0d0887\"], [0.1111111111111111, \"#46039f\"], [0.2222222222222222, \"#7201a8\"], [0.3333333333333333, \"#9c179e\"], [0.4444444444444444, \"#bd3786\"], [0.5555555555555556, \"#d8576b\"], [0.6666666666666666, \"#ed7953\"], [0.7777777777777778, \"#fb9f3a\"], [0.8888888888888888, \"#fdca26\"], [1.0, \"#f0f921\"]], \"type\": \"heatmapgl\"}], \"histogram\": [{\"marker\": {\"colorbar\": {\"outlinewidth\": 0, \"ticks\": \"\"}}, \"type\": \"histogram\"}], \"histogram2d\": [{\"colorbar\": {\"outlinewidth\": 0, \"ticks\": \"\"}, \"colorscale\": [[0.0, \"#0d0887\"], [0.1111111111111111, \"#46039f\"], [0.2222222222222222, \"#7201a8\"], [0.3333333333333333, \"#9c179e\"], [0.4444444444444444, \"#bd3786\"], [0.5555555555555556, \"#d8576b\"], [0.6666666666666666, \"#ed7953\"], [0.7777777777777778, \"#fb9f3a\"], [0.8888888888888888, \"#fdca26\"], [1.0, \"#f0f921\"]], \"type\": \"histogram2d\"}], \"histogram2dcontour\": [{\"colorbar\": {\"outlinewidth\": 0, \"ticks\": \"\"}, \"colorscale\": [[0.0, \"#0d0887\"], [0.1111111111111111, \"#46039f\"], [0.2222222222222222, \"#7201a8\"], [0.3333333333333333, \"#9c179e\"], [0.4444444444444444, \"#bd3786\"], [0.5555555555555556, \"#d8576b\"], [0.6666666666666666, \"#ed7953\"], [0.7777777777777778, \"#fb9f3a\"], [0.8888888888888888, \"#fdca26\"], [1.0, \"#f0f921\"]], \"type\": \"histogram2dcontour\"}], \"mesh3d\": [{\"colorbar\": {\"outlinewidth\": 0, \"ticks\": \"\"}, \"type\": \"mesh3d\"}], \"parcoords\": [{\"line\": {\"colorbar\": {\"outlinewidth\": 0, \"ticks\": \"\"}}, \"type\": \"parcoords\"}], \"pie\": [{\"automargin\": true, \"type\": \"pie\"}], \"scatter\": [{\"marker\": {\"colorbar\": {\"outlinewidth\": 0, \"ticks\": \"\"}}, \"type\": \"scatter\"}], \"scatter3d\": [{\"line\": {\"colorbar\": {\"outlinewidth\": 0, \"ticks\": \"\"}}, \"marker\": {\"colorbar\": {\"outlinewidth\": 0, \"ticks\": \"\"}}, \"type\": \"scatter3d\"}], \"scattercarpet\": [{\"marker\": {\"colorbar\": {\"outlinewidth\": 0, \"ticks\": \"\"}}, \"type\": \"scattercarpet\"}], \"scattergeo\": [{\"marker\": {\"colorbar\": {\"outlinewidth\": 0, \"ticks\": \"\"}}, \"type\": \"scattergeo\"}], \"scattergl\": [{\"marker\": {\"colorbar\": {\"outlinewidth\": 0, \"ticks\": \"\"}}, \"type\": \"scattergl\"}], \"scattermapbox\": [{\"marker\": {\"colorbar\": {\"outlinewidth\": 0, \"ticks\": \"\"}}, \"type\": \"scattermapbox\"}], \"scatterpolar\": [{\"marker\": {\"colorbar\": {\"outlinewidth\": 0, \"ticks\": \"\"}}, \"type\": \"scatterpolar\"}], \"scatterpolargl\": [{\"marker\": {\"colorbar\": {\"outlinewidth\": 0, \"ticks\": \"\"}}, \"type\": \"scatterpolargl\"}], \"scatterternary\": [{\"marker\": {\"colorbar\": {\"outlinewidth\": 0, \"ticks\": \"\"}}, \"type\": \"scatterternary\"}], \"surface\": [{\"colorbar\": {\"outlinewidth\": 0, \"ticks\": \"\"}, \"colorscale\": [[0.0, \"#0d0887\"], [0.1111111111111111, \"#46039f\"], [0.2222222222222222, \"#7201a8\"], [0.3333333333333333, \"#9c179e\"], [0.4444444444444444, \"#bd3786\"], [0.5555555555555556, \"#d8576b\"], [0.6666666666666666, \"#ed7953\"], [0.7777777777777778, \"#fb9f3a\"], [0.8888888888888888, \"#fdca26\"], [1.0, \"#f0f921\"]], \"type\": \"surface\"}], \"table\": [{\"cells\": {\"fill\": {\"color\": \"#EBF0F8\"}, \"line\": {\"color\": \"white\"}}, \"header\": {\"fill\": {\"color\": \"#C8D4E3\"}, \"line\": {\"color\": \"white\"}}, \"type\": \"table\"}]}, \"layout\": {\"annotationdefaults\": {\"arrowcolor\": \"#2a3f5f\", \"arrowhead\": 0, \"arrowwidth\": 1}, \"coloraxis\": {\"colorbar\": {\"outlinewidth\": 0, \"ticks\": \"\"}}, \"colorscale\": {\"diverging\": [[0, \"#8e0152\"], [0.1, \"#c51b7d\"], [0.2, \"#de77ae\"], [0.3, \"#f1b6da\"], [0.4, \"#fde0ef\"], [0.5, \"#f7f7f7\"], [0.6, \"#e6f5d0\"], [0.7, \"#b8e186\"], [0.8, \"#7fbc41\"], [0.9, \"#4d9221\"], [1, \"#276419\"]], \"sequential\": [[0.0, \"#0d0887\"], [0.1111111111111111, \"#46039f\"], [0.2222222222222222, \"#7201a8\"], [0.3333333333333333, \"#9c179e\"], [0.4444444444444444, \"#bd3786\"], [0.5555555555555556, \"#d8576b\"], [0.6666666666666666, \"#ed7953\"], [0.7777777777777778, \"#fb9f3a\"], [0.8888888888888888, \"#fdca26\"], [1.0, \"#f0f921\"]], \"sequentialminus\": [[0.0, \"#0d0887\"], [0.1111111111111111, \"#46039f\"], [0.2222222222222222, \"#7201a8\"], [0.3333333333333333, \"#9c179e\"], [0.4444444444444444, \"#bd3786\"], [0.5555555555555556, \"#d8576b\"], [0.6666666666666666, \"#ed7953\"], [0.7777777777777778, \"#fb9f3a\"], [0.8888888888888888, \"#fdca26\"], [1.0, \"#f0f921\"]]}, \"colorway\": [\"#636efa\", \"#EF553B\", \"#00cc96\", \"#ab63fa\", \"#FFA15A\", \"#19d3f3\", \"#FF6692\", \"#B6E880\", \"#FF97FF\", \"#FECB52\"], \"font\": {\"color\": \"#2a3f5f\"}, \"geo\": {\"bgcolor\": \"white\", \"lakecolor\": \"white\", \"landcolor\": \"#E5ECF6\", \"showlakes\": true, \"showland\": true, \"subunitcolor\": \"white\"}, \"hoverlabel\": {\"align\": \"left\"}, \"hovermode\": \"closest\", \"mapbox\": {\"style\": \"light\"}, \"paper_bgcolor\": \"white\", \"plot_bgcolor\": \"#E5ECF6\", \"polar\": {\"angularaxis\": {\"gridcolor\": \"white\", \"linecolor\": \"white\", \"ticks\": \"\"}, \"bgcolor\": \"#E5ECF6\", \"radialaxis\": {\"gridcolor\": \"white\", \"linecolor\": \"white\", \"ticks\": \"\"}}, \"scene\": {\"xaxis\": {\"backgroundcolor\": \"#E5ECF6\", \"gridcolor\": \"white\", \"gridwidth\": 2, \"linecolor\": \"white\", \"showbackground\": true, \"ticks\": \"\", \"zerolinecolor\": \"white\"}, \"yaxis\": {\"backgroundcolor\": \"#E5ECF6\", \"gridcolor\": \"white\", \"gridwidth\": 2, \"linecolor\": \"white\", \"showbackground\": true, \"ticks\": \"\", \"zerolinecolor\": \"white\"}, \"zaxis\": {\"backgroundcolor\": \"#E5ECF6\", \"gridcolor\": \"white\", \"gridwidth\": 2, \"linecolor\": \"white\", \"showbackground\": true, \"ticks\": \"\", \"zerolinecolor\": \"white\"}}, \"shapedefaults\": {\"line\": {\"color\": \"#2a3f5f\"}}, \"ternary\": {\"aaxis\": {\"gridcolor\": \"white\", \"linecolor\": \"white\", \"ticks\": \"\"}, \"baxis\": {\"gridcolor\": \"white\", \"linecolor\": \"white\", \"ticks\": \"\"}, \"bgcolor\": \"#E5ECF6\", \"caxis\": {\"gridcolor\": \"white\", \"linecolor\": \"white\", \"ticks\": \"\"}}, \"title\": {\"x\": 0.05}, \"xaxis\": {\"automargin\": true, \"gridcolor\": \"white\", \"linecolor\": \"white\", \"ticks\": \"\", \"title\": {\"standoff\": 15}, \"zerolinecolor\": \"white\", \"zerolinewidth\": 2}, \"yaxis\": {\"automargin\": true, \"gridcolor\": \"white\", \"linecolor\": \"white\", \"ticks\": \"\", \"title\": {\"standoff\": 15}, \"zerolinecolor\": \"white\", \"zerolinewidth\": 2}}}, \"title\": {\"font\": {\"color\": \"#4D5663\"}, \"text\": \"Cases/tests in America\"}, \"xaxis\": {\"gridcolor\": \"#E1E5ED\", \"showgrid\": true, \"tickfont\": {\"color\": \"#4D5663\"}, \"title\": {\"font\": {\"color\": \"#4D5663\"}, \"text\": \"Cases\"}, \"zerolinecolor\": \"#E1E5ED\"}, \"yaxis\": {\"gridcolor\": \"#E1E5ED\", \"showgrid\": true, \"tickfont\": {\"color\": \"#4D5663\"}, \"title\": {\"font\": {\"color\": \"#4D5663\"}, \"text\": \"Tests\"}, \"zerolinecolor\": \"#E1E5ED\"}},\n",
              "                        {\"showLink\": true, \"linkText\": \"Export to plot.ly\", \"plotlyServerURL\": \"https://plot.ly\", \"responsive\": true}\n",
              "                    ).then(function(){\n",
              "                            \n",
              "var gd = document.getElementById('dcf25e03-3d53-4325-8dd6-9159fef8c62a');\n",
              "var x = new MutationObserver(function (mutations, observer) {{\n",
              "        var display = window.getComputedStyle(gd).display;\n",
              "        if (!display || display === 'none') {{\n",
              "            console.log([gd, 'removed!']);\n",
              "            Plotly.purge(gd);\n",
              "            observer.disconnect();\n",
              "        }}\n",
              "}});\n",
              "\n",
              "// Listen for the removal of the full notebook cells\n",
              "var notebookContainer = gd.closest('#notebook-container');\n",
              "if (notebookContainer) {{\n",
              "    x.observe(notebookContainer, {childList: true});\n",
              "}}\n",
              "\n",
              "// Listen for the clearing of the current output cell\n",
              "var outputEl = gd.closest('.output');\n",
              "if (outputEl) {{\n",
              "    x.observe(outputEl, {childList: true});\n",
              "}}\n",
              "\n",
              "                        })\n",
              "                };\n",
              "                });\n",
              "            </script>\n",
              "        </div>"
            ],
            "application/vnd.plotly.v1+json": {
              "data": [
                {
                  "name": "total_tests",
                  "text": "",
                  "y": [
                    0,
                    0,
                    0,
                    0,
                    0,
                    0,
                    0,
                    0,
                    0,
                    0,
                    0,
                    0,
                    0,
                    0,
                    0,
                    0,
                    0,
                    0,
                    0,
                    0,
                    0,
                    0,
                    0,
                    0,
                    0,
                    0,
                    0,
                    0,
                    0,
                    0,
                    0,
                    0,
                    0,
                    0,
                    0,
                    0,
                    0,
                    0,
                    0,
                    0,
                    0,
                    0,
                    0,
                    0,
                    0,
                    0,
                    0,
                    0,
                    0,
                    0,
                    0,
                    0,
                    0,
                    0,
                    0,
                    0,
                    0,
                    0,
                    0,
                    0,
                    0,
                    0,
                    0,
                    0,
                    0,
                    0,
                    0,
                    3753,
                    4624,
                    6420,
                    8832,
                    12580,
                    17717,
                    26773,
                    31291,
                    38949,
                    56610,
                    72219,
                    96858,
                    124258,
                    160419,
                    205172,
                    249769,
                    306904,
                    375517,
                    459004,
                    559468,
                    662538,
                    766904,
                    855684,
                    973134,
                    1084228,
                    1191810,
                    1309833,
                    1442065,
                    1670862,
                    1790521,
                    1941251,
                    2093996,
                    2238429,
                    2404262,
                    2562007,
                    2700554,
                    2842322,
                    2975315,
                    3125731,
                    3262564,
                    3424690,
                    3582610,
                    3724925,
                    3891383,
                    4038895,
                    4186974,
                    4501156,
                    4693168,
                    4925393,
                    5196649,
                    5403052,
                    5593495,
                    0,
                    0
                  ],
                  "mode": "lines+markers",
                  "marker": {
                    "symbol": "circle",
                    "size": 12
                  },
                  "x": [
                    0,
                    0,
                    0,
                    0,
                    0,
                    0,
                    0,
                    0,
                    0,
                    0,
                    0,
                    0,
                    0,
                    0,
                    0,
                    0,
                    0,
                    0,
                    0,
                    0,
                    0,
                    1,
                    1,
                    1,
                    1,
                    2,
                    2,
                    5,
                    5,
                    5,
                    5,
                    6,
                    7,
                    8,
                    11,
                    11,
                    11,
                    12,
                    12,
                    12,
                    12,
                    12,
                    13,
                    13,
                    14,
                    15,
                    15,
                    15,
                    15,
                    15,
                    15,
                    15,
                    16,
                    35,
                    35,
                    35,
                    53,
                    53,
                    59,
                    60,
                    66,
                    69,
                    89,
                    103,
                    125,
                    159,
                    233,
                    338,
                    433,
                    554,
                    754,
                    1025,
                    1312,
                    1663,
                    2174,
                    2951,
                    3774,
                    4661,
                    6427,
                    9415,
                    14250,
                    19624,
                    26747,
                    35206,
                    46442,
                    55231,
                    69194,
                    85991,
                    104686,
                    124665,
                    143025,
                    164620,
                    189618,
                    216721,
                    245540,
                    277965,
                    312237,
                    337635,
                    368196,
                    398809,
                    432132,
                    466033,
                    501560,
                    529951,
                    557571,
                    582594,
                    609516,
                    639664,
                    671331,
                    702164,
                    735086,
                    759687,
                    787752,
                    825041,
                    842629,
                    869172,
                    890524,
                    939053,
                    965910,
                    988451,
                    1012583
                  ],
                  "line": {
                    "color": "rgba(55, 128, 191, 1.0)",
                    "dash": "solid",
                    "shape": "linear",
                    "width": 1.3
                  },
                  "type": "scatter"
                }
              ],
              "config": {
                "plotlyServerURL": "https://plot.ly",
                "linkText": "Export to plot.ly",
                "showLink": true
              },
              "layout": {
                "template": {
                  "layout": {
                    "shapedefaults": {
                      "line": {
                        "color": "#2a3f5f"
                      }
                    },
                    "polar": {
                      "radialaxis": {
                        "ticks": "",
                        "gridcolor": "white",
                        "linecolor": "white"
                      },
                      "bgcolor": "#E5ECF6",
                      "angularaxis": {
                        "ticks": "",
                        "gridcolor": "white",
                        "linecolor": "white"
                      }
                    },
                    "colorway": [
                      "#636efa",
                      "#EF553B",
                      "#00cc96",
                      "#ab63fa",
                      "#FFA15A",
                      "#19d3f3",
                      "#FF6692",
                      "#B6E880",
                      "#FF97FF",
                      "#FECB52"
                    ],
                    "xaxis": {
                      "automargin": true,
                      "title": {
                        "standoff": 15
                      },
                      "zerolinewidth": 2,
                      "ticks": "",
                      "zerolinecolor": "white",
                      "gridcolor": "white",
                      "linecolor": "white"
                    },
                    "colorscale": {
                      "diverging": [
                        [
                          0,
                          "#8e0152"
                        ],
                        [
                          0.1,
                          "#c51b7d"
                        ],
                        [
                          0.2,
                          "#de77ae"
                        ],
                        [
                          0.3,
                          "#f1b6da"
                        ],
                        [
                          0.4,
                          "#fde0ef"
                        ],
                        [
                          0.5,
                          "#f7f7f7"
                        ],
                        [
                          0.6,
                          "#e6f5d0"
                        ],
                        [
                          0.7,
                          "#b8e186"
                        ],
                        [
                          0.8,
                          "#7fbc41"
                        ],
                        [
                          0.9,
                          "#4d9221"
                        ],
                        [
                          1,
                          "#276419"
                        ]
                      ],
                      "sequential": [
                        [
                          0,
                          "#0d0887"
                        ],
                        [
                          0.1111111111111111,
                          "#46039f"
                        ],
                        [
                          0.2222222222222222,
                          "#7201a8"
                        ],
                        [
                          0.3333333333333333,
                          "#9c179e"
                        ],
                        [
                          0.4444444444444444,
                          "#bd3786"
                        ],
                        [
                          0.5555555555555556,
                          "#d8576b"
                        ],
                        [
                          0.6666666666666666,
                          "#ed7953"
                        ],
                        [
                          0.7777777777777778,
                          "#fb9f3a"
                        ],
                        [
                          0.8888888888888888,
                          "#fdca26"
                        ],
                        [
                          1,
                          "#f0f921"
                        ]
                      ],
                      "sequentialminus": [
                        [
                          0,
                          "#0d0887"
                        ],
                        [
                          0.1111111111111111,
                          "#46039f"
                        ],
                        [
                          0.2222222222222222,
                          "#7201a8"
                        ],
                        [
                          0.3333333333333333,
                          "#9c179e"
                        ],
                        [
                          0.4444444444444444,
                          "#bd3786"
                        ],
                        [
                          0.5555555555555556,
                          "#d8576b"
                        ],
                        [
                          0.6666666666666666,
                          "#ed7953"
                        ],
                        [
                          0.7777777777777778,
                          "#fb9f3a"
                        ],
                        [
                          0.8888888888888888,
                          "#fdca26"
                        ],
                        [
                          1,
                          "#f0f921"
                        ]
                      ]
                    },
                    "paper_bgcolor": "white",
                    "plot_bgcolor": "#E5ECF6",
                    "title": {
                      "x": 0.05
                    },
                    "scene": {
                      "zaxis": {
                        "backgroundcolor": "#E5ECF6",
                        "ticks": "",
                        "gridwidth": 2,
                        "showbackground": true,
                        "zerolinecolor": "white",
                        "gridcolor": "white",
                        "linecolor": "white"
                      },
                      "xaxis": {
                        "backgroundcolor": "#E5ECF6",
                        "ticks": "",
                        "gridwidth": 2,
                        "showbackground": true,
                        "zerolinecolor": "white",
                        "gridcolor": "white",
                        "linecolor": "white"
                      },
                      "yaxis": {
                        "backgroundcolor": "#E5ECF6",
                        "ticks": "",
                        "gridwidth": 2,
                        "showbackground": true,
                        "zerolinecolor": "white",
                        "gridcolor": "white",
                        "linecolor": "white"
                      }
                    },
                    "yaxis": {
                      "automargin": true,
                      "title": {
                        "standoff": 15
                      },
                      "zerolinewidth": 2,
                      "ticks": "",
                      "zerolinecolor": "white",
                      "gridcolor": "white",
                      "linecolor": "white"
                    },
                    "annotationdefaults": {
                      "arrowwidth": 1,
                      "arrowhead": 0,
                      "arrowcolor": "#2a3f5f"
                    },
                    "hoverlabel": {
                      "align": "left"
                    },
                    "ternary": {
                      "bgcolor": "#E5ECF6",
                      "baxis": {
                        "ticks": "",
                        "gridcolor": "white",
                        "linecolor": "white"
                      },
                      "caxis": {
                        "ticks": "",
                        "gridcolor": "white",
                        "linecolor": "white"
                      },
                      "aaxis": {
                        "ticks": "",
                        "gridcolor": "white",
                        "linecolor": "white"
                      }
                    },
                    "mapbox": {
                      "style": "light"
                    },
                    "hovermode": "closest",
                    "font": {
                      "color": "#2a3f5f"
                    },
                    "geo": {
                      "showland": true,
                      "landcolor": "#E5ECF6",
                      "showlakes": true,
                      "bgcolor": "white",
                      "subunitcolor": "white",
                      "lakecolor": "white"
                    },
                    "coloraxis": {
                      "colorbar": {
                        "outlinewidth": 0,
                        "ticks": ""
                      }
                    }
                  },
                  "data": {
                    "mesh3d": [
                      {
                        "colorbar": {
                          "outlinewidth": 0,
                          "ticks": ""
                        },
                        "type": "mesh3d"
                      }
                    ],
                    "scattercarpet": [
                      {
                        "marker": {
                          "colorbar": {
                            "outlinewidth": 0,
                            "ticks": ""
                          }
                        },
                        "type": "scattercarpet"
                      }
                    ],
                    "pie": [
                      {
                        "automargin": true,
                        "type": "pie"
                      }
                    ],
                    "surface": [
                      {
                        "colorbar": {
                          "outlinewidth": 0,
                          "ticks": ""
                        },
                        "type": "surface",
                        "colorscale": [
                          [
                            0,
                            "#0d0887"
                          ],
                          [
                            0.1111111111111111,
                            "#46039f"
                          ],
                          [
                            0.2222222222222222,
                            "#7201a8"
                          ],
                          [
                            0.3333333333333333,
                            "#9c179e"
                          ],
                          [
                            0.4444444444444444,
                            "#bd3786"
                          ],
                          [
                            0.5555555555555556,
                            "#d8576b"
                          ],
                          [
                            0.6666666666666666,
                            "#ed7953"
                          ],
                          [
                            0.7777777777777778,
                            "#fb9f3a"
                          ],
                          [
                            0.8888888888888888,
                            "#fdca26"
                          ],
                          [
                            1,
                            "#f0f921"
                          ]
                        ]
                      }
                    ],
                    "table": [
                      {
                        "header": {
                          "line": {
                            "color": "white"
                          },
                          "fill": {
                            "color": "#C8D4E3"
                          }
                        },
                        "cells": {
                          "line": {
                            "color": "white"
                          },
                          "fill": {
                            "color": "#EBF0F8"
                          }
                        },
                        "type": "table"
                      }
                    ],
                    "scatterpolargl": [
                      {
                        "marker": {
                          "colorbar": {
                            "outlinewidth": 0,
                            "ticks": ""
                          }
                        },
                        "type": "scatterpolargl"
                      }
                    ],
                    "contour": [
                      {
                        "colorbar": {
                          "outlinewidth": 0,
                          "ticks": ""
                        },
                        "type": "contour",
                        "colorscale": [
                          [
                            0,
                            "#0d0887"
                          ],
                          [
                            0.1111111111111111,
                            "#46039f"
                          ],
                          [
                            0.2222222222222222,
                            "#7201a8"
                          ],
                          [
                            0.3333333333333333,
                            "#9c179e"
                          ],
                          [
                            0.4444444444444444,
                            "#bd3786"
                          ],
                          [
                            0.5555555555555556,
                            "#d8576b"
                          ],
                          [
                            0.6666666666666666,
                            "#ed7953"
                          ],
                          [
                            0.7777777777777778,
                            "#fb9f3a"
                          ],
                          [
                            0.8888888888888888,
                            "#fdca26"
                          ],
                          [
                            1,
                            "#f0f921"
                          ]
                        ]
                      }
                    ],
                    "carpet": [
                      {
                        "type": "carpet",
                        "baxis": {
                          "minorgridcolor": "white",
                          "gridcolor": "white",
                          "linecolor": "white",
                          "endlinecolor": "#2a3f5f",
                          "startlinecolor": "#2a3f5f"
                        },
                        "aaxis": {
                          "minorgridcolor": "white",
                          "gridcolor": "white",
                          "linecolor": "white",
                          "endlinecolor": "#2a3f5f",
                          "startlinecolor": "#2a3f5f"
                        }
                      }
                    ],
                    "contourcarpet": [
                      {
                        "colorbar": {
                          "outlinewidth": 0,
                          "ticks": ""
                        },
                        "type": "contourcarpet"
                      }
                    ],
                    "heatmap": [
                      {
                        "colorbar": {
                          "outlinewidth": 0,
                          "ticks": ""
                        },
                        "type": "heatmap",
                        "colorscale": [
                          [
                            0,
                            "#0d0887"
                          ],
                          [
                            0.1111111111111111,
                            "#46039f"
                          ],
                          [
                            0.2222222222222222,
                            "#7201a8"
                          ],
                          [
                            0.3333333333333333,
                            "#9c179e"
                          ],
                          [
                            0.4444444444444444,
                            "#bd3786"
                          ],
                          [
                            0.5555555555555556,
                            "#d8576b"
                          ],
                          [
                            0.6666666666666666,
                            "#ed7953"
                          ],
                          [
                            0.7777777777777778,
                            "#fb9f3a"
                          ],
                          [
                            0.8888888888888888,
                            "#fdca26"
                          ],
                          [
                            1,
                            "#f0f921"
                          ]
                        ]
                      }
                    ],
                    "scattermapbox": [
                      {
                        "marker": {
                          "colorbar": {
                            "outlinewidth": 0,
                            "ticks": ""
                          }
                        },
                        "type": "scattermapbox"
                      }
                    ],
                    "scatter3d": [
                      {
                        "marker": {
                          "colorbar": {
                            "outlinewidth": 0,
                            "ticks": ""
                          }
                        },
                        "line": {
                          "colorbar": {
                            "outlinewidth": 0,
                            "ticks": ""
                          }
                        },
                        "type": "scatter3d"
                      }
                    ],
                    "scattergl": [
                      {
                        "marker": {
                          "colorbar": {
                            "outlinewidth": 0,
                            "ticks": ""
                          }
                        },
                        "type": "scattergl"
                      }
                    ],
                    "scatterternary": [
                      {
                        "marker": {
                          "colorbar": {
                            "outlinewidth": 0,
                            "ticks": ""
                          }
                        },
                        "type": "scatterternary"
                      }
                    ],
                    "histogram": [
                      {
                        "marker": {
                          "colorbar": {
                            "outlinewidth": 0,
                            "ticks": ""
                          }
                        },
                        "type": "histogram"
                      }
                    ],
                    "heatmapgl": [
                      {
                        "colorbar": {
                          "outlinewidth": 0,
                          "ticks": ""
                        },
                        "type": "heatmapgl",
                        "colorscale": [
                          [
                            0,
                            "#0d0887"
                          ],
                          [
                            0.1111111111111111,
                            "#46039f"
                          ],
                          [
                            0.2222222222222222,
                            "#7201a8"
                          ],
                          [
                            0.3333333333333333,
                            "#9c179e"
                          ],
                          [
                            0.4444444444444444,
                            "#bd3786"
                          ],
                          [
                            0.5555555555555556,
                            "#d8576b"
                          ],
                          [
                            0.6666666666666666,
                            "#ed7953"
                          ],
                          [
                            0.7777777777777778,
                            "#fb9f3a"
                          ],
                          [
                            0.8888888888888888,
                            "#fdca26"
                          ],
                          [
                            1,
                            "#f0f921"
                          ]
                        ]
                      }
                    ],
                    "scatterpolar": [
                      {
                        "marker": {
                          "colorbar": {
                            "outlinewidth": 0,
                            "ticks": ""
                          }
                        },
                        "type": "scatterpolar"
                      }
                    ],
                    "histogram2d": [
                      {
                        "colorbar": {
                          "outlinewidth": 0,
                          "ticks": ""
                        },
                        "type": "histogram2d",
                        "colorscale": [
                          [
                            0,
                            "#0d0887"
                          ],
                          [
                            0.1111111111111111,
                            "#46039f"
                          ],
                          [
                            0.2222222222222222,
                            "#7201a8"
                          ],
                          [
                            0.3333333333333333,
                            "#9c179e"
                          ],
                          [
                            0.4444444444444444,
                            "#bd3786"
                          ],
                          [
                            0.5555555555555556,
                            "#d8576b"
                          ],
                          [
                            0.6666666666666666,
                            "#ed7953"
                          ],
                          [
                            0.7777777777777778,
                            "#fb9f3a"
                          ],
                          [
                            0.8888888888888888,
                            "#fdca26"
                          ],
                          [
                            1,
                            "#f0f921"
                          ]
                        ]
                      }
                    ],
                    "scattergeo": [
                      {
                        "marker": {
                          "colorbar": {
                            "outlinewidth": 0,
                            "ticks": ""
                          }
                        },
                        "type": "scattergeo"
                      }
                    ],
                    "bar": [
                      {
                        "marker": {
                          "line": {
                            "color": "#E5ECF6",
                            "width": 0.5
                          }
                        },
                        "type": "bar",
                        "error_x": {
                          "color": "#2a3f5f"
                        },
                        "error_y": {
                          "color": "#2a3f5f"
                        }
                      }
                    ],
                    "choropleth": [
                      {
                        "colorbar": {
                          "outlinewidth": 0,
                          "ticks": ""
                        },
                        "type": "choropleth"
                      }
                    ],
                    "parcoords": [
                      {
                        "line": {
                          "colorbar": {
                            "outlinewidth": 0,
                            "ticks": ""
                          }
                        },
                        "type": "parcoords"
                      }
                    ],
                    "barpolar": [
                      {
                        "marker": {
                          "line": {
                            "color": "#E5ECF6",
                            "width": 0.5
                          }
                        },
                        "type": "barpolar"
                      }
                    ],
                    "histogram2dcontour": [
                      {
                        "colorbar": {
                          "outlinewidth": 0,
                          "ticks": ""
                        },
                        "type": "histogram2dcontour",
                        "colorscale": [
                          [
                            0,
                            "#0d0887"
                          ],
                          [
                            0.1111111111111111,
                            "#46039f"
                          ],
                          [
                            0.2222222222222222,
                            "#7201a8"
                          ],
                          [
                            0.3333333333333333,
                            "#9c179e"
                          ],
                          [
                            0.4444444444444444,
                            "#bd3786"
                          ],
                          [
                            0.5555555555555556,
                            "#d8576b"
                          ],
                          [
                            0.6666666666666666,
                            "#ed7953"
                          ],
                          [
                            0.7777777777777778,
                            "#fb9f3a"
                          ],
                          [
                            0.8888888888888888,
                            "#fdca26"
                          ],
                          [
                            1,
                            "#f0f921"
                          ]
                        ]
                      }
                    ],
                    "scatter": [
                      {
                        "marker": {
                          "colorbar": {
                            "outlinewidth": 0,
                            "ticks": ""
                          }
                        },
                        "type": "scatter"
                      }
                    ]
                  }
                },
                "title": {
                  "text": "Cases/tests in America",
                  "font": {
                    "color": "#4D5663"
                  }
                },
                "paper_bgcolor": "#F5F6F9",
                "plot_bgcolor": "#F5F6F9",
                "yaxis": {
                  "tickfont": {
                    "color": "#4D5663"
                  },
                  "zerolinecolor": "#E1E5ED",
                  "title": {
                    "text": "Tests",
                    "font": {
                      "color": "#4D5663"
                    }
                  },
                  "gridcolor": "#E1E5ED",
                  "showgrid": true
                },
                "xaxis": {
                  "tickfont": {
                    "color": "#4D5663"
                  },
                  "zerolinecolor": "#E1E5ED",
                  "title": {
                    "text": "Cases",
                    "font": {
                      "color": "#4D5663"
                    }
                  },
                  "gridcolor": "#E1E5ED",
                  "showgrid": true
                },
                "legend": {
                  "bgcolor": "#F5F6F9",
                  "font": {
                    "color": "#4D5663"
                  }
                }
              }
            }
          },
          "metadata": {
            "tags": []
          }
        }
      ]
    },
    {
      "cell_type": "code",
      "metadata": {
        "colab": {
          "base_uri": "https://localhost:8080/",
          "height": 542
        },
        "id": "5vkklefb_j5g",
        "outputId": "5fee911d-ca80-4607-8bc9-f9a1209e0207"
      },
      "source": [
        "#deaths toll\n",
        "america.iplot(kind = 'scatter', x = 'total_cases', y = 'total_deaths', mode = 'lines+markers', colors = 'red', title = 'Deaths in US', xTitle='Cases', yTitle='Deaths')"
      ],
      "execution_count": 23,
      "outputs": [
        {
          "output_type": "display_data",
          "data": {
            "text/html": [
              "<div>\n",
              "        \n",
              "        \n",
              "            <div id=\"c47c2d06-d602-43d7-a00e-9bfef4e1797d\" class=\"plotly-graph-div\" style=\"height:525px; width:100%;\"></div>\n",
              "            <script type=\"text/javascript\">\n",
              "                require([\"plotly\"], function(Plotly) {\n",
              "                    window.PLOTLYENV=window.PLOTLYENV || {};\n",
              "                    window.PLOTLYENV.BASE_URL='https://plot.ly';\n",
              "                    \n",
              "                if (document.getElementById(\"c47c2d06-d602-43d7-a00e-9bfef4e1797d\")) {\n",
              "                    Plotly.newPlot(\n",
              "                        'c47c2d06-d602-43d7-a00e-9bfef4e1797d',\n",
              "                        [{\"line\": {\"color\": \"rgba(219, 64, 82, 1.0)\", \"dash\": \"solid\", \"shape\": \"linear\", \"width\": 1.3}, \"marker\": {\"size\": 12, \"symbol\": \"circle\"}, \"mode\": \"lines+markers\", \"name\": \"total_deaths\", \"text\": \"\", \"type\": \"scatter\", \"x\": [0, 0, 0, 0, 0, 0, 0, 0, 0, 0, 0, 0, 0, 0, 0, 0, 0, 0, 0, 0, 0, 1, 1, 1, 1, 2, 2, 5, 5, 5, 5, 6, 7, 8, 11, 11, 11, 12, 12, 12, 12, 12, 13, 13, 14, 15, 15, 15, 15, 15, 15, 15, 16, 35, 35, 35, 53, 53, 59, 60, 66, 69, 89, 103, 125, 159, 233, 338, 433, 554, 754, 1025, 1312, 1663, 2174, 2951, 3774, 4661, 6427, 9415, 14250, 19624, 26747, 35206, 46442, 55231, 69194, 85991, 104686, 124665, 143025, 164620, 189618, 216721, 245540, 277965, 312237, 337635, 368196, 398809, 432132, 466033, 501560, 529951, 557571, 582594, 609516, 639664, 671331, 702164, 735086, 759687, 787752, 825041, 842629, 869172, 890524, 939053, 965910, 988451, 1012583], \"y\": [0, 0, 0, 0, 0, 0, 0, 0, 0, 0, 0, 0, 0, 0, 0, 0, 0, 0, 0, 0, 0, 0, 0, 0, 0, 0, 0, 0, 0, 0, 0, 0, 0, 0, 0, 0, 0, 0, 0, 0, 0, 0, 0, 0, 0, 0, 0, 0, 0, 0, 0, 0, 0, 0, 0, 0, 0, 0, 0, 0, 0, 1, 2, 6, 9, 11, 12, 14, 17, 21, 26, 28, 30, 40, 47, 57, 69, 85, 108, 150, 150, 260, 340, 471, 590, 801, 1050, 1296, 1707, 2191, 2509, 3170, 4079, 5138, 6053, 7157, 8501, 9647, 10989, 12895, 14817, 16690, 18777, 20608, 22108, 23649, 26057, 30985, 33284, 37054, 38910, 40682, 42539, 45063, 46784, 49963, 51017, 53189, 54876, 56245, 58355]}],\n",
              "                        {\"legend\": {\"bgcolor\": \"#F5F6F9\", \"font\": {\"color\": \"#4D5663\"}}, \"paper_bgcolor\": \"#F5F6F9\", \"plot_bgcolor\": \"#F5F6F9\", \"template\": {\"data\": {\"bar\": [{\"error_x\": {\"color\": \"#2a3f5f\"}, \"error_y\": {\"color\": \"#2a3f5f\"}, \"marker\": {\"line\": {\"color\": \"#E5ECF6\", \"width\": 0.5}}, \"type\": \"bar\"}], \"barpolar\": [{\"marker\": {\"line\": {\"color\": \"#E5ECF6\", \"width\": 0.5}}, \"type\": \"barpolar\"}], \"carpet\": [{\"aaxis\": {\"endlinecolor\": \"#2a3f5f\", \"gridcolor\": \"white\", \"linecolor\": \"white\", \"minorgridcolor\": \"white\", \"startlinecolor\": \"#2a3f5f\"}, \"baxis\": {\"endlinecolor\": \"#2a3f5f\", \"gridcolor\": \"white\", \"linecolor\": \"white\", \"minorgridcolor\": \"white\", \"startlinecolor\": \"#2a3f5f\"}, \"type\": \"carpet\"}], \"choropleth\": [{\"colorbar\": {\"outlinewidth\": 0, \"ticks\": \"\"}, \"type\": \"choropleth\"}], \"contour\": [{\"colorbar\": {\"outlinewidth\": 0, \"ticks\": \"\"}, \"colorscale\": [[0.0, \"#0d0887\"], [0.1111111111111111, \"#46039f\"], [0.2222222222222222, \"#7201a8\"], [0.3333333333333333, \"#9c179e\"], [0.4444444444444444, \"#bd3786\"], [0.5555555555555556, \"#d8576b\"], [0.6666666666666666, \"#ed7953\"], [0.7777777777777778, \"#fb9f3a\"], [0.8888888888888888, \"#fdca26\"], [1.0, \"#f0f921\"]], \"type\": \"contour\"}], \"contourcarpet\": [{\"colorbar\": {\"outlinewidth\": 0, \"ticks\": \"\"}, \"type\": \"contourcarpet\"}], \"heatmap\": [{\"colorbar\": {\"outlinewidth\": 0, \"ticks\": \"\"}, \"colorscale\": [[0.0, \"#0d0887\"], [0.1111111111111111, \"#46039f\"], [0.2222222222222222, \"#7201a8\"], [0.3333333333333333, \"#9c179e\"], [0.4444444444444444, \"#bd3786\"], [0.5555555555555556, \"#d8576b\"], [0.6666666666666666, \"#ed7953\"], [0.7777777777777778, \"#fb9f3a\"], [0.8888888888888888, \"#fdca26\"], [1.0, \"#f0f921\"]], \"type\": \"heatmap\"}], \"heatmapgl\": [{\"colorbar\": {\"outlinewidth\": 0, \"ticks\": \"\"}, \"colorscale\": [[0.0, \"#0d0887\"], [0.1111111111111111, \"#46039f\"], [0.2222222222222222, \"#7201a8\"], [0.3333333333333333, \"#9c179e\"], [0.4444444444444444, \"#bd3786\"], [0.5555555555555556, \"#d8576b\"], [0.6666666666666666, \"#ed7953\"], [0.7777777777777778, \"#fb9f3a\"], [0.8888888888888888, \"#fdca26\"], [1.0, \"#f0f921\"]], \"type\": \"heatmapgl\"}], \"histogram\": [{\"marker\": {\"colorbar\": {\"outlinewidth\": 0, \"ticks\": \"\"}}, \"type\": \"histogram\"}], \"histogram2d\": [{\"colorbar\": {\"outlinewidth\": 0, \"ticks\": \"\"}, \"colorscale\": [[0.0, \"#0d0887\"], [0.1111111111111111, \"#46039f\"], [0.2222222222222222, \"#7201a8\"], [0.3333333333333333, \"#9c179e\"], [0.4444444444444444, \"#bd3786\"], [0.5555555555555556, \"#d8576b\"], [0.6666666666666666, \"#ed7953\"], [0.7777777777777778, \"#fb9f3a\"], [0.8888888888888888, \"#fdca26\"], [1.0, \"#f0f921\"]], \"type\": \"histogram2d\"}], \"histogram2dcontour\": [{\"colorbar\": {\"outlinewidth\": 0, \"ticks\": \"\"}, \"colorscale\": [[0.0, \"#0d0887\"], [0.1111111111111111, \"#46039f\"], [0.2222222222222222, \"#7201a8\"], [0.3333333333333333, \"#9c179e\"], [0.4444444444444444, \"#bd3786\"], [0.5555555555555556, \"#d8576b\"], [0.6666666666666666, \"#ed7953\"], [0.7777777777777778, \"#fb9f3a\"], [0.8888888888888888, \"#fdca26\"], [1.0, \"#f0f921\"]], \"type\": \"histogram2dcontour\"}], \"mesh3d\": [{\"colorbar\": {\"outlinewidth\": 0, \"ticks\": \"\"}, \"type\": \"mesh3d\"}], \"parcoords\": [{\"line\": {\"colorbar\": {\"outlinewidth\": 0, \"ticks\": \"\"}}, \"type\": \"parcoords\"}], \"pie\": [{\"automargin\": true, \"type\": \"pie\"}], \"scatter\": [{\"marker\": {\"colorbar\": {\"outlinewidth\": 0, \"ticks\": \"\"}}, \"type\": \"scatter\"}], \"scatter3d\": [{\"line\": {\"colorbar\": {\"outlinewidth\": 0, \"ticks\": \"\"}}, \"marker\": {\"colorbar\": {\"outlinewidth\": 0, \"ticks\": \"\"}}, \"type\": \"scatter3d\"}], \"scattercarpet\": [{\"marker\": {\"colorbar\": {\"outlinewidth\": 0, \"ticks\": \"\"}}, \"type\": \"scattercarpet\"}], \"scattergeo\": [{\"marker\": {\"colorbar\": {\"outlinewidth\": 0, \"ticks\": \"\"}}, \"type\": \"scattergeo\"}], \"scattergl\": [{\"marker\": {\"colorbar\": {\"outlinewidth\": 0, \"ticks\": \"\"}}, \"type\": \"scattergl\"}], \"scattermapbox\": [{\"marker\": {\"colorbar\": {\"outlinewidth\": 0, \"ticks\": \"\"}}, \"type\": \"scattermapbox\"}], \"scatterpolar\": [{\"marker\": {\"colorbar\": {\"outlinewidth\": 0, \"ticks\": \"\"}}, \"type\": \"scatterpolar\"}], \"scatterpolargl\": [{\"marker\": {\"colorbar\": {\"outlinewidth\": 0, \"ticks\": \"\"}}, \"type\": \"scatterpolargl\"}], \"scatterternary\": [{\"marker\": {\"colorbar\": {\"outlinewidth\": 0, \"ticks\": \"\"}}, \"type\": \"scatterternary\"}], \"surface\": [{\"colorbar\": {\"outlinewidth\": 0, \"ticks\": \"\"}, \"colorscale\": [[0.0, \"#0d0887\"], [0.1111111111111111, \"#46039f\"], [0.2222222222222222, \"#7201a8\"], [0.3333333333333333, \"#9c179e\"], [0.4444444444444444, \"#bd3786\"], [0.5555555555555556, \"#d8576b\"], [0.6666666666666666, \"#ed7953\"], [0.7777777777777778, \"#fb9f3a\"], [0.8888888888888888, \"#fdca26\"], [1.0, \"#f0f921\"]], \"type\": \"surface\"}], \"table\": [{\"cells\": {\"fill\": {\"color\": \"#EBF0F8\"}, \"line\": {\"color\": \"white\"}}, \"header\": {\"fill\": {\"color\": \"#C8D4E3\"}, \"line\": {\"color\": \"white\"}}, \"type\": \"table\"}]}, \"layout\": {\"annotationdefaults\": {\"arrowcolor\": \"#2a3f5f\", \"arrowhead\": 0, \"arrowwidth\": 1}, \"coloraxis\": {\"colorbar\": {\"outlinewidth\": 0, \"ticks\": \"\"}}, \"colorscale\": {\"diverging\": [[0, \"#8e0152\"], [0.1, \"#c51b7d\"], [0.2, \"#de77ae\"], [0.3, \"#f1b6da\"], [0.4, \"#fde0ef\"], [0.5, \"#f7f7f7\"], [0.6, \"#e6f5d0\"], [0.7, \"#b8e186\"], [0.8, \"#7fbc41\"], [0.9, \"#4d9221\"], [1, \"#276419\"]], \"sequential\": [[0.0, \"#0d0887\"], [0.1111111111111111, \"#46039f\"], [0.2222222222222222, \"#7201a8\"], [0.3333333333333333, \"#9c179e\"], [0.4444444444444444, \"#bd3786\"], [0.5555555555555556, \"#d8576b\"], [0.6666666666666666, \"#ed7953\"], [0.7777777777777778, \"#fb9f3a\"], [0.8888888888888888, \"#fdca26\"], [1.0, \"#f0f921\"]], \"sequentialminus\": [[0.0, \"#0d0887\"], [0.1111111111111111, \"#46039f\"], [0.2222222222222222, \"#7201a8\"], [0.3333333333333333, \"#9c179e\"], [0.4444444444444444, \"#bd3786\"], [0.5555555555555556, \"#d8576b\"], [0.6666666666666666, \"#ed7953\"], [0.7777777777777778, \"#fb9f3a\"], [0.8888888888888888, \"#fdca26\"], [1.0, \"#f0f921\"]]}, \"colorway\": [\"#636efa\", \"#EF553B\", \"#00cc96\", \"#ab63fa\", \"#FFA15A\", \"#19d3f3\", \"#FF6692\", \"#B6E880\", \"#FF97FF\", \"#FECB52\"], \"font\": {\"color\": \"#2a3f5f\"}, \"geo\": {\"bgcolor\": \"white\", \"lakecolor\": \"white\", \"landcolor\": \"#E5ECF6\", \"showlakes\": true, \"showland\": true, \"subunitcolor\": \"white\"}, \"hoverlabel\": {\"align\": \"left\"}, \"hovermode\": \"closest\", \"mapbox\": {\"style\": \"light\"}, \"paper_bgcolor\": \"white\", \"plot_bgcolor\": \"#E5ECF6\", \"polar\": {\"angularaxis\": {\"gridcolor\": \"white\", \"linecolor\": \"white\", \"ticks\": \"\"}, \"bgcolor\": \"#E5ECF6\", \"radialaxis\": {\"gridcolor\": \"white\", \"linecolor\": \"white\", \"ticks\": \"\"}}, \"scene\": {\"xaxis\": {\"backgroundcolor\": \"#E5ECF6\", \"gridcolor\": \"white\", \"gridwidth\": 2, \"linecolor\": \"white\", \"showbackground\": true, \"ticks\": \"\", \"zerolinecolor\": \"white\"}, \"yaxis\": {\"backgroundcolor\": \"#E5ECF6\", \"gridcolor\": \"white\", \"gridwidth\": 2, \"linecolor\": \"white\", \"showbackground\": true, \"ticks\": \"\", \"zerolinecolor\": \"white\"}, \"zaxis\": {\"backgroundcolor\": \"#E5ECF6\", \"gridcolor\": \"white\", \"gridwidth\": 2, \"linecolor\": \"white\", \"showbackground\": true, \"ticks\": \"\", \"zerolinecolor\": \"white\"}}, \"shapedefaults\": {\"line\": {\"color\": \"#2a3f5f\"}}, \"ternary\": {\"aaxis\": {\"gridcolor\": \"white\", \"linecolor\": \"white\", \"ticks\": \"\"}, \"baxis\": {\"gridcolor\": \"white\", \"linecolor\": \"white\", \"ticks\": \"\"}, \"bgcolor\": \"#E5ECF6\", \"caxis\": {\"gridcolor\": \"white\", \"linecolor\": \"white\", \"ticks\": \"\"}}, \"title\": {\"x\": 0.05}, \"xaxis\": {\"automargin\": true, \"gridcolor\": \"white\", \"linecolor\": \"white\", \"ticks\": \"\", \"title\": {\"standoff\": 15}, \"zerolinecolor\": \"white\", \"zerolinewidth\": 2}, \"yaxis\": {\"automargin\": true, \"gridcolor\": \"white\", \"linecolor\": \"white\", \"ticks\": \"\", \"title\": {\"standoff\": 15}, \"zerolinecolor\": \"white\", \"zerolinewidth\": 2}}}, \"title\": {\"font\": {\"color\": \"#4D5663\"}, \"text\": \"Deaths in US\"}, \"xaxis\": {\"gridcolor\": \"#E1E5ED\", \"showgrid\": true, \"tickfont\": {\"color\": \"#4D5663\"}, \"title\": {\"font\": {\"color\": \"#4D5663\"}, \"text\": \"Cases\"}, \"zerolinecolor\": \"#E1E5ED\"}, \"yaxis\": {\"gridcolor\": \"#E1E5ED\", \"showgrid\": true, \"tickfont\": {\"color\": \"#4D5663\"}, \"title\": {\"font\": {\"color\": \"#4D5663\"}, \"text\": \"Deaths\"}, \"zerolinecolor\": \"#E1E5ED\"}},\n",
              "                        {\"showLink\": true, \"linkText\": \"Export to plot.ly\", \"plotlyServerURL\": \"https://plot.ly\", \"responsive\": true}\n",
              "                    ).then(function(){\n",
              "                            \n",
              "var gd = document.getElementById('c47c2d06-d602-43d7-a00e-9bfef4e1797d');\n",
              "var x = new MutationObserver(function (mutations, observer) {{\n",
              "        var display = window.getComputedStyle(gd).display;\n",
              "        if (!display || display === 'none') {{\n",
              "            console.log([gd, 'removed!']);\n",
              "            Plotly.purge(gd);\n",
              "            observer.disconnect();\n",
              "        }}\n",
              "}});\n",
              "\n",
              "// Listen for the removal of the full notebook cells\n",
              "var notebookContainer = gd.closest('#notebook-container');\n",
              "if (notebookContainer) {{\n",
              "    x.observe(notebookContainer, {childList: true});\n",
              "}}\n",
              "\n",
              "// Listen for the clearing of the current output cell\n",
              "var outputEl = gd.closest('.output');\n",
              "if (outputEl) {{\n",
              "    x.observe(outputEl, {childList: true});\n",
              "}}\n",
              "\n",
              "                        })\n",
              "                };\n",
              "                });\n",
              "            </script>\n",
              "        </div>"
            ],
            "application/vnd.plotly.v1+json": {
              "data": [
                {
                  "name": "total_deaths",
                  "text": "",
                  "y": [
                    0,
                    0,
                    0,
                    0,
                    0,
                    0,
                    0,
                    0,
                    0,
                    0,
                    0,
                    0,
                    0,
                    0,
                    0,
                    0,
                    0,
                    0,
                    0,
                    0,
                    0,
                    0,
                    0,
                    0,
                    0,
                    0,
                    0,
                    0,
                    0,
                    0,
                    0,
                    0,
                    0,
                    0,
                    0,
                    0,
                    0,
                    0,
                    0,
                    0,
                    0,
                    0,
                    0,
                    0,
                    0,
                    0,
                    0,
                    0,
                    0,
                    0,
                    0,
                    0,
                    0,
                    0,
                    0,
                    0,
                    0,
                    0,
                    0,
                    0,
                    0,
                    1,
                    2,
                    6,
                    9,
                    11,
                    12,
                    14,
                    17,
                    21,
                    26,
                    28,
                    30,
                    40,
                    47,
                    57,
                    69,
                    85,
                    108,
                    150,
                    150,
                    260,
                    340,
                    471,
                    590,
                    801,
                    1050,
                    1296,
                    1707,
                    2191,
                    2509,
                    3170,
                    4079,
                    5138,
                    6053,
                    7157,
                    8501,
                    9647,
                    10989,
                    12895,
                    14817,
                    16690,
                    18777,
                    20608,
                    22108,
                    23649,
                    26057,
                    30985,
                    33284,
                    37054,
                    38910,
                    40682,
                    42539,
                    45063,
                    46784,
                    49963,
                    51017,
                    53189,
                    54876,
                    56245,
                    58355
                  ],
                  "mode": "lines+markers",
                  "marker": {
                    "symbol": "circle",
                    "size": 12
                  },
                  "x": [
                    0,
                    0,
                    0,
                    0,
                    0,
                    0,
                    0,
                    0,
                    0,
                    0,
                    0,
                    0,
                    0,
                    0,
                    0,
                    0,
                    0,
                    0,
                    0,
                    0,
                    0,
                    1,
                    1,
                    1,
                    1,
                    2,
                    2,
                    5,
                    5,
                    5,
                    5,
                    6,
                    7,
                    8,
                    11,
                    11,
                    11,
                    12,
                    12,
                    12,
                    12,
                    12,
                    13,
                    13,
                    14,
                    15,
                    15,
                    15,
                    15,
                    15,
                    15,
                    15,
                    16,
                    35,
                    35,
                    35,
                    53,
                    53,
                    59,
                    60,
                    66,
                    69,
                    89,
                    103,
                    125,
                    159,
                    233,
                    338,
                    433,
                    554,
                    754,
                    1025,
                    1312,
                    1663,
                    2174,
                    2951,
                    3774,
                    4661,
                    6427,
                    9415,
                    14250,
                    19624,
                    26747,
                    35206,
                    46442,
                    55231,
                    69194,
                    85991,
                    104686,
                    124665,
                    143025,
                    164620,
                    189618,
                    216721,
                    245540,
                    277965,
                    312237,
                    337635,
                    368196,
                    398809,
                    432132,
                    466033,
                    501560,
                    529951,
                    557571,
                    582594,
                    609516,
                    639664,
                    671331,
                    702164,
                    735086,
                    759687,
                    787752,
                    825041,
                    842629,
                    869172,
                    890524,
                    939053,
                    965910,
                    988451,
                    1012583
                  ],
                  "line": {
                    "color": "rgba(219, 64, 82, 1.0)",
                    "dash": "solid",
                    "shape": "linear",
                    "width": 1.3
                  },
                  "type": "scatter"
                }
              ],
              "config": {
                "plotlyServerURL": "https://plot.ly",
                "linkText": "Export to plot.ly",
                "showLink": true
              },
              "layout": {
                "template": {
                  "layout": {
                    "shapedefaults": {
                      "line": {
                        "color": "#2a3f5f"
                      }
                    },
                    "polar": {
                      "radialaxis": {
                        "ticks": "",
                        "gridcolor": "white",
                        "linecolor": "white"
                      },
                      "bgcolor": "#E5ECF6",
                      "angularaxis": {
                        "ticks": "",
                        "gridcolor": "white",
                        "linecolor": "white"
                      }
                    },
                    "colorway": [
                      "#636efa",
                      "#EF553B",
                      "#00cc96",
                      "#ab63fa",
                      "#FFA15A",
                      "#19d3f3",
                      "#FF6692",
                      "#B6E880",
                      "#FF97FF",
                      "#FECB52"
                    ],
                    "xaxis": {
                      "automargin": true,
                      "title": {
                        "standoff": 15
                      },
                      "zerolinewidth": 2,
                      "ticks": "",
                      "zerolinecolor": "white",
                      "gridcolor": "white",
                      "linecolor": "white"
                    },
                    "colorscale": {
                      "diverging": [
                        [
                          0,
                          "#8e0152"
                        ],
                        [
                          0.1,
                          "#c51b7d"
                        ],
                        [
                          0.2,
                          "#de77ae"
                        ],
                        [
                          0.3,
                          "#f1b6da"
                        ],
                        [
                          0.4,
                          "#fde0ef"
                        ],
                        [
                          0.5,
                          "#f7f7f7"
                        ],
                        [
                          0.6,
                          "#e6f5d0"
                        ],
                        [
                          0.7,
                          "#b8e186"
                        ],
                        [
                          0.8,
                          "#7fbc41"
                        ],
                        [
                          0.9,
                          "#4d9221"
                        ],
                        [
                          1,
                          "#276419"
                        ]
                      ],
                      "sequential": [
                        [
                          0,
                          "#0d0887"
                        ],
                        [
                          0.1111111111111111,
                          "#46039f"
                        ],
                        [
                          0.2222222222222222,
                          "#7201a8"
                        ],
                        [
                          0.3333333333333333,
                          "#9c179e"
                        ],
                        [
                          0.4444444444444444,
                          "#bd3786"
                        ],
                        [
                          0.5555555555555556,
                          "#d8576b"
                        ],
                        [
                          0.6666666666666666,
                          "#ed7953"
                        ],
                        [
                          0.7777777777777778,
                          "#fb9f3a"
                        ],
                        [
                          0.8888888888888888,
                          "#fdca26"
                        ],
                        [
                          1,
                          "#f0f921"
                        ]
                      ],
                      "sequentialminus": [
                        [
                          0,
                          "#0d0887"
                        ],
                        [
                          0.1111111111111111,
                          "#46039f"
                        ],
                        [
                          0.2222222222222222,
                          "#7201a8"
                        ],
                        [
                          0.3333333333333333,
                          "#9c179e"
                        ],
                        [
                          0.4444444444444444,
                          "#bd3786"
                        ],
                        [
                          0.5555555555555556,
                          "#d8576b"
                        ],
                        [
                          0.6666666666666666,
                          "#ed7953"
                        ],
                        [
                          0.7777777777777778,
                          "#fb9f3a"
                        ],
                        [
                          0.8888888888888888,
                          "#fdca26"
                        ],
                        [
                          1,
                          "#f0f921"
                        ]
                      ]
                    },
                    "paper_bgcolor": "white",
                    "plot_bgcolor": "#E5ECF6",
                    "title": {
                      "x": 0.05
                    },
                    "scene": {
                      "zaxis": {
                        "backgroundcolor": "#E5ECF6",
                        "ticks": "",
                        "gridwidth": 2,
                        "showbackground": true,
                        "zerolinecolor": "white",
                        "gridcolor": "white",
                        "linecolor": "white"
                      },
                      "xaxis": {
                        "backgroundcolor": "#E5ECF6",
                        "ticks": "",
                        "gridwidth": 2,
                        "showbackground": true,
                        "zerolinecolor": "white",
                        "gridcolor": "white",
                        "linecolor": "white"
                      },
                      "yaxis": {
                        "backgroundcolor": "#E5ECF6",
                        "ticks": "",
                        "gridwidth": 2,
                        "showbackground": true,
                        "zerolinecolor": "white",
                        "gridcolor": "white",
                        "linecolor": "white"
                      }
                    },
                    "yaxis": {
                      "automargin": true,
                      "title": {
                        "standoff": 15
                      },
                      "zerolinewidth": 2,
                      "ticks": "",
                      "zerolinecolor": "white",
                      "gridcolor": "white",
                      "linecolor": "white"
                    },
                    "annotationdefaults": {
                      "arrowwidth": 1,
                      "arrowhead": 0,
                      "arrowcolor": "#2a3f5f"
                    },
                    "hoverlabel": {
                      "align": "left"
                    },
                    "ternary": {
                      "bgcolor": "#E5ECF6",
                      "baxis": {
                        "ticks": "",
                        "gridcolor": "white",
                        "linecolor": "white"
                      },
                      "caxis": {
                        "ticks": "",
                        "gridcolor": "white",
                        "linecolor": "white"
                      },
                      "aaxis": {
                        "ticks": "",
                        "gridcolor": "white",
                        "linecolor": "white"
                      }
                    },
                    "mapbox": {
                      "style": "light"
                    },
                    "hovermode": "closest",
                    "font": {
                      "color": "#2a3f5f"
                    },
                    "geo": {
                      "showland": true,
                      "landcolor": "#E5ECF6",
                      "showlakes": true,
                      "bgcolor": "white",
                      "subunitcolor": "white",
                      "lakecolor": "white"
                    },
                    "coloraxis": {
                      "colorbar": {
                        "outlinewidth": 0,
                        "ticks": ""
                      }
                    }
                  },
                  "data": {
                    "mesh3d": [
                      {
                        "colorbar": {
                          "outlinewidth": 0,
                          "ticks": ""
                        },
                        "type": "mesh3d"
                      }
                    ],
                    "scattercarpet": [
                      {
                        "marker": {
                          "colorbar": {
                            "outlinewidth": 0,
                            "ticks": ""
                          }
                        },
                        "type": "scattercarpet"
                      }
                    ],
                    "pie": [
                      {
                        "automargin": true,
                        "type": "pie"
                      }
                    ],
                    "surface": [
                      {
                        "colorbar": {
                          "outlinewidth": 0,
                          "ticks": ""
                        },
                        "type": "surface",
                        "colorscale": [
                          [
                            0,
                            "#0d0887"
                          ],
                          [
                            0.1111111111111111,
                            "#46039f"
                          ],
                          [
                            0.2222222222222222,
                            "#7201a8"
                          ],
                          [
                            0.3333333333333333,
                            "#9c179e"
                          ],
                          [
                            0.4444444444444444,
                            "#bd3786"
                          ],
                          [
                            0.5555555555555556,
                            "#d8576b"
                          ],
                          [
                            0.6666666666666666,
                            "#ed7953"
                          ],
                          [
                            0.7777777777777778,
                            "#fb9f3a"
                          ],
                          [
                            0.8888888888888888,
                            "#fdca26"
                          ],
                          [
                            1,
                            "#f0f921"
                          ]
                        ]
                      }
                    ],
                    "table": [
                      {
                        "header": {
                          "line": {
                            "color": "white"
                          },
                          "fill": {
                            "color": "#C8D4E3"
                          }
                        },
                        "cells": {
                          "line": {
                            "color": "white"
                          },
                          "fill": {
                            "color": "#EBF0F8"
                          }
                        },
                        "type": "table"
                      }
                    ],
                    "scatterpolargl": [
                      {
                        "marker": {
                          "colorbar": {
                            "outlinewidth": 0,
                            "ticks": ""
                          }
                        },
                        "type": "scatterpolargl"
                      }
                    ],
                    "contour": [
                      {
                        "colorbar": {
                          "outlinewidth": 0,
                          "ticks": ""
                        },
                        "type": "contour",
                        "colorscale": [
                          [
                            0,
                            "#0d0887"
                          ],
                          [
                            0.1111111111111111,
                            "#46039f"
                          ],
                          [
                            0.2222222222222222,
                            "#7201a8"
                          ],
                          [
                            0.3333333333333333,
                            "#9c179e"
                          ],
                          [
                            0.4444444444444444,
                            "#bd3786"
                          ],
                          [
                            0.5555555555555556,
                            "#d8576b"
                          ],
                          [
                            0.6666666666666666,
                            "#ed7953"
                          ],
                          [
                            0.7777777777777778,
                            "#fb9f3a"
                          ],
                          [
                            0.8888888888888888,
                            "#fdca26"
                          ],
                          [
                            1,
                            "#f0f921"
                          ]
                        ]
                      }
                    ],
                    "carpet": [
                      {
                        "type": "carpet",
                        "baxis": {
                          "minorgridcolor": "white",
                          "gridcolor": "white",
                          "linecolor": "white",
                          "endlinecolor": "#2a3f5f",
                          "startlinecolor": "#2a3f5f"
                        },
                        "aaxis": {
                          "minorgridcolor": "white",
                          "gridcolor": "white",
                          "linecolor": "white",
                          "endlinecolor": "#2a3f5f",
                          "startlinecolor": "#2a3f5f"
                        }
                      }
                    ],
                    "contourcarpet": [
                      {
                        "colorbar": {
                          "outlinewidth": 0,
                          "ticks": ""
                        },
                        "type": "contourcarpet"
                      }
                    ],
                    "heatmap": [
                      {
                        "colorbar": {
                          "outlinewidth": 0,
                          "ticks": ""
                        },
                        "type": "heatmap",
                        "colorscale": [
                          [
                            0,
                            "#0d0887"
                          ],
                          [
                            0.1111111111111111,
                            "#46039f"
                          ],
                          [
                            0.2222222222222222,
                            "#7201a8"
                          ],
                          [
                            0.3333333333333333,
                            "#9c179e"
                          ],
                          [
                            0.4444444444444444,
                            "#bd3786"
                          ],
                          [
                            0.5555555555555556,
                            "#d8576b"
                          ],
                          [
                            0.6666666666666666,
                            "#ed7953"
                          ],
                          [
                            0.7777777777777778,
                            "#fb9f3a"
                          ],
                          [
                            0.8888888888888888,
                            "#fdca26"
                          ],
                          [
                            1,
                            "#f0f921"
                          ]
                        ]
                      }
                    ],
                    "scattermapbox": [
                      {
                        "marker": {
                          "colorbar": {
                            "outlinewidth": 0,
                            "ticks": ""
                          }
                        },
                        "type": "scattermapbox"
                      }
                    ],
                    "scatter3d": [
                      {
                        "marker": {
                          "colorbar": {
                            "outlinewidth": 0,
                            "ticks": ""
                          }
                        },
                        "line": {
                          "colorbar": {
                            "outlinewidth": 0,
                            "ticks": ""
                          }
                        },
                        "type": "scatter3d"
                      }
                    ],
                    "scattergl": [
                      {
                        "marker": {
                          "colorbar": {
                            "outlinewidth": 0,
                            "ticks": ""
                          }
                        },
                        "type": "scattergl"
                      }
                    ],
                    "scatterternary": [
                      {
                        "marker": {
                          "colorbar": {
                            "outlinewidth": 0,
                            "ticks": ""
                          }
                        },
                        "type": "scatterternary"
                      }
                    ],
                    "histogram": [
                      {
                        "marker": {
                          "colorbar": {
                            "outlinewidth": 0,
                            "ticks": ""
                          }
                        },
                        "type": "histogram"
                      }
                    ],
                    "heatmapgl": [
                      {
                        "colorbar": {
                          "outlinewidth": 0,
                          "ticks": ""
                        },
                        "type": "heatmapgl",
                        "colorscale": [
                          [
                            0,
                            "#0d0887"
                          ],
                          [
                            0.1111111111111111,
                            "#46039f"
                          ],
                          [
                            0.2222222222222222,
                            "#7201a8"
                          ],
                          [
                            0.3333333333333333,
                            "#9c179e"
                          ],
                          [
                            0.4444444444444444,
                            "#bd3786"
                          ],
                          [
                            0.5555555555555556,
                            "#d8576b"
                          ],
                          [
                            0.6666666666666666,
                            "#ed7953"
                          ],
                          [
                            0.7777777777777778,
                            "#fb9f3a"
                          ],
                          [
                            0.8888888888888888,
                            "#fdca26"
                          ],
                          [
                            1,
                            "#f0f921"
                          ]
                        ]
                      }
                    ],
                    "scatterpolar": [
                      {
                        "marker": {
                          "colorbar": {
                            "outlinewidth": 0,
                            "ticks": ""
                          }
                        },
                        "type": "scatterpolar"
                      }
                    ],
                    "histogram2d": [
                      {
                        "colorbar": {
                          "outlinewidth": 0,
                          "ticks": ""
                        },
                        "type": "histogram2d",
                        "colorscale": [
                          [
                            0,
                            "#0d0887"
                          ],
                          [
                            0.1111111111111111,
                            "#46039f"
                          ],
                          [
                            0.2222222222222222,
                            "#7201a8"
                          ],
                          [
                            0.3333333333333333,
                            "#9c179e"
                          ],
                          [
                            0.4444444444444444,
                            "#bd3786"
                          ],
                          [
                            0.5555555555555556,
                            "#d8576b"
                          ],
                          [
                            0.6666666666666666,
                            "#ed7953"
                          ],
                          [
                            0.7777777777777778,
                            "#fb9f3a"
                          ],
                          [
                            0.8888888888888888,
                            "#fdca26"
                          ],
                          [
                            1,
                            "#f0f921"
                          ]
                        ]
                      }
                    ],
                    "scattergeo": [
                      {
                        "marker": {
                          "colorbar": {
                            "outlinewidth": 0,
                            "ticks": ""
                          }
                        },
                        "type": "scattergeo"
                      }
                    ],
                    "bar": [
                      {
                        "marker": {
                          "line": {
                            "color": "#E5ECF6",
                            "width": 0.5
                          }
                        },
                        "type": "bar",
                        "error_x": {
                          "color": "#2a3f5f"
                        },
                        "error_y": {
                          "color": "#2a3f5f"
                        }
                      }
                    ],
                    "choropleth": [
                      {
                        "colorbar": {
                          "outlinewidth": 0,
                          "ticks": ""
                        },
                        "type": "choropleth"
                      }
                    ],
                    "parcoords": [
                      {
                        "line": {
                          "colorbar": {
                            "outlinewidth": 0,
                            "ticks": ""
                          }
                        },
                        "type": "parcoords"
                      }
                    ],
                    "barpolar": [
                      {
                        "marker": {
                          "line": {
                            "color": "#E5ECF6",
                            "width": 0.5
                          }
                        },
                        "type": "barpolar"
                      }
                    ],
                    "histogram2dcontour": [
                      {
                        "colorbar": {
                          "outlinewidth": 0,
                          "ticks": ""
                        },
                        "type": "histogram2dcontour",
                        "colorscale": [
                          [
                            0,
                            "#0d0887"
                          ],
                          [
                            0.1111111111111111,
                            "#46039f"
                          ],
                          [
                            0.2222222222222222,
                            "#7201a8"
                          ],
                          [
                            0.3333333333333333,
                            "#9c179e"
                          ],
                          [
                            0.4444444444444444,
                            "#bd3786"
                          ],
                          [
                            0.5555555555555556,
                            "#d8576b"
                          ],
                          [
                            0.6666666666666666,
                            "#ed7953"
                          ],
                          [
                            0.7777777777777778,
                            "#fb9f3a"
                          ],
                          [
                            0.8888888888888888,
                            "#fdca26"
                          ],
                          [
                            1,
                            "#f0f921"
                          ]
                        ]
                      }
                    ],
                    "scatter": [
                      {
                        "marker": {
                          "colorbar": {
                            "outlinewidth": 0,
                            "ticks": ""
                          }
                        },
                        "type": "scatter"
                      }
                    ]
                  }
                },
                "title": {
                  "text": "Deaths in US",
                  "font": {
                    "color": "#4D5663"
                  }
                },
                "paper_bgcolor": "#F5F6F9",
                "plot_bgcolor": "#F5F6F9",
                "yaxis": {
                  "tickfont": {
                    "color": "#4D5663"
                  },
                  "zerolinecolor": "#E1E5ED",
                  "title": {
                    "text": "Deaths",
                    "font": {
                      "color": "#4D5663"
                    }
                  },
                  "gridcolor": "#E1E5ED",
                  "showgrid": true
                },
                "xaxis": {
                  "tickfont": {
                    "color": "#4D5663"
                  },
                  "zerolinecolor": "#E1E5ED",
                  "title": {
                    "text": "Cases",
                    "font": {
                      "color": "#4D5663"
                    }
                  },
                  "gridcolor": "#E1E5ED",
                  "showgrid": true
                },
                "legend": {
                  "bgcolor": "#F5F6F9",
                  "font": {
                    "color": "#4D5663"
                  }
                }
              }
            }
          },
          "metadata": {
            "tags": []
          }
        }
      ]
    },
    {
      "cell_type": "code",
      "metadata": {
        "colab": {
          "base_uri": "https://localhost:8080/",
          "height": 542
        },
        "id": "2H22flcp_j5h",
        "outputId": "fbdde445-e6ea-44ca-bbbb-745204e7ce1d"
      },
      "source": [
        "px.bar(america, x = 'date', y ='total_cases', color = 'total_cases', title = 'Rise of cases over time in America')"
      ],
      "execution_count": 24,
      "outputs": [
        {
          "output_type": "display_data",
          "data": {
            "text/html": [
              "<div>\n",
              "        \n",
              "        \n",
              "            <div id=\"b638264a-16f6-49da-bb3b-f75cda7d5913\" class=\"plotly-graph-div\" style=\"height:525px; width:100%;\"></div>\n",
              "            <script type=\"text/javascript\">\n",
              "                require([\"plotly\"], function(Plotly) {\n",
              "                    window.PLOTLYENV=window.PLOTLYENV || {};\n",
              "                    \n",
              "                if (document.getElementById(\"b638264a-16f6-49da-bb3b-f75cda7d5913\")) {\n",
              "                    Plotly.newPlot(\n",
              "                        'b638264a-16f6-49da-bb3b-f75cda7d5913',\n",
              "                        [{\"alignmentgroup\": \"True\", \"hoverlabel\": {\"namelength\": 0}, \"hovertemplate\": \"date=%{x}<br>total_cases=%{marker.color}\", \"legendgroup\": \"\", \"marker\": {\"color\": [0, 0, 0, 0, 0, 0, 0, 0, 0, 0, 0, 0, 0, 0, 0, 0, 0, 0, 0, 0, 0, 1, 1, 1, 1, 2, 2, 5, 5, 5, 5, 6, 7, 8, 11, 11, 11, 12, 12, 12, 12, 12, 13, 13, 14, 15, 15, 15, 15, 15, 15, 15, 16, 35, 35, 35, 53, 53, 59, 60, 66, 69, 89, 103, 125, 159, 233, 338, 433, 554, 754, 1025, 1312, 1663, 2174, 2951, 3774, 4661, 6427, 9415, 14250, 19624, 26747, 35206, 46442, 55231, 69194, 85991, 104686, 124665, 143025, 164620, 189618, 216721, 245540, 277965, 312237, 337635, 368196, 398809, 432132, 466033, 501560, 529951, 557571, 582594, 609516, 639664, 671331, 702164, 735086, 759687, 787752, 825041, 842629, 869172, 890524, 939053, 965910, 988451, 1012583], \"coloraxis\": \"coloraxis\"}, \"name\": \"\", \"offsetgroup\": \"\", \"orientation\": \"v\", \"showlegend\": false, \"textposition\": \"auto\", \"type\": \"bar\", \"x\": [\"2019-12-31\", \"2020-01-01\", \"2020-01-02\", \"2020-01-03\", \"2020-01-04\", \"2020-01-05\", \"2020-01-06\", \"2020-01-07\", \"2020-01-08\", \"2020-01-09\", \"2020-01-10\", \"2020-01-11\", \"2020-01-12\", \"2020-01-13\", \"2020-01-14\", \"2020-01-15\", \"2020-01-16\", \"2020-01-17\", \"2020-01-18\", \"2020-01-19\", \"2020-01-20\", \"2020-01-21\", \"2020-01-22\", \"2020-01-23\", \"2020-01-24\", \"2020-01-25\", \"2020-01-26\", \"2020-01-27\", \"2020-01-28\", \"2020-01-29\", \"2020-01-30\", \"2020-01-31\", \"2020-02-01\", \"2020-02-02\", \"2020-02-03\", \"2020-02-04\", \"2020-02-05\", \"2020-02-06\", \"2020-02-07\", \"2020-02-08\", \"2020-02-09\", \"2020-02-10\", \"2020-02-11\", \"2020-02-12\", \"2020-02-13\", \"2020-02-14\", \"2020-02-15\", \"2020-02-16\", \"2020-02-17\", \"2020-02-18\", \"2020-02-19\", \"2020-02-20\", \"2020-02-21\", \"2020-02-22\", \"2020-02-23\", \"2020-02-24\", \"2020-02-25\", \"2020-02-26\", \"2020-02-27\", \"2020-02-28\", \"2020-02-29\", \"2020-03-01\", \"2020-03-02\", \"2020-03-03\", \"2020-03-04\", \"2020-03-05\", \"2020-03-06\", \"2020-03-07\", \"2020-03-08\", \"2020-03-09\", \"2020-03-10\", \"2020-03-11\", \"2020-03-12\", \"2020-03-13\", \"2020-03-14\", \"2020-03-15\", \"2020-03-16\", \"2020-03-17\", \"2020-03-18\", \"2020-03-19\", \"2020-03-20\", \"2020-03-21\", \"2020-03-22\", \"2020-03-23\", \"2020-03-24\", \"2020-03-25\", \"2020-03-26\", \"2020-03-27\", \"2020-03-28\", \"2020-03-29\", \"2020-03-30\", \"2020-03-31\", \"2020-04-01\", \"2020-04-02\", \"2020-04-03\", \"2020-04-04\", \"2020-04-05\", \"2020-04-06\", \"2020-04-07\", \"2020-04-08\", \"2020-04-09\", \"2020-04-10\", \"2020-04-11\", \"2020-04-12\", \"2020-04-13\", \"2020-04-14\", \"2020-04-15\", \"2020-04-16\", \"2020-04-17\", \"2020-04-18\", \"2020-04-19\", \"2020-04-20\", \"2020-04-21\", \"2020-04-22\", \"2020-04-23\", \"2020-04-24\", \"2020-04-25\", \"2020-04-26\", \"2020-04-27\", \"2020-04-28\", \"2020-04-29\"], \"xaxis\": \"x\", \"y\": [0, 0, 0, 0, 0, 0, 0, 0, 0, 0, 0, 0, 0, 0, 0, 0, 0, 0, 0, 0, 0, 1, 1, 1, 1, 2, 2, 5, 5, 5, 5, 6, 7, 8, 11, 11, 11, 12, 12, 12, 12, 12, 13, 13, 14, 15, 15, 15, 15, 15, 15, 15, 16, 35, 35, 35, 53, 53, 59, 60, 66, 69, 89, 103, 125, 159, 233, 338, 433, 554, 754, 1025, 1312, 1663, 2174, 2951, 3774, 4661, 6427, 9415, 14250, 19624, 26747, 35206, 46442, 55231, 69194, 85991, 104686, 124665, 143025, 164620, 189618, 216721, 245540, 277965, 312237, 337635, 368196, 398809, 432132, 466033, 501560, 529951, 557571, 582594, 609516, 639664, 671331, 702164, 735086, 759687, 787752, 825041, 842629, 869172, 890524, 939053, 965910, 988451, 1012583], \"yaxis\": \"y\"}],\n",
              "                        {\"barmode\": \"relative\", \"coloraxis\": {\"colorbar\": {\"title\": {\"text\": \"total_cases\"}}, \"colorscale\": [[0.0, \"#0d0887\"], [0.1111111111111111, \"#46039f\"], [0.2222222222222222, \"#7201a8\"], [0.3333333333333333, \"#9c179e\"], [0.4444444444444444, \"#bd3786\"], [0.5555555555555556, \"#d8576b\"], [0.6666666666666666, \"#ed7953\"], [0.7777777777777778, \"#fb9f3a\"], [0.8888888888888888, \"#fdca26\"], [1.0, \"#f0f921\"]]}, \"legend\": {\"tracegroupgap\": 0}, \"template\": {\"data\": {\"bar\": [{\"error_x\": {\"color\": \"#2a3f5f\"}, \"error_y\": {\"color\": \"#2a3f5f\"}, \"marker\": {\"line\": {\"color\": \"#E5ECF6\", \"width\": 0.5}}, \"type\": \"bar\"}], \"barpolar\": [{\"marker\": {\"line\": {\"color\": \"#E5ECF6\", \"width\": 0.5}}, \"type\": \"barpolar\"}], \"carpet\": [{\"aaxis\": {\"endlinecolor\": \"#2a3f5f\", \"gridcolor\": \"white\", \"linecolor\": \"white\", \"minorgridcolor\": \"white\", \"startlinecolor\": \"#2a3f5f\"}, \"baxis\": {\"endlinecolor\": \"#2a3f5f\", \"gridcolor\": \"white\", \"linecolor\": \"white\", \"minorgridcolor\": \"white\", \"startlinecolor\": \"#2a3f5f\"}, \"type\": \"carpet\"}], \"choropleth\": [{\"colorbar\": {\"outlinewidth\": 0, \"ticks\": \"\"}, \"type\": \"choropleth\"}], \"contour\": [{\"colorbar\": {\"outlinewidth\": 0, \"ticks\": \"\"}, \"colorscale\": [[0.0, \"#0d0887\"], [0.1111111111111111, \"#46039f\"], [0.2222222222222222, \"#7201a8\"], [0.3333333333333333, \"#9c179e\"], [0.4444444444444444, \"#bd3786\"], [0.5555555555555556, \"#d8576b\"], [0.6666666666666666, \"#ed7953\"], [0.7777777777777778, \"#fb9f3a\"], [0.8888888888888888, \"#fdca26\"], [1.0, \"#f0f921\"]], \"type\": \"contour\"}], \"contourcarpet\": [{\"colorbar\": {\"outlinewidth\": 0, \"ticks\": \"\"}, \"type\": \"contourcarpet\"}], \"heatmap\": [{\"colorbar\": {\"outlinewidth\": 0, \"ticks\": \"\"}, \"colorscale\": [[0.0, \"#0d0887\"], [0.1111111111111111, \"#46039f\"], [0.2222222222222222, \"#7201a8\"], [0.3333333333333333, \"#9c179e\"], [0.4444444444444444, \"#bd3786\"], [0.5555555555555556, \"#d8576b\"], [0.6666666666666666, \"#ed7953\"], [0.7777777777777778, \"#fb9f3a\"], [0.8888888888888888, \"#fdca26\"], [1.0, \"#f0f921\"]], \"type\": \"heatmap\"}], \"heatmapgl\": [{\"colorbar\": {\"outlinewidth\": 0, \"ticks\": \"\"}, \"colorscale\": [[0.0, \"#0d0887\"], [0.1111111111111111, \"#46039f\"], [0.2222222222222222, \"#7201a8\"], [0.3333333333333333, \"#9c179e\"], [0.4444444444444444, \"#bd3786\"], [0.5555555555555556, \"#d8576b\"], [0.6666666666666666, \"#ed7953\"], [0.7777777777777778, \"#fb9f3a\"], [0.8888888888888888, \"#fdca26\"], [1.0, \"#f0f921\"]], \"type\": \"heatmapgl\"}], \"histogram\": [{\"marker\": {\"colorbar\": {\"outlinewidth\": 0, \"ticks\": \"\"}}, \"type\": \"histogram\"}], \"histogram2d\": [{\"colorbar\": {\"outlinewidth\": 0, \"ticks\": \"\"}, \"colorscale\": [[0.0, \"#0d0887\"], [0.1111111111111111, \"#46039f\"], [0.2222222222222222, \"#7201a8\"], [0.3333333333333333, \"#9c179e\"], [0.4444444444444444, \"#bd3786\"], [0.5555555555555556, \"#d8576b\"], [0.6666666666666666, \"#ed7953\"], [0.7777777777777778, \"#fb9f3a\"], [0.8888888888888888, \"#fdca26\"], [1.0, \"#f0f921\"]], \"type\": \"histogram2d\"}], \"histogram2dcontour\": [{\"colorbar\": {\"outlinewidth\": 0, \"ticks\": \"\"}, \"colorscale\": [[0.0, \"#0d0887\"], [0.1111111111111111, \"#46039f\"], [0.2222222222222222, \"#7201a8\"], [0.3333333333333333, \"#9c179e\"], [0.4444444444444444, \"#bd3786\"], [0.5555555555555556, \"#d8576b\"], [0.6666666666666666, \"#ed7953\"], [0.7777777777777778, \"#fb9f3a\"], [0.8888888888888888, \"#fdca26\"], [1.0, \"#f0f921\"]], \"type\": \"histogram2dcontour\"}], \"mesh3d\": [{\"colorbar\": {\"outlinewidth\": 0, \"ticks\": \"\"}, \"type\": \"mesh3d\"}], \"parcoords\": [{\"line\": {\"colorbar\": {\"outlinewidth\": 0, \"ticks\": \"\"}}, \"type\": \"parcoords\"}], \"pie\": [{\"automargin\": true, \"type\": \"pie\"}], \"scatter\": [{\"marker\": {\"colorbar\": {\"outlinewidth\": 0, \"ticks\": \"\"}}, \"type\": \"scatter\"}], \"scatter3d\": [{\"line\": {\"colorbar\": {\"outlinewidth\": 0, \"ticks\": \"\"}}, \"marker\": {\"colorbar\": {\"outlinewidth\": 0, \"ticks\": \"\"}}, \"type\": \"scatter3d\"}], \"scattercarpet\": [{\"marker\": {\"colorbar\": {\"outlinewidth\": 0, \"ticks\": \"\"}}, \"type\": \"scattercarpet\"}], \"scattergeo\": [{\"marker\": {\"colorbar\": {\"outlinewidth\": 0, \"ticks\": \"\"}}, \"type\": \"scattergeo\"}], \"scattergl\": [{\"marker\": {\"colorbar\": {\"outlinewidth\": 0, \"ticks\": \"\"}}, \"type\": \"scattergl\"}], \"scattermapbox\": [{\"marker\": {\"colorbar\": {\"outlinewidth\": 0, \"ticks\": \"\"}}, \"type\": \"scattermapbox\"}], \"scatterpolar\": [{\"marker\": {\"colorbar\": {\"outlinewidth\": 0, \"ticks\": \"\"}}, \"type\": \"scatterpolar\"}], \"scatterpolargl\": [{\"marker\": {\"colorbar\": {\"outlinewidth\": 0, \"ticks\": \"\"}}, \"type\": \"scatterpolargl\"}], \"scatterternary\": [{\"marker\": {\"colorbar\": {\"outlinewidth\": 0, \"ticks\": \"\"}}, \"type\": \"scatterternary\"}], \"surface\": [{\"colorbar\": {\"outlinewidth\": 0, \"ticks\": \"\"}, \"colorscale\": [[0.0, \"#0d0887\"], [0.1111111111111111, \"#46039f\"], [0.2222222222222222, \"#7201a8\"], [0.3333333333333333, \"#9c179e\"], [0.4444444444444444, \"#bd3786\"], [0.5555555555555556, \"#d8576b\"], [0.6666666666666666, \"#ed7953\"], [0.7777777777777778, \"#fb9f3a\"], [0.8888888888888888, \"#fdca26\"], [1.0, \"#f0f921\"]], \"type\": \"surface\"}], \"table\": [{\"cells\": {\"fill\": {\"color\": \"#EBF0F8\"}, \"line\": {\"color\": \"white\"}}, \"header\": {\"fill\": {\"color\": \"#C8D4E3\"}, \"line\": {\"color\": \"white\"}}, \"type\": \"table\"}]}, \"layout\": {\"annotationdefaults\": {\"arrowcolor\": \"#2a3f5f\", \"arrowhead\": 0, \"arrowwidth\": 1}, \"coloraxis\": {\"colorbar\": {\"outlinewidth\": 0, \"ticks\": \"\"}}, \"colorscale\": {\"diverging\": [[0, \"#8e0152\"], [0.1, \"#c51b7d\"], [0.2, \"#de77ae\"], [0.3, \"#f1b6da\"], [0.4, \"#fde0ef\"], [0.5, \"#f7f7f7\"], [0.6, \"#e6f5d0\"], [0.7, \"#b8e186\"], [0.8, \"#7fbc41\"], [0.9, \"#4d9221\"], [1, \"#276419\"]], \"sequential\": [[0.0, \"#0d0887\"], [0.1111111111111111, \"#46039f\"], [0.2222222222222222, \"#7201a8\"], [0.3333333333333333, \"#9c179e\"], [0.4444444444444444, \"#bd3786\"], [0.5555555555555556, \"#d8576b\"], [0.6666666666666666, \"#ed7953\"], [0.7777777777777778, \"#fb9f3a\"], [0.8888888888888888, \"#fdca26\"], [1.0, \"#f0f921\"]], \"sequentialminus\": [[0.0, \"#0d0887\"], [0.1111111111111111, \"#46039f\"], [0.2222222222222222, \"#7201a8\"], [0.3333333333333333, \"#9c179e\"], [0.4444444444444444, \"#bd3786\"], [0.5555555555555556, \"#d8576b\"], [0.6666666666666666, \"#ed7953\"], [0.7777777777777778, \"#fb9f3a\"], [0.8888888888888888, \"#fdca26\"], [1.0, \"#f0f921\"]]}, \"colorway\": [\"#636efa\", \"#EF553B\", \"#00cc96\", \"#ab63fa\", \"#FFA15A\", \"#19d3f3\", \"#FF6692\", \"#B6E880\", \"#FF97FF\", \"#FECB52\"], \"font\": {\"color\": \"#2a3f5f\"}, \"geo\": {\"bgcolor\": \"white\", \"lakecolor\": \"white\", \"landcolor\": \"#E5ECF6\", \"showlakes\": true, \"showland\": true, \"subunitcolor\": \"white\"}, \"hoverlabel\": {\"align\": \"left\"}, \"hovermode\": \"closest\", \"mapbox\": {\"style\": \"light\"}, \"paper_bgcolor\": \"white\", \"plot_bgcolor\": \"#E5ECF6\", \"polar\": {\"angularaxis\": {\"gridcolor\": \"white\", \"linecolor\": \"white\", \"ticks\": \"\"}, \"bgcolor\": \"#E5ECF6\", \"radialaxis\": {\"gridcolor\": \"white\", \"linecolor\": \"white\", \"ticks\": \"\"}}, \"scene\": {\"xaxis\": {\"backgroundcolor\": \"#E5ECF6\", \"gridcolor\": \"white\", \"gridwidth\": 2, \"linecolor\": \"white\", \"showbackground\": true, \"ticks\": \"\", \"zerolinecolor\": \"white\"}, \"yaxis\": {\"backgroundcolor\": \"#E5ECF6\", \"gridcolor\": \"white\", \"gridwidth\": 2, \"linecolor\": \"white\", \"showbackground\": true, \"ticks\": \"\", \"zerolinecolor\": \"white\"}, \"zaxis\": {\"backgroundcolor\": \"#E5ECF6\", \"gridcolor\": \"white\", \"gridwidth\": 2, \"linecolor\": \"white\", \"showbackground\": true, \"ticks\": \"\", \"zerolinecolor\": \"white\"}}, \"shapedefaults\": {\"line\": {\"color\": \"#2a3f5f\"}}, \"ternary\": {\"aaxis\": {\"gridcolor\": \"white\", \"linecolor\": \"white\", \"ticks\": \"\"}, \"baxis\": {\"gridcolor\": \"white\", \"linecolor\": \"white\", \"ticks\": \"\"}, \"bgcolor\": \"#E5ECF6\", \"caxis\": {\"gridcolor\": \"white\", \"linecolor\": \"white\", \"ticks\": \"\"}}, \"title\": {\"x\": 0.05}, \"xaxis\": {\"automargin\": true, \"gridcolor\": \"white\", \"linecolor\": \"white\", \"ticks\": \"\", \"title\": {\"standoff\": 15}, \"zerolinecolor\": \"white\", \"zerolinewidth\": 2}, \"yaxis\": {\"automargin\": true, \"gridcolor\": \"white\", \"linecolor\": \"white\", \"ticks\": \"\", \"title\": {\"standoff\": 15}, \"zerolinecolor\": \"white\", \"zerolinewidth\": 2}}}, \"title\": {\"text\": \"Rise of cases over time in America\"}, \"xaxis\": {\"anchor\": \"y\", \"domain\": [0.0, 1.0], \"title\": {\"text\": \"date\"}}, \"yaxis\": {\"anchor\": \"x\", \"domain\": [0.0, 1.0], \"title\": {\"text\": \"total_cases\"}}},\n",
              "                        {\"responsive\": true}\n",
              "                    ).then(function(){\n",
              "                            \n",
              "var gd = document.getElementById('b638264a-16f6-49da-bb3b-f75cda7d5913');\n",
              "var x = new MutationObserver(function (mutations, observer) {{\n",
              "        var display = window.getComputedStyle(gd).display;\n",
              "        if (!display || display === 'none') {{\n",
              "            console.log([gd, 'removed!']);\n",
              "            Plotly.purge(gd);\n",
              "            observer.disconnect();\n",
              "        }}\n",
              "}});\n",
              "\n",
              "// Listen for the removal of the full notebook cells\n",
              "var notebookContainer = gd.closest('#notebook-container');\n",
              "if (notebookContainer) {{\n",
              "    x.observe(notebookContainer, {childList: true});\n",
              "}}\n",
              "\n",
              "// Listen for the clearing of the current output cell\n",
              "var outputEl = gd.closest('.output');\n",
              "if (outputEl) {{\n",
              "    x.observe(outputEl, {childList: true});\n",
              "}}\n",
              "\n",
              "                        })\n",
              "                };\n",
              "                });\n",
              "            </script>\n",
              "        </div>"
            ],
            "application/vnd.plotly.v1+json": {
              "data": [
                {
                  "textposition": "auto",
                  "hovertemplate": "date=%{x}<br>total_cases=%{marker.color}",
                  "showlegend": false,
                  "legendgroup": "",
                  "name": "",
                  "yaxis": "y",
                  "y": [
                    0,
                    0,
                    0,
                    0,
                    0,
                    0,
                    0,
                    0,
                    0,
                    0,
                    0,
                    0,
                    0,
                    0,
                    0,
                    0,
                    0,
                    0,
                    0,
                    0,
                    0,
                    1,
                    1,
                    1,
                    1,
                    2,
                    2,
                    5,
                    5,
                    5,
                    5,
                    6,
                    7,
                    8,
                    11,
                    11,
                    11,
                    12,
                    12,
                    12,
                    12,
                    12,
                    13,
                    13,
                    14,
                    15,
                    15,
                    15,
                    15,
                    15,
                    15,
                    15,
                    16,
                    35,
                    35,
                    35,
                    53,
                    53,
                    59,
                    60,
                    66,
                    69,
                    89,
                    103,
                    125,
                    159,
                    233,
                    338,
                    433,
                    554,
                    754,
                    1025,
                    1312,
                    1663,
                    2174,
                    2951,
                    3774,
                    4661,
                    6427,
                    9415,
                    14250,
                    19624,
                    26747,
                    35206,
                    46442,
                    55231,
                    69194,
                    85991,
                    104686,
                    124665,
                    143025,
                    164620,
                    189618,
                    216721,
                    245540,
                    277965,
                    312237,
                    337635,
                    368196,
                    398809,
                    432132,
                    466033,
                    501560,
                    529951,
                    557571,
                    582594,
                    609516,
                    639664,
                    671331,
                    702164,
                    735086,
                    759687,
                    787752,
                    825041,
                    842629,
                    869172,
                    890524,
                    939053,
                    965910,
                    988451,
                    1012583
                  ],
                  "hoverlabel": {
                    "namelength": 0
                  },
                  "offsetgroup": "",
                  "xaxis": "x",
                  "marker": {
                    "color": [
                      0,
                      0,
                      0,
                      0,
                      0,
                      0,
                      0,
                      0,
                      0,
                      0,
                      0,
                      0,
                      0,
                      0,
                      0,
                      0,
                      0,
                      0,
                      0,
                      0,
                      0,
                      1,
                      1,
                      1,
                      1,
                      2,
                      2,
                      5,
                      5,
                      5,
                      5,
                      6,
                      7,
                      8,
                      11,
                      11,
                      11,
                      12,
                      12,
                      12,
                      12,
                      12,
                      13,
                      13,
                      14,
                      15,
                      15,
                      15,
                      15,
                      15,
                      15,
                      15,
                      16,
                      35,
                      35,
                      35,
                      53,
                      53,
                      59,
                      60,
                      66,
                      69,
                      89,
                      103,
                      125,
                      159,
                      233,
                      338,
                      433,
                      554,
                      754,
                      1025,
                      1312,
                      1663,
                      2174,
                      2951,
                      3774,
                      4661,
                      6427,
                      9415,
                      14250,
                      19624,
                      26747,
                      35206,
                      46442,
                      55231,
                      69194,
                      85991,
                      104686,
                      124665,
                      143025,
                      164620,
                      189618,
                      216721,
                      245540,
                      277965,
                      312237,
                      337635,
                      368196,
                      398809,
                      432132,
                      466033,
                      501560,
                      529951,
                      557571,
                      582594,
                      609516,
                      639664,
                      671331,
                      702164,
                      735086,
                      759687,
                      787752,
                      825041,
                      842629,
                      869172,
                      890524,
                      939053,
                      965910,
                      988451,
                      1012583
                    ],
                    "coloraxis": "coloraxis"
                  },
                  "x": [
                    "2019-12-31",
                    "2020-01-01",
                    "2020-01-02",
                    "2020-01-03",
                    "2020-01-04",
                    "2020-01-05",
                    "2020-01-06",
                    "2020-01-07",
                    "2020-01-08",
                    "2020-01-09",
                    "2020-01-10",
                    "2020-01-11",
                    "2020-01-12",
                    "2020-01-13",
                    "2020-01-14",
                    "2020-01-15",
                    "2020-01-16",
                    "2020-01-17",
                    "2020-01-18",
                    "2020-01-19",
                    "2020-01-20",
                    "2020-01-21",
                    "2020-01-22",
                    "2020-01-23",
                    "2020-01-24",
                    "2020-01-25",
                    "2020-01-26",
                    "2020-01-27",
                    "2020-01-28",
                    "2020-01-29",
                    "2020-01-30",
                    "2020-01-31",
                    "2020-02-01",
                    "2020-02-02",
                    "2020-02-03",
                    "2020-02-04",
                    "2020-02-05",
                    "2020-02-06",
                    "2020-02-07",
                    "2020-02-08",
                    "2020-02-09",
                    "2020-02-10",
                    "2020-02-11",
                    "2020-02-12",
                    "2020-02-13",
                    "2020-02-14",
                    "2020-02-15",
                    "2020-02-16",
                    "2020-02-17",
                    "2020-02-18",
                    "2020-02-19",
                    "2020-02-20",
                    "2020-02-21",
                    "2020-02-22",
                    "2020-02-23",
                    "2020-02-24",
                    "2020-02-25",
                    "2020-02-26",
                    "2020-02-27",
                    "2020-02-28",
                    "2020-02-29",
                    "2020-03-01",
                    "2020-03-02",
                    "2020-03-03",
                    "2020-03-04",
                    "2020-03-05",
                    "2020-03-06",
                    "2020-03-07",
                    "2020-03-08",
                    "2020-03-09",
                    "2020-03-10",
                    "2020-03-11",
                    "2020-03-12",
                    "2020-03-13",
                    "2020-03-14",
                    "2020-03-15",
                    "2020-03-16",
                    "2020-03-17",
                    "2020-03-18",
                    "2020-03-19",
                    "2020-03-20",
                    "2020-03-21",
                    "2020-03-22",
                    "2020-03-23",
                    "2020-03-24",
                    "2020-03-25",
                    "2020-03-26",
                    "2020-03-27",
                    "2020-03-28",
                    "2020-03-29",
                    "2020-03-30",
                    "2020-03-31",
                    "2020-04-01",
                    "2020-04-02",
                    "2020-04-03",
                    "2020-04-04",
                    "2020-04-05",
                    "2020-04-06",
                    "2020-04-07",
                    "2020-04-08",
                    "2020-04-09",
                    "2020-04-10",
                    "2020-04-11",
                    "2020-04-12",
                    "2020-04-13",
                    "2020-04-14",
                    "2020-04-15",
                    "2020-04-16",
                    "2020-04-17",
                    "2020-04-18",
                    "2020-04-19",
                    "2020-04-20",
                    "2020-04-21",
                    "2020-04-22",
                    "2020-04-23",
                    "2020-04-24",
                    "2020-04-25",
                    "2020-04-26",
                    "2020-04-27",
                    "2020-04-28",
                    "2020-04-29"
                  ],
                  "alignmentgroup": "True",
                  "type": "bar",
                  "orientation": "v"
                }
              ],
              "config": {
                "plotlyServerURL": "https://plot.ly"
              },
              "layout": {
                "template": {
                  "layout": {
                    "shapedefaults": {
                      "line": {
                        "color": "#2a3f5f"
                      }
                    },
                    "polar": {
                      "radialaxis": {
                        "ticks": "",
                        "gridcolor": "white",
                        "linecolor": "white"
                      },
                      "bgcolor": "#E5ECF6",
                      "angularaxis": {
                        "ticks": "",
                        "gridcolor": "white",
                        "linecolor": "white"
                      }
                    },
                    "colorway": [
                      "#636efa",
                      "#EF553B",
                      "#00cc96",
                      "#ab63fa",
                      "#FFA15A",
                      "#19d3f3",
                      "#FF6692",
                      "#B6E880",
                      "#FF97FF",
                      "#FECB52"
                    ],
                    "xaxis": {
                      "automargin": true,
                      "title": {
                        "standoff": 15
                      },
                      "zerolinewidth": 2,
                      "ticks": "",
                      "zerolinecolor": "white",
                      "gridcolor": "white",
                      "linecolor": "white"
                    },
                    "colorscale": {
                      "diverging": [
                        [
                          0,
                          "#8e0152"
                        ],
                        [
                          0.1,
                          "#c51b7d"
                        ],
                        [
                          0.2,
                          "#de77ae"
                        ],
                        [
                          0.3,
                          "#f1b6da"
                        ],
                        [
                          0.4,
                          "#fde0ef"
                        ],
                        [
                          0.5,
                          "#f7f7f7"
                        ],
                        [
                          0.6,
                          "#e6f5d0"
                        ],
                        [
                          0.7,
                          "#b8e186"
                        ],
                        [
                          0.8,
                          "#7fbc41"
                        ],
                        [
                          0.9,
                          "#4d9221"
                        ],
                        [
                          1,
                          "#276419"
                        ]
                      ],
                      "sequential": [
                        [
                          0,
                          "#0d0887"
                        ],
                        [
                          0.1111111111111111,
                          "#46039f"
                        ],
                        [
                          0.2222222222222222,
                          "#7201a8"
                        ],
                        [
                          0.3333333333333333,
                          "#9c179e"
                        ],
                        [
                          0.4444444444444444,
                          "#bd3786"
                        ],
                        [
                          0.5555555555555556,
                          "#d8576b"
                        ],
                        [
                          0.6666666666666666,
                          "#ed7953"
                        ],
                        [
                          0.7777777777777778,
                          "#fb9f3a"
                        ],
                        [
                          0.8888888888888888,
                          "#fdca26"
                        ],
                        [
                          1,
                          "#f0f921"
                        ]
                      ],
                      "sequentialminus": [
                        [
                          0,
                          "#0d0887"
                        ],
                        [
                          0.1111111111111111,
                          "#46039f"
                        ],
                        [
                          0.2222222222222222,
                          "#7201a8"
                        ],
                        [
                          0.3333333333333333,
                          "#9c179e"
                        ],
                        [
                          0.4444444444444444,
                          "#bd3786"
                        ],
                        [
                          0.5555555555555556,
                          "#d8576b"
                        ],
                        [
                          0.6666666666666666,
                          "#ed7953"
                        ],
                        [
                          0.7777777777777778,
                          "#fb9f3a"
                        ],
                        [
                          0.8888888888888888,
                          "#fdca26"
                        ],
                        [
                          1,
                          "#f0f921"
                        ]
                      ]
                    },
                    "paper_bgcolor": "white",
                    "plot_bgcolor": "#E5ECF6",
                    "title": {
                      "x": 0.05
                    },
                    "scene": {
                      "zaxis": {
                        "backgroundcolor": "#E5ECF6",
                        "ticks": "",
                        "gridwidth": 2,
                        "showbackground": true,
                        "zerolinecolor": "white",
                        "gridcolor": "white",
                        "linecolor": "white"
                      },
                      "xaxis": {
                        "backgroundcolor": "#E5ECF6",
                        "ticks": "",
                        "gridwidth": 2,
                        "showbackground": true,
                        "zerolinecolor": "white",
                        "gridcolor": "white",
                        "linecolor": "white"
                      },
                      "yaxis": {
                        "backgroundcolor": "#E5ECF6",
                        "ticks": "",
                        "gridwidth": 2,
                        "showbackground": true,
                        "zerolinecolor": "white",
                        "gridcolor": "white",
                        "linecolor": "white"
                      }
                    },
                    "yaxis": {
                      "automargin": true,
                      "title": {
                        "standoff": 15
                      },
                      "zerolinewidth": 2,
                      "ticks": "",
                      "zerolinecolor": "white",
                      "gridcolor": "white",
                      "linecolor": "white"
                    },
                    "annotationdefaults": {
                      "arrowwidth": 1,
                      "arrowhead": 0,
                      "arrowcolor": "#2a3f5f"
                    },
                    "hoverlabel": {
                      "align": "left"
                    },
                    "ternary": {
                      "bgcolor": "#E5ECF6",
                      "baxis": {
                        "ticks": "",
                        "gridcolor": "white",
                        "linecolor": "white"
                      },
                      "caxis": {
                        "ticks": "",
                        "gridcolor": "white",
                        "linecolor": "white"
                      },
                      "aaxis": {
                        "ticks": "",
                        "gridcolor": "white",
                        "linecolor": "white"
                      }
                    },
                    "mapbox": {
                      "style": "light"
                    },
                    "hovermode": "closest",
                    "font": {
                      "color": "#2a3f5f"
                    },
                    "geo": {
                      "showland": true,
                      "landcolor": "#E5ECF6",
                      "showlakes": true,
                      "bgcolor": "white",
                      "subunitcolor": "white",
                      "lakecolor": "white"
                    },
                    "coloraxis": {
                      "colorbar": {
                        "outlinewidth": 0,
                        "ticks": ""
                      }
                    }
                  },
                  "data": {
                    "mesh3d": [
                      {
                        "colorbar": {
                          "outlinewidth": 0,
                          "ticks": ""
                        },
                        "type": "mesh3d"
                      }
                    ],
                    "scattercarpet": [
                      {
                        "marker": {
                          "colorbar": {
                            "outlinewidth": 0,
                            "ticks": ""
                          }
                        },
                        "type": "scattercarpet"
                      }
                    ],
                    "pie": [
                      {
                        "automargin": true,
                        "type": "pie"
                      }
                    ],
                    "surface": [
                      {
                        "colorbar": {
                          "outlinewidth": 0,
                          "ticks": ""
                        },
                        "type": "surface",
                        "colorscale": [
                          [
                            0,
                            "#0d0887"
                          ],
                          [
                            0.1111111111111111,
                            "#46039f"
                          ],
                          [
                            0.2222222222222222,
                            "#7201a8"
                          ],
                          [
                            0.3333333333333333,
                            "#9c179e"
                          ],
                          [
                            0.4444444444444444,
                            "#bd3786"
                          ],
                          [
                            0.5555555555555556,
                            "#d8576b"
                          ],
                          [
                            0.6666666666666666,
                            "#ed7953"
                          ],
                          [
                            0.7777777777777778,
                            "#fb9f3a"
                          ],
                          [
                            0.8888888888888888,
                            "#fdca26"
                          ],
                          [
                            1,
                            "#f0f921"
                          ]
                        ]
                      }
                    ],
                    "table": [
                      {
                        "header": {
                          "line": {
                            "color": "white"
                          },
                          "fill": {
                            "color": "#C8D4E3"
                          }
                        },
                        "cells": {
                          "line": {
                            "color": "white"
                          },
                          "fill": {
                            "color": "#EBF0F8"
                          }
                        },
                        "type": "table"
                      }
                    ],
                    "scatterpolargl": [
                      {
                        "marker": {
                          "colorbar": {
                            "outlinewidth": 0,
                            "ticks": ""
                          }
                        },
                        "type": "scatterpolargl"
                      }
                    ],
                    "contour": [
                      {
                        "colorbar": {
                          "outlinewidth": 0,
                          "ticks": ""
                        },
                        "type": "contour",
                        "colorscale": [
                          [
                            0,
                            "#0d0887"
                          ],
                          [
                            0.1111111111111111,
                            "#46039f"
                          ],
                          [
                            0.2222222222222222,
                            "#7201a8"
                          ],
                          [
                            0.3333333333333333,
                            "#9c179e"
                          ],
                          [
                            0.4444444444444444,
                            "#bd3786"
                          ],
                          [
                            0.5555555555555556,
                            "#d8576b"
                          ],
                          [
                            0.6666666666666666,
                            "#ed7953"
                          ],
                          [
                            0.7777777777777778,
                            "#fb9f3a"
                          ],
                          [
                            0.8888888888888888,
                            "#fdca26"
                          ],
                          [
                            1,
                            "#f0f921"
                          ]
                        ]
                      }
                    ],
                    "carpet": [
                      {
                        "type": "carpet",
                        "baxis": {
                          "minorgridcolor": "white",
                          "gridcolor": "white",
                          "linecolor": "white",
                          "endlinecolor": "#2a3f5f",
                          "startlinecolor": "#2a3f5f"
                        },
                        "aaxis": {
                          "minorgridcolor": "white",
                          "gridcolor": "white",
                          "linecolor": "white",
                          "endlinecolor": "#2a3f5f",
                          "startlinecolor": "#2a3f5f"
                        }
                      }
                    ],
                    "contourcarpet": [
                      {
                        "colorbar": {
                          "outlinewidth": 0,
                          "ticks": ""
                        },
                        "type": "contourcarpet"
                      }
                    ],
                    "heatmap": [
                      {
                        "colorbar": {
                          "outlinewidth": 0,
                          "ticks": ""
                        },
                        "type": "heatmap",
                        "colorscale": [
                          [
                            0,
                            "#0d0887"
                          ],
                          [
                            0.1111111111111111,
                            "#46039f"
                          ],
                          [
                            0.2222222222222222,
                            "#7201a8"
                          ],
                          [
                            0.3333333333333333,
                            "#9c179e"
                          ],
                          [
                            0.4444444444444444,
                            "#bd3786"
                          ],
                          [
                            0.5555555555555556,
                            "#d8576b"
                          ],
                          [
                            0.6666666666666666,
                            "#ed7953"
                          ],
                          [
                            0.7777777777777778,
                            "#fb9f3a"
                          ],
                          [
                            0.8888888888888888,
                            "#fdca26"
                          ],
                          [
                            1,
                            "#f0f921"
                          ]
                        ]
                      }
                    ],
                    "scattermapbox": [
                      {
                        "marker": {
                          "colorbar": {
                            "outlinewidth": 0,
                            "ticks": ""
                          }
                        },
                        "type": "scattermapbox"
                      }
                    ],
                    "scatter3d": [
                      {
                        "marker": {
                          "colorbar": {
                            "outlinewidth": 0,
                            "ticks": ""
                          }
                        },
                        "line": {
                          "colorbar": {
                            "outlinewidth": 0,
                            "ticks": ""
                          }
                        },
                        "type": "scatter3d"
                      }
                    ],
                    "scattergl": [
                      {
                        "marker": {
                          "colorbar": {
                            "outlinewidth": 0,
                            "ticks": ""
                          }
                        },
                        "type": "scattergl"
                      }
                    ],
                    "scatterternary": [
                      {
                        "marker": {
                          "colorbar": {
                            "outlinewidth": 0,
                            "ticks": ""
                          }
                        },
                        "type": "scatterternary"
                      }
                    ],
                    "histogram": [
                      {
                        "marker": {
                          "colorbar": {
                            "outlinewidth": 0,
                            "ticks": ""
                          }
                        },
                        "type": "histogram"
                      }
                    ],
                    "heatmapgl": [
                      {
                        "colorbar": {
                          "outlinewidth": 0,
                          "ticks": ""
                        },
                        "type": "heatmapgl",
                        "colorscale": [
                          [
                            0,
                            "#0d0887"
                          ],
                          [
                            0.1111111111111111,
                            "#46039f"
                          ],
                          [
                            0.2222222222222222,
                            "#7201a8"
                          ],
                          [
                            0.3333333333333333,
                            "#9c179e"
                          ],
                          [
                            0.4444444444444444,
                            "#bd3786"
                          ],
                          [
                            0.5555555555555556,
                            "#d8576b"
                          ],
                          [
                            0.6666666666666666,
                            "#ed7953"
                          ],
                          [
                            0.7777777777777778,
                            "#fb9f3a"
                          ],
                          [
                            0.8888888888888888,
                            "#fdca26"
                          ],
                          [
                            1,
                            "#f0f921"
                          ]
                        ]
                      }
                    ],
                    "scatterpolar": [
                      {
                        "marker": {
                          "colorbar": {
                            "outlinewidth": 0,
                            "ticks": ""
                          }
                        },
                        "type": "scatterpolar"
                      }
                    ],
                    "histogram2d": [
                      {
                        "colorbar": {
                          "outlinewidth": 0,
                          "ticks": ""
                        },
                        "type": "histogram2d",
                        "colorscale": [
                          [
                            0,
                            "#0d0887"
                          ],
                          [
                            0.1111111111111111,
                            "#46039f"
                          ],
                          [
                            0.2222222222222222,
                            "#7201a8"
                          ],
                          [
                            0.3333333333333333,
                            "#9c179e"
                          ],
                          [
                            0.4444444444444444,
                            "#bd3786"
                          ],
                          [
                            0.5555555555555556,
                            "#d8576b"
                          ],
                          [
                            0.6666666666666666,
                            "#ed7953"
                          ],
                          [
                            0.7777777777777778,
                            "#fb9f3a"
                          ],
                          [
                            0.8888888888888888,
                            "#fdca26"
                          ],
                          [
                            1,
                            "#f0f921"
                          ]
                        ]
                      }
                    ],
                    "scattergeo": [
                      {
                        "marker": {
                          "colorbar": {
                            "outlinewidth": 0,
                            "ticks": ""
                          }
                        },
                        "type": "scattergeo"
                      }
                    ],
                    "bar": [
                      {
                        "marker": {
                          "line": {
                            "color": "#E5ECF6",
                            "width": 0.5
                          }
                        },
                        "type": "bar",
                        "error_x": {
                          "color": "#2a3f5f"
                        },
                        "error_y": {
                          "color": "#2a3f5f"
                        }
                      }
                    ],
                    "choropleth": [
                      {
                        "colorbar": {
                          "outlinewidth": 0,
                          "ticks": ""
                        },
                        "type": "choropleth"
                      }
                    ],
                    "parcoords": [
                      {
                        "line": {
                          "colorbar": {
                            "outlinewidth": 0,
                            "ticks": ""
                          }
                        },
                        "type": "parcoords"
                      }
                    ],
                    "barpolar": [
                      {
                        "marker": {
                          "line": {
                            "color": "#E5ECF6",
                            "width": 0.5
                          }
                        },
                        "type": "barpolar"
                      }
                    ],
                    "histogram2dcontour": [
                      {
                        "colorbar": {
                          "outlinewidth": 0,
                          "ticks": ""
                        },
                        "type": "histogram2dcontour",
                        "colorscale": [
                          [
                            0,
                            "#0d0887"
                          ],
                          [
                            0.1111111111111111,
                            "#46039f"
                          ],
                          [
                            0.2222222222222222,
                            "#7201a8"
                          ],
                          [
                            0.3333333333333333,
                            "#9c179e"
                          ],
                          [
                            0.4444444444444444,
                            "#bd3786"
                          ],
                          [
                            0.5555555555555556,
                            "#d8576b"
                          ],
                          [
                            0.6666666666666666,
                            "#ed7953"
                          ],
                          [
                            0.7777777777777778,
                            "#fb9f3a"
                          ],
                          [
                            0.8888888888888888,
                            "#fdca26"
                          ],
                          [
                            1,
                            "#f0f921"
                          ]
                        ]
                      }
                    ],
                    "scatter": [
                      {
                        "marker": {
                          "colorbar": {
                            "outlinewidth": 0,
                            "ticks": ""
                          }
                        },
                        "type": "scatter"
                      }
                    ]
                  }
                },
                "title": {
                  "text": "Rise of cases over time in America"
                },
                "yaxis": {
                  "domain": [
                    0,
                    1
                  ],
                  "anchor": "x",
                  "title": {
                    "text": "total_cases"
                  }
                },
                "barmode": "relative",
                "xaxis": {
                  "domain": [
                    0,
                    1
                  ],
                  "anchor": "y",
                  "title": {
                    "text": "date"
                  }
                },
                "legend": {
                  "tracegroupgap": 0
                },
                "coloraxis": {
                  "colorbar": {
                    "title": {
                      "text": "total_cases"
                    }
                  },
                  "colorscale": [
                    [
                      0,
                      "#0d0887"
                    ],
                    [
                      0.1111111111111111,
                      "#46039f"
                    ],
                    [
                      0.2222222222222222,
                      "#7201a8"
                    ],
                    [
                      0.3333333333333333,
                      "#9c179e"
                    ],
                    [
                      0.4444444444444444,
                      "#bd3786"
                    ],
                    [
                      0.5555555555555556,
                      "#d8576b"
                    ],
                    [
                      0.6666666666666666,
                      "#ed7953"
                    ],
                    [
                      0.7777777777777778,
                      "#fb9f3a"
                    ],
                    [
                      0.8888888888888888,
                      "#fdca26"
                    ],
                    [
                      1,
                      "#f0f921"
                    ]
                  ]
                }
              }
            }
          },
          "metadata": {
            "tags": []
          }
        }
      ]
    },
    {
      "cell_type": "markdown",
      "metadata": {
        "id": "LGZN4IlP_j5h"
      },
      "source": [
        "## Spain"
      ]
    },
    {
      "cell_type": "code",
      "metadata": {
        "id": "P8D1X1Jy_j5h"
      },
      "source": [
        "spain = df[df['location'] == 'Spain']"
      ],
      "execution_count": 25,
      "outputs": []
    },
    {
      "cell_type": "code",
      "metadata": {
        "colab": {
          "base_uri": "https://localhost:8080/",
          "height": 542
        },
        "id": "vF95hD14_j5i",
        "outputId": "4c5a69b4-18b3-48f5-8662-7f8502b14979"
      },
      "source": [
        "#This data is faulty\n",
        "\n",
        "spain.iplot(kind = 'scatter', x = 'total_cases', y = 'total_tests', mode = 'lines+markers', title = 'Cases/Tests in Spain', xTitle='Cases', yTitle='Tests', colors = 'blue')"
      ],
      "execution_count": 26,
      "outputs": [
        {
          "output_type": "display_data",
          "data": {
            "text/html": [
              "<div>\n",
              "        \n",
              "        \n",
              "            <div id=\"794cc7b3-794c-4e35-be85-f2db1c42caea\" class=\"plotly-graph-div\" style=\"height:525px; width:100%;\"></div>\n",
              "            <script type=\"text/javascript\">\n",
              "                require([\"plotly\"], function(Plotly) {\n",
              "                    window.PLOTLYENV=window.PLOTLYENV || {};\n",
              "                    window.PLOTLYENV.BASE_URL='https://plot.ly';\n",
              "                    \n",
              "                if (document.getElementById(\"794cc7b3-794c-4e35-be85-f2db1c42caea\")) {\n",
              "                    Plotly.newPlot(\n",
              "                        '794cc7b3-794c-4e35-be85-f2db1c42caea',\n",
              "                        [{\"line\": {\"color\": \"rgba(55, 128, 191, 1.0)\", \"dash\": \"solid\", \"shape\": \"linear\", \"width\": 1.3}, \"marker\": {\"size\": 12, \"symbol\": \"circle\"}, \"mode\": \"lines+markers\", \"name\": \"total_tests\", \"text\": \"\", \"type\": \"scatter\", \"x\": [0, 0, 0, 0, 0, 0, 0, 0, 0, 0, 0, 0, 0, 0, 0, 0, 0, 0, 0, 0, 0, 0, 0, 0, 0, 0, 0, 0, 0, 0, 0, 0, 1, 1, 1, 1, 1, 1, 1, 1, 1, 2, 2, 2, 2, 2, 2, 2, 2, 2, 2, 2, 2, 2, 2, 2, 3, 7, 12, 25, 34, 66, 83, 114, 151, 200, 261, 374, 430, 589, 1204, 1639, 2140, 3004, 4231, 5753, 7753, 9191, 11178, 13716, 17147, 19980, 24926, 28572, 33089, 39673, 47610, 56188, 64059, 72248, 78797, 85195, 94417, 102136, 110238, 117710, 124736, 130759, 135032, 140510, 146690, 152446, 157022, 161852, 166019, 169496, 177464, 181504, 185904, 190008, 188578, 191163, 194515, 197142, 200194, 202961, 205905, 207634, 209465, 210773], \"y\": [0.0, 0.0, 0.0, 0.0, 0.0, 0.0, 0.0, 0.0, 0.0, 0.0, 0.0, 0.0, 0.0, 0.0, 0.0, 0.0, 0.0, 0.0, 0.0, 0.0, 0.0, 0.0, 0.0, 0.0, 0.0, 0.0, 0.0, 0.0, 0.0, 0.0, 0.0, 0.0, 0.0, 0.0, 0.0, 0.0, 0.0, 0.0, 0.0, 0.0, 0.0, 0.0, 0.0, 0.0, 0.0, 0.0, 0.0, 0.0, 0.0, 0.0, 0.0, 0.0, 0.0, 0.0, 0.0, 0.0, 0.0, 0.0, 0.0, 0.0, 0.0, 0.0, 0.0, 0.0, 0.0, 0.0, 0.0, 0.0, 0.0, 0.0, 0.0, 0.0, 0.0, 0.0, 0.0, 0.0, 0.0, 0.0, 0.0, 0.0, 0.0, 0.0, 0.0, 0.0, 0.0, 0.0, 0.0, 0.0, 0.0, 0.0, 0.0, 0.0, 0.0, 0.0, 0.0, 0.0, 0.0, 0.0, 0.0, 0.0, 0.0, 0.0, 0.0, 0.0, 930230.0, 0.0, 0.0, 0.0, 0.0, 0.0, 0.0, 0.0, 0.0, 0.0, 1035522.0, 0.0, 0.0, 0.0, 0.0, 0.0]}],\n",
              "                        {\"legend\": {\"bgcolor\": \"#F5F6F9\", \"font\": {\"color\": \"#4D5663\"}}, \"paper_bgcolor\": \"#F5F6F9\", \"plot_bgcolor\": \"#F5F6F9\", \"template\": {\"data\": {\"bar\": [{\"error_x\": {\"color\": \"#2a3f5f\"}, \"error_y\": {\"color\": \"#2a3f5f\"}, \"marker\": {\"line\": {\"color\": \"#E5ECF6\", \"width\": 0.5}}, \"type\": \"bar\"}], \"barpolar\": [{\"marker\": {\"line\": {\"color\": \"#E5ECF6\", \"width\": 0.5}}, \"type\": \"barpolar\"}], \"carpet\": [{\"aaxis\": {\"endlinecolor\": \"#2a3f5f\", \"gridcolor\": \"white\", \"linecolor\": \"white\", \"minorgridcolor\": \"white\", \"startlinecolor\": \"#2a3f5f\"}, \"baxis\": {\"endlinecolor\": \"#2a3f5f\", \"gridcolor\": \"white\", \"linecolor\": \"white\", \"minorgridcolor\": \"white\", \"startlinecolor\": \"#2a3f5f\"}, \"type\": \"carpet\"}], \"choropleth\": [{\"colorbar\": {\"outlinewidth\": 0, \"ticks\": \"\"}, \"type\": \"choropleth\"}], \"contour\": [{\"colorbar\": {\"outlinewidth\": 0, \"ticks\": \"\"}, \"colorscale\": [[0.0, \"#0d0887\"], [0.1111111111111111, \"#46039f\"], [0.2222222222222222, \"#7201a8\"], [0.3333333333333333, \"#9c179e\"], [0.4444444444444444, \"#bd3786\"], [0.5555555555555556, \"#d8576b\"], [0.6666666666666666, \"#ed7953\"], [0.7777777777777778, \"#fb9f3a\"], [0.8888888888888888, \"#fdca26\"], [1.0, \"#f0f921\"]], \"type\": \"contour\"}], \"contourcarpet\": [{\"colorbar\": {\"outlinewidth\": 0, \"ticks\": \"\"}, \"type\": \"contourcarpet\"}], \"heatmap\": [{\"colorbar\": {\"outlinewidth\": 0, \"ticks\": \"\"}, \"colorscale\": [[0.0, \"#0d0887\"], [0.1111111111111111, \"#46039f\"], [0.2222222222222222, \"#7201a8\"], [0.3333333333333333, \"#9c179e\"], [0.4444444444444444, \"#bd3786\"], [0.5555555555555556, \"#d8576b\"], [0.6666666666666666, \"#ed7953\"], [0.7777777777777778, \"#fb9f3a\"], [0.8888888888888888, \"#fdca26\"], [1.0, \"#f0f921\"]], \"type\": \"heatmap\"}], \"heatmapgl\": [{\"colorbar\": {\"outlinewidth\": 0, \"ticks\": \"\"}, \"colorscale\": [[0.0, \"#0d0887\"], [0.1111111111111111, \"#46039f\"], [0.2222222222222222, \"#7201a8\"], [0.3333333333333333, \"#9c179e\"], [0.4444444444444444, \"#bd3786\"], [0.5555555555555556, \"#d8576b\"], [0.6666666666666666, \"#ed7953\"], [0.7777777777777778, \"#fb9f3a\"], [0.8888888888888888, \"#fdca26\"], [1.0, \"#f0f921\"]], \"type\": \"heatmapgl\"}], \"histogram\": [{\"marker\": {\"colorbar\": {\"outlinewidth\": 0, \"ticks\": \"\"}}, \"type\": \"histogram\"}], \"histogram2d\": [{\"colorbar\": {\"outlinewidth\": 0, \"ticks\": \"\"}, \"colorscale\": [[0.0, \"#0d0887\"], [0.1111111111111111, \"#46039f\"], [0.2222222222222222, \"#7201a8\"], [0.3333333333333333, \"#9c179e\"], [0.4444444444444444, \"#bd3786\"], [0.5555555555555556, \"#d8576b\"], [0.6666666666666666, \"#ed7953\"], [0.7777777777777778, \"#fb9f3a\"], [0.8888888888888888, \"#fdca26\"], [1.0, \"#f0f921\"]], \"type\": \"histogram2d\"}], \"histogram2dcontour\": [{\"colorbar\": {\"outlinewidth\": 0, \"ticks\": \"\"}, \"colorscale\": [[0.0, \"#0d0887\"], [0.1111111111111111, \"#46039f\"], [0.2222222222222222, \"#7201a8\"], [0.3333333333333333, \"#9c179e\"], [0.4444444444444444, \"#bd3786\"], [0.5555555555555556, \"#d8576b\"], [0.6666666666666666, \"#ed7953\"], [0.7777777777777778, \"#fb9f3a\"], [0.8888888888888888, \"#fdca26\"], [1.0, \"#f0f921\"]], \"type\": \"histogram2dcontour\"}], \"mesh3d\": [{\"colorbar\": {\"outlinewidth\": 0, \"ticks\": \"\"}, \"type\": \"mesh3d\"}], \"parcoords\": [{\"line\": {\"colorbar\": {\"outlinewidth\": 0, \"ticks\": \"\"}}, \"type\": \"parcoords\"}], \"pie\": [{\"automargin\": true, \"type\": \"pie\"}], \"scatter\": [{\"marker\": {\"colorbar\": {\"outlinewidth\": 0, \"ticks\": \"\"}}, \"type\": \"scatter\"}], \"scatter3d\": [{\"line\": {\"colorbar\": {\"outlinewidth\": 0, \"ticks\": \"\"}}, \"marker\": {\"colorbar\": {\"outlinewidth\": 0, \"ticks\": \"\"}}, \"type\": \"scatter3d\"}], \"scattercarpet\": [{\"marker\": {\"colorbar\": {\"outlinewidth\": 0, \"ticks\": \"\"}}, \"type\": \"scattercarpet\"}], \"scattergeo\": [{\"marker\": {\"colorbar\": {\"outlinewidth\": 0, \"ticks\": \"\"}}, \"type\": \"scattergeo\"}], \"scattergl\": [{\"marker\": {\"colorbar\": {\"outlinewidth\": 0, \"ticks\": \"\"}}, \"type\": \"scattergl\"}], \"scattermapbox\": [{\"marker\": {\"colorbar\": {\"outlinewidth\": 0, \"ticks\": \"\"}}, \"type\": \"scattermapbox\"}], \"scatterpolar\": [{\"marker\": {\"colorbar\": {\"outlinewidth\": 0, \"ticks\": \"\"}}, \"type\": \"scatterpolar\"}], \"scatterpolargl\": [{\"marker\": {\"colorbar\": {\"outlinewidth\": 0, \"ticks\": \"\"}}, \"type\": \"scatterpolargl\"}], \"scatterternary\": [{\"marker\": {\"colorbar\": {\"outlinewidth\": 0, \"ticks\": \"\"}}, \"type\": \"scatterternary\"}], \"surface\": [{\"colorbar\": {\"outlinewidth\": 0, \"ticks\": \"\"}, \"colorscale\": [[0.0, \"#0d0887\"], [0.1111111111111111, \"#46039f\"], [0.2222222222222222, \"#7201a8\"], [0.3333333333333333, \"#9c179e\"], [0.4444444444444444, \"#bd3786\"], [0.5555555555555556, \"#d8576b\"], [0.6666666666666666, \"#ed7953\"], [0.7777777777777778, \"#fb9f3a\"], [0.8888888888888888, \"#fdca26\"], [1.0, \"#f0f921\"]], \"type\": \"surface\"}], \"table\": [{\"cells\": {\"fill\": {\"color\": \"#EBF0F8\"}, \"line\": {\"color\": \"white\"}}, \"header\": {\"fill\": {\"color\": \"#C8D4E3\"}, \"line\": {\"color\": \"white\"}}, \"type\": \"table\"}]}, \"layout\": {\"annotationdefaults\": {\"arrowcolor\": \"#2a3f5f\", \"arrowhead\": 0, \"arrowwidth\": 1}, \"coloraxis\": {\"colorbar\": {\"outlinewidth\": 0, \"ticks\": \"\"}}, \"colorscale\": {\"diverging\": [[0, \"#8e0152\"], [0.1, \"#c51b7d\"], [0.2, \"#de77ae\"], [0.3, \"#f1b6da\"], [0.4, \"#fde0ef\"], [0.5, \"#f7f7f7\"], [0.6, \"#e6f5d0\"], [0.7, \"#b8e186\"], [0.8, \"#7fbc41\"], [0.9, \"#4d9221\"], [1, \"#276419\"]], \"sequential\": [[0.0, \"#0d0887\"], [0.1111111111111111, \"#46039f\"], [0.2222222222222222, \"#7201a8\"], [0.3333333333333333, \"#9c179e\"], [0.4444444444444444, \"#bd3786\"], [0.5555555555555556, \"#d8576b\"], [0.6666666666666666, \"#ed7953\"], [0.7777777777777778, \"#fb9f3a\"], [0.8888888888888888, \"#fdca26\"], [1.0, \"#f0f921\"]], \"sequentialminus\": [[0.0, \"#0d0887\"], [0.1111111111111111, \"#46039f\"], [0.2222222222222222, \"#7201a8\"], [0.3333333333333333, \"#9c179e\"], [0.4444444444444444, \"#bd3786\"], [0.5555555555555556, \"#d8576b\"], [0.6666666666666666, \"#ed7953\"], [0.7777777777777778, \"#fb9f3a\"], [0.8888888888888888, \"#fdca26\"], [1.0, \"#f0f921\"]]}, \"colorway\": [\"#636efa\", \"#EF553B\", \"#00cc96\", \"#ab63fa\", \"#FFA15A\", \"#19d3f3\", \"#FF6692\", \"#B6E880\", \"#FF97FF\", \"#FECB52\"], \"font\": {\"color\": \"#2a3f5f\"}, \"geo\": {\"bgcolor\": \"white\", \"lakecolor\": \"white\", \"landcolor\": \"#E5ECF6\", \"showlakes\": true, \"showland\": true, \"subunitcolor\": \"white\"}, \"hoverlabel\": {\"align\": \"left\"}, \"hovermode\": \"closest\", \"mapbox\": {\"style\": \"light\"}, \"paper_bgcolor\": \"white\", \"plot_bgcolor\": \"#E5ECF6\", \"polar\": {\"angularaxis\": {\"gridcolor\": \"white\", \"linecolor\": \"white\", \"ticks\": \"\"}, \"bgcolor\": \"#E5ECF6\", \"radialaxis\": {\"gridcolor\": \"white\", \"linecolor\": \"white\", \"ticks\": \"\"}}, \"scene\": {\"xaxis\": {\"backgroundcolor\": \"#E5ECF6\", \"gridcolor\": \"white\", \"gridwidth\": 2, \"linecolor\": \"white\", \"showbackground\": true, \"ticks\": \"\", \"zerolinecolor\": \"white\"}, \"yaxis\": {\"backgroundcolor\": \"#E5ECF6\", \"gridcolor\": \"white\", \"gridwidth\": 2, \"linecolor\": \"white\", \"showbackground\": true, \"ticks\": \"\", \"zerolinecolor\": \"white\"}, \"zaxis\": {\"backgroundcolor\": \"#E5ECF6\", \"gridcolor\": \"white\", \"gridwidth\": 2, \"linecolor\": \"white\", \"showbackground\": true, \"ticks\": \"\", \"zerolinecolor\": \"white\"}}, \"shapedefaults\": {\"line\": {\"color\": \"#2a3f5f\"}}, \"ternary\": {\"aaxis\": {\"gridcolor\": \"white\", \"linecolor\": \"white\", \"ticks\": \"\"}, \"baxis\": {\"gridcolor\": \"white\", \"linecolor\": \"white\", \"ticks\": \"\"}, \"bgcolor\": \"#E5ECF6\", \"caxis\": {\"gridcolor\": \"white\", \"linecolor\": \"white\", \"ticks\": \"\"}}, \"title\": {\"x\": 0.05}, \"xaxis\": {\"automargin\": true, \"gridcolor\": \"white\", \"linecolor\": \"white\", \"ticks\": \"\", \"title\": {\"standoff\": 15}, \"zerolinecolor\": \"white\", \"zerolinewidth\": 2}, \"yaxis\": {\"automargin\": true, \"gridcolor\": \"white\", \"linecolor\": \"white\", \"ticks\": \"\", \"title\": {\"standoff\": 15}, \"zerolinecolor\": \"white\", \"zerolinewidth\": 2}}}, \"title\": {\"font\": {\"color\": \"#4D5663\"}, \"text\": \"Cases/Tests in Spain\"}, \"xaxis\": {\"gridcolor\": \"#E1E5ED\", \"showgrid\": true, \"tickfont\": {\"color\": \"#4D5663\"}, \"title\": {\"font\": {\"color\": \"#4D5663\"}, \"text\": \"Cases\"}, \"zerolinecolor\": \"#E1E5ED\"}, \"yaxis\": {\"gridcolor\": \"#E1E5ED\", \"showgrid\": true, \"tickfont\": {\"color\": \"#4D5663\"}, \"title\": {\"font\": {\"color\": \"#4D5663\"}, \"text\": \"Tests\"}, \"zerolinecolor\": \"#E1E5ED\"}},\n",
              "                        {\"showLink\": true, \"linkText\": \"Export to plot.ly\", \"plotlyServerURL\": \"https://plot.ly\", \"responsive\": true}\n",
              "                    ).then(function(){\n",
              "                            \n",
              "var gd = document.getElementById('794cc7b3-794c-4e35-be85-f2db1c42caea');\n",
              "var x = new MutationObserver(function (mutations, observer) {{\n",
              "        var display = window.getComputedStyle(gd).display;\n",
              "        if (!display || display === 'none') {{\n",
              "            console.log([gd, 'removed!']);\n",
              "            Plotly.purge(gd);\n",
              "            observer.disconnect();\n",
              "        }}\n",
              "}});\n",
              "\n",
              "// Listen for the removal of the full notebook cells\n",
              "var notebookContainer = gd.closest('#notebook-container');\n",
              "if (notebookContainer) {{\n",
              "    x.observe(notebookContainer, {childList: true});\n",
              "}}\n",
              "\n",
              "// Listen for the clearing of the current output cell\n",
              "var outputEl = gd.closest('.output');\n",
              "if (outputEl) {{\n",
              "    x.observe(outputEl, {childList: true});\n",
              "}}\n",
              "\n",
              "                        })\n",
              "                };\n",
              "                });\n",
              "            </script>\n",
              "        </div>"
            ],
            "application/vnd.plotly.v1+json": {
              "data": [
                {
                  "name": "total_tests",
                  "text": "",
                  "y": [
                    0,
                    0,
                    0,
                    0,
                    0,
                    0,
                    0,
                    0,
                    0,
                    0,
                    0,
                    0,
                    0,
                    0,
                    0,
                    0,
                    0,
                    0,
                    0,
                    0,
                    0,
                    0,
                    0,
                    0,
                    0,
                    0,
                    0,
                    0,
                    0,
                    0,
                    0,
                    0,
                    0,
                    0,
                    0,
                    0,
                    0,
                    0,
                    0,
                    0,
                    0,
                    0,
                    0,
                    0,
                    0,
                    0,
                    0,
                    0,
                    0,
                    0,
                    0,
                    0,
                    0,
                    0,
                    0,
                    0,
                    0,
                    0,
                    0,
                    0,
                    0,
                    0,
                    0,
                    0,
                    0,
                    0,
                    0,
                    0,
                    0,
                    0,
                    0,
                    0,
                    0,
                    0,
                    0,
                    0,
                    0,
                    0,
                    0,
                    0,
                    0,
                    0,
                    0,
                    0,
                    0,
                    0,
                    0,
                    0,
                    0,
                    0,
                    0,
                    0,
                    0,
                    0,
                    0,
                    0,
                    0,
                    0,
                    0,
                    0,
                    0,
                    0,
                    0,
                    0,
                    930230,
                    0,
                    0,
                    0,
                    0,
                    0,
                    0,
                    0,
                    0,
                    0,
                    1035522,
                    0,
                    0,
                    0,
                    0,
                    0
                  ],
                  "mode": "lines+markers",
                  "marker": {
                    "symbol": "circle",
                    "size": 12
                  },
                  "x": [
                    0,
                    0,
                    0,
                    0,
                    0,
                    0,
                    0,
                    0,
                    0,
                    0,
                    0,
                    0,
                    0,
                    0,
                    0,
                    0,
                    0,
                    0,
                    0,
                    0,
                    0,
                    0,
                    0,
                    0,
                    0,
                    0,
                    0,
                    0,
                    0,
                    0,
                    0,
                    0,
                    1,
                    1,
                    1,
                    1,
                    1,
                    1,
                    1,
                    1,
                    1,
                    2,
                    2,
                    2,
                    2,
                    2,
                    2,
                    2,
                    2,
                    2,
                    2,
                    2,
                    2,
                    2,
                    2,
                    2,
                    3,
                    7,
                    12,
                    25,
                    34,
                    66,
                    83,
                    114,
                    151,
                    200,
                    261,
                    374,
                    430,
                    589,
                    1204,
                    1639,
                    2140,
                    3004,
                    4231,
                    5753,
                    7753,
                    9191,
                    11178,
                    13716,
                    17147,
                    19980,
                    24926,
                    28572,
                    33089,
                    39673,
                    47610,
                    56188,
                    64059,
                    72248,
                    78797,
                    85195,
                    94417,
                    102136,
                    110238,
                    117710,
                    124736,
                    130759,
                    135032,
                    140510,
                    146690,
                    152446,
                    157022,
                    161852,
                    166019,
                    169496,
                    177464,
                    181504,
                    185904,
                    190008,
                    188578,
                    191163,
                    194515,
                    197142,
                    200194,
                    202961,
                    205905,
                    207634,
                    209465,
                    210773
                  ],
                  "line": {
                    "color": "rgba(55, 128, 191, 1.0)",
                    "dash": "solid",
                    "shape": "linear",
                    "width": 1.3
                  },
                  "type": "scatter"
                }
              ],
              "config": {
                "plotlyServerURL": "https://plot.ly",
                "linkText": "Export to plot.ly",
                "showLink": true
              },
              "layout": {
                "template": {
                  "layout": {
                    "shapedefaults": {
                      "line": {
                        "color": "#2a3f5f"
                      }
                    },
                    "polar": {
                      "radialaxis": {
                        "ticks": "",
                        "gridcolor": "white",
                        "linecolor": "white"
                      },
                      "bgcolor": "#E5ECF6",
                      "angularaxis": {
                        "ticks": "",
                        "gridcolor": "white",
                        "linecolor": "white"
                      }
                    },
                    "colorway": [
                      "#636efa",
                      "#EF553B",
                      "#00cc96",
                      "#ab63fa",
                      "#FFA15A",
                      "#19d3f3",
                      "#FF6692",
                      "#B6E880",
                      "#FF97FF",
                      "#FECB52"
                    ],
                    "xaxis": {
                      "automargin": true,
                      "title": {
                        "standoff": 15
                      },
                      "zerolinewidth": 2,
                      "ticks": "",
                      "zerolinecolor": "white",
                      "gridcolor": "white",
                      "linecolor": "white"
                    },
                    "colorscale": {
                      "diverging": [
                        [
                          0,
                          "#8e0152"
                        ],
                        [
                          0.1,
                          "#c51b7d"
                        ],
                        [
                          0.2,
                          "#de77ae"
                        ],
                        [
                          0.3,
                          "#f1b6da"
                        ],
                        [
                          0.4,
                          "#fde0ef"
                        ],
                        [
                          0.5,
                          "#f7f7f7"
                        ],
                        [
                          0.6,
                          "#e6f5d0"
                        ],
                        [
                          0.7,
                          "#b8e186"
                        ],
                        [
                          0.8,
                          "#7fbc41"
                        ],
                        [
                          0.9,
                          "#4d9221"
                        ],
                        [
                          1,
                          "#276419"
                        ]
                      ],
                      "sequential": [
                        [
                          0,
                          "#0d0887"
                        ],
                        [
                          0.1111111111111111,
                          "#46039f"
                        ],
                        [
                          0.2222222222222222,
                          "#7201a8"
                        ],
                        [
                          0.3333333333333333,
                          "#9c179e"
                        ],
                        [
                          0.4444444444444444,
                          "#bd3786"
                        ],
                        [
                          0.5555555555555556,
                          "#d8576b"
                        ],
                        [
                          0.6666666666666666,
                          "#ed7953"
                        ],
                        [
                          0.7777777777777778,
                          "#fb9f3a"
                        ],
                        [
                          0.8888888888888888,
                          "#fdca26"
                        ],
                        [
                          1,
                          "#f0f921"
                        ]
                      ],
                      "sequentialminus": [
                        [
                          0,
                          "#0d0887"
                        ],
                        [
                          0.1111111111111111,
                          "#46039f"
                        ],
                        [
                          0.2222222222222222,
                          "#7201a8"
                        ],
                        [
                          0.3333333333333333,
                          "#9c179e"
                        ],
                        [
                          0.4444444444444444,
                          "#bd3786"
                        ],
                        [
                          0.5555555555555556,
                          "#d8576b"
                        ],
                        [
                          0.6666666666666666,
                          "#ed7953"
                        ],
                        [
                          0.7777777777777778,
                          "#fb9f3a"
                        ],
                        [
                          0.8888888888888888,
                          "#fdca26"
                        ],
                        [
                          1,
                          "#f0f921"
                        ]
                      ]
                    },
                    "paper_bgcolor": "white",
                    "plot_bgcolor": "#E5ECF6",
                    "title": {
                      "x": 0.05
                    },
                    "scene": {
                      "zaxis": {
                        "backgroundcolor": "#E5ECF6",
                        "ticks": "",
                        "gridwidth": 2,
                        "showbackground": true,
                        "zerolinecolor": "white",
                        "gridcolor": "white",
                        "linecolor": "white"
                      },
                      "xaxis": {
                        "backgroundcolor": "#E5ECF6",
                        "ticks": "",
                        "gridwidth": 2,
                        "showbackground": true,
                        "zerolinecolor": "white",
                        "gridcolor": "white",
                        "linecolor": "white"
                      },
                      "yaxis": {
                        "backgroundcolor": "#E5ECF6",
                        "ticks": "",
                        "gridwidth": 2,
                        "showbackground": true,
                        "zerolinecolor": "white",
                        "gridcolor": "white",
                        "linecolor": "white"
                      }
                    },
                    "yaxis": {
                      "automargin": true,
                      "title": {
                        "standoff": 15
                      },
                      "zerolinewidth": 2,
                      "ticks": "",
                      "zerolinecolor": "white",
                      "gridcolor": "white",
                      "linecolor": "white"
                    },
                    "annotationdefaults": {
                      "arrowwidth": 1,
                      "arrowhead": 0,
                      "arrowcolor": "#2a3f5f"
                    },
                    "hoverlabel": {
                      "align": "left"
                    },
                    "ternary": {
                      "bgcolor": "#E5ECF6",
                      "baxis": {
                        "ticks": "",
                        "gridcolor": "white",
                        "linecolor": "white"
                      },
                      "caxis": {
                        "ticks": "",
                        "gridcolor": "white",
                        "linecolor": "white"
                      },
                      "aaxis": {
                        "ticks": "",
                        "gridcolor": "white",
                        "linecolor": "white"
                      }
                    },
                    "mapbox": {
                      "style": "light"
                    },
                    "hovermode": "closest",
                    "font": {
                      "color": "#2a3f5f"
                    },
                    "geo": {
                      "showland": true,
                      "landcolor": "#E5ECF6",
                      "showlakes": true,
                      "bgcolor": "white",
                      "subunitcolor": "white",
                      "lakecolor": "white"
                    },
                    "coloraxis": {
                      "colorbar": {
                        "outlinewidth": 0,
                        "ticks": ""
                      }
                    }
                  },
                  "data": {
                    "mesh3d": [
                      {
                        "colorbar": {
                          "outlinewidth": 0,
                          "ticks": ""
                        },
                        "type": "mesh3d"
                      }
                    ],
                    "scattercarpet": [
                      {
                        "marker": {
                          "colorbar": {
                            "outlinewidth": 0,
                            "ticks": ""
                          }
                        },
                        "type": "scattercarpet"
                      }
                    ],
                    "pie": [
                      {
                        "automargin": true,
                        "type": "pie"
                      }
                    ],
                    "surface": [
                      {
                        "colorbar": {
                          "outlinewidth": 0,
                          "ticks": ""
                        },
                        "type": "surface",
                        "colorscale": [
                          [
                            0,
                            "#0d0887"
                          ],
                          [
                            0.1111111111111111,
                            "#46039f"
                          ],
                          [
                            0.2222222222222222,
                            "#7201a8"
                          ],
                          [
                            0.3333333333333333,
                            "#9c179e"
                          ],
                          [
                            0.4444444444444444,
                            "#bd3786"
                          ],
                          [
                            0.5555555555555556,
                            "#d8576b"
                          ],
                          [
                            0.6666666666666666,
                            "#ed7953"
                          ],
                          [
                            0.7777777777777778,
                            "#fb9f3a"
                          ],
                          [
                            0.8888888888888888,
                            "#fdca26"
                          ],
                          [
                            1,
                            "#f0f921"
                          ]
                        ]
                      }
                    ],
                    "table": [
                      {
                        "header": {
                          "line": {
                            "color": "white"
                          },
                          "fill": {
                            "color": "#C8D4E3"
                          }
                        },
                        "cells": {
                          "line": {
                            "color": "white"
                          },
                          "fill": {
                            "color": "#EBF0F8"
                          }
                        },
                        "type": "table"
                      }
                    ],
                    "scatterpolargl": [
                      {
                        "marker": {
                          "colorbar": {
                            "outlinewidth": 0,
                            "ticks": ""
                          }
                        },
                        "type": "scatterpolargl"
                      }
                    ],
                    "contour": [
                      {
                        "colorbar": {
                          "outlinewidth": 0,
                          "ticks": ""
                        },
                        "type": "contour",
                        "colorscale": [
                          [
                            0,
                            "#0d0887"
                          ],
                          [
                            0.1111111111111111,
                            "#46039f"
                          ],
                          [
                            0.2222222222222222,
                            "#7201a8"
                          ],
                          [
                            0.3333333333333333,
                            "#9c179e"
                          ],
                          [
                            0.4444444444444444,
                            "#bd3786"
                          ],
                          [
                            0.5555555555555556,
                            "#d8576b"
                          ],
                          [
                            0.6666666666666666,
                            "#ed7953"
                          ],
                          [
                            0.7777777777777778,
                            "#fb9f3a"
                          ],
                          [
                            0.8888888888888888,
                            "#fdca26"
                          ],
                          [
                            1,
                            "#f0f921"
                          ]
                        ]
                      }
                    ],
                    "carpet": [
                      {
                        "type": "carpet",
                        "baxis": {
                          "minorgridcolor": "white",
                          "gridcolor": "white",
                          "linecolor": "white",
                          "endlinecolor": "#2a3f5f",
                          "startlinecolor": "#2a3f5f"
                        },
                        "aaxis": {
                          "minorgridcolor": "white",
                          "gridcolor": "white",
                          "linecolor": "white",
                          "endlinecolor": "#2a3f5f",
                          "startlinecolor": "#2a3f5f"
                        }
                      }
                    ],
                    "contourcarpet": [
                      {
                        "colorbar": {
                          "outlinewidth": 0,
                          "ticks": ""
                        },
                        "type": "contourcarpet"
                      }
                    ],
                    "heatmap": [
                      {
                        "colorbar": {
                          "outlinewidth": 0,
                          "ticks": ""
                        },
                        "type": "heatmap",
                        "colorscale": [
                          [
                            0,
                            "#0d0887"
                          ],
                          [
                            0.1111111111111111,
                            "#46039f"
                          ],
                          [
                            0.2222222222222222,
                            "#7201a8"
                          ],
                          [
                            0.3333333333333333,
                            "#9c179e"
                          ],
                          [
                            0.4444444444444444,
                            "#bd3786"
                          ],
                          [
                            0.5555555555555556,
                            "#d8576b"
                          ],
                          [
                            0.6666666666666666,
                            "#ed7953"
                          ],
                          [
                            0.7777777777777778,
                            "#fb9f3a"
                          ],
                          [
                            0.8888888888888888,
                            "#fdca26"
                          ],
                          [
                            1,
                            "#f0f921"
                          ]
                        ]
                      }
                    ],
                    "scattermapbox": [
                      {
                        "marker": {
                          "colorbar": {
                            "outlinewidth": 0,
                            "ticks": ""
                          }
                        },
                        "type": "scattermapbox"
                      }
                    ],
                    "scatter3d": [
                      {
                        "marker": {
                          "colorbar": {
                            "outlinewidth": 0,
                            "ticks": ""
                          }
                        },
                        "line": {
                          "colorbar": {
                            "outlinewidth": 0,
                            "ticks": ""
                          }
                        },
                        "type": "scatter3d"
                      }
                    ],
                    "scattergl": [
                      {
                        "marker": {
                          "colorbar": {
                            "outlinewidth": 0,
                            "ticks": ""
                          }
                        },
                        "type": "scattergl"
                      }
                    ],
                    "scatterternary": [
                      {
                        "marker": {
                          "colorbar": {
                            "outlinewidth": 0,
                            "ticks": ""
                          }
                        },
                        "type": "scatterternary"
                      }
                    ],
                    "histogram": [
                      {
                        "marker": {
                          "colorbar": {
                            "outlinewidth": 0,
                            "ticks": ""
                          }
                        },
                        "type": "histogram"
                      }
                    ],
                    "heatmapgl": [
                      {
                        "colorbar": {
                          "outlinewidth": 0,
                          "ticks": ""
                        },
                        "type": "heatmapgl",
                        "colorscale": [
                          [
                            0,
                            "#0d0887"
                          ],
                          [
                            0.1111111111111111,
                            "#46039f"
                          ],
                          [
                            0.2222222222222222,
                            "#7201a8"
                          ],
                          [
                            0.3333333333333333,
                            "#9c179e"
                          ],
                          [
                            0.4444444444444444,
                            "#bd3786"
                          ],
                          [
                            0.5555555555555556,
                            "#d8576b"
                          ],
                          [
                            0.6666666666666666,
                            "#ed7953"
                          ],
                          [
                            0.7777777777777778,
                            "#fb9f3a"
                          ],
                          [
                            0.8888888888888888,
                            "#fdca26"
                          ],
                          [
                            1,
                            "#f0f921"
                          ]
                        ]
                      }
                    ],
                    "scatterpolar": [
                      {
                        "marker": {
                          "colorbar": {
                            "outlinewidth": 0,
                            "ticks": ""
                          }
                        },
                        "type": "scatterpolar"
                      }
                    ],
                    "histogram2d": [
                      {
                        "colorbar": {
                          "outlinewidth": 0,
                          "ticks": ""
                        },
                        "type": "histogram2d",
                        "colorscale": [
                          [
                            0,
                            "#0d0887"
                          ],
                          [
                            0.1111111111111111,
                            "#46039f"
                          ],
                          [
                            0.2222222222222222,
                            "#7201a8"
                          ],
                          [
                            0.3333333333333333,
                            "#9c179e"
                          ],
                          [
                            0.4444444444444444,
                            "#bd3786"
                          ],
                          [
                            0.5555555555555556,
                            "#d8576b"
                          ],
                          [
                            0.6666666666666666,
                            "#ed7953"
                          ],
                          [
                            0.7777777777777778,
                            "#fb9f3a"
                          ],
                          [
                            0.8888888888888888,
                            "#fdca26"
                          ],
                          [
                            1,
                            "#f0f921"
                          ]
                        ]
                      }
                    ],
                    "scattergeo": [
                      {
                        "marker": {
                          "colorbar": {
                            "outlinewidth": 0,
                            "ticks": ""
                          }
                        },
                        "type": "scattergeo"
                      }
                    ],
                    "bar": [
                      {
                        "marker": {
                          "line": {
                            "color": "#E5ECF6",
                            "width": 0.5
                          }
                        },
                        "type": "bar",
                        "error_x": {
                          "color": "#2a3f5f"
                        },
                        "error_y": {
                          "color": "#2a3f5f"
                        }
                      }
                    ],
                    "choropleth": [
                      {
                        "colorbar": {
                          "outlinewidth": 0,
                          "ticks": ""
                        },
                        "type": "choropleth"
                      }
                    ],
                    "parcoords": [
                      {
                        "line": {
                          "colorbar": {
                            "outlinewidth": 0,
                            "ticks": ""
                          }
                        },
                        "type": "parcoords"
                      }
                    ],
                    "barpolar": [
                      {
                        "marker": {
                          "line": {
                            "color": "#E5ECF6",
                            "width": 0.5
                          }
                        },
                        "type": "barpolar"
                      }
                    ],
                    "histogram2dcontour": [
                      {
                        "colorbar": {
                          "outlinewidth": 0,
                          "ticks": ""
                        },
                        "type": "histogram2dcontour",
                        "colorscale": [
                          [
                            0,
                            "#0d0887"
                          ],
                          [
                            0.1111111111111111,
                            "#46039f"
                          ],
                          [
                            0.2222222222222222,
                            "#7201a8"
                          ],
                          [
                            0.3333333333333333,
                            "#9c179e"
                          ],
                          [
                            0.4444444444444444,
                            "#bd3786"
                          ],
                          [
                            0.5555555555555556,
                            "#d8576b"
                          ],
                          [
                            0.6666666666666666,
                            "#ed7953"
                          ],
                          [
                            0.7777777777777778,
                            "#fb9f3a"
                          ],
                          [
                            0.8888888888888888,
                            "#fdca26"
                          ],
                          [
                            1,
                            "#f0f921"
                          ]
                        ]
                      }
                    ],
                    "scatter": [
                      {
                        "marker": {
                          "colorbar": {
                            "outlinewidth": 0,
                            "ticks": ""
                          }
                        },
                        "type": "scatter"
                      }
                    ]
                  }
                },
                "title": {
                  "text": "Cases/Tests in Spain",
                  "font": {
                    "color": "#4D5663"
                  }
                },
                "paper_bgcolor": "#F5F6F9",
                "plot_bgcolor": "#F5F6F9",
                "yaxis": {
                  "tickfont": {
                    "color": "#4D5663"
                  },
                  "zerolinecolor": "#E1E5ED",
                  "title": {
                    "text": "Tests",
                    "font": {
                      "color": "#4D5663"
                    }
                  },
                  "gridcolor": "#E1E5ED",
                  "showgrid": true
                },
                "xaxis": {
                  "tickfont": {
                    "color": "#4D5663"
                  },
                  "zerolinecolor": "#E1E5ED",
                  "title": {
                    "text": "Cases",
                    "font": {
                      "color": "#4D5663"
                    }
                  },
                  "gridcolor": "#E1E5ED",
                  "showgrid": true
                },
                "legend": {
                  "bgcolor": "#F5F6F9",
                  "font": {
                    "color": "#4D5663"
                  }
                }
              }
            }
          },
          "metadata": {
            "tags": []
          }
        }
      ]
    },
    {
      "cell_type": "code",
      "metadata": {
        "colab": {
          "base_uri": "https://localhost:8080/",
          "height": 542
        },
        "id": "B9BzWJo1_j5i",
        "outputId": "f8529a47-cc3c-4088-bb8e-05f9e477c92b"
      },
      "source": [
        "spain.iplot(kind = 'scatter', x = 'total_cases', y = 'total_deaths', mode = 'lines+markers', title = 'Cases/Tests in Spain', xTitle='Cases', yTitle='Deaths', colors = 'red')"
      ],
      "execution_count": 27,
      "outputs": [
        {
          "output_type": "display_data",
          "data": {
            "text/html": [
              "<div>\n",
              "        \n",
              "        \n",
              "            <div id=\"78e5fff3-456e-48cb-868d-494cfcf5bc16\" class=\"plotly-graph-div\" style=\"height:525px; width:100%;\"></div>\n",
              "            <script type=\"text/javascript\">\n",
              "                require([\"plotly\"], function(Plotly) {\n",
              "                    window.PLOTLYENV=window.PLOTLYENV || {};\n",
              "                    window.PLOTLYENV.BASE_URL='https://plot.ly';\n",
              "                    \n",
              "                if (document.getElementById(\"78e5fff3-456e-48cb-868d-494cfcf5bc16\")) {\n",
              "                    Plotly.newPlot(\n",
              "                        '78e5fff3-456e-48cb-868d-494cfcf5bc16',\n",
              "                        [{\"line\": {\"color\": \"rgba(219, 64, 82, 1.0)\", \"dash\": \"solid\", \"shape\": \"linear\", \"width\": 1.3}, \"marker\": {\"size\": 12, \"symbol\": \"circle\"}, \"mode\": \"lines+markers\", \"name\": \"total_deaths\", \"text\": \"\", \"type\": \"scatter\", \"x\": [0, 0, 0, 0, 0, 0, 0, 0, 0, 0, 0, 0, 0, 0, 0, 0, 0, 0, 0, 0, 0, 0, 0, 0, 0, 0, 0, 0, 0, 0, 0, 0, 1, 1, 1, 1, 1, 1, 1, 1, 1, 2, 2, 2, 2, 2, 2, 2, 2, 2, 2, 2, 2, 2, 2, 2, 3, 7, 12, 25, 34, 66, 83, 114, 151, 200, 261, 374, 430, 589, 1204, 1639, 2140, 3004, 4231, 5753, 7753, 9191, 11178, 13716, 17147, 19980, 24926, 28572, 33089, 39673, 47610, 56188, 64059, 72248, 78797, 85195, 94417, 102136, 110238, 117710, 124736, 130759, 135032, 140510, 146690, 152446, 157022, 161852, 166019, 169496, 177464, 181504, 185904, 190008, 188578, 191163, 194515, 197142, 200194, 202961, 205905, 207634, 209465, 210773], \"y\": [0, 0, 0, 0, 0, 0, 0, 0, 0, 0, 0, 0, 0, 0, 0, 0, 0, 0, 0, 0, 0, 0, 0, 0, 0, 0, 0, 0, 0, 0, 0, 0, 0, 0, 0, 0, 0, 0, 0, 0, 0, 0, 0, 0, 0, 0, 0, 0, 0, 0, 0, 0, 0, 0, 0, 0, 0, 0, 0, 0, 0, 0, 0, 0, 0, 1, 3, 5, 5, 5, 28, 35, 47, 84, 121, 136, 288, 309, 491, 598, 767, 1002, 1326, 1720, 2182, 2696, 3434, 4089, 4858, 5690, 6528, 7340, 8189, 9053, 10003, 10935, 11744, 12418, 13055, 13798, 14555, 15238, 15843, 16353, 16972, 17489, 18276, 18893, 19478, 20043, 20453, 20852, 21282, 21717, 22157, 22524, 22902, 23190, 23190, 23822]}],\n",
              "                        {\"legend\": {\"bgcolor\": \"#F5F6F9\", \"font\": {\"color\": \"#4D5663\"}}, \"paper_bgcolor\": \"#F5F6F9\", \"plot_bgcolor\": \"#F5F6F9\", \"template\": {\"data\": {\"bar\": [{\"error_x\": {\"color\": \"#2a3f5f\"}, \"error_y\": {\"color\": \"#2a3f5f\"}, \"marker\": {\"line\": {\"color\": \"#E5ECF6\", \"width\": 0.5}}, \"type\": \"bar\"}], \"barpolar\": [{\"marker\": {\"line\": {\"color\": \"#E5ECF6\", \"width\": 0.5}}, \"type\": \"barpolar\"}], \"carpet\": [{\"aaxis\": {\"endlinecolor\": \"#2a3f5f\", \"gridcolor\": \"white\", \"linecolor\": \"white\", \"minorgridcolor\": \"white\", \"startlinecolor\": \"#2a3f5f\"}, \"baxis\": {\"endlinecolor\": \"#2a3f5f\", \"gridcolor\": \"white\", \"linecolor\": \"white\", \"minorgridcolor\": \"white\", \"startlinecolor\": \"#2a3f5f\"}, \"type\": \"carpet\"}], \"choropleth\": [{\"colorbar\": {\"outlinewidth\": 0, \"ticks\": \"\"}, \"type\": \"choropleth\"}], \"contour\": [{\"colorbar\": {\"outlinewidth\": 0, \"ticks\": \"\"}, \"colorscale\": [[0.0, \"#0d0887\"], [0.1111111111111111, \"#46039f\"], [0.2222222222222222, \"#7201a8\"], [0.3333333333333333, \"#9c179e\"], [0.4444444444444444, \"#bd3786\"], [0.5555555555555556, \"#d8576b\"], [0.6666666666666666, \"#ed7953\"], [0.7777777777777778, \"#fb9f3a\"], [0.8888888888888888, \"#fdca26\"], [1.0, \"#f0f921\"]], \"type\": \"contour\"}], \"contourcarpet\": [{\"colorbar\": {\"outlinewidth\": 0, \"ticks\": \"\"}, \"type\": \"contourcarpet\"}], \"heatmap\": [{\"colorbar\": {\"outlinewidth\": 0, \"ticks\": \"\"}, \"colorscale\": [[0.0, \"#0d0887\"], [0.1111111111111111, \"#46039f\"], [0.2222222222222222, \"#7201a8\"], [0.3333333333333333, \"#9c179e\"], [0.4444444444444444, \"#bd3786\"], [0.5555555555555556, \"#d8576b\"], [0.6666666666666666, \"#ed7953\"], [0.7777777777777778, \"#fb9f3a\"], [0.8888888888888888, \"#fdca26\"], [1.0, \"#f0f921\"]], \"type\": \"heatmap\"}], \"heatmapgl\": [{\"colorbar\": {\"outlinewidth\": 0, \"ticks\": \"\"}, \"colorscale\": [[0.0, \"#0d0887\"], [0.1111111111111111, \"#46039f\"], [0.2222222222222222, \"#7201a8\"], [0.3333333333333333, \"#9c179e\"], [0.4444444444444444, \"#bd3786\"], [0.5555555555555556, \"#d8576b\"], [0.6666666666666666, \"#ed7953\"], [0.7777777777777778, \"#fb9f3a\"], [0.8888888888888888, \"#fdca26\"], [1.0, \"#f0f921\"]], \"type\": \"heatmapgl\"}], \"histogram\": [{\"marker\": {\"colorbar\": {\"outlinewidth\": 0, \"ticks\": \"\"}}, \"type\": \"histogram\"}], \"histogram2d\": [{\"colorbar\": {\"outlinewidth\": 0, \"ticks\": \"\"}, \"colorscale\": [[0.0, \"#0d0887\"], [0.1111111111111111, \"#46039f\"], [0.2222222222222222, \"#7201a8\"], [0.3333333333333333, \"#9c179e\"], [0.4444444444444444, \"#bd3786\"], [0.5555555555555556, \"#d8576b\"], [0.6666666666666666, \"#ed7953\"], [0.7777777777777778, \"#fb9f3a\"], [0.8888888888888888, \"#fdca26\"], [1.0, \"#f0f921\"]], \"type\": \"histogram2d\"}], \"histogram2dcontour\": [{\"colorbar\": {\"outlinewidth\": 0, \"ticks\": \"\"}, \"colorscale\": [[0.0, \"#0d0887\"], [0.1111111111111111, \"#46039f\"], [0.2222222222222222, \"#7201a8\"], [0.3333333333333333, \"#9c179e\"], [0.4444444444444444, \"#bd3786\"], [0.5555555555555556, \"#d8576b\"], [0.6666666666666666, \"#ed7953\"], [0.7777777777777778, \"#fb9f3a\"], [0.8888888888888888, \"#fdca26\"], [1.0, \"#f0f921\"]], \"type\": \"histogram2dcontour\"}], \"mesh3d\": [{\"colorbar\": {\"outlinewidth\": 0, \"ticks\": \"\"}, \"type\": \"mesh3d\"}], \"parcoords\": [{\"line\": {\"colorbar\": {\"outlinewidth\": 0, \"ticks\": \"\"}}, \"type\": \"parcoords\"}], \"pie\": [{\"automargin\": true, \"type\": \"pie\"}], \"scatter\": [{\"marker\": {\"colorbar\": {\"outlinewidth\": 0, \"ticks\": \"\"}}, \"type\": \"scatter\"}], \"scatter3d\": [{\"line\": {\"colorbar\": {\"outlinewidth\": 0, \"ticks\": \"\"}}, \"marker\": {\"colorbar\": {\"outlinewidth\": 0, \"ticks\": \"\"}}, \"type\": \"scatter3d\"}], \"scattercarpet\": [{\"marker\": {\"colorbar\": {\"outlinewidth\": 0, \"ticks\": \"\"}}, \"type\": \"scattercarpet\"}], \"scattergeo\": [{\"marker\": {\"colorbar\": {\"outlinewidth\": 0, \"ticks\": \"\"}}, \"type\": \"scattergeo\"}], \"scattergl\": [{\"marker\": {\"colorbar\": {\"outlinewidth\": 0, \"ticks\": \"\"}}, \"type\": \"scattergl\"}], \"scattermapbox\": [{\"marker\": {\"colorbar\": {\"outlinewidth\": 0, \"ticks\": \"\"}}, \"type\": \"scattermapbox\"}], \"scatterpolar\": [{\"marker\": {\"colorbar\": {\"outlinewidth\": 0, \"ticks\": \"\"}}, \"type\": \"scatterpolar\"}], \"scatterpolargl\": [{\"marker\": {\"colorbar\": {\"outlinewidth\": 0, \"ticks\": \"\"}}, \"type\": \"scatterpolargl\"}], \"scatterternary\": [{\"marker\": {\"colorbar\": {\"outlinewidth\": 0, \"ticks\": \"\"}}, \"type\": \"scatterternary\"}], \"surface\": [{\"colorbar\": {\"outlinewidth\": 0, \"ticks\": \"\"}, \"colorscale\": [[0.0, \"#0d0887\"], [0.1111111111111111, \"#46039f\"], [0.2222222222222222, \"#7201a8\"], [0.3333333333333333, \"#9c179e\"], [0.4444444444444444, \"#bd3786\"], [0.5555555555555556, \"#d8576b\"], [0.6666666666666666, \"#ed7953\"], [0.7777777777777778, \"#fb9f3a\"], [0.8888888888888888, \"#fdca26\"], [1.0, \"#f0f921\"]], \"type\": \"surface\"}], \"table\": [{\"cells\": {\"fill\": {\"color\": \"#EBF0F8\"}, \"line\": {\"color\": \"white\"}}, \"header\": {\"fill\": {\"color\": \"#C8D4E3\"}, \"line\": {\"color\": \"white\"}}, \"type\": \"table\"}]}, \"layout\": {\"annotationdefaults\": {\"arrowcolor\": \"#2a3f5f\", \"arrowhead\": 0, \"arrowwidth\": 1}, \"coloraxis\": {\"colorbar\": {\"outlinewidth\": 0, \"ticks\": \"\"}}, \"colorscale\": {\"diverging\": [[0, \"#8e0152\"], [0.1, \"#c51b7d\"], [0.2, \"#de77ae\"], [0.3, \"#f1b6da\"], [0.4, \"#fde0ef\"], [0.5, \"#f7f7f7\"], [0.6, \"#e6f5d0\"], [0.7, \"#b8e186\"], [0.8, \"#7fbc41\"], [0.9, \"#4d9221\"], [1, \"#276419\"]], \"sequential\": [[0.0, \"#0d0887\"], [0.1111111111111111, \"#46039f\"], [0.2222222222222222, \"#7201a8\"], [0.3333333333333333, \"#9c179e\"], [0.4444444444444444, \"#bd3786\"], [0.5555555555555556, \"#d8576b\"], [0.6666666666666666, \"#ed7953\"], [0.7777777777777778, \"#fb9f3a\"], [0.8888888888888888, \"#fdca26\"], [1.0, \"#f0f921\"]], \"sequentialminus\": [[0.0, \"#0d0887\"], [0.1111111111111111, \"#46039f\"], [0.2222222222222222, \"#7201a8\"], [0.3333333333333333, \"#9c179e\"], [0.4444444444444444, \"#bd3786\"], [0.5555555555555556, \"#d8576b\"], [0.6666666666666666, \"#ed7953\"], [0.7777777777777778, \"#fb9f3a\"], [0.8888888888888888, \"#fdca26\"], [1.0, \"#f0f921\"]]}, \"colorway\": [\"#636efa\", \"#EF553B\", \"#00cc96\", \"#ab63fa\", \"#FFA15A\", \"#19d3f3\", \"#FF6692\", \"#B6E880\", \"#FF97FF\", \"#FECB52\"], \"font\": {\"color\": \"#2a3f5f\"}, \"geo\": {\"bgcolor\": \"white\", \"lakecolor\": \"white\", \"landcolor\": \"#E5ECF6\", \"showlakes\": true, \"showland\": true, \"subunitcolor\": \"white\"}, \"hoverlabel\": {\"align\": \"left\"}, \"hovermode\": \"closest\", \"mapbox\": {\"style\": \"light\"}, \"paper_bgcolor\": \"white\", \"plot_bgcolor\": \"#E5ECF6\", \"polar\": {\"angularaxis\": {\"gridcolor\": \"white\", \"linecolor\": \"white\", \"ticks\": \"\"}, \"bgcolor\": \"#E5ECF6\", \"radialaxis\": {\"gridcolor\": \"white\", \"linecolor\": \"white\", \"ticks\": \"\"}}, \"scene\": {\"xaxis\": {\"backgroundcolor\": \"#E5ECF6\", \"gridcolor\": \"white\", \"gridwidth\": 2, \"linecolor\": \"white\", \"showbackground\": true, \"ticks\": \"\", \"zerolinecolor\": \"white\"}, \"yaxis\": {\"backgroundcolor\": \"#E5ECF6\", \"gridcolor\": \"white\", \"gridwidth\": 2, \"linecolor\": \"white\", \"showbackground\": true, \"ticks\": \"\", \"zerolinecolor\": \"white\"}, \"zaxis\": {\"backgroundcolor\": \"#E5ECF6\", \"gridcolor\": \"white\", \"gridwidth\": 2, \"linecolor\": \"white\", \"showbackground\": true, \"ticks\": \"\", \"zerolinecolor\": \"white\"}}, \"shapedefaults\": {\"line\": {\"color\": \"#2a3f5f\"}}, \"ternary\": {\"aaxis\": {\"gridcolor\": \"white\", \"linecolor\": \"white\", \"ticks\": \"\"}, \"baxis\": {\"gridcolor\": \"white\", \"linecolor\": \"white\", \"ticks\": \"\"}, \"bgcolor\": \"#E5ECF6\", \"caxis\": {\"gridcolor\": \"white\", \"linecolor\": \"white\", \"ticks\": \"\"}}, \"title\": {\"x\": 0.05}, \"xaxis\": {\"automargin\": true, \"gridcolor\": \"white\", \"linecolor\": \"white\", \"ticks\": \"\", \"title\": {\"standoff\": 15}, \"zerolinecolor\": \"white\", \"zerolinewidth\": 2}, \"yaxis\": {\"automargin\": true, \"gridcolor\": \"white\", \"linecolor\": \"white\", \"ticks\": \"\", \"title\": {\"standoff\": 15}, \"zerolinecolor\": \"white\", \"zerolinewidth\": 2}}}, \"title\": {\"font\": {\"color\": \"#4D5663\"}, \"text\": \"Cases/Tests in Spain\"}, \"xaxis\": {\"gridcolor\": \"#E1E5ED\", \"showgrid\": true, \"tickfont\": {\"color\": \"#4D5663\"}, \"title\": {\"font\": {\"color\": \"#4D5663\"}, \"text\": \"Cases\"}, \"zerolinecolor\": \"#E1E5ED\"}, \"yaxis\": {\"gridcolor\": \"#E1E5ED\", \"showgrid\": true, \"tickfont\": {\"color\": \"#4D5663\"}, \"title\": {\"font\": {\"color\": \"#4D5663\"}, \"text\": \"Deaths\"}, \"zerolinecolor\": \"#E1E5ED\"}},\n",
              "                        {\"showLink\": true, \"linkText\": \"Export to plot.ly\", \"plotlyServerURL\": \"https://plot.ly\", \"responsive\": true}\n",
              "                    ).then(function(){\n",
              "                            \n",
              "var gd = document.getElementById('78e5fff3-456e-48cb-868d-494cfcf5bc16');\n",
              "var x = new MutationObserver(function (mutations, observer) {{\n",
              "        var display = window.getComputedStyle(gd).display;\n",
              "        if (!display || display === 'none') {{\n",
              "            console.log([gd, 'removed!']);\n",
              "            Plotly.purge(gd);\n",
              "            observer.disconnect();\n",
              "        }}\n",
              "}});\n",
              "\n",
              "// Listen for the removal of the full notebook cells\n",
              "var notebookContainer = gd.closest('#notebook-container');\n",
              "if (notebookContainer) {{\n",
              "    x.observe(notebookContainer, {childList: true});\n",
              "}}\n",
              "\n",
              "// Listen for the clearing of the current output cell\n",
              "var outputEl = gd.closest('.output');\n",
              "if (outputEl) {{\n",
              "    x.observe(outputEl, {childList: true});\n",
              "}}\n",
              "\n",
              "                        })\n",
              "                };\n",
              "                });\n",
              "            </script>\n",
              "        </div>"
            ],
            "application/vnd.plotly.v1+json": {
              "data": [
                {
                  "name": "total_deaths",
                  "text": "",
                  "y": [
                    0,
                    0,
                    0,
                    0,
                    0,
                    0,
                    0,
                    0,
                    0,
                    0,
                    0,
                    0,
                    0,
                    0,
                    0,
                    0,
                    0,
                    0,
                    0,
                    0,
                    0,
                    0,
                    0,
                    0,
                    0,
                    0,
                    0,
                    0,
                    0,
                    0,
                    0,
                    0,
                    0,
                    0,
                    0,
                    0,
                    0,
                    0,
                    0,
                    0,
                    0,
                    0,
                    0,
                    0,
                    0,
                    0,
                    0,
                    0,
                    0,
                    0,
                    0,
                    0,
                    0,
                    0,
                    0,
                    0,
                    0,
                    0,
                    0,
                    0,
                    0,
                    0,
                    0,
                    0,
                    0,
                    1,
                    3,
                    5,
                    5,
                    5,
                    28,
                    35,
                    47,
                    84,
                    121,
                    136,
                    288,
                    309,
                    491,
                    598,
                    767,
                    1002,
                    1326,
                    1720,
                    2182,
                    2696,
                    3434,
                    4089,
                    4858,
                    5690,
                    6528,
                    7340,
                    8189,
                    9053,
                    10003,
                    10935,
                    11744,
                    12418,
                    13055,
                    13798,
                    14555,
                    15238,
                    15843,
                    16353,
                    16972,
                    17489,
                    18276,
                    18893,
                    19478,
                    20043,
                    20453,
                    20852,
                    21282,
                    21717,
                    22157,
                    22524,
                    22902,
                    23190,
                    23190,
                    23822
                  ],
                  "mode": "lines+markers",
                  "marker": {
                    "symbol": "circle",
                    "size": 12
                  },
                  "x": [
                    0,
                    0,
                    0,
                    0,
                    0,
                    0,
                    0,
                    0,
                    0,
                    0,
                    0,
                    0,
                    0,
                    0,
                    0,
                    0,
                    0,
                    0,
                    0,
                    0,
                    0,
                    0,
                    0,
                    0,
                    0,
                    0,
                    0,
                    0,
                    0,
                    0,
                    0,
                    0,
                    1,
                    1,
                    1,
                    1,
                    1,
                    1,
                    1,
                    1,
                    1,
                    2,
                    2,
                    2,
                    2,
                    2,
                    2,
                    2,
                    2,
                    2,
                    2,
                    2,
                    2,
                    2,
                    2,
                    2,
                    3,
                    7,
                    12,
                    25,
                    34,
                    66,
                    83,
                    114,
                    151,
                    200,
                    261,
                    374,
                    430,
                    589,
                    1204,
                    1639,
                    2140,
                    3004,
                    4231,
                    5753,
                    7753,
                    9191,
                    11178,
                    13716,
                    17147,
                    19980,
                    24926,
                    28572,
                    33089,
                    39673,
                    47610,
                    56188,
                    64059,
                    72248,
                    78797,
                    85195,
                    94417,
                    102136,
                    110238,
                    117710,
                    124736,
                    130759,
                    135032,
                    140510,
                    146690,
                    152446,
                    157022,
                    161852,
                    166019,
                    169496,
                    177464,
                    181504,
                    185904,
                    190008,
                    188578,
                    191163,
                    194515,
                    197142,
                    200194,
                    202961,
                    205905,
                    207634,
                    209465,
                    210773
                  ],
                  "line": {
                    "color": "rgba(219, 64, 82, 1.0)",
                    "dash": "solid",
                    "shape": "linear",
                    "width": 1.3
                  },
                  "type": "scatter"
                }
              ],
              "config": {
                "plotlyServerURL": "https://plot.ly",
                "linkText": "Export to plot.ly",
                "showLink": true
              },
              "layout": {
                "template": {
                  "layout": {
                    "shapedefaults": {
                      "line": {
                        "color": "#2a3f5f"
                      }
                    },
                    "polar": {
                      "radialaxis": {
                        "ticks": "",
                        "gridcolor": "white",
                        "linecolor": "white"
                      },
                      "bgcolor": "#E5ECF6",
                      "angularaxis": {
                        "ticks": "",
                        "gridcolor": "white",
                        "linecolor": "white"
                      }
                    },
                    "colorway": [
                      "#636efa",
                      "#EF553B",
                      "#00cc96",
                      "#ab63fa",
                      "#FFA15A",
                      "#19d3f3",
                      "#FF6692",
                      "#B6E880",
                      "#FF97FF",
                      "#FECB52"
                    ],
                    "xaxis": {
                      "automargin": true,
                      "title": {
                        "standoff": 15
                      },
                      "zerolinewidth": 2,
                      "ticks": "",
                      "zerolinecolor": "white",
                      "gridcolor": "white",
                      "linecolor": "white"
                    },
                    "colorscale": {
                      "diverging": [
                        [
                          0,
                          "#8e0152"
                        ],
                        [
                          0.1,
                          "#c51b7d"
                        ],
                        [
                          0.2,
                          "#de77ae"
                        ],
                        [
                          0.3,
                          "#f1b6da"
                        ],
                        [
                          0.4,
                          "#fde0ef"
                        ],
                        [
                          0.5,
                          "#f7f7f7"
                        ],
                        [
                          0.6,
                          "#e6f5d0"
                        ],
                        [
                          0.7,
                          "#b8e186"
                        ],
                        [
                          0.8,
                          "#7fbc41"
                        ],
                        [
                          0.9,
                          "#4d9221"
                        ],
                        [
                          1,
                          "#276419"
                        ]
                      ],
                      "sequential": [
                        [
                          0,
                          "#0d0887"
                        ],
                        [
                          0.1111111111111111,
                          "#46039f"
                        ],
                        [
                          0.2222222222222222,
                          "#7201a8"
                        ],
                        [
                          0.3333333333333333,
                          "#9c179e"
                        ],
                        [
                          0.4444444444444444,
                          "#bd3786"
                        ],
                        [
                          0.5555555555555556,
                          "#d8576b"
                        ],
                        [
                          0.6666666666666666,
                          "#ed7953"
                        ],
                        [
                          0.7777777777777778,
                          "#fb9f3a"
                        ],
                        [
                          0.8888888888888888,
                          "#fdca26"
                        ],
                        [
                          1,
                          "#f0f921"
                        ]
                      ],
                      "sequentialminus": [
                        [
                          0,
                          "#0d0887"
                        ],
                        [
                          0.1111111111111111,
                          "#46039f"
                        ],
                        [
                          0.2222222222222222,
                          "#7201a8"
                        ],
                        [
                          0.3333333333333333,
                          "#9c179e"
                        ],
                        [
                          0.4444444444444444,
                          "#bd3786"
                        ],
                        [
                          0.5555555555555556,
                          "#d8576b"
                        ],
                        [
                          0.6666666666666666,
                          "#ed7953"
                        ],
                        [
                          0.7777777777777778,
                          "#fb9f3a"
                        ],
                        [
                          0.8888888888888888,
                          "#fdca26"
                        ],
                        [
                          1,
                          "#f0f921"
                        ]
                      ]
                    },
                    "paper_bgcolor": "white",
                    "plot_bgcolor": "#E5ECF6",
                    "title": {
                      "x": 0.05
                    },
                    "scene": {
                      "zaxis": {
                        "backgroundcolor": "#E5ECF6",
                        "ticks": "",
                        "gridwidth": 2,
                        "showbackground": true,
                        "zerolinecolor": "white",
                        "gridcolor": "white",
                        "linecolor": "white"
                      },
                      "xaxis": {
                        "backgroundcolor": "#E5ECF6",
                        "ticks": "",
                        "gridwidth": 2,
                        "showbackground": true,
                        "zerolinecolor": "white",
                        "gridcolor": "white",
                        "linecolor": "white"
                      },
                      "yaxis": {
                        "backgroundcolor": "#E5ECF6",
                        "ticks": "",
                        "gridwidth": 2,
                        "showbackground": true,
                        "zerolinecolor": "white",
                        "gridcolor": "white",
                        "linecolor": "white"
                      }
                    },
                    "yaxis": {
                      "automargin": true,
                      "title": {
                        "standoff": 15
                      },
                      "zerolinewidth": 2,
                      "ticks": "",
                      "zerolinecolor": "white",
                      "gridcolor": "white",
                      "linecolor": "white"
                    },
                    "annotationdefaults": {
                      "arrowwidth": 1,
                      "arrowhead": 0,
                      "arrowcolor": "#2a3f5f"
                    },
                    "hoverlabel": {
                      "align": "left"
                    },
                    "ternary": {
                      "bgcolor": "#E5ECF6",
                      "baxis": {
                        "ticks": "",
                        "gridcolor": "white",
                        "linecolor": "white"
                      },
                      "caxis": {
                        "ticks": "",
                        "gridcolor": "white",
                        "linecolor": "white"
                      },
                      "aaxis": {
                        "ticks": "",
                        "gridcolor": "white",
                        "linecolor": "white"
                      }
                    },
                    "mapbox": {
                      "style": "light"
                    },
                    "hovermode": "closest",
                    "font": {
                      "color": "#2a3f5f"
                    },
                    "geo": {
                      "showland": true,
                      "landcolor": "#E5ECF6",
                      "showlakes": true,
                      "bgcolor": "white",
                      "subunitcolor": "white",
                      "lakecolor": "white"
                    },
                    "coloraxis": {
                      "colorbar": {
                        "outlinewidth": 0,
                        "ticks": ""
                      }
                    }
                  },
                  "data": {
                    "mesh3d": [
                      {
                        "colorbar": {
                          "outlinewidth": 0,
                          "ticks": ""
                        },
                        "type": "mesh3d"
                      }
                    ],
                    "scattercarpet": [
                      {
                        "marker": {
                          "colorbar": {
                            "outlinewidth": 0,
                            "ticks": ""
                          }
                        },
                        "type": "scattercarpet"
                      }
                    ],
                    "pie": [
                      {
                        "automargin": true,
                        "type": "pie"
                      }
                    ],
                    "surface": [
                      {
                        "colorbar": {
                          "outlinewidth": 0,
                          "ticks": ""
                        },
                        "type": "surface",
                        "colorscale": [
                          [
                            0,
                            "#0d0887"
                          ],
                          [
                            0.1111111111111111,
                            "#46039f"
                          ],
                          [
                            0.2222222222222222,
                            "#7201a8"
                          ],
                          [
                            0.3333333333333333,
                            "#9c179e"
                          ],
                          [
                            0.4444444444444444,
                            "#bd3786"
                          ],
                          [
                            0.5555555555555556,
                            "#d8576b"
                          ],
                          [
                            0.6666666666666666,
                            "#ed7953"
                          ],
                          [
                            0.7777777777777778,
                            "#fb9f3a"
                          ],
                          [
                            0.8888888888888888,
                            "#fdca26"
                          ],
                          [
                            1,
                            "#f0f921"
                          ]
                        ]
                      }
                    ],
                    "table": [
                      {
                        "header": {
                          "line": {
                            "color": "white"
                          },
                          "fill": {
                            "color": "#C8D4E3"
                          }
                        },
                        "cells": {
                          "line": {
                            "color": "white"
                          },
                          "fill": {
                            "color": "#EBF0F8"
                          }
                        },
                        "type": "table"
                      }
                    ],
                    "scatterpolargl": [
                      {
                        "marker": {
                          "colorbar": {
                            "outlinewidth": 0,
                            "ticks": ""
                          }
                        },
                        "type": "scatterpolargl"
                      }
                    ],
                    "contour": [
                      {
                        "colorbar": {
                          "outlinewidth": 0,
                          "ticks": ""
                        },
                        "type": "contour",
                        "colorscale": [
                          [
                            0,
                            "#0d0887"
                          ],
                          [
                            0.1111111111111111,
                            "#46039f"
                          ],
                          [
                            0.2222222222222222,
                            "#7201a8"
                          ],
                          [
                            0.3333333333333333,
                            "#9c179e"
                          ],
                          [
                            0.4444444444444444,
                            "#bd3786"
                          ],
                          [
                            0.5555555555555556,
                            "#d8576b"
                          ],
                          [
                            0.6666666666666666,
                            "#ed7953"
                          ],
                          [
                            0.7777777777777778,
                            "#fb9f3a"
                          ],
                          [
                            0.8888888888888888,
                            "#fdca26"
                          ],
                          [
                            1,
                            "#f0f921"
                          ]
                        ]
                      }
                    ],
                    "carpet": [
                      {
                        "type": "carpet",
                        "baxis": {
                          "minorgridcolor": "white",
                          "gridcolor": "white",
                          "linecolor": "white",
                          "endlinecolor": "#2a3f5f",
                          "startlinecolor": "#2a3f5f"
                        },
                        "aaxis": {
                          "minorgridcolor": "white",
                          "gridcolor": "white",
                          "linecolor": "white",
                          "endlinecolor": "#2a3f5f",
                          "startlinecolor": "#2a3f5f"
                        }
                      }
                    ],
                    "contourcarpet": [
                      {
                        "colorbar": {
                          "outlinewidth": 0,
                          "ticks": ""
                        },
                        "type": "contourcarpet"
                      }
                    ],
                    "heatmap": [
                      {
                        "colorbar": {
                          "outlinewidth": 0,
                          "ticks": ""
                        },
                        "type": "heatmap",
                        "colorscale": [
                          [
                            0,
                            "#0d0887"
                          ],
                          [
                            0.1111111111111111,
                            "#46039f"
                          ],
                          [
                            0.2222222222222222,
                            "#7201a8"
                          ],
                          [
                            0.3333333333333333,
                            "#9c179e"
                          ],
                          [
                            0.4444444444444444,
                            "#bd3786"
                          ],
                          [
                            0.5555555555555556,
                            "#d8576b"
                          ],
                          [
                            0.6666666666666666,
                            "#ed7953"
                          ],
                          [
                            0.7777777777777778,
                            "#fb9f3a"
                          ],
                          [
                            0.8888888888888888,
                            "#fdca26"
                          ],
                          [
                            1,
                            "#f0f921"
                          ]
                        ]
                      }
                    ],
                    "scattermapbox": [
                      {
                        "marker": {
                          "colorbar": {
                            "outlinewidth": 0,
                            "ticks": ""
                          }
                        },
                        "type": "scattermapbox"
                      }
                    ],
                    "scatter3d": [
                      {
                        "marker": {
                          "colorbar": {
                            "outlinewidth": 0,
                            "ticks": ""
                          }
                        },
                        "line": {
                          "colorbar": {
                            "outlinewidth": 0,
                            "ticks": ""
                          }
                        },
                        "type": "scatter3d"
                      }
                    ],
                    "scattergl": [
                      {
                        "marker": {
                          "colorbar": {
                            "outlinewidth": 0,
                            "ticks": ""
                          }
                        },
                        "type": "scattergl"
                      }
                    ],
                    "scatterternary": [
                      {
                        "marker": {
                          "colorbar": {
                            "outlinewidth": 0,
                            "ticks": ""
                          }
                        },
                        "type": "scatterternary"
                      }
                    ],
                    "histogram": [
                      {
                        "marker": {
                          "colorbar": {
                            "outlinewidth": 0,
                            "ticks": ""
                          }
                        },
                        "type": "histogram"
                      }
                    ],
                    "heatmapgl": [
                      {
                        "colorbar": {
                          "outlinewidth": 0,
                          "ticks": ""
                        },
                        "type": "heatmapgl",
                        "colorscale": [
                          [
                            0,
                            "#0d0887"
                          ],
                          [
                            0.1111111111111111,
                            "#46039f"
                          ],
                          [
                            0.2222222222222222,
                            "#7201a8"
                          ],
                          [
                            0.3333333333333333,
                            "#9c179e"
                          ],
                          [
                            0.4444444444444444,
                            "#bd3786"
                          ],
                          [
                            0.5555555555555556,
                            "#d8576b"
                          ],
                          [
                            0.6666666666666666,
                            "#ed7953"
                          ],
                          [
                            0.7777777777777778,
                            "#fb9f3a"
                          ],
                          [
                            0.8888888888888888,
                            "#fdca26"
                          ],
                          [
                            1,
                            "#f0f921"
                          ]
                        ]
                      }
                    ],
                    "scatterpolar": [
                      {
                        "marker": {
                          "colorbar": {
                            "outlinewidth": 0,
                            "ticks": ""
                          }
                        },
                        "type": "scatterpolar"
                      }
                    ],
                    "histogram2d": [
                      {
                        "colorbar": {
                          "outlinewidth": 0,
                          "ticks": ""
                        },
                        "type": "histogram2d",
                        "colorscale": [
                          [
                            0,
                            "#0d0887"
                          ],
                          [
                            0.1111111111111111,
                            "#46039f"
                          ],
                          [
                            0.2222222222222222,
                            "#7201a8"
                          ],
                          [
                            0.3333333333333333,
                            "#9c179e"
                          ],
                          [
                            0.4444444444444444,
                            "#bd3786"
                          ],
                          [
                            0.5555555555555556,
                            "#d8576b"
                          ],
                          [
                            0.6666666666666666,
                            "#ed7953"
                          ],
                          [
                            0.7777777777777778,
                            "#fb9f3a"
                          ],
                          [
                            0.8888888888888888,
                            "#fdca26"
                          ],
                          [
                            1,
                            "#f0f921"
                          ]
                        ]
                      }
                    ],
                    "scattergeo": [
                      {
                        "marker": {
                          "colorbar": {
                            "outlinewidth": 0,
                            "ticks": ""
                          }
                        },
                        "type": "scattergeo"
                      }
                    ],
                    "bar": [
                      {
                        "marker": {
                          "line": {
                            "color": "#E5ECF6",
                            "width": 0.5
                          }
                        },
                        "type": "bar",
                        "error_x": {
                          "color": "#2a3f5f"
                        },
                        "error_y": {
                          "color": "#2a3f5f"
                        }
                      }
                    ],
                    "choropleth": [
                      {
                        "colorbar": {
                          "outlinewidth": 0,
                          "ticks": ""
                        },
                        "type": "choropleth"
                      }
                    ],
                    "parcoords": [
                      {
                        "line": {
                          "colorbar": {
                            "outlinewidth": 0,
                            "ticks": ""
                          }
                        },
                        "type": "parcoords"
                      }
                    ],
                    "barpolar": [
                      {
                        "marker": {
                          "line": {
                            "color": "#E5ECF6",
                            "width": 0.5
                          }
                        },
                        "type": "barpolar"
                      }
                    ],
                    "histogram2dcontour": [
                      {
                        "colorbar": {
                          "outlinewidth": 0,
                          "ticks": ""
                        },
                        "type": "histogram2dcontour",
                        "colorscale": [
                          [
                            0,
                            "#0d0887"
                          ],
                          [
                            0.1111111111111111,
                            "#46039f"
                          ],
                          [
                            0.2222222222222222,
                            "#7201a8"
                          ],
                          [
                            0.3333333333333333,
                            "#9c179e"
                          ],
                          [
                            0.4444444444444444,
                            "#bd3786"
                          ],
                          [
                            0.5555555555555556,
                            "#d8576b"
                          ],
                          [
                            0.6666666666666666,
                            "#ed7953"
                          ],
                          [
                            0.7777777777777778,
                            "#fb9f3a"
                          ],
                          [
                            0.8888888888888888,
                            "#fdca26"
                          ],
                          [
                            1,
                            "#f0f921"
                          ]
                        ]
                      }
                    ],
                    "scatter": [
                      {
                        "marker": {
                          "colorbar": {
                            "outlinewidth": 0,
                            "ticks": ""
                          }
                        },
                        "type": "scatter"
                      }
                    ]
                  }
                },
                "title": {
                  "text": "Cases/Tests in Spain",
                  "font": {
                    "color": "#4D5663"
                  }
                },
                "paper_bgcolor": "#F5F6F9",
                "plot_bgcolor": "#F5F6F9",
                "yaxis": {
                  "tickfont": {
                    "color": "#4D5663"
                  },
                  "zerolinecolor": "#E1E5ED",
                  "title": {
                    "text": "Deaths",
                    "font": {
                      "color": "#4D5663"
                    }
                  },
                  "gridcolor": "#E1E5ED",
                  "showgrid": true
                },
                "xaxis": {
                  "tickfont": {
                    "color": "#4D5663"
                  },
                  "zerolinecolor": "#E1E5ED",
                  "title": {
                    "text": "Cases",
                    "font": {
                      "color": "#4D5663"
                    }
                  },
                  "gridcolor": "#E1E5ED",
                  "showgrid": true
                },
                "legend": {
                  "bgcolor": "#F5F6F9",
                  "font": {
                    "color": "#4D5663"
                  }
                }
              }
            }
          },
          "metadata": {
            "tags": []
          }
        }
      ]
    },
    {
      "cell_type": "code",
      "metadata": {
        "colab": {
          "base_uri": "https://localhost:8080/",
          "height": 542
        },
        "id": "qJCwwoWL_j5i",
        "outputId": "c0cddb61-0f7d-43e2-f752-77d30e46be81"
      },
      "source": [
        "px.bar(spain, x = 'date', y ='total_cases', color = 'total_cases', title = 'Rise of cases over time in Spain')\n"
      ],
      "execution_count": 28,
      "outputs": [
        {
          "output_type": "display_data",
          "data": {
            "text/html": [
              "<div>\n",
              "        \n",
              "        \n",
              "            <div id=\"304e4744-f339-431b-8d56-8521579cf21e\" class=\"plotly-graph-div\" style=\"height:525px; width:100%;\"></div>\n",
              "            <script type=\"text/javascript\">\n",
              "                require([\"plotly\"], function(Plotly) {\n",
              "                    window.PLOTLYENV=window.PLOTLYENV || {};\n",
              "                    \n",
              "                if (document.getElementById(\"304e4744-f339-431b-8d56-8521579cf21e\")) {\n",
              "                    Plotly.newPlot(\n",
              "                        '304e4744-f339-431b-8d56-8521579cf21e',\n",
              "                        [{\"alignmentgroup\": \"True\", \"hoverlabel\": {\"namelength\": 0}, \"hovertemplate\": \"date=%{x}<br>total_cases=%{marker.color}\", \"legendgroup\": \"\", \"marker\": {\"color\": [0, 0, 0, 0, 0, 0, 0, 0, 0, 0, 0, 0, 0, 0, 0, 0, 0, 0, 0, 0, 0, 0, 0, 0, 0, 0, 0, 0, 0, 0, 0, 0, 1, 1, 1, 1, 1, 1, 1, 1, 1, 2, 2, 2, 2, 2, 2, 2, 2, 2, 2, 2, 2, 2, 2, 2, 3, 7, 12, 25, 34, 66, 83, 114, 151, 200, 261, 374, 430, 589, 1204, 1639, 2140, 3004, 4231, 5753, 7753, 9191, 11178, 13716, 17147, 19980, 24926, 28572, 33089, 39673, 47610, 56188, 64059, 72248, 78797, 85195, 94417, 102136, 110238, 117710, 124736, 130759, 135032, 140510, 146690, 152446, 157022, 161852, 166019, 169496, 177464, 181504, 185904, 190008, 188578, 191163, 194515, 197142, 200194, 202961, 205905, 207634, 209465, 210773], \"coloraxis\": \"coloraxis\"}, \"name\": \"\", \"offsetgroup\": \"\", \"orientation\": \"v\", \"showlegend\": false, \"textposition\": \"auto\", \"type\": \"bar\", \"x\": [\"2019-12-31\", \"2020-01-01\", \"2020-01-02\", \"2020-01-03\", \"2020-01-04\", \"2020-01-05\", \"2020-01-06\", \"2020-01-07\", \"2020-01-08\", \"2020-01-09\", \"2020-01-10\", \"2020-01-11\", \"2020-01-12\", \"2020-01-13\", \"2020-01-14\", \"2020-01-15\", \"2020-01-16\", \"2020-01-17\", \"2020-01-18\", \"2020-01-19\", \"2020-01-20\", \"2020-01-21\", \"2020-01-22\", \"2020-01-23\", \"2020-01-24\", \"2020-01-25\", \"2020-01-26\", \"2020-01-27\", \"2020-01-28\", \"2020-01-29\", \"2020-01-30\", \"2020-01-31\", \"2020-02-01\", \"2020-02-02\", \"2020-02-03\", \"2020-02-04\", \"2020-02-05\", \"2020-02-06\", \"2020-02-07\", \"2020-02-08\", \"2020-02-09\", \"2020-02-10\", \"2020-02-11\", \"2020-02-12\", \"2020-02-13\", \"2020-02-14\", \"2020-02-15\", \"2020-02-16\", \"2020-02-17\", \"2020-02-18\", \"2020-02-19\", \"2020-02-20\", \"2020-02-21\", \"2020-02-22\", \"2020-02-23\", \"2020-02-24\", \"2020-02-25\", \"2020-02-26\", \"2020-02-27\", \"2020-02-28\", \"2020-02-29\", \"2020-03-01\", \"2020-03-02\", \"2020-03-03\", \"2020-03-04\", \"2020-03-05\", \"2020-03-06\", \"2020-03-07\", \"2020-03-08\", \"2020-03-09\", \"2020-03-10\", \"2020-03-11\", \"2020-03-12\", \"2020-03-13\", \"2020-03-14\", \"2020-03-15\", \"2020-03-16\", \"2020-03-17\", \"2020-03-18\", \"2020-03-19\", \"2020-03-20\", \"2020-03-21\", \"2020-03-22\", \"2020-03-23\", \"2020-03-24\", \"2020-03-25\", \"2020-03-26\", \"2020-03-27\", \"2020-03-28\", \"2020-03-29\", \"2020-03-30\", \"2020-03-31\", \"2020-04-01\", \"2020-04-02\", \"2020-04-03\", \"2020-04-04\", \"2020-04-05\", \"2020-04-06\", \"2020-04-07\", \"2020-04-08\", \"2020-04-09\", \"2020-04-10\", \"2020-04-11\", \"2020-04-12\", \"2020-04-13\", \"2020-04-14\", \"2020-04-15\", \"2020-04-16\", \"2020-04-17\", \"2020-04-18\", \"2020-04-19\", \"2020-04-20\", \"2020-04-21\", \"2020-04-22\", \"2020-04-23\", \"2020-04-24\", \"2020-04-25\", \"2020-04-26\", \"2020-04-27\", \"2020-04-28\"], \"xaxis\": \"x\", \"y\": [0, 0, 0, 0, 0, 0, 0, 0, 0, 0, 0, 0, 0, 0, 0, 0, 0, 0, 0, 0, 0, 0, 0, 0, 0, 0, 0, 0, 0, 0, 0, 0, 1, 1, 1, 1, 1, 1, 1, 1, 1, 2, 2, 2, 2, 2, 2, 2, 2, 2, 2, 2, 2, 2, 2, 2, 3, 7, 12, 25, 34, 66, 83, 114, 151, 200, 261, 374, 430, 589, 1204, 1639, 2140, 3004, 4231, 5753, 7753, 9191, 11178, 13716, 17147, 19980, 24926, 28572, 33089, 39673, 47610, 56188, 64059, 72248, 78797, 85195, 94417, 102136, 110238, 117710, 124736, 130759, 135032, 140510, 146690, 152446, 157022, 161852, 166019, 169496, 177464, 181504, 185904, 190008, 188578, 191163, 194515, 197142, 200194, 202961, 205905, 207634, 209465, 210773], \"yaxis\": \"y\"}],\n",
              "                        {\"barmode\": \"relative\", \"coloraxis\": {\"colorbar\": {\"title\": {\"text\": \"total_cases\"}}, \"colorscale\": [[0.0, \"#0d0887\"], [0.1111111111111111, \"#46039f\"], [0.2222222222222222, \"#7201a8\"], [0.3333333333333333, \"#9c179e\"], [0.4444444444444444, \"#bd3786\"], [0.5555555555555556, \"#d8576b\"], [0.6666666666666666, \"#ed7953\"], [0.7777777777777778, \"#fb9f3a\"], [0.8888888888888888, \"#fdca26\"], [1.0, \"#f0f921\"]]}, \"legend\": {\"tracegroupgap\": 0}, \"template\": {\"data\": {\"bar\": [{\"error_x\": {\"color\": \"#2a3f5f\"}, \"error_y\": {\"color\": \"#2a3f5f\"}, \"marker\": {\"line\": {\"color\": \"#E5ECF6\", \"width\": 0.5}}, \"type\": \"bar\"}], \"barpolar\": [{\"marker\": {\"line\": {\"color\": \"#E5ECF6\", \"width\": 0.5}}, \"type\": \"barpolar\"}], \"carpet\": [{\"aaxis\": {\"endlinecolor\": \"#2a3f5f\", \"gridcolor\": \"white\", \"linecolor\": \"white\", \"minorgridcolor\": \"white\", \"startlinecolor\": \"#2a3f5f\"}, \"baxis\": {\"endlinecolor\": \"#2a3f5f\", \"gridcolor\": \"white\", \"linecolor\": \"white\", \"minorgridcolor\": \"white\", \"startlinecolor\": \"#2a3f5f\"}, \"type\": \"carpet\"}], \"choropleth\": [{\"colorbar\": {\"outlinewidth\": 0, \"ticks\": \"\"}, \"type\": \"choropleth\"}], \"contour\": [{\"colorbar\": {\"outlinewidth\": 0, \"ticks\": \"\"}, \"colorscale\": [[0.0, \"#0d0887\"], [0.1111111111111111, \"#46039f\"], [0.2222222222222222, \"#7201a8\"], [0.3333333333333333, \"#9c179e\"], [0.4444444444444444, \"#bd3786\"], [0.5555555555555556, \"#d8576b\"], [0.6666666666666666, \"#ed7953\"], [0.7777777777777778, \"#fb9f3a\"], [0.8888888888888888, \"#fdca26\"], [1.0, \"#f0f921\"]], \"type\": \"contour\"}], \"contourcarpet\": [{\"colorbar\": {\"outlinewidth\": 0, \"ticks\": \"\"}, \"type\": \"contourcarpet\"}], \"heatmap\": [{\"colorbar\": {\"outlinewidth\": 0, \"ticks\": \"\"}, \"colorscale\": [[0.0, \"#0d0887\"], [0.1111111111111111, \"#46039f\"], [0.2222222222222222, \"#7201a8\"], [0.3333333333333333, \"#9c179e\"], [0.4444444444444444, \"#bd3786\"], [0.5555555555555556, \"#d8576b\"], [0.6666666666666666, \"#ed7953\"], [0.7777777777777778, \"#fb9f3a\"], [0.8888888888888888, \"#fdca26\"], [1.0, \"#f0f921\"]], \"type\": \"heatmap\"}], \"heatmapgl\": [{\"colorbar\": {\"outlinewidth\": 0, \"ticks\": \"\"}, \"colorscale\": [[0.0, \"#0d0887\"], [0.1111111111111111, \"#46039f\"], [0.2222222222222222, \"#7201a8\"], [0.3333333333333333, \"#9c179e\"], [0.4444444444444444, \"#bd3786\"], [0.5555555555555556, \"#d8576b\"], [0.6666666666666666, \"#ed7953\"], [0.7777777777777778, \"#fb9f3a\"], [0.8888888888888888, \"#fdca26\"], [1.0, \"#f0f921\"]], \"type\": \"heatmapgl\"}], \"histogram\": [{\"marker\": {\"colorbar\": {\"outlinewidth\": 0, \"ticks\": \"\"}}, \"type\": \"histogram\"}], \"histogram2d\": [{\"colorbar\": {\"outlinewidth\": 0, \"ticks\": \"\"}, \"colorscale\": [[0.0, \"#0d0887\"], [0.1111111111111111, \"#46039f\"], [0.2222222222222222, \"#7201a8\"], [0.3333333333333333, \"#9c179e\"], [0.4444444444444444, \"#bd3786\"], [0.5555555555555556, \"#d8576b\"], [0.6666666666666666, \"#ed7953\"], [0.7777777777777778, \"#fb9f3a\"], [0.8888888888888888, \"#fdca26\"], [1.0, \"#f0f921\"]], \"type\": \"histogram2d\"}], \"histogram2dcontour\": [{\"colorbar\": {\"outlinewidth\": 0, \"ticks\": \"\"}, \"colorscale\": [[0.0, \"#0d0887\"], [0.1111111111111111, \"#46039f\"], [0.2222222222222222, \"#7201a8\"], [0.3333333333333333, \"#9c179e\"], [0.4444444444444444, \"#bd3786\"], [0.5555555555555556, \"#d8576b\"], [0.6666666666666666, \"#ed7953\"], [0.7777777777777778, \"#fb9f3a\"], [0.8888888888888888, \"#fdca26\"], [1.0, \"#f0f921\"]], \"type\": \"histogram2dcontour\"}], \"mesh3d\": [{\"colorbar\": {\"outlinewidth\": 0, \"ticks\": \"\"}, \"type\": \"mesh3d\"}], \"parcoords\": [{\"line\": {\"colorbar\": {\"outlinewidth\": 0, \"ticks\": \"\"}}, \"type\": \"parcoords\"}], \"pie\": [{\"automargin\": true, \"type\": \"pie\"}], \"scatter\": [{\"marker\": {\"colorbar\": {\"outlinewidth\": 0, \"ticks\": \"\"}}, \"type\": \"scatter\"}], \"scatter3d\": [{\"line\": {\"colorbar\": {\"outlinewidth\": 0, \"ticks\": \"\"}}, \"marker\": {\"colorbar\": {\"outlinewidth\": 0, \"ticks\": \"\"}}, \"type\": \"scatter3d\"}], \"scattercarpet\": [{\"marker\": {\"colorbar\": {\"outlinewidth\": 0, \"ticks\": \"\"}}, \"type\": \"scattercarpet\"}], \"scattergeo\": [{\"marker\": {\"colorbar\": {\"outlinewidth\": 0, \"ticks\": \"\"}}, \"type\": \"scattergeo\"}], \"scattergl\": [{\"marker\": {\"colorbar\": {\"outlinewidth\": 0, \"ticks\": \"\"}}, \"type\": \"scattergl\"}], \"scattermapbox\": [{\"marker\": {\"colorbar\": {\"outlinewidth\": 0, \"ticks\": \"\"}}, \"type\": \"scattermapbox\"}], \"scatterpolar\": [{\"marker\": {\"colorbar\": {\"outlinewidth\": 0, \"ticks\": \"\"}}, \"type\": \"scatterpolar\"}], \"scatterpolargl\": [{\"marker\": {\"colorbar\": {\"outlinewidth\": 0, \"ticks\": \"\"}}, \"type\": \"scatterpolargl\"}], \"scatterternary\": [{\"marker\": {\"colorbar\": {\"outlinewidth\": 0, \"ticks\": \"\"}}, \"type\": \"scatterternary\"}], \"surface\": [{\"colorbar\": {\"outlinewidth\": 0, \"ticks\": \"\"}, \"colorscale\": [[0.0, \"#0d0887\"], [0.1111111111111111, \"#46039f\"], [0.2222222222222222, \"#7201a8\"], [0.3333333333333333, \"#9c179e\"], [0.4444444444444444, \"#bd3786\"], [0.5555555555555556, \"#d8576b\"], [0.6666666666666666, \"#ed7953\"], [0.7777777777777778, \"#fb9f3a\"], [0.8888888888888888, \"#fdca26\"], [1.0, \"#f0f921\"]], \"type\": \"surface\"}], \"table\": [{\"cells\": {\"fill\": {\"color\": \"#EBF0F8\"}, \"line\": {\"color\": \"white\"}}, \"header\": {\"fill\": {\"color\": \"#C8D4E3\"}, \"line\": {\"color\": \"white\"}}, \"type\": \"table\"}]}, \"layout\": {\"annotationdefaults\": {\"arrowcolor\": \"#2a3f5f\", \"arrowhead\": 0, \"arrowwidth\": 1}, \"coloraxis\": {\"colorbar\": {\"outlinewidth\": 0, \"ticks\": \"\"}}, \"colorscale\": {\"diverging\": [[0, \"#8e0152\"], [0.1, \"#c51b7d\"], [0.2, \"#de77ae\"], [0.3, \"#f1b6da\"], [0.4, \"#fde0ef\"], [0.5, \"#f7f7f7\"], [0.6, \"#e6f5d0\"], [0.7, \"#b8e186\"], [0.8, \"#7fbc41\"], [0.9, \"#4d9221\"], [1, \"#276419\"]], \"sequential\": [[0.0, \"#0d0887\"], [0.1111111111111111, \"#46039f\"], [0.2222222222222222, \"#7201a8\"], [0.3333333333333333, \"#9c179e\"], [0.4444444444444444, \"#bd3786\"], [0.5555555555555556, \"#d8576b\"], [0.6666666666666666, \"#ed7953\"], [0.7777777777777778, \"#fb9f3a\"], [0.8888888888888888, \"#fdca26\"], [1.0, \"#f0f921\"]], \"sequentialminus\": [[0.0, \"#0d0887\"], [0.1111111111111111, \"#46039f\"], [0.2222222222222222, \"#7201a8\"], [0.3333333333333333, \"#9c179e\"], [0.4444444444444444, \"#bd3786\"], [0.5555555555555556, \"#d8576b\"], [0.6666666666666666, \"#ed7953\"], [0.7777777777777778, \"#fb9f3a\"], [0.8888888888888888, \"#fdca26\"], [1.0, \"#f0f921\"]]}, \"colorway\": [\"#636efa\", \"#EF553B\", \"#00cc96\", \"#ab63fa\", \"#FFA15A\", \"#19d3f3\", \"#FF6692\", \"#B6E880\", \"#FF97FF\", \"#FECB52\"], \"font\": {\"color\": \"#2a3f5f\"}, \"geo\": {\"bgcolor\": \"white\", \"lakecolor\": \"white\", \"landcolor\": \"#E5ECF6\", \"showlakes\": true, \"showland\": true, \"subunitcolor\": \"white\"}, \"hoverlabel\": {\"align\": \"left\"}, \"hovermode\": \"closest\", \"mapbox\": {\"style\": \"light\"}, \"paper_bgcolor\": \"white\", \"plot_bgcolor\": \"#E5ECF6\", \"polar\": {\"angularaxis\": {\"gridcolor\": \"white\", \"linecolor\": \"white\", \"ticks\": \"\"}, \"bgcolor\": \"#E5ECF6\", \"radialaxis\": {\"gridcolor\": \"white\", \"linecolor\": \"white\", \"ticks\": \"\"}}, \"scene\": {\"xaxis\": {\"backgroundcolor\": \"#E5ECF6\", \"gridcolor\": \"white\", \"gridwidth\": 2, \"linecolor\": \"white\", \"showbackground\": true, \"ticks\": \"\", \"zerolinecolor\": \"white\"}, \"yaxis\": {\"backgroundcolor\": \"#E5ECF6\", \"gridcolor\": \"white\", \"gridwidth\": 2, \"linecolor\": \"white\", \"showbackground\": true, \"ticks\": \"\", \"zerolinecolor\": \"white\"}, \"zaxis\": {\"backgroundcolor\": \"#E5ECF6\", \"gridcolor\": \"white\", \"gridwidth\": 2, \"linecolor\": \"white\", \"showbackground\": true, \"ticks\": \"\", \"zerolinecolor\": \"white\"}}, \"shapedefaults\": {\"line\": {\"color\": \"#2a3f5f\"}}, \"ternary\": {\"aaxis\": {\"gridcolor\": \"white\", \"linecolor\": \"white\", \"ticks\": \"\"}, \"baxis\": {\"gridcolor\": \"white\", \"linecolor\": \"white\", \"ticks\": \"\"}, \"bgcolor\": \"#E5ECF6\", \"caxis\": {\"gridcolor\": \"white\", \"linecolor\": \"white\", \"ticks\": \"\"}}, \"title\": {\"x\": 0.05}, \"xaxis\": {\"automargin\": true, \"gridcolor\": \"white\", \"linecolor\": \"white\", \"ticks\": \"\", \"title\": {\"standoff\": 15}, \"zerolinecolor\": \"white\", \"zerolinewidth\": 2}, \"yaxis\": {\"automargin\": true, \"gridcolor\": \"white\", \"linecolor\": \"white\", \"ticks\": \"\", \"title\": {\"standoff\": 15}, \"zerolinecolor\": \"white\", \"zerolinewidth\": 2}}}, \"title\": {\"text\": \"Rise of cases over time in Spain\"}, \"xaxis\": {\"anchor\": \"y\", \"domain\": [0.0, 1.0], \"title\": {\"text\": \"date\"}}, \"yaxis\": {\"anchor\": \"x\", \"domain\": [0.0, 1.0], \"title\": {\"text\": \"total_cases\"}}},\n",
              "                        {\"responsive\": true}\n",
              "                    ).then(function(){\n",
              "                            \n",
              "var gd = document.getElementById('304e4744-f339-431b-8d56-8521579cf21e');\n",
              "var x = new MutationObserver(function (mutations, observer) {{\n",
              "        var display = window.getComputedStyle(gd).display;\n",
              "        if (!display || display === 'none') {{\n",
              "            console.log([gd, 'removed!']);\n",
              "            Plotly.purge(gd);\n",
              "            observer.disconnect();\n",
              "        }}\n",
              "}});\n",
              "\n",
              "// Listen for the removal of the full notebook cells\n",
              "var notebookContainer = gd.closest('#notebook-container');\n",
              "if (notebookContainer) {{\n",
              "    x.observe(notebookContainer, {childList: true});\n",
              "}}\n",
              "\n",
              "// Listen for the clearing of the current output cell\n",
              "var outputEl = gd.closest('.output');\n",
              "if (outputEl) {{\n",
              "    x.observe(outputEl, {childList: true});\n",
              "}}\n",
              "\n",
              "                        })\n",
              "                };\n",
              "                });\n",
              "            </script>\n",
              "        </div>"
            ],
            "application/vnd.plotly.v1+json": {
              "data": [
                {
                  "textposition": "auto",
                  "hovertemplate": "date=%{x}<br>total_cases=%{marker.color}",
                  "showlegend": false,
                  "legendgroup": "",
                  "name": "",
                  "yaxis": "y",
                  "y": [
                    0,
                    0,
                    0,
                    0,
                    0,
                    0,
                    0,
                    0,
                    0,
                    0,
                    0,
                    0,
                    0,
                    0,
                    0,
                    0,
                    0,
                    0,
                    0,
                    0,
                    0,
                    0,
                    0,
                    0,
                    0,
                    0,
                    0,
                    0,
                    0,
                    0,
                    0,
                    0,
                    1,
                    1,
                    1,
                    1,
                    1,
                    1,
                    1,
                    1,
                    1,
                    2,
                    2,
                    2,
                    2,
                    2,
                    2,
                    2,
                    2,
                    2,
                    2,
                    2,
                    2,
                    2,
                    2,
                    2,
                    3,
                    7,
                    12,
                    25,
                    34,
                    66,
                    83,
                    114,
                    151,
                    200,
                    261,
                    374,
                    430,
                    589,
                    1204,
                    1639,
                    2140,
                    3004,
                    4231,
                    5753,
                    7753,
                    9191,
                    11178,
                    13716,
                    17147,
                    19980,
                    24926,
                    28572,
                    33089,
                    39673,
                    47610,
                    56188,
                    64059,
                    72248,
                    78797,
                    85195,
                    94417,
                    102136,
                    110238,
                    117710,
                    124736,
                    130759,
                    135032,
                    140510,
                    146690,
                    152446,
                    157022,
                    161852,
                    166019,
                    169496,
                    177464,
                    181504,
                    185904,
                    190008,
                    188578,
                    191163,
                    194515,
                    197142,
                    200194,
                    202961,
                    205905,
                    207634,
                    209465,
                    210773
                  ],
                  "hoverlabel": {
                    "namelength": 0
                  },
                  "offsetgroup": "",
                  "xaxis": "x",
                  "marker": {
                    "color": [
                      0,
                      0,
                      0,
                      0,
                      0,
                      0,
                      0,
                      0,
                      0,
                      0,
                      0,
                      0,
                      0,
                      0,
                      0,
                      0,
                      0,
                      0,
                      0,
                      0,
                      0,
                      0,
                      0,
                      0,
                      0,
                      0,
                      0,
                      0,
                      0,
                      0,
                      0,
                      0,
                      1,
                      1,
                      1,
                      1,
                      1,
                      1,
                      1,
                      1,
                      1,
                      2,
                      2,
                      2,
                      2,
                      2,
                      2,
                      2,
                      2,
                      2,
                      2,
                      2,
                      2,
                      2,
                      2,
                      2,
                      3,
                      7,
                      12,
                      25,
                      34,
                      66,
                      83,
                      114,
                      151,
                      200,
                      261,
                      374,
                      430,
                      589,
                      1204,
                      1639,
                      2140,
                      3004,
                      4231,
                      5753,
                      7753,
                      9191,
                      11178,
                      13716,
                      17147,
                      19980,
                      24926,
                      28572,
                      33089,
                      39673,
                      47610,
                      56188,
                      64059,
                      72248,
                      78797,
                      85195,
                      94417,
                      102136,
                      110238,
                      117710,
                      124736,
                      130759,
                      135032,
                      140510,
                      146690,
                      152446,
                      157022,
                      161852,
                      166019,
                      169496,
                      177464,
                      181504,
                      185904,
                      190008,
                      188578,
                      191163,
                      194515,
                      197142,
                      200194,
                      202961,
                      205905,
                      207634,
                      209465,
                      210773
                    ],
                    "coloraxis": "coloraxis"
                  },
                  "x": [
                    "2019-12-31",
                    "2020-01-01",
                    "2020-01-02",
                    "2020-01-03",
                    "2020-01-04",
                    "2020-01-05",
                    "2020-01-06",
                    "2020-01-07",
                    "2020-01-08",
                    "2020-01-09",
                    "2020-01-10",
                    "2020-01-11",
                    "2020-01-12",
                    "2020-01-13",
                    "2020-01-14",
                    "2020-01-15",
                    "2020-01-16",
                    "2020-01-17",
                    "2020-01-18",
                    "2020-01-19",
                    "2020-01-20",
                    "2020-01-21",
                    "2020-01-22",
                    "2020-01-23",
                    "2020-01-24",
                    "2020-01-25",
                    "2020-01-26",
                    "2020-01-27",
                    "2020-01-28",
                    "2020-01-29",
                    "2020-01-30",
                    "2020-01-31",
                    "2020-02-01",
                    "2020-02-02",
                    "2020-02-03",
                    "2020-02-04",
                    "2020-02-05",
                    "2020-02-06",
                    "2020-02-07",
                    "2020-02-08",
                    "2020-02-09",
                    "2020-02-10",
                    "2020-02-11",
                    "2020-02-12",
                    "2020-02-13",
                    "2020-02-14",
                    "2020-02-15",
                    "2020-02-16",
                    "2020-02-17",
                    "2020-02-18",
                    "2020-02-19",
                    "2020-02-20",
                    "2020-02-21",
                    "2020-02-22",
                    "2020-02-23",
                    "2020-02-24",
                    "2020-02-25",
                    "2020-02-26",
                    "2020-02-27",
                    "2020-02-28",
                    "2020-02-29",
                    "2020-03-01",
                    "2020-03-02",
                    "2020-03-03",
                    "2020-03-04",
                    "2020-03-05",
                    "2020-03-06",
                    "2020-03-07",
                    "2020-03-08",
                    "2020-03-09",
                    "2020-03-10",
                    "2020-03-11",
                    "2020-03-12",
                    "2020-03-13",
                    "2020-03-14",
                    "2020-03-15",
                    "2020-03-16",
                    "2020-03-17",
                    "2020-03-18",
                    "2020-03-19",
                    "2020-03-20",
                    "2020-03-21",
                    "2020-03-22",
                    "2020-03-23",
                    "2020-03-24",
                    "2020-03-25",
                    "2020-03-26",
                    "2020-03-27",
                    "2020-03-28",
                    "2020-03-29",
                    "2020-03-30",
                    "2020-03-31",
                    "2020-04-01",
                    "2020-04-02",
                    "2020-04-03",
                    "2020-04-04",
                    "2020-04-05",
                    "2020-04-06",
                    "2020-04-07",
                    "2020-04-08",
                    "2020-04-09",
                    "2020-04-10",
                    "2020-04-11",
                    "2020-04-12",
                    "2020-04-13",
                    "2020-04-14",
                    "2020-04-15",
                    "2020-04-16",
                    "2020-04-17",
                    "2020-04-18",
                    "2020-04-19",
                    "2020-04-20",
                    "2020-04-21",
                    "2020-04-22",
                    "2020-04-23",
                    "2020-04-24",
                    "2020-04-25",
                    "2020-04-26",
                    "2020-04-27",
                    "2020-04-28"
                  ],
                  "alignmentgroup": "True",
                  "type": "bar",
                  "orientation": "v"
                }
              ],
              "config": {
                "plotlyServerURL": "https://plot.ly"
              },
              "layout": {
                "template": {
                  "layout": {
                    "shapedefaults": {
                      "line": {
                        "color": "#2a3f5f"
                      }
                    },
                    "polar": {
                      "radialaxis": {
                        "ticks": "",
                        "gridcolor": "white",
                        "linecolor": "white"
                      },
                      "bgcolor": "#E5ECF6",
                      "angularaxis": {
                        "ticks": "",
                        "gridcolor": "white",
                        "linecolor": "white"
                      }
                    },
                    "colorway": [
                      "#636efa",
                      "#EF553B",
                      "#00cc96",
                      "#ab63fa",
                      "#FFA15A",
                      "#19d3f3",
                      "#FF6692",
                      "#B6E880",
                      "#FF97FF",
                      "#FECB52"
                    ],
                    "xaxis": {
                      "automargin": true,
                      "title": {
                        "standoff": 15
                      },
                      "zerolinewidth": 2,
                      "ticks": "",
                      "zerolinecolor": "white",
                      "gridcolor": "white",
                      "linecolor": "white"
                    },
                    "colorscale": {
                      "diverging": [
                        [
                          0,
                          "#8e0152"
                        ],
                        [
                          0.1,
                          "#c51b7d"
                        ],
                        [
                          0.2,
                          "#de77ae"
                        ],
                        [
                          0.3,
                          "#f1b6da"
                        ],
                        [
                          0.4,
                          "#fde0ef"
                        ],
                        [
                          0.5,
                          "#f7f7f7"
                        ],
                        [
                          0.6,
                          "#e6f5d0"
                        ],
                        [
                          0.7,
                          "#b8e186"
                        ],
                        [
                          0.8,
                          "#7fbc41"
                        ],
                        [
                          0.9,
                          "#4d9221"
                        ],
                        [
                          1,
                          "#276419"
                        ]
                      ],
                      "sequential": [
                        [
                          0,
                          "#0d0887"
                        ],
                        [
                          0.1111111111111111,
                          "#46039f"
                        ],
                        [
                          0.2222222222222222,
                          "#7201a8"
                        ],
                        [
                          0.3333333333333333,
                          "#9c179e"
                        ],
                        [
                          0.4444444444444444,
                          "#bd3786"
                        ],
                        [
                          0.5555555555555556,
                          "#d8576b"
                        ],
                        [
                          0.6666666666666666,
                          "#ed7953"
                        ],
                        [
                          0.7777777777777778,
                          "#fb9f3a"
                        ],
                        [
                          0.8888888888888888,
                          "#fdca26"
                        ],
                        [
                          1,
                          "#f0f921"
                        ]
                      ],
                      "sequentialminus": [
                        [
                          0,
                          "#0d0887"
                        ],
                        [
                          0.1111111111111111,
                          "#46039f"
                        ],
                        [
                          0.2222222222222222,
                          "#7201a8"
                        ],
                        [
                          0.3333333333333333,
                          "#9c179e"
                        ],
                        [
                          0.4444444444444444,
                          "#bd3786"
                        ],
                        [
                          0.5555555555555556,
                          "#d8576b"
                        ],
                        [
                          0.6666666666666666,
                          "#ed7953"
                        ],
                        [
                          0.7777777777777778,
                          "#fb9f3a"
                        ],
                        [
                          0.8888888888888888,
                          "#fdca26"
                        ],
                        [
                          1,
                          "#f0f921"
                        ]
                      ]
                    },
                    "paper_bgcolor": "white",
                    "plot_bgcolor": "#E5ECF6",
                    "title": {
                      "x": 0.05
                    },
                    "scene": {
                      "zaxis": {
                        "backgroundcolor": "#E5ECF6",
                        "ticks": "",
                        "gridwidth": 2,
                        "showbackground": true,
                        "zerolinecolor": "white",
                        "gridcolor": "white",
                        "linecolor": "white"
                      },
                      "xaxis": {
                        "backgroundcolor": "#E5ECF6",
                        "ticks": "",
                        "gridwidth": 2,
                        "showbackground": true,
                        "zerolinecolor": "white",
                        "gridcolor": "white",
                        "linecolor": "white"
                      },
                      "yaxis": {
                        "backgroundcolor": "#E5ECF6",
                        "ticks": "",
                        "gridwidth": 2,
                        "showbackground": true,
                        "zerolinecolor": "white",
                        "gridcolor": "white",
                        "linecolor": "white"
                      }
                    },
                    "yaxis": {
                      "automargin": true,
                      "title": {
                        "standoff": 15
                      },
                      "zerolinewidth": 2,
                      "ticks": "",
                      "zerolinecolor": "white",
                      "gridcolor": "white",
                      "linecolor": "white"
                    },
                    "annotationdefaults": {
                      "arrowwidth": 1,
                      "arrowhead": 0,
                      "arrowcolor": "#2a3f5f"
                    },
                    "hoverlabel": {
                      "align": "left"
                    },
                    "ternary": {
                      "bgcolor": "#E5ECF6",
                      "baxis": {
                        "ticks": "",
                        "gridcolor": "white",
                        "linecolor": "white"
                      },
                      "caxis": {
                        "ticks": "",
                        "gridcolor": "white",
                        "linecolor": "white"
                      },
                      "aaxis": {
                        "ticks": "",
                        "gridcolor": "white",
                        "linecolor": "white"
                      }
                    },
                    "mapbox": {
                      "style": "light"
                    },
                    "hovermode": "closest",
                    "font": {
                      "color": "#2a3f5f"
                    },
                    "geo": {
                      "showland": true,
                      "landcolor": "#E5ECF6",
                      "showlakes": true,
                      "bgcolor": "white",
                      "subunitcolor": "white",
                      "lakecolor": "white"
                    },
                    "coloraxis": {
                      "colorbar": {
                        "outlinewidth": 0,
                        "ticks": ""
                      }
                    }
                  },
                  "data": {
                    "mesh3d": [
                      {
                        "colorbar": {
                          "outlinewidth": 0,
                          "ticks": ""
                        },
                        "type": "mesh3d"
                      }
                    ],
                    "scattercarpet": [
                      {
                        "marker": {
                          "colorbar": {
                            "outlinewidth": 0,
                            "ticks": ""
                          }
                        },
                        "type": "scattercarpet"
                      }
                    ],
                    "pie": [
                      {
                        "automargin": true,
                        "type": "pie"
                      }
                    ],
                    "surface": [
                      {
                        "colorbar": {
                          "outlinewidth": 0,
                          "ticks": ""
                        },
                        "type": "surface",
                        "colorscale": [
                          [
                            0,
                            "#0d0887"
                          ],
                          [
                            0.1111111111111111,
                            "#46039f"
                          ],
                          [
                            0.2222222222222222,
                            "#7201a8"
                          ],
                          [
                            0.3333333333333333,
                            "#9c179e"
                          ],
                          [
                            0.4444444444444444,
                            "#bd3786"
                          ],
                          [
                            0.5555555555555556,
                            "#d8576b"
                          ],
                          [
                            0.6666666666666666,
                            "#ed7953"
                          ],
                          [
                            0.7777777777777778,
                            "#fb9f3a"
                          ],
                          [
                            0.8888888888888888,
                            "#fdca26"
                          ],
                          [
                            1,
                            "#f0f921"
                          ]
                        ]
                      }
                    ],
                    "table": [
                      {
                        "header": {
                          "line": {
                            "color": "white"
                          },
                          "fill": {
                            "color": "#C8D4E3"
                          }
                        },
                        "cells": {
                          "line": {
                            "color": "white"
                          },
                          "fill": {
                            "color": "#EBF0F8"
                          }
                        },
                        "type": "table"
                      }
                    ],
                    "scatterpolargl": [
                      {
                        "marker": {
                          "colorbar": {
                            "outlinewidth": 0,
                            "ticks": ""
                          }
                        },
                        "type": "scatterpolargl"
                      }
                    ],
                    "contour": [
                      {
                        "colorbar": {
                          "outlinewidth": 0,
                          "ticks": ""
                        },
                        "type": "contour",
                        "colorscale": [
                          [
                            0,
                            "#0d0887"
                          ],
                          [
                            0.1111111111111111,
                            "#46039f"
                          ],
                          [
                            0.2222222222222222,
                            "#7201a8"
                          ],
                          [
                            0.3333333333333333,
                            "#9c179e"
                          ],
                          [
                            0.4444444444444444,
                            "#bd3786"
                          ],
                          [
                            0.5555555555555556,
                            "#d8576b"
                          ],
                          [
                            0.6666666666666666,
                            "#ed7953"
                          ],
                          [
                            0.7777777777777778,
                            "#fb9f3a"
                          ],
                          [
                            0.8888888888888888,
                            "#fdca26"
                          ],
                          [
                            1,
                            "#f0f921"
                          ]
                        ]
                      }
                    ],
                    "carpet": [
                      {
                        "type": "carpet",
                        "baxis": {
                          "minorgridcolor": "white",
                          "gridcolor": "white",
                          "linecolor": "white",
                          "endlinecolor": "#2a3f5f",
                          "startlinecolor": "#2a3f5f"
                        },
                        "aaxis": {
                          "minorgridcolor": "white",
                          "gridcolor": "white",
                          "linecolor": "white",
                          "endlinecolor": "#2a3f5f",
                          "startlinecolor": "#2a3f5f"
                        }
                      }
                    ],
                    "contourcarpet": [
                      {
                        "colorbar": {
                          "outlinewidth": 0,
                          "ticks": ""
                        },
                        "type": "contourcarpet"
                      }
                    ],
                    "heatmap": [
                      {
                        "colorbar": {
                          "outlinewidth": 0,
                          "ticks": ""
                        },
                        "type": "heatmap",
                        "colorscale": [
                          [
                            0,
                            "#0d0887"
                          ],
                          [
                            0.1111111111111111,
                            "#46039f"
                          ],
                          [
                            0.2222222222222222,
                            "#7201a8"
                          ],
                          [
                            0.3333333333333333,
                            "#9c179e"
                          ],
                          [
                            0.4444444444444444,
                            "#bd3786"
                          ],
                          [
                            0.5555555555555556,
                            "#d8576b"
                          ],
                          [
                            0.6666666666666666,
                            "#ed7953"
                          ],
                          [
                            0.7777777777777778,
                            "#fb9f3a"
                          ],
                          [
                            0.8888888888888888,
                            "#fdca26"
                          ],
                          [
                            1,
                            "#f0f921"
                          ]
                        ]
                      }
                    ],
                    "scattermapbox": [
                      {
                        "marker": {
                          "colorbar": {
                            "outlinewidth": 0,
                            "ticks": ""
                          }
                        },
                        "type": "scattermapbox"
                      }
                    ],
                    "scatter3d": [
                      {
                        "marker": {
                          "colorbar": {
                            "outlinewidth": 0,
                            "ticks": ""
                          }
                        },
                        "line": {
                          "colorbar": {
                            "outlinewidth": 0,
                            "ticks": ""
                          }
                        },
                        "type": "scatter3d"
                      }
                    ],
                    "scattergl": [
                      {
                        "marker": {
                          "colorbar": {
                            "outlinewidth": 0,
                            "ticks": ""
                          }
                        },
                        "type": "scattergl"
                      }
                    ],
                    "scatterternary": [
                      {
                        "marker": {
                          "colorbar": {
                            "outlinewidth": 0,
                            "ticks": ""
                          }
                        },
                        "type": "scatterternary"
                      }
                    ],
                    "histogram": [
                      {
                        "marker": {
                          "colorbar": {
                            "outlinewidth": 0,
                            "ticks": ""
                          }
                        },
                        "type": "histogram"
                      }
                    ],
                    "heatmapgl": [
                      {
                        "colorbar": {
                          "outlinewidth": 0,
                          "ticks": ""
                        },
                        "type": "heatmapgl",
                        "colorscale": [
                          [
                            0,
                            "#0d0887"
                          ],
                          [
                            0.1111111111111111,
                            "#46039f"
                          ],
                          [
                            0.2222222222222222,
                            "#7201a8"
                          ],
                          [
                            0.3333333333333333,
                            "#9c179e"
                          ],
                          [
                            0.4444444444444444,
                            "#bd3786"
                          ],
                          [
                            0.5555555555555556,
                            "#d8576b"
                          ],
                          [
                            0.6666666666666666,
                            "#ed7953"
                          ],
                          [
                            0.7777777777777778,
                            "#fb9f3a"
                          ],
                          [
                            0.8888888888888888,
                            "#fdca26"
                          ],
                          [
                            1,
                            "#f0f921"
                          ]
                        ]
                      }
                    ],
                    "scatterpolar": [
                      {
                        "marker": {
                          "colorbar": {
                            "outlinewidth": 0,
                            "ticks": ""
                          }
                        },
                        "type": "scatterpolar"
                      }
                    ],
                    "histogram2d": [
                      {
                        "colorbar": {
                          "outlinewidth": 0,
                          "ticks": ""
                        },
                        "type": "histogram2d",
                        "colorscale": [
                          [
                            0,
                            "#0d0887"
                          ],
                          [
                            0.1111111111111111,
                            "#46039f"
                          ],
                          [
                            0.2222222222222222,
                            "#7201a8"
                          ],
                          [
                            0.3333333333333333,
                            "#9c179e"
                          ],
                          [
                            0.4444444444444444,
                            "#bd3786"
                          ],
                          [
                            0.5555555555555556,
                            "#d8576b"
                          ],
                          [
                            0.6666666666666666,
                            "#ed7953"
                          ],
                          [
                            0.7777777777777778,
                            "#fb9f3a"
                          ],
                          [
                            0.8888888888888888,
                            "#fdca26"
                          ],
                          [
                            1,
                            "#f0f921"
                          ]
                        ]
                      }
                    ],
                    "scattergeo": [
                      {
                        "marker": {
                          "colorbar": {
                            "outlinewidth": 0,
                            "ticks": ""
                          }
                        },
                        "type": "scattergeo"
                      }
                    ],
                    "bar": [
                      {
                        "marker": {
                          "line": {
                            "color": "#E5ECF6",
                            "width": 0.5
                          }
                        },
                        "type": "bar",
                        "error_x": {
                          "color": "#2a3f5f"
                        },
                        "error_y": {
                          "color": "#2a3f5f"
                        }
                      }
                    ],
                    "choropleth": [
                      {
                        "colorbar": {
                          "outlinewidth": 0,
                          "ticks": ""
                        },
                        "type": "choropleth"
                      }
                    ],
                    "parcoords": [
                      {
                        "line": {
                          "colorbar": {
                            "outlinewidth": 0,
                            "ticks": ""
                          }
                        },
                        "type": "parcoords"
                      }
                    ],
                    "barpolar": [
                      {
                        "marker": {
                          "line": {
                            "color": "#E5ECF6",
                            "width": 0.5
                          }
                        },
                        "type": "barpolar"
                      }
                    ],
                    "histogram2dcontour": [
                      {
                        "colorbar": {
                          "outlinewidth": 0,
                          "ticks": ""
                        },
                        "type": "histogram2dcontour",
                        "colorscale": [
                          [
                            0,
                            "#0d0887"
                          ],
                          [
                            0.1111111111111111,
                            "#46039f"
                          ],
                          [
                            0.2222222222222222,
                            "#7201a8"
                          ],
                          [
                            0.3333333333333333,
                            "#9c179e"
                          ],
                          [
                            0.4444444444444444,
                            "#bd3786"
                          ],
                          [
                            0.5555555555555556,
                            "#d8576b"
                          ],
                          [
                            0.6666666666666666,
                            "#ed7953"
                          ],
                          [
                            0.7777777777777778,
                            "#fb9f3a"
                          ],
                          [
                            0.8888888888888888,
                            "#fdca26"
                          ],
                          [
                            1,
                            "#f0f921"
                          ]
                        ]
                      }
                    ],
                    "scatter": [
                      {
                        "marker": {
                          "colorbar": {
                            "outlinewidth": 0,
                            "ticks": ""
                          }
                        },
                        "type": "scatter"
                      }
                    ]
                  }
                },
                "title": {
                  "text": "Rise of cases over time in Spain"
                },
                "yaxis": {
                  "domain": [
                    0,
                    1
                  ],
                  "anchor": "x",
                  "title": {
                    "text": "total_cases"
                  }
                },
                "barmode": "relative",
                "xaxis": {
                  "domain": [
                    0,
                    1
                  ],
                  "anchor": "y",
                  "title": {
                    "text": "date"
                  }
                },
                "legend": {
                  "tracegroupgap": 0
                },
                "coloraxis": {
                  "colorbar": {
                    "title": {
                      "text": "total_cases"
                    }
                  },
                  "colorscale": [
                    [
                      0,
                      "#0d0887"
                    ],
                    [
                      0.1111111111111111,
                      "#46039f"
                    ],
                    [
                      0.2222222222222222,
                      "#7201a8"
                    ],
                    [
                      0.3333333333333333,
                      "#9c179e"
                    ],
                    [
                      0.4444444444444444,
                      "#bd3786"
                    ],
                    [
                      0.5555555555555556,
                      "#d8576b"
                    ],
                    [
                      0.6666666666666666,
                      "#ed7953"
                    ],
                    [
                      0.7777777777777778,
                      "#fb9f3a"
                    ],
                    [
                      0.8888888888888888,
                      "#fdca26"
                    ],
                    [
                      1,
                      "#f0f921"
                    ]
                  ]
                }
              }
            }
          },
          "metadata": {
            "tags": []
          }
        }
      ]
    },
    {
      "cell_type": "markdown",
      "metadata": {
        "id": "RYxZ0EOB_j5i"
      },
      "source": [
        "## Worldwide analysis"
      ]
    },
    {
      "cell_type": "code",
      "metadata": {
        "colab": {
          "base_uri": "https://localhost:8080/",
          "height": 309
        },
        "id": "pTPmyCWJ_j5j",
        "outputId": "c8577697-53c4-4a41-90f9-3ac96cd130dc"
      },
      "source": [
        "df.head()"
      ],
      "execution_count": 29,
      "outputs": [
        {
          "output_type": "execute_result",
          "data": {
            "text/html": [
              "<div>\n",
              "<style scoped>\n",
              "    .dataframe tbody tr th:only-of-type {\n",
              "        vertical-align: middle;\n",
              "    }\n",
              "\n",
              "    .dataframe tbody tr th {\n",
              "        vertical-align: top;\n",
              "    }\n",
              "\n",
              "    .dataframe thead th {\n",
              "        text-align: right;\n",
              "    }\n",
              "</style>\n",
              "<table border=\"1\" class=\"dataframe\">\n",
              "  <thead>\n",
              "    <tr style=\"text-align: right;\">\n",
              "      <th></th>\n",
              "      <th>iso_code</th>\n",
              "      <th>location</th>\n",
              "      <th>date</th>\n",
              "      <th>total_cases</th>\n",
              "      <th>new_cases</th>\n",
              "      <th>total_deaths</th>\n",
              "      <th>new_deaths</th>\n",
              "      <th>total_cases_per_million</th>\n",
              "      <th>new_cases_per_million</th>\n",
              "      <th>total_deaths_per_million</th>\n",
              "      <th>new_deaths_per_million</th>\n",
              "      <th>total_tests</th>\n",
              "      <th>new_tests</th>\n",
              "      <th>total_tests_per_thousand</th>\n",
              "      <th>new_tests_per_thousand</th>\n",
              "      <th>tests_units</th>\n",
              "    </tr>\n",
              "  </thead>\n",
              "  <tbody>\n",
              "    <tr>\n",
              "      <th>0</th>\n",
              "      <td>ABW</td>\n",
              "      <td>Aruba</td>\n",
              "      <td>2020-03-13</td>\n",
              "      <td>2</td>\n",
              "      <td>2</td>\n",
              "      <td>0</td>\n",
              "      <td>0</td>\n",
              "      <td>18.733</td>\n",
              "      <td>18.733</td>\n",
              "      <td>0.0</td>\n",
              "      <td>0.0</td>\n",
              "      <td>0.0</td>\n",
              "      <td>0.0</td>\n",
              "      <td>0.0</td>\n",
              "      <td>0.0</td>\n",
              "      <td>0</td>\n",
              "    </tr>\n",
              "    <tr>\n",
              "      <th>1</th>\n",
              "      <td>ABW</td>\n",
              "      <td>Aruba</td>\n",
              "      <td>2020-03-20</td>\n",
              "      <td>4</td>\n",
              "      <td>2</td>\n",
              "      <td>0</td>\n",
              "      <td>0</td>\n",
              "      <td>37.465</td>\n",
              "      <td>18.733</td>\n",
              "      <td>0.0</td>\n",
              "      <td>0.0</td>\n",
              "      <td>0.0</td>\n",
              "      <td>0.0</td>\n",
              "      <td>0.0</td>\n",
              "      <td>0.0</td>\n",
              "      <td>0</td>\n",
              "    </tr>\n",
              "    <tr>\n",
              "      <th>2</th>\n",
              "      <td>ABW</td>\n",
              "      <td>Aruba</td>\n",
              "      <td>2020-03-24</td>\n",
              "      <td>12</td>\n",
              "      <td>8</td>\n",
              "      <td>0</td>\n",
              "      <td>0</td>\n",
              "      <td>112.395</td>\n",
              "      <td>74.930</td>\n",
              "      <td>0.0</td>\n",
              "      <td>0.0</td>\n",
              "      <td>0.0</td>\n",
              "      <td>0.0</td>\n",
              "      <td>0.0</td>\n",
              "      <td>0.0</td>\n",
              "      <td>0</td>\n",
              "    </tr>\n",
              "    <tr>\n",
              "      <th>3</th>\n",
              "      <td>ABW</td>\n",
              "      <td>Aruba</td>\n",
              "      <td>2020-03-25</td>\n",
              "      <td>17</td>\n",
              "      <td>5</td>\n",
              "      <td>0</td>\n",
              "      <td>0</td>\n",
              "      <td>159.227</td>\n",
              "      <td>46.831</td>\n",
              "      <td>0.0</td>\n",
              "      <td>0.0</td>\n",
              "      <td>0.0</td>\n",
              "      <td>0.0</td>\n",
              "      <td>0.0</td>\n",
              "      <td>0.0</td>\n",
              "      <td>0</td>\n",
              "    </tr>\n",
              "    <tr>\n",
              "      <th>4</th>\n",
              "      <td>ABW</td>\n",
              "      <td>Aruba</td>\n",
              "      <td>2020-03-26</td>\n",
              "      <td>19</td>\n",
              "      <td>2</td>\n",
              "      <td>0</td>\n",
              "      <td>0</td>\n",
              "      <td>177.959</td>\n",
              "      <td>18.733</td>\n",
              "      <td>0.0</td>\n",
              "      <td>0.0</td>\n",
              "      <td>0.0</td>\n",
              "      <td>0.0</td>\n",
              "      <td>0.0</td>\n",
              "      <td>0.0</td>\n",
              "      <td>0</td>\n",
              "    </tr>\n",
              "  </tbody>\n",
              "</table>\n",
              "</div>"
            ],
            "text/plain": [
              "  iso_code location  ... new_tests_per_thousand  tests_units\n",
              "0      ABW    Aruba  ...                    0.0            0\n",
              "1      ABW    Aruba  ...                    0.0            0\n",
              "2      ABW    Aruba  ...                    0.0            0\n",
              "3      ABW    Aruba  ...                    0.0            0\n",
              "4      ABW    Aruba  ...                    0.0            0\n",
              "\n",
              "[5 rows x 16 columns]"
            ]
          },
          "metadata": {
            "tags": []
          },
          "execution_count": 29
        }
      ]
    },
    {
      "cell_type": "code",
      "metadata": {
        "id": "RasMNzuz_j5j"
      },
      "source": [
        "cases = df.groupby('date')['total_cases'].sum().to_frame().reset_index()"
      ],
      "execution_count": 30,
      "outputs": []
    },
    {
      "cell_type": "code",
      "metadata": {
        "id": "OMGJ9U61_j5j"
      },
      "source": [
        "deaths = df.groupby('date')['total_deaths'].sum().to_frame().reset_index()"
      ],
      "execution_count": 31,
      "outputs": []
    },
    {
      "cell_type": "code",
      "metadata": {
        "colab": {
          "base_uri": "https://localhost:8080/",
          "height": 542
        },
        "id": "m-14JmDr_j5j",
        "outputId": "8e558c18-340b-4280-a772-6aa16f863fef"
      },
      "source": [
        "fig = go.Figure()\n",
        "fig.update_layout(title = 'Worlwide deaths and cases')\n",
        "fig.add_trace(go.Scatter(x = cases['date'], y = cases['total_cases'], name = 'Cases', mode = 'lines+markers', line = dict(color = 'blue')))\n",
        "fig.add_trace(go.Scatter(x = deaths['date'], y = deaths['total_deaths'], name = 'Deaths', mode = 'lines+markers', line = dict(color = 'red')))"
      ],
      "execution_count": 32,
      "outputs": [
        {
          "output_type": "display_data",
          "data": {
            "text/html": [
              "<div>\n",
              "        \n",
              "        \n",
              "            <div id=\"9af048a6-46a4-46b5-a97c-e49132d8cf98\" class=\"plotly-graph-div\" style=\"height:525px; width:100%;\"></div>\n",
              "            <script type=\"text/javascript\">\n",
              "                require([\"plotly\"], function(Plotly) {\n",
              "                    window.PLOTLYENV=window.PLOTLYENV || {};\n",
              "                    \n",
              "                if (document.getElementById(\"9af048a6-46a4-46b5-a97c-e49132d8cf98\")) {\n",
              "                    Plotly.newPlot(\n",
              "                        '9af048a6-46a4-46b5-a97c-e49132d8cf98',\n",
              "                        [{\"line\": {\"color\": \"blue\"}, \"mode\": \"lines+markers\", \"name\": \"Cases\", \"type\": \"scatter\", \"x\": [\"2019-12-31\", \"2020-01-01\", \"2020-01-02\", \"2020-01-03\", \"2020-01-04\", \"2020-01-05\", \"2020-01-06\", \"2020-01-07\", \"2020-01-08\", \"2020-01-09\", \"2020-01-10\", \"2020-01-11\", \"2020-01-12\", \"2020-01-13\", \"2020-01-14\", \"2020-01-15\", \"2020-01-16\", \"2020-01-17\", \"2020-01-18\", \"2020-01-19\", \"2020-01-20\", \"2020-01-21\", \"2020-01-22\", \"2020-01-23\", \"2020-01-24\", \"2020-01-25\", \"2020-01-26\", \"2020-01-27\", \"2020-01-28\", \"2020-01-29\", \"2020-01-30\", \"2020-01-31\", \"2020-02-01\", \"2020-02-02\", \"2020-02-03\", \"2020-02-04\", \"2020-02-05\", \"2020-02-06\", \"2020-02-07\", \"2020-02-08\", \"2020-02-09\", \"2020-02-10\", \"2020-02-11\", \"2020-02-12\", \"2020-02-13\", \"2020-02-14\", \"2020-02-15\", \"2020-02-16\", \"2020-02-17\", \"2020-02-18\", \"2020-02-19\", \"2020-02-20\", \"2020-02-21\", \"2020-02-22\", \"2020-02-23\", \"2020-02-24\", \"2020-02-25\", \"2020-02-26\", \"2020-02-27\", \"2020-02-28\", \"2020-02-29\", \"2020-03-01\", \"2020-03-02\", \"2020-03-03\", \"2020-03-04\", \"2020-03-05\", \"2020-03-06\", \"2020-03-07\", \"2020-03-08\", \"2020-03-09\", \"2020-03-10\", \"2020-03-11\", \"2020-03-12\", \"2020-03-13\", \"2020-03-14\", \"2020-03-15\", \"2020-03-16\", \"2020-03-17\", \"2020-03-18\", \"2020-03-19\", \"2020-03-20\", \"2020-03-21\", \"2020-03-22\", \"2020-03-23\", \"2020-03-24\", \"2020-03-25\", \"2020-03-26\", \"2020-03-27\", \"2020-03-28\", \"2020-03-29\", \"2020-03-30\", \"2020-03-31\", \"2020-04-01\", \"2020-04-02\", \"2020-04-03\", \"2020-04-04\", \"2020-04-05\", \"2020-04-06\", \"2020-04-07\", \"2020-04-08\", \"2020-04-09\", \"2020-04-10\", \"2020-04-11\", \"2020-04-12\", \"2020-04-13\", \"2020-04-14\", \"2020-04-15\", \"2020-04-16\", \"2020-04-17\", \"2020-04-18\", \"2020-04-19\", \"2020-04-20\", \"2020-04-21\", \"2020-04-22\", \"2020-04-23\", \"2020-04-24\", \"2020-04-25\", \"2020-04-26\", \"2020-04-27\", \"2020-04-28\", \"2020-04-29\"], \"y\": [54, 54, 54, 88, 88, 118, 118, 118, 118, 118, 118, 118, 118, 120, 120, 122, 122, 132, 166, 438, 478, 784, 1068, 1262, 1794, 2700, 4046, 5640, 9174, 12134, 15646, 19652, 23892, 29108, 34744, 41230, 49044, 56546, 62982, 69866, 75104, 81080, 86210, 90354, 120656, 129086, 134206, 138530, 142664, 146654, 150382, 151446, 153438, 155608, 157624, 158678, 160264, 161990, 164202, 166730, 170406, 174052, 178136, 180792, 185253, 189702, 195526, 203340, 210706, 218432, 228095, 236402, 250119, 266512, 285591, 308745, 334104, 359472, 388982, 425594, 484048, 541527, 609765, 675765, 755238, 833059, 935488, 1054982, 1182896, 1312972, 1430058, 1553586, 1702473, 1856286, 2011430, 2174948, 2347761, 2490506, 2633280, 2783066, 2952888, 3126942, 3305624, 3469040, 3613816, 3746582, 3906876, 4066794, 4233898, 4398224, 4556272, 4701290, 4854010, 5026102, 5158950, 5315124, 5460790, 5664246, 5831316, 5962158, 5893271]}, {\"line\": {\"color\": \"red\"}, \"mode\": \"lines+markers\", \"name\": \"Deaths\", \"type\": \"scatter\", \"x\": [\"2019-12-31\", \"2020-01-01\", \"2020-01-02\", \"2020-01-03\", \"2020-01-04\", \"2020-01-05\", \"2020-01-06\", \"2020-01-07\", \"2020-01-08\", \"2020-01-09\", \"2020-01-10\", \"2020-01-11\", \"2020-01-12\", \"2020-01-13\", \"2020-01-14\", \"2020-01-15\", \"2020-01-16\", \"2020-01-17\", \"2020-01-18\", \"2020-01-19\", \"2020-01-20\", \"2020-01-21\", \"2020-01-22\", \"2020-01-23\", \"2020-01-24\", \"2020-01-25\", \"2020-01-26\", \"2020-01-27\", \"2020-01-28\", \"2020-01-29\", \"2020-01-30\", \"2020-01-31\", \"2020-02-01\", \"2020-02-02\", \"2020-02-03\", \"2020-02-04\", \"2020-02-05\", \"2020-02-06\", \"2020-02-07\", \"2020-02-08\", \"2020-02-09\", \"2020-02-10\", \"2020-02-11\", \"2020-02-12\", \"2020-02-13\", \"2020-02-14\", \"2020-02-15\", \"2020-02-16\", \"2020-02-17\", \"2020-02-18\", \"2020-02-19\", \"2020-02-20\", \"2020-02-21\", \"2020-02-22\", \"2020-02-23\", \"2020-02-24\", \"2020-02-25\", \"2020-02-26\", \"2020-02-27\", \"2020-02-28\", \"2020-02-29\", \"2020-03-01\", \"2020-03-02\", \"2020-03-03\", \"2020-03-04\", \"2020-03-05\", \"2020-03-06\", \"2020-03-07\", \"2020-03-08\", \"2020-03-09\", \"2020-03-10\", \"2020-03-11\", \"2020-03-12\", \"2020-03-13\", \"2020-03-14\", \"2020-03-15\", \"2020-03-16\", \"2020-03-17\", \"2020-03-18\", \"2020-03-19\", \"2020-03-20\", \"2020-03-21\", \"2020-03-22\", \"2020-03-23\", \"2020-03-24\", \"2020-03-25\", \"2020-03-26\", \"2020-03-27\", \"2020-03-28\", \"2020-03-29\", \"2020-03-30\", \"2020-03-31\", \"2020-04-01\", \"2020-04-02\", \"2020-04-03\", \"2020-04-04\", \"2020-04-05\", \"2020-04-06\", \"2020-04-07\", \"2020-04-08\", \"2020-04-09\", \"2020-04-10\", \"2020-04-11\", \"2020-04-12\", \"2020-04-13\", \"2020-04-14\", \"2020-04-15\", \"2020-04-16\", \"2020-04-17\", \"2020-04-18\", \"2020-04-19\", \"2020-04-20\", \"2020-04-21\", \"2020-04-22\", \"2020-04-23\", \"2020-04-24\", \"2020-04-25\", \"2020-04-26\", \"2020-04-27\", \"2020-04-28\", \"2020-04-29\"], \"y\": [0, 0, 0, 0, 0, 0, 0, 0, 0, 0, 0, 2, 2, 2, 2, 4, 4, 4, 4, 6, 6, 12, 34, 34, 52, 82, 112, 162, 212, 264, 340, 426, 518, 610, 724, 854, 986, 1130, 1276, 1448, 1626, 1820, 2036, 2230, 2740, 2766, 3054, 3338, 3550, 3746, 4024, 4256, 4494, 4718, 4926, 5238, 5396, 5524, 5600, 5714, 5842, 5958, 6092, 6227, 6396, 6556, 6762, 6968, 7163, 7621, 8037, 8577, 9228, 9929, 10804, 11513, 13005, 14197, 15775, 17677, 19759, 22491, 25891, 29199, 32719, 37123, 41979, 47341, 53979, 60897, 67145, 74544, 83801, 93761, 103147, 116353, 128538, 137849, 148123, 162945, 175625, 190071, 204169, 216377, 227011, 237699, 252375, 273253, 290335, 307295, 319827, 330095, 340547, 354427, 366481, 381191, 391529, 403967, 411805, 421643, 409297]}],\n",
              "                        {\"template\": {\"data\": {\"bar\": [{\"error_x\": {\"color\": \"#2a3f5f\"}, \"error_y\": {\"color\": \"#2a3f5f\"}, \"marker\": {\"line\": {\"color\": \"#E5ECF6\", \"width\": 0.5}}, \"type\": \"bar\"}], \"barpolar\": [{\"marker\": {\"line\": {\"color\": \"#E5ECF6\", \"width\": 0.5}}, \"type\": \"barpolar\"}], \"carpet\": [{\"aaxis\": {\"endlinecolor\": \"#2a3f5f\", \"gridcolor\": \"white\", \"linecolor\": \"white\", \"minorgridcolor\": \"white\", \"startlinecolor\": \"#2a3f5f\"}, \"baxis\": {\"endlinecolor\": \"#2a3f5f\", \"gridcolor\": \"white\", \"linecolor\": \"white\", \"minorgridcolor\": \"white\", \"startlinecolor\": \"#2a3f5f\"}, \"type\": \"carpet\"}], \"choropleth\": [{\"colorbar\": {\"outlinewidth\": 0, \"ticks\": \"\"}, \"type\": \"choropleth\"}], \"contour\": [{\"colorbar\": {\"outlinewidth\": 0, \"ticks\": \"\"}, \"colorscale\": [[0.0, \"#0d0887\"], [0.1111111111111111, \"#46039f\"], [0.2222222222222222, \"#7201a8\"], [0.3333333333333333, \"#9c179e\"], [0.4444444444444444, \"#bd3786\"], [0.5555555555555556, \"#d8576b\"], [0.6666666666666666, \"#ed7953\"], [0.7777777777777778, \"#fb9f3a\"], [0.8888888888888888, \"#fdca26\"], [1.0, \"#f0f921\"]], \"type\": \"contour\"}], \"contourcarpet\": [{\"colorbar\": {\"outlinewidth\": 0, \"ticks\": \"\"}, \"type\": \"contourcarpet\"}], \"heatmap\": [{\"colorbar\": {\"outlinewidth\": 0, \"ticks\": \"\"}, \"colorscale\": [[0.0, \"#0d0887\"], [0.1111111111111111, \"#46039f\"], [0.2222222222222222, \"#7201a8\"], [0.3333333333333333, \"#9c179e\"], [0.4444444444444444, \"#bd3786\"], [0.5555555555555556, \"#d8576b\"], [0.6666666666666666, \"#ed7953\"], [0.7777777777777778, \"#fb9f3a\"], [0.8888888888888888, \"#fdca26\"], [1.0, \"#f0f921\"]], \"type\": \"heatmap\"}], \"heatmapgl\": [{\"colorbar\": {\"outlinewidth\": 0, \"ticks\": \"\"}, \"colorscale\": [[0.0, \"#0d0887\"], [0.1111111111111111, \"#46039f\"], [0.2222222222222222, \"#7201a8\"], [0.3333333333333333, \"#9c179e\"], [0.4444444444444444, \"#bd3786\"], [0.5555555555555556, \"#d8576b\"], [0.6666666666666666, \"#ed7953\"], [0.7777777777777778, \"#fb9f3a\"], [0.8888888888888888, \"#fdca26\"], [1.0, \"#f0f921\"]], \"type\": \"heatmapgl\"}], \"histogram\": [{\"marker\": {\"colorbar\": {\"outlinewidth\": 0, \"ticks\": \"\"}}, \"type\": \"histogram\"}], \"histogram2d\": [{\"colorbar\": {\"outlinewidth\": 0, \"ticks\": \"\"}, \"colorscale\": [[0.0, \"#0d0887\"], [0.1111111111111111, \"#46039f\"], [0.2222222222222222, \"#7201a8\"], [0.3333333333333333, \"#9c179e\"], [0.4444444444444444, \"#bd3786\"], [0.5555555555555556, \"#d8576b\"], [0.6666666666666666, \"#ed7953\"], [0.7777777777777778, \"#fb9f3a\"], [0.8888888888888888, \"#fdca26\"], [1.0, \"#f0f921\"]], \"type\": \"histogram2d\"}], \"histogram2dcontour\": [{\"colorbar\": {\"outlinewidth\": 0, \"ticks\": \"\"}, \"colorscale\": [[0.0, \"#0d0887\"], [0.1111111111111111, \"#46039f\"], [0.2222222222222222, \"#7201a8\"], [0.3333333333333333, \"#9c179e\"], [0.4444444444444444, \"#bd3786\"], [0.5555555555555556, \"#d8576b\"], [0.6666666666666666, \"#ed7953\"], [0.7777777777777778, \"#fb9f3a\"], [0.8888888888888888, \"#fdca26\"], [1.0, \"#f0f921\"]], \"type\": \"histogram2dcontour\"}], \"mesh3d\": [{\"colorbar\": {\"outlinewidth\": 0, \"ticks\": \"\"}, \"type\": \"mesh3d\"}], \"parcoords\": [{\"line\": {\"colorbar\": {\"outlinewidth\": 0, \"ticks\": \"\"}}, \"type\": \"parcoords\"}], \"pie\": [{\"automargin\": true, \"type\": \"pie\"}], \"scatter\": [{\"marker\": {\"colorbar\": {\"outlinewidth\": 0, \"ticks\": \"\"}}, \"type\": \"scatter\"}], \"scatter3d\": [{\"line\": {\"colorbar\": {\"outlinewidth\": 0, \"ticks\": \"\"}}, \"marker\": {\"colorbar\": {\"outlinewidth\": 0, \"ticks\": \"\"}}, \"type\": \"scatter3d\"}], \"scattercarpet\": [{\"marker\": {\"colorbar\": {\"outlinewidth\": 0, \"ticks\": \"\"}}, \"type\": \"scattercarpet\"}], \"scattergeo\": [{\"marker\": {\"colorbar\": {\"outlinewidth\": 0, \"ticks\": \"\"}}, \"type\": \"scattergeo\"}], \"scattergl\": [{\"marker\": {\"colorbar\": {\"outlinewidth\": 0, \"ticks\": \"\"}}, \"type\": \"scattergl\"}], \"scattermapbox\": [{\"marker\": {\"colorbar\": {\"outlinewidth\": 0, \"ticks\": \"\"}}, \"type\": \"scattermapbox\"}], \"scatterpolar\": [{\"marker\": {\"colorbar\": {\"outlinewidth\": 0, \"ticks\": \"\"}}, \"type\": \"scatterpolar\"}], \"scatterpolargl\": [{\"marker\": {\"colorbar\": {\"outlinewidth\": 0, \"ticks\": \"\"}}, \"type\": \"scatterpolargl\"}], \"scatterternary\": [{\"marker\": {\"colorbar\": {\"outlinewidth\": 0, \"ticks\": \"\"}}, \"type\": \"scatterternary\"}], \"surface\": [{\"colorbar\": {\"outlinewidth\": 0, \"ticks\": \"\"}, \"colorscale\": [[0.0, \"#0d0887\"], [0.1111111111111111, \"#46039f\"], [0.2222222222222222, \"#7201a8\"], [0.3333333333333333, \"#9c179e\"], [0.4444444444444444, \"#bd3786\"], [0.5555555555555556, \"#d8576b\"], [0.6666666666666666, \"#ed7953\"], [0.7777777777777778, \"#fb9f3a\"], [0.8888888888888888, \"#fdca26\"], [1.0, \"#f0f921\"]], \"type\": \"surface\"}], \"table\": [{\"cells\": {\"fill\": {\"color\": \"#EBF0F8\"}, \"line\": {\"color\": \"white\"}}, \"header\": {\"fill\": {\"color\": \"#C8D4E3\"}, \"line\": {\"color\": \"white\"}}, \"type\": \"table\"}]}, \"layout\": {\"annotationdefaults\": {\"arrowcolor\": \"#2a3f5f\", \"arrowhead\": 0, \"arrowwidth\": 1}, \"coloraxis\": {\"colorbar\": {\"outlinewidth\": 0, \"ticks\": \"\"}}, \"colorscale\": {\"diverging\": [[0, \"#8e0152\"], [0.1, \"#c51b7d\"], [0.2, \"#de77ae\"], [0.3, \"#f1b6da\"], [0.4, \"#fde0ef\"], [0.5, \"#f7f7f7\"], [0.6, \"#e6f5d0\"], [0.7, \"#b8e186\"], [0.8, \"#7fbc41\"], [0.9, \"#4d9221\"], [1, \"#276419\"]], \"sequential\": [[0.0, \"#0d0887\"], [0.1111111111111111, \"#46039f\"], [0.2222222222222222, \"#7201a8\"], [0.3333333333333333, \"#9c179e\"], [0.4444444444444444, \"#bd3786\"], [0.5555555555555556, \"#d8576b\"], [0.6666666666666666, \"#ed7953\"], [0.7777777777777778, \"#fb9f3a\"], [0.8888888888888888, \"#fdca26\"], [1.0, \"#f0f921\"]], \"sequentialminus\": [[0.0, \"#0d0887\"], [0.1111111111111111, \"#46039f\"], [0.2222222222222222, \"#7201a8\"], [0.3333333333333333, \"#9c179e\"], [0.4444444444444444, \"#bd3786\"], [0.5555555555555556, \"#d8576b\"], [0.6666666666666666, \"#ed7953\"], [0.7777777777777778, \"#fb9f3a\"], [0.8888888888888888, \"#fdca26\"], [1.0, \"#f0f921\"]]}, \"colorway\": [\"#636efa\", \"#EF553B\", \"#00cc96\", \"#ab63fa\", \"#FFA15A\", \"#19d3f3\", \"#FF6692\", \"#B6E880\", \"#FF97FF\", \"#FECB52\"], \"font\": {\"color\": \"#2a3f5f\"}, \"geo\": {\"bgcolor\": \"white\", \"lakecolor\": \"white\", \"landcolor\": \"#E5ECF6\", \"showlakes\": true, \"showland\": true, \"subunitcolor\": \"white\"}, \"hoverlabel\": {\"align\": \"left\"}, \"hovermode\": \"closest\", \"mapbox\": {\"style\": \"light\"}, \"paper_bgcolor\": \"white\", \"plot_bgcolor\": \"#E5ECF6\", \"polar\": {\"angularaxis\": {\"gridcolor\": \"white\", \"linecolor\": \"white\", \"ticks\": \"\"}, \"bgcolor\": \"#E5ECF6\", \"radialaxis\": {\"gridcolor\": \"white\", \"linecolor\": \"white\", \"ticks\": \"\"}}, \"scene\": {\"xaxis\": {\"backgroundcolor\": \"#E5ECF6\", \"gridcolor\": \"white\", \"gridwidth\": 2, \"linecolor\": \"white\", \"showbackground\": true, \"ticks\": \"\", \"zerolinecolor\": \"white\"}, \"yaxis\": {\"backgroundcolor\": \"#E5ECF6\", \"gridcolor\": \"white\", \"gridwidth\": 2, \"linecolor\": \"white\", \"showbackground\": true, \"ticks\": \"\", \"zerolinecolor\": \"white\"}, \"zaxis\": {\"backgroundcolor\": \"#E5ECF6\", \"gridcolor\": \"white\", \"gridwidth\": 2, \"linecolor\": \"white\", \"showbackground\": true, \"ticks\": \"\", \"zerolinecolor\": \"white\"}}, \"shapedefaults\": {\"line\": {\"color\": \"#2a3f5f\"}}, \"ternary\": {\"aaxis\": {\"gridcolor\": \"white\", \"linecolor\": \"white\", \"ticks\": \"\"}, \"baxis\": {\"gridcolor\": \"white\", \"linecolor\": \"white\", \"ticks\": \"\"}, \"bgcolor\": \"#E5ECF6\", \"caxis\": {\"gridcolor\": \"white\", \"linecolor\": \"white\", \"ticks\": \"\"}}, \"title\": {\"x\": 0.05}, \"xaxis\": {\"automargin\": true, \"gridcolor\": \"white\", \"linecolor\": \"white\", \"ticks\": \"\", \"title\": {\"standoff\": 15}, \"zerolinecolor\": \"white\", \"zerolinewidth\": 2}, \"yaxis\": {\"automargin\": true, \"gridcolor\": \"white\", \"linecolor\": \"white\", \"ticks\": \"\", \"title\": {\"standoff\": 15}, \"zerolinecolor\": \"white\", \"zerolinewidth\": 2}}}, \"title\": {\"text\": \"Worlwide deaths and cases\"}},\n",
              "                        {\"responsive\": true}\n",
              "                    ).then(function(){\n",
              "                            \n",
              "var gd = document.getElementById('9af048a6-46a4-46b5-a97c-e49132d8cf98');\n",
              "var x = new MutationObserver(function (mutations, observer) {{\n",
              "        var display = window.getComputedStyle(gd).display;\n",
              "        if (!display || display === 'none') {{\n",
              "            console.log([gd, 'removed!']);\n",
              "            Plotly.purge(gd);\n",
              "            observer.disconnect();\n",
              "        }}\n",
              "}});\n",
              "\n",
              "// Listen for the removal of the full notebook cells\n",
              "var notebookContainer = gd.closest('#notebook-container');\n",
              "if (notebookContainer) {{\n",
              "    x.observe(notebookContainer, {childList: true});\n",
              "}}\n",
              "\n",
              "// Listen for the clearing of the current output cell\n",
              "var outputEl = gd.closest('.output');\n",
              "if (outputEl) {{\n",
              "    x.observe(outputEl, {childList: true});\n",
              "}}\n",
              "\n",
              "                        })\n",
              "                };\n",
              "                });\n",
              "            </script>\n",
              "        </div>"
            ],
            "application/vnd.plotly.v1+json": {
              "data": [
                {
                  "name": "Cases",
                  "mode": "lines+markers",
                  "y": [
                    54,
                    54,
                    54,
                    88,
                    88,
                    118,
                    118,
                    118,
                    118,
                    118,
                    118,
                    118,
                    118,
                    120,
                    120,
                    122,
                    122,
                    132,
                    166,
                    438,
                    478,
                    784,
                    1068,
                    1262,
                    1794,
                    2700,
                    4046,
                    5640,
                    9174,
                    12134,
                    15646,
                    19652,
                    23892,
                    29108,
                    34744,
                    41230,
                    49044,
                    56546,
                    62982,
                    69866,
                    75104,
                    81080,
                    86210,
                    90354,
                    120656,
                    129086,
                    134206,
                    138530,
                    142664,
                    146654,
                    150382,
                    151446,
                    153438,
                    155608,
                    157624,
                    158678,
                    160264,
                    161990,
                    164202,
                    166730,
                    170406,
                    174052,
                    178136,
                    180792,
                    185253,
                    189702,
                    195526,
                    203340,
                    210706,
                    218432,
                    228095,
                    236402,
                    250119,
                    266512,
                    285591,
                    308745,
                    334104,
                    359472,
                    388982,
                    425594,
                    484048,
                    541527,
                    609765,
                    675765,
                    755238,
                    833059,
                    935488,
                    1054982,
                    1182896,
                    1312972,
                    1430058,
                    1553586,
                    1702473,
                    1856286,
                    2011430,
                    2174948,
                    2347761,
                    2490506,
                    2633280,
                    2783066,
                    2952888,
                    3126942,
                    3305624,
                    3469040,
                    3613816,
                    3746582,
                    3906876,
                    4066794,
                    4233898,
                    4398224,
                    4556272,
                    4701290,
                    4854010,
                    5026102,
                    5158950,
                    5315124,
                    5460790,
                    5664246,
                    5831316,
                    5962158,
                    5893271
                  ],
                  "x": [
                    "2019-12-31",
                    "2020-01-01",
                    "2020-01-02",
                    "2020-01-03",
                    "2020-01-04",
                    "2020-01-05",
                    "2020-01-06",
                    "2020-01-07",
                    "2020-01-08",
                    "2020-01-09",
                    "2020-01-10",
                    "2020-01-11",
                    "2020-01-12",
                    "2020-01-13",
                    "2020-01-14",
                    "2020-01-15",
                    "2020-01-16",
                    "2020-01-17",
                    "2020-01-18",
                    "2020-01-19",
                    "2020-01-20",
                    "2020-01-21",
                    "2020-01-22",
                    "2020-01-23",
                    "2020-01-24",
                    "2020-01-25",
                    "2020-01-26",
                    "2020-01-27",
                    "2020-01-28",
                    "2020-01-29",
                    "2020-01-30",
                    "2020-01-31",
                    "2020-02-01",
                    "2020-02-02",
                    "2020-02-03",
                    "2020-02-04",
                    "2020-02-05",
                    "2020-02-06",
                    "2020-02-07",
                    "2020-02-08",
                    "2020-02-09",
                    "2020-02-10",
                    "2020-02-11",
                    "2020-02-12",
                    "2020-02-13",
                    "2020-02-14",
                    "2020-02-15",
                    "2020-02-16",
                    "2020-02-17",
                    "2020-02-18",
                    "2020-02-19",
                    "2020-02-20",
                    "2020-02-21",
                    "2020-02-22",
                    "2020-02-23",
                    "2020-02-24",
                    "2020-02-25",
                    "2020-02-26",
                    "2020-02-27",
                    "2020-02-28",
                    "2020-02-29",
                    "2020-03-01",
                    "2020-03-02",
                    "2020-03-03",
                    "2020-03-04",
                    "2020-03-05",
                    "2020-03-06",
                    "2020-03-07",
                    "2020-03-08",
                    "2020-03-09",
                    "2020-03-10",
                    "2020-03-11",
                    "2020-03-12",
                    "2020-03-13",
                    "2020-03-14",
                    "2020-03-15",
                    "2020-03-16",
                    "2020-03-17",
                    "2020-03-18",
                    "2020-03-19",
                    "2020-03-20",
                    "2020-03-21",
                    "2020-03-22",
                    "2020-03-23",
                    "2020-03-24",
                    "2020-03-25",
                    "2020-03-26",
                    "2020-03-27",
                    "2020-03-28",
                    "2020-03-29",
                    "2020-03-30",
                    "2020-03-31",
                    "2020-04-01",
                    "2020-04-02",
                    "2020-04-03",
                    "2020-04-04",
                    "2020-04-05",
                    "2020-04-06",
                    "2020-04-07",
                    "2020-04-08",
                    "2020-04-09",
                    "2020-04-10",
                    "2020-04-11",
                    "2020-04-12",
                    "2020-04-13",
                    "2020-04-14",
                    "2020-04-15",
                    "2020-04-16",
                    "2020-04-17",
                    "2020-04-18",
                    "2020-04-19",
                    "2020-04-20",
                    "2020-04-21",
                    "2020-04-22",
                    "2020-04-23",
                    "2020-04-24",
                    "2020-04-25",
                    "2020-04-26",
                    "2020-04-27",
                    "2020-04-28",
                    "2020-04-29"
                  ],
                  "line": {
                    "color": "blue"
                  },
                  "type": "scatter"
                },
                {
                  "name": "Deaths",
                  "mode": "lines+markers",
                  "y": [
                    0,
                    0,
                    0,
                    0,
                    0,
                    0,
                    0,
                    0,
                    0,
                    0,
                    0,
                    2,
                    2,
                    2,
                    2,
                    4,
                    4,
                    4,
                    4,
                    6,
                    6,
                    12,
                    34,
                    34,
                    52,
                    82,
                    112,
                    162,
                    212,
                    264,
                    340,
                    426,
                    518,
                    610,
                    724,
                    854,
                    986,
                    1130,
                    1276,
                    1448,
                    1626,
                    1820,
                    2036,
                    2230,
                    2740,
                    2766,
                    3054,
                    3338,
                    3550,
                    3746,
                    4024,
                    4256,
                    4494,
                    4718,
                    4926,
                    5238,
                    5396,
                    5524,
                    5600,
                    5714,
                    5842,
                    5958,
                    6092,
                    6227,
                    6396,
                    6556,
                    6762,
                    6968,
                    7163,
                    7621,
                    8037,
                    8577,
                    9228,
                    9929,
                    10804,
                    11513,
                    13005,
                    14197,
                    15775,
                    17677,
                    19759,
                    22491,
                    25891,
                    29199,
                    32719,
                    37123,
                    41979,
                    47341,
                    53979,
                    60897,
                    67145,
                    74544,
                    83801,
                    93761,
                    103147,
                    116353,
                    128538,
                    137849,
                    148123,
                    162945,
                    175625,
                    190071,
                    204169,
                    216377,
                    227011,
                    237699,
                    252375,
                    273253,
                    290335,
                    307295,
                    319827,
                    330095,
                    340547,
                    354427,
                    366481,
                    381191,
                    391529,
                    403967,
                    411805,
                    421643,
                    409297
                  ],
                  "x": [
                    "2019-12-31",
                    "2020-01-01",
                    "2020-01-02",
                    "2020-01-03",
                    "2020-01-04",
                    "2020-01-05",
                    "2020-01-06",
                    "2020-01-07",
                    "2020-01-08",
                    "2020-01-09",
                    "2020-01-10",
                    "2020-01-11",
                    "2020-01-12",
                    "2020-01-13",
                    "2020-01-14",
                    "2020-01-15",
                    "2020-01-16",
                    "2020-01-17",
                    "2020-01-18",
                    "2020-01-19",
                    "2020-01-20",
                    "2020-01-21",
                    "2020-01-22",
                    "2020-01-23",
                    "2020-01-24",
                    "2020-01-25",
                    "2020-01-26",
                    "2020-01-27",
                    "2020-01-28",
                    "2020-01-29",
                    "2020-01-30",
                    "2020-01-31",
                    "2020-02-01",
                    "2020-02-02",
                    "2020-02-03",
                    "2020-02-04",
                    "2020-02-05",
                    "2020-02-06",
                    "2020-02-07",
                    "2020-02-08",
                    "2020-02-09",
                    "2020-02-10",
                    "2020-02-11",
                    "2020-02-12",
                    "2020-02-13",
                    "2020-02-14",
                    "2020-02-15",
                    "2020-02-16",
                    "2020-02-17",
                    "2020-02-18",
                    "2020-02-19",
                    "2020-02-20",
                    "2020-02-21",
                    "2020-02-22",
                    "2020-02-23",
                    "2020-02-24",
                    "2020-02-25",
                    "2020-02-26",
                    "2020-02-27",
                    "2020-02-28",
                    "2020-02-29",
                    "2020-03-01",
                    "2020-03-02",
                    "2020-03-03",
                    "2020-03-04",
                    "2020-03-05",
                    "2020-03-06",
                    "2020-03-07",
                    "2020-03-08",
                    "2020-03-09",
                    "2020-03-10",
                    "2020-03-11",
                    "2020-03-12",
                    "2020-03-13",
                    "2020-03-14",
                    "2020-03-15",
                    "2020-03-16",
                    "2020-03-17",
                    "2020-03-18",
                    "2020-03-19",
                    "2020-03-20",
                    "2020-03-21",
                    "2020-03-22",
                    "2020-03-23",
                    "2020-03-24",
                    "2020-03-25",
                    "2020-03-26",
                    "2020-03-27",
                    "2020-03-28",
                    "2020-03-29",
                    "2020-03-30",
                    "2020-03-31",
                    "2020-04-01",
                    "2020-04-02",
                    "2020-04-03",
                    "2020-04-04",
                    "2020-04-05",
                    "2020-04-06",
                    "2020-04-07",
                    "2020-04-08",
                    "2020-04-09",
                    "2020-04-10",
                    "2020-04-11",
                    "2020-04-12",
                    "2020-04-13",
                    "2020-04-14",
                    "2020-04-15",
                    "2020-04-16",
                    "2020-04-17",
                    "2020-04-18",
                    "2020-04-19",
                    "2020-04-20",
                    "2020-04-21",
                    "2020-04-22",
                    "2020-04-23",
                    "2020-04-24",
                    "2020-04-25",
                    "2020-04-26",
                    "2020-04-27",
                    "2020-04-28",
                    "2020-04-29"
                  ],
                  "line": {
                    "color": "red"
                  },
                  "type": "scatter"
                }
              ],
              "config": {
                "plotlyServerURL": "https://plot.ly"
              },
              "layout": {
                "template": {
                  "layout": {
                    "shapedefaults": {
                      "line": {
                        "color": "#2a3f5f"
                      }
                    },
                    "polar": {
                      "radialaxis": {
                        "ticks": "",
                        "gridcolor": "white",
                        "linecolor": "white"
                      },
                      "bgcolor": "#E5ECF6",
                      "angularaxis": {
                        "ticks": "",
                        "gridcolor": "white",
                        "linecolor": "white"
                      }
                    },
                    "colorway": [
                      "#636efa",
                      "#EF553B",
                      "#00cc96",
                      "#ab63fa",
                      "#FFA15A",
                      "#19d3f3",
                      "#FF6692",
                      "#B6E880",
                      "#FF97FF",
                      "#FECB52"
                    ],
                    "xaxis": {
                      "automargin": true,
                      "title": {
                        "standoff": 15
                      },
                      "zerolinewidth": 2,
                      "ticks": "",
                      "zerolinecolor": "white",
                      "gridcolor": "white",
                      "linecolor": "white"
                    },
                    "colorscale": {
                      "diverging": [
                        [
                          0,
                          "#8e0152"
                        ],
                        [
                          0.1,
                          "#c51b7d"
                        ],
                        [
                          0.2,
                          "#de77ae"
                        ],
                        [
                          0.3,
                          "#f1b6da"
                        ],
                        [
                          0.4,
                          "#fde0ef"
                        ],
                        [
                          0.5,
                          "#f7f7f7"
                        ],
                        [
                          0.6,
                          "#e6f5d0"
                        ],
                        [
                          0.7,
                          "#b8e186"
                        ],
                        [
                          0.8,
                          "#7fbc41"
                        ],
                        [
                          0.9,
                          "#4d9221"
                        ],
                        [
                          1,
                          "#276419"
                        ]
                      ],
                      "sequential": [
                        [
                          0,
                          "#0d0887"
                        ],
                        [
                          0.1111111111111111,
                          "#46039f"
                        ],
                        [
                          0.2222222222222222,
                          "#7201a8"
                        ],
                        [
                          0.3333333333333333,
                          "#9c179e"
                        ],
                        [
                          0.4444444444444444,
                          "#bd3786"
                        ],
                        [
                          0.5555555555555556,
                          "#d8576b"
                        ],
                        [
                          0.6666666666666666,
                          "#ed7953"
                        ],
                        [
                          0.7777777777777778,
                          "#fb9f3a"
                        ],
                        [
                          0.8888888888888888,
                          "#fdca26"
                        ],
                        [
                          1,
                          "#f0f921"
                        ]
                      ],
                      "sequentialminus": [
                        [
                          0,
                          "#0d0887"
                        ],
                        [
                          0.1111111111111111,
                          "#46039f"
                        ],
                        [
                          0.2222222222222222,
                          "#7201a8"
                        ],
                        [
                          0.3333333333333333,
                          "#9c179e"
                        ],
                        [
                          0.4444444444444444,
                          "#bd3786"
                        ],
                        [
                          0.5555555555555556,
                          "#d8576b"
                        ],
                        [
                          0.6666666666666666,
                          "#ed7953"
                        ],
                        [
                          0.7777777777777778,
                          "#fb9f3a"
                        ],
                        [
                          0.8888888888888888,
                          "#fdca26"
                        ],
                        [
                          1,
                          "#f0f921"
                        ]
                      ]
                    },
                    "paper_bgcolor": "white",
                    "plot_bgcolor": "#E5ECF6",
                    "title": {
                      "x": 0.05
                    },
                    "scene": {
                      "zaxis": {
                        "backgroundcolor": "#E5ECF6",
                        "ticks": "",
                        "gridwidth": 2,
                        "showbackground": true,
                        "zerolinecolor": "white",
                        "gridcolor": "white",
                        "linecolor": "white"
                      },
                      "xaxis": {
                        "backgroundcolor": "#E5ECF6",
                        "ticks": "",
                        "gridwidth": 2,
                        "showbackground": true,
                        "zerolinecolor": "white",
                        "gridcolor": "white",
                        "linecolor": "white"
                      },
                      "yaxis": {
                        "backgroundcolor": "#E5ECF6",
                        "ticks": "",
                        "gridwidth": 2,
                        "showbackground": true,
                        "zerolinecolor": "white",
                        "gridcolor": "white",
                        "linecolor": "white"
                      }
                    },
                    "yaxis": {
                      "automargin": true,
                      "title": {
                        "standoff": 15
                      },
                      "zerolinewidth": 2,
                      "ticks": "",
                      "zerolinecolor": "white",
                      "gridcolor": "white",
                      "linecolor": "white"
                    },
                    "annotationdefaults": {
                      "arrowwidth": 1,
                      "arrowhead": 0,
                      "arrowcolor": "#2a3f5f"
                    },
                    "hoverlabel": {
                      "align": "left"
                    },
                    "ternary": {
                      "bgcolor": "#E5ECF6",
                      "baxis": {
                        "ticks": "",
                        "gridcolor": "white",
                        "linecolor": "white"
                      },
                      "caxis": {
                        "ticks": "",
                        "gridcolor": "white",
                        "linecolor": "white"
                      },
                      "aaxis": {
                        "ticks": "",
                        "gridcolor": "white",
                        "linecolor": "white"
                      }
                    },
                    "mapbox": {
                      "style": "light"
                    },
                    "hovermode": "closest",
                    "font": {
                      "color": "#2a3f5f"
                    },
                    "geo": {
                      "showland": true,
                      "landcolor": "#E5ECF6",
                      "showlakes": true,
                      "bgcolor": "white",
                      "subunitcolor": "white",
                      "lakecolor": "white"
                    },
                    "coloraxis": {
                      "colorbar": {
                        "outlinewidth": 0,
                        "ticks": ""
                      }
                    }
                  },
                  "data": {
                    "mesh3d": [
                      {
                        "colorbar": {
                          "outlinewidth": 0,
                          "ticks": ""
                        },
                        "type": "mesh3d"
                      }
                    ],
                    "scattercarpet": [
                      {
                        "marker": {
                          "colorbar": {
                            "outlinewidth": 0,
                            "ticks": ""
                          }
                        },
                        "type": "scattercarpet"
                      }
                    ],
                    "pie": [
                      {
                        "automargin": true,
                        "type": "pie"
                      }
                    ],
                    "surface": [
                      {
                        "colorbar": {
                          "outlinewidth": 0,
                          "ticks": ""
                        },
                        "type": "surface",
                        "colorscale": [
                          [
                            0,
                            "#0d0887"
                          ],
                          [
                            0.1111111111111111,
                            "#46039f"
                          ],
                          [
                            0.2222222222222222,
                            "#7201a8"
                          ],
                          [
                            0.3333333333333333,
                            "#9c179e"
                          ],
                          [
                            0.4444444444444444,
                            "#bd3786"
                          ],
                          [
                            0.5555555555555556,
                            "#d8576b"
                          ],
                          [
                            0.6666666666666666,
                            "#ed7953"
                          ],
                          [
                            0.7777777777777778,
                            "#fb9f3a"
                          ],
                          [
                            0.8888888888888888,
                            "#fdca26"
                          ],
                          [
                            1,
                            "#f0f921"
                          ]
                        ]
                      }
                    ],
                    "table": [
                      {
                        "header": {
                          "line": {
                            "color": "white"
                          },
                          "fill": {
                            "color": "#C8D4E3"
                          }
                        },
                        "cells": {
                          "line": {
                            "color": "white"
                          },
                          "fill": {
                            "color": "#EBF0F8"
                          }
                        },
                        "type": "table"
                      }
                    ],
                    "scatterpolargl": [
                      {
                        "marker": {
                          "colorbar": {
                            "outlinewidth": 0,
                            "ticks": ""
                          }
                        },
                        "type": "scatterpolargl"
                      }
                    ],
                    "contour": [
                      {
                        "colorbar": {
                          "outlinewidth": 0,
                          "ticks": ""
                        },
                        "type": "contour",
                        "colorscale": [
                          [
                            0,
                            "#0d0887"
                          ],
                          [
                            0.1111111111111111,
                            "#46039f"
                          ],
                          [
                            0.2222222222222222,
                            "#7201a8"
                          ],
                          [
                            0.3333333333333333,
                            "#9c179e"
                          ],
                          [
                            0.4444444444444444,
                            "#bd3786"
                          ],
                          [
                            0.5555555555555556,
                            "#d8576b"
                          ],
                          [
                            0.6666666666666666,
                            "#ed7953"
                          ],
                          [
                            0.7777777777777778,
                            "#fb9f3a"
                          ],
                          [
                            0.8888888888888888,
                            "#fdca26"
                          ],
                          [
                            1,
                            "#f0f921"
                          ]
                        ]
                      }
                    ],
                    "carpet": [
                      {
                        "type": "carpet",
                        "baxis": {
                          "minorgridcolor": "white",
                          "gridcolor": "white",
                          "linecolor": "white",
                          "endlinecolor": "#2a3f5f",
                          "startlinecolor": "#2a3f5f"
                        },
                        "aaxis": {
                          "minorgridcolor": "white",
                          "gridcolor": "white",
                          "linecolor": "white",
                          "endlinecolor": "#2a3f5f",
                          "startlinecolor": "#2a3f5f"
                        }
                      }
                    ],
                    "contourcarpet": [
                      {
                        "colorbar": {
                          "outlinewidth": 0,
                          "ticks": ""
                        },
                        "type": "contourcarpet"
                      }
                    ],
                    "heatmap": [
                      {
                        "colorbar": {
                          "outlinewidth": 0,
                          "ticks": ""
                        },
                        "type": "heatmap",
                        "colorscale": [
                          [
                            0,
                            "#0d0887"
                          ],
                          [
                            0.1111111111111111,
                            "#46039f"
                          ],
                          [
                            0.2222222222222222,
                            "#7201a8"
                          ],
                          [
                            0.3333333333333333,
                            "#9c179e"
                          ],
                          [
                            0.4444444444444444,
                            "#bd3786"
                          ],
                          [
                            0.5555555555555556,
                            "#d8576b"
                          ],
                          [
                            0.6666666666666666,
                            "#ed7953"
                          ],
                          [
                            0.7777777777777778,
                            "#fb9f3a"
                          ],
                          [
                            0.8888888888888888,
                            "#fdca26"
                          ],
                          [
                            1,
                            "#f0f921"
                          ]
                        ]
                      }
                    ],
                    "scattermapbox": [
                      {
                        "marker": {
                          "colorbar": {
                            "outlinewidth": 0,
                            "ticks": ""
                          }
                        },
                        "type": "scattermapbox"
                      }
                    ],
                    "scatter3d": [
                      {
                        "marker": {
                          "colorbar": {
                            "outlinewidth": 0,
                            "ticks": ""
                          }
                        },
                        "line": {
                          "colorbar": {
                            "outlinewidth": 0,
                            "ticks": ""
                          }
                        },
                        "type": "scatter3d"
                      }
                    ],
                    "scattergl": [
                      {
                        "marker": {
                          "colorbar": {
                            "outlinewidth": 0,
                            "ticks": ""
                          }
                        },
                        "type": "scattergl"
                      }
                    ],
                    "scatterternary": [
                      {
                        "marker": {
                          "colorbar": {
                            "outlinewidth": 0,
                            "ticks": ""
                          }
                        },
                        "type": "scatterternary"
                      }
                    ],
                    "histogram": [
                      {
                        "marker": {
                          "colorbar": {
                            "outlinewidth": 0,
                            "ticks": ""
                          }
                        },
                        "type": "histogram"
                      }
                    ],
                    "heatmapgl": [
                      {
                        "colorbar": {
                          "outlinewidth": 0,
                          "ticks": ""
                        },
                        "type": "heatmapgl",
                        "colorscale": [
                          [
                            0,
                            "#0d0887"
                          ],
                          [
                            0.1111111111111111,
                            "#46039f"
                          ],
                          [
                            0.2222222222222222,
                            "#7201a8"
                          ],
                          [
                            0.3333333333333333,
                            "#9c179e"
                          ],
                          [
                            0.4444444444444444,
                            "#bd3786"
                          ],
                          [
                            0.5555555555555556,
                            "#d8576b"
                          ],
                          [
                            0.6666666666666666,
                            "#ed7953"
                          ],
                          [
                            0.7777777777777778,
                            "#fb9f3a"
                          ],
                          [
                            0.8888888888888888,
                            "#fdca26"
                          ],
                          [
                            1,
                            "#f0f921"
                          ]
                        ]
                      }
                    ],
                    "scatterpolar": [
                      {
                        "marker": {
                          "colorbar": {
                            "outlinewidth": 0,
                            "ticks": ""
                          }
                        },
                        "type": "scatterpolar"
                      }
                    ],
                    "histogram2d": [
                      {
                        "colorbar": {
                          "outlinewidth": 0,
                          "ticks": ""
                        },
                        "type": "histogram2d",
                        "colorscale": [
                          [
                            0,
                            "#0d0887"
                          ],
                          [
                            0.1111111111111111,
                            "#46039f"
                          ],
                          [
                            0.2222222222222222,
                            "#7201a8"
                          ],
                          [
                            0.3333333333333333,
                            "#9c179e"
                          ],
                          [
                            0.4444444444444444,
                            "#bd3786"
                          ],
                          [
                            0.5555555555555556,
                            "#d8576b"
                          ],
                          [
                            0.6666666666666666,
                            "#ed7953"
                          ],
                          [
                            0.7777777777777778,
                            "#fb9f3a"
                          ],
                          [
                            0.8888888888888888,
                            "#fdca26"
                          ],
                          [
                            1,
                            "#f0f921"
                          ]
                        ]
                      }
                    ],
                    "scattergeo": [
                      {
                        "marker": {
                          "colorbar": {
                            "outlinewidth": 0,
                            "ticks": ""
                          }
                        },
                        "type": "scattergeo"
                      }
                    ],
                    "bar": [
                      {
                        "marker": {
                          "line": {
                            "color": "#E5ECF6",
                            "width": 0.5
                          }
                        },
                        "type": "bar",
                        "error_x": {
                          "color": "#2a3f5f"
                        },
                        "error_y": {
                          "color": "#2a3f5f"
                        }
                      }
                    ],
                    "choropleth": [
                      {
                        "colorbar": {
                          "outlinewidth": 0,
                          "ticks": ""
                        },
                        "type": "choropleth"
                      }
                    ],
                    "parcoords": [
                      {
                        "line": {
                          "colorbar": {
                            "outlinewidth": 0,
                            "ticks": ""
                          }
                        },
                        "type": "parcoords"
                      }
                    ],
                    "barpolar": [
                      {
                        "marker": {
                          "line": {
                            "color": "#E5ECF6",
                            "width": 0.5
                          }
                        },
                        "type": "barpolar"
                      }
                    ],
                    "histogram2dcontour": [
                      {
                        "colorbar": {
                          "outlinewidth": 0,
                          "ticks": ""
                        },
                        "type": "histogram2dcontour",
                        "colorscale": [
                          [
                            0,
                            "#0d0887"
                          ],
                          [
                            0.1111111111111111,
                            "#46039f"
                          ],
                          [
                            0.2222222222222222,
                            "#7201a8"
                          ],
                          [
                            0.3333333333333333,
                            "#9c179e"
                          ],
                          [
                            0.4444444444444444,
                            "#bd3786"
                          ],
                          [
                            0.5555555555555556,
                            "#d8576b"
                          ],
                          [
                            0.6666666666666666,
                            "#ed7953"
                          ],
                          [
                            0.7777777777777778,
                            "#fb9f3a"
                          ],
                          [
                            0.8888888888888888,
                            "#fdca26"
                          ],
                          [
                            1,
                            "#f0f921"
                          ]
                        ]
                      }
                    ],
                    "scatter": [
                      {
                        "marker": {
                          "colorbar": {
                            "outlinewidth": 0,
                            "ticks": ""
                          }
                        },
                        "type": "scatter"
                      }
                    ]
                  }
                },
                "title": {
                  "text": "Worlwide deaths and cases"
                }
              }
            }
          },
          "metadata": {
            "tags": []
          }
        }
      ]
    },
    {
      "cell_type": "code",
      "metadata": {
        "id": "2_jAE_ft_j5k"
      },
      "source": [
        "df1 = df[(df['location'] != 'World') & (df['total_cases']>20000)]"
      ],
      "execution_count": 33,
      "outputs": []
    },
    {
      "cell_type": "code",
      "metadata": {
        "colab": {
          "base_uri": "https://localhost:8080/",
          "height": 711
        },
        "id": "UP0gTKwh_j5k",
        "outputId": "908d389c-adf8-4696-c4b6-90e8ef4a8e19"
      },
      "source": [
        "df1"
      ],
      "execution_count": 34,
      "outputs": [
        {
          "output_type": "execute_result",
          "data": {
            "text/html": [
              "<div>\n",
              "<style scoped>\n",
              "    .dataframe tbody tr th:only-of-type {\n",
              "        vertical-align: middle;\n",
              "    }\n",
              "\n",
              "    .dataframe tbody tr th {\n",
              "        vertical-align: top;\n",
              "    }\n",
              "\n",
              "    .dataframe thead th {\n",
              "        text-align: right;\n",
              "    }\n",
              "</style>\n",
              "<table border=\"1\" class=\"dataframe\">\n",
              "  <thead>\n",
              "    <tr style=\"text-align: right;\">\n",
              "      <th></th>\n",
              "      <th>iso_code</th>\n",
              "      <th>location</th>\n",
              "      <th>date</th>\n",
              "      <th>total_cases</th>\n",
              "      <th>new_cases</th>\n",
              "      <th>total_deaths</th>\n",
              "      <th>new_deaths</th>\n",
              "      <th>total_cases_per_million</th>\n",
              "      <th>new_cases_per_million</th>\n",
              "      <th>total_deaths_per_million</th>\n",
              "      <th>new_deaths_per_million</th>\n",
              "      <th>total_tests</th>\n",
              "      <th>new_tests</th>\n",
              "      <th>total_tests_per_thousand</th>\n",
              "      <th>new_tests_per_thousand</th>\n",
              "      <th>tests_units</th>\n",
              "    </tr>\n",
              "  </thead>\n",
              "  <tbody>\n",
              "    <tr>\n",
              "      <th>1126</th>\n",
              "      <td>BEL</td>\n",
              "      <td>Belgium</td>\n",
              "      <td>2020-04-07</td>\n",
              "      <td>20814</td>\n",
              "      <td>1123</td>\n",
              "      <td>1632</td>\n",
              "      <td>185</td>\n",
              "      <td>1795.918</td>\n",
              "      <td>96.897</td>\n",
              "      <td>140.816</td>\n",
              "      <td>15.963</td>\n",
              "      <td>90126.0</td>\n",
              "      <td>5857.0</td>\n",
              "      <td>7.776</td>\n",
              "      <td>0.505</td>\n",
              "      <td>tests performed</td>\n",
              "    </tr>\n",
              "    <tr>\n",
              "      <th>1127</th>\n",
              "      <td>BEL</td>\n",
              "      <td>Belgium</td>\n",
              "      <td>2020-04-08</td>\n",
              "      <td>22194</td>\n",
              "      <td>1380</td>\n",
              "      <td>2035</td>\n",
              "      <td>403</td>\n",
              "      <td>1914.990</td>\n",
              "      <td>119.072</td>\n",
              "      <td>175.588</td>\n",
              "      <td>34.773</td>\n",
              "      <td>96283.0</td>\n",
              "      <td>6157.0</td>\n",
              "      <td>8.308</td>\n",
              "      <td>0.531</td>\n",
              "      <td>tests performed</td>\n",
              "    </tr>\n",
              "    <tr>\n",
              "      <th>1128</th>\n",
              "      <td>BEL</td>\n",
              "      <td>Belgium</td>\n",
              "      <td>2020-04-09</td>\n",
              "      <td>23403</td>\n",
              "      <td>1209</td>\n",
              "      <td>2240</td>\n",
              "      <td>205</td>\n",
              "      <td>2019.308</td>\n",
              "      <td>104.318</td>\n",
              "      <td>193.276</td>\n",
              "      <td>17.688</td>\n",
              "      <td>102418.0</td>\n",
              "      <td>6135.0</td>\n",
              "      <td>8.837</td>\n",
              "      <td>0.529</td>\n",
              "      <td>tests performed</td>\n",
              "    </tr>\n",
              "    <tr>\n",
              "      <th>1129</th>\n",
              "      <td>BEL</td>\n",
              "      <td>Belgium</td>\n",
              "      <td>2020-04-10</td>\n",
              "      <td>24983</td>\n",
              "      <td>1580</td>\n",
              "      <td>2523</td>\n",
              "      <td>283</td>\n",
              "      <td>2155.637</td>\n",
              "      <td>136.329</td>\n",
              "      <td>217.695</td>\n",
              "      <td>24.418</td>\n",
              "      <td>108871.0</td>\n",
              "      <td>6453.0</td>\n",
              "      <td>9.394</td>\n",
              "      <td>0.557</td>\n",
              "      <td>tests performed</td>\n",
              "    </tr>\n",
              "    <tr>\n",
              "      <th>1130</th>\n",
              "      <td>BEL</td>\n",
              "      <td>Belgium</td>\n",
              "      <td>2020-04-11</td>\n",
              "      <td>26667</td>\n",
              "      <td>1684</td>\n",
              "      <td>3019</td>\n",
              "      <td>496</td>\n",
              "      <td>2300.939</td>\n",
              "      <td>145.302</td>\n",
              "      <td>260.492</td>\n",
              "      <td>42.797</td>\n",
              "      <td>115246.0</td>\n",
              "      <td>6375.0</td>\n",
              "      <td>9.944</td>\n",
              "      <td>0.550</td>\n",
              "      <td>tests performed</td>\n",
              "    </tr>\n",
              "    <tr>\n",
              "      <th>...</th>\n",
              "      <td>...</td>\n",
              "      <td>...</td>\n",
              "      <td>...</td>\n",
              "      <td>...</td>\n",
              "      <td>...</td>\n",
              "      <td>...</td>\n",
              "      <td>...</td>\n",
              "      <td>...</td>\n",
              "      <td>...</td>\n",
              "      <td>...</td>\n",
              "      <td>...</td>\n",
              "      <td>...</td>\n",
              "      <td>...</td>\n",
              "      <td>...</td>\n",
              "      <td>...</td>\n",
              "      <td>...</td>\n",
              "    </tr>\n",
              "    <tr>\n",
              "      <th>13369</th>\n",
              "      <td>USA</td>\n",
              "      <td>United States</td>\n",
              "      <td>2020-04-25</td>\n",
              "      <td>890524</td>\n",
              "      <td>21352</td>\n",
              "      <td>51017</td>\n",
              "      <td>1054</td>\n",
              "      <td>2690.383</td>\n",
              "      <td>64.507</td>\n",
              "      <td>154.129</td>\n",
              "      <td>3.184</td>\n",
              "      <td>5196649.0</td>\n",
              "      <td>271256.0</td>\n",
              "      <td>15.700</td>\n",
              "      <td>0.819</td>\n",
              "      <td>inconsistent units (COVID Tracking Project)</td>\n",
              "    </tr>\n",
              "    <tr>\n",
              "      <th>13370</th>\n",
              "      <td>USA</td>\n",
              "      <td>United States</td>\n",
              "      <td>2020-04-26</td>\n",
              "      <td>939053</td>\n",
              "      <td>48529</td>\n",
              "      <td>53189</td>\n",
              "      <td>2172</td>\n",
              "      <td>2836.995</td>\n",
              "      <td>146.612</td>\n",
              "      <td>160.691</td>\n",
              "      <td>6.562</td>\n",
              "      <td>5403052.0</td>\n",
              "      <td>206403.0</td>\n",
              "      <td>16.323</td>\n",
              "      <td>0.624</td>\n",
              "      <td>inconsistent units (COVID Tracking Project)</td>\n",
              "    </tr>\n",
              "    <tr>\n",
              "      <th>13371</th>\n",
              "      <td>USA</td>\n",
              "      <td>United States</td>\n",
              "      <td>2020-04-27</td>\n",
              "      <td>965910</td>\n",
              "      <td>26857</td>\n",
              "      <td>54876</td>\n",
              "      <td>1687</td>\n",
              "      <td>2918.134</td>\n",
              "      <td>81.138</td>\n",
              "      <td>165.787</td>\n",
              "      <td>5.097</td>\n",
              "      <td>5593495.0</td>\n",
              "      <td>190443.0</td>\n",
              "      <td>16.899</td>\n",
              "      <td>0.575</td>\n",
              "      <td>inconsistent units (COVID Tracking Project)</td>\n",
              "    </tr>\n",
              "    <tr>\n",
              "      <th>13372</th>\n",
              "      <td>USA</td>\n",
              "      <td>United States</td>\n",
              "      <td>2020-04-28</td>\n",
              "      <td>988451</td>\n",
              "      <td>22541</td>\n",
              "      <td>56245</td>\n",
              "      <td>1369</td>\n",
              "      <td>2986.233</td>\n",
              "      <td>68.099</td>\n",
              "      <td>169.923</td>\n",
              "      <td>4.136</td>\n",
              "      <td>0.0</td>\n",
              "      <td>0.0</td>\n",
              "      <td>0.000</td>\n",
              "      <td>0.000</td>\n",
              "      <td>0</td>\n",
              "    </tr>\n",
              "    <tr>\n",
              "      <th>13373</th>\n",
              "      <td>USA</td>\n",
              "      <td>United States</td>\n",
              "      <td>2020-04-29</td>\n",
              "      <td>1012583</td>\n",
              "      <td>24132</td>\n",
              "      <td>58355</td>\n",
              "      <td>2110</td>\n",
              "      <td>3059.139</td>\n",
              "      <td>72.906</td>\n",
              "      <td>176.298</td>\n",
              "      <td>6.375</td>\n",
              "      <td>0.0</td>\n",
              "      <td>0.0</td>\n",
              "      <td>0.000</td>\n",
              "      <td>0.000</td>\n",
              "      <td>0</td>\n",
              "    </tr>\n",
              "  </tbody>\n",
              "</table>\n",
              "<p>528 rows × 16 columns</p>\n",
              "</div>"
            ],
            "text/plain": [
              "      iso_code  ...                                  tests_units\n",
              "1126       BEL  ...                              tests performed\n",
              "1127       BEL  ...                              tests performed\n",
              "1128       BEL  ...                              tests performed\n",
              "1129       BEL  ...                              tests performed\n",
              "1130       BEL  ...                              tests performed\n",
              "...        ...  ...                                          ...\n",
              "13369      USA  ...  inconsistent units (COVID Tracking Project)\n",
              "13370      USA  ...  inconsistent units (COVID Tracking Project)\n",
              "13371      USA  ...  inconsistent units (COVID Tracking Project)\n",
              "13372      USA  ...                                            0\n",
              "13373      USA  ...                                            0\n",
              "\n",
              "[528 rows x 16 columns]"
            ]
          },
          "metadata": {
            "tags": []
          },
          "execution_count": 34
        }
      ]
    },
    {
      "cell_type": "code",
      "metadata": {
        "colab": {
          "base_uri": "https://localhost:8080/",
          "height": 542
        },
        "id": "zk0Z-42M_j5k",
        "outputId": "eb87be83-d13a-4840-9fa5-ca22ffacece2"
      },
      "source": [
        "fig = go.Figure()\n",
        "fig.add_trace(go.Bar(x = df1['location'], y = df1['total_cases'], width = 0.5))\n",
        "fig.update_layout(title='Countries with more than 20k cases')"
      ],
      "execution_count": 35,
      "outputs": [
        {
          "output_type": "display_data",
          "data": {
            "text/html": [
              "<div>\n",
              "        \n",
              "        \n",
              "            <div id=\"4fb1bb80-cb94-4762-b943-1bdbffb2bb52\" class=\"plotly-graph-div\" style=\"height:525px; width:100%;\"></div>\n",
              "            <script type=\"text/javascript\">\n",
              "                require([\"plotly\"], function(Plotly) {\n",
              "                    window.PLOTLYENV=window.PLOTLYENV || {};\n",
              "                    \n",
              "                if (document.getElementById(\"4fb1bb80-cb94-4762-b943-1bdbffb2bb52\")) {\n",
              "                    Plotly.newPlot(\n",
              "                        '4fb1bb80-cb94-4762-b943-1bdbffb2bb52',\n",
              "                        [{\"type\": \"bar\", \"width\": 0.5, \"x\": [\"Belgium\", \"Belgium\", \"Belgium\", \"Belgium\", \"Belgium\", \"Belgium\", \"Belgium\", \"Belgium\", \"Belgium\", \"Belgium\", \"Belgium\", \"Belgium\", \"Belgium\", \"Belgium\", \"Belgium\", \"Belgium\", \"Belgium\", \"Belgium\", \"Belgium\", \"Belgium\", \"Belgium\", \"Belgium\", \"Belgium\", \"Brazil\", \"Brazil\", \"Brazil\", \"Brazil\", \"Brazil\", \"Brazil\", \"Brazil\", \"Brazil\", \"Brazil\", \"Brazil\", \"Brazil\", \"Brazil\", \"Brazil\", \"Brazil\", \"Brazil\", \"Brazil\", \"Brazil\", \"Brazil\", \"Canada\", \"Canada\", \"Canada\", \"Canada\", \"Canada\", \"Canada\", \"Canada\", \"Canada\", \"Canada\", \"Canada\", \"Canada\", \"Canada\", \"Canada\", \"Canada\", \"Canada\", \"Canada\", \"Canada\", \"Canada\", \"Canada\", \"Canada\", \"Switzerland\", \"Switzerland\", \"Switzerland\", \"Switzerland\", \"Switzerland\", \"Switzerland\", \"Switzerland\", \"Switzerland\", \"Switzerland\", \"Switzerland\", \"Switzerland\", \"Switzerland\", \"Switzerland\", \"Switzerland\", \"Switzerland\", \"Switzerland\", \"Switzerland\", \"Switzerland\", \"Switzerland\", \"Switzerland\", \"Switzerland\", \"Switzerland\", \"Switzerland\", \"Switzerland\", \"Switzerland\", \"China\", \"China\", \"China\", \"China\", \"China\", \"China\", \"China\", \"China\", \"China\", \"China\", \"China\", \"China\", \"China\", \"China\", \"China\", \"China\", \"China\", \"China\", \"China\", \"China\", \"China\", \"China\", \"China\", \"China\", \"China\", \"China\", \"China\", \"China\", \"China\", \"China\", \"China\", \"China\", \"China\", \"China\", \"China\", \"China\", \"China\", \"China\", \"China\", \"China\", \"China\", \"China\", \"China\", \"China\", \"China\", \"China\", \"China\", \"China\", \"China\", \"China\", \"China\", \"China\", \"China\", \"China\", \"China\", \"China\", \"China\", \"China\", \"China\", \"China\", \"China\", \"China\", \"China\", \"China\", \"China\", \"China\", \"China\", \"China\", \"China\", \"China\", \"China\", \"China\", \"China\", \"China\", \"China\", \"China\", \"China\", \"China\", \"China\", \"China\", \"China\", \"China\", \"China\", \"China\", \"China\", \"China\", \"Germany\", \"Germany\", \"Germany\", \"Germany\", \"Germany\", \"Germany\", \"Germany\", \"Germany\", \"Germany\", \"Germany\", \"Germany\", \"Germany\", \"Germany\", \"Germany\", \"Germany\", \"Germany\", \"Germany\", \"Germany\", \"Germany\", \"Germany\", \"Germany\", \"Germany\", \"Germany\", \"Germany\", \"Germany\", \"Germany\", \"Germany\", \"Germany\", \"Germany\", \"Germany\", \"Germany\", \"Germany\", \"Germany\", \"Germany\", \"Germany\", \"Germany\", \"Germany\", \"Germany\", \"Germany\", \"Ecuador\", \"Ecuador\", \"Ecuador\", \"Spain\", \"Spain\", \"Spain\", \"Spain\", \"Spain\", \"Spain\", \"Spain\", \"Spain\", \"Spain\", \"Spain\", \"Spain\", \"Spain\", \"Spain\", \"Spain\", \"Spain\", \"Spain\", \"Spain\", \"Spain\", \"Spain\", \"Spain\", \"Spain\", \"Spain\", \"Spain\", \"Spain\", \"Spain\", \"Spain\", \"Spain\", \"Spain\", \"Spain\", \"Spain\", \"Spain\", \"Spain\", \"Spain\", \"Spain\", \"Spain\", \"Spain\", \"Spain\", \"Spain\", \"France\", \"France\", \"France\", \"France\", \"France\", \"France\", \"France\", \"France\", \"France\", \"France\", \"France\", \"France\", \"France\", \"France\", \"France\", \"France\", \"France\", \"France\", \"France\", \"France\", \"France\", \"France\", \"France\", \"France\", \"France\", \"France\", \"France\", \"France\", \"France\", \"France\", \"France\", \"France\", \"France\", \"France\", \"France\", \"France\", \"United Kingdom\", \"United Kingdom\", \"United Kingdom\", \"United Kingdom\", \"United Kingdom\", \"United Kingdom\", \"United Kingdom\", \"United Kingdom\", \"United Kingdom\", \"United Kingdom\", \"United Kingdom\", \"United Kingdom\", \"United Kingdom\", \"United Kingdom\", \"United Kingdom\", \"United Kingdom\", \"United Kingdom\", \"United Kingdom\", \"United Kingdom\", \"United Kingdom\", \"United Kingdom\", \"United Kingdom\", \"United Kingdom\", \"United Kingdom\", \"United Kingdom\", \"United Kingdom\", \"United Kingdom\", \"United Kingdom\", \"United Kingdom\", \"United Kingdom\", \"India\", \"India\", \"India\", \"India\", \"India\", \"India\", \"India\", \"Iran\", \"Iran\", \"Iran\", \"Iran\", \"Iran\", \"Iran\", \"Iran\", \"Iran\", \"Iran\", \"Iran\", \"Iran\", \"Iran\", \"Iran\", \"Iran\", \"Iran\", \"Iran\", \"Iran\", \"Iran\", \"Iran\", \"Iran\", \"Iran\", \"Iran\", \"Iran\", \"Iran\", \"Iran\", \"Iran\", \"Iran\", \"Iran\", \"Iran\", \"Iran\", \"Iran\", \"Iran\", \"Iran\", \"Iran\", \"Iran\", \"Iran\", \"Iran\", \"Iran\", \"Iran\", \"Italy\", \"Italy\", \"Italy\", \"Italy\", \"Italy\", \"Italy\", \"Italy\", \"Italy\", \"Italy\", \"Italy\", \"Italy\", \"Italy\", \"Italy\", \"Italy\", \"Italy\", \"Italy\", \"Italy\", \"Italy\", \"Italy\", \"Italy\", \"Italy\", \"Italy\", \"Italy\", \"Italy\", \"Italy\", \"Italy\", \"Italy\", \"Italy\", \"Italy\", \"Italy\", \"Italy\", \"Italy\", \"Italy\", \"Italy\", \"Italy\", \"Italy\", \"Italy\", \"Italy\", \"Italy\", \"Italy\", \"Italy\", \"Italy\", \"Italy\", \"Italy\", \"Italy\", \"Italy\", \"Netherlands\", \"Netherlands\", \"Netherlands\", \"Netherlands\", \"Netherlands\", \"Netherlands\", \"Netherlands\", \"Netherlands\", \"Netherlands\", \"Netherlands\", \"Netherlands\", \"Netherlands\", \"Netherlands\", \"Netherlands\", \"Netherlands\", \"Netherlands\", \"Netherlands\", \"Netherlands\", \"Netherlands\", \"Netherlands\", \"Netherlands\", \"Peru\", \"Peru\", \"Peru\", \"Peru\", \"Peru\", \"Peru\", \"Portugal\", \"Portugal\", \"Portugal\", \"Portugal\", \"Portugal\", \"Portugal\", \"Portugal\", \"Portugal\", \"Portugal\", \"Portugal\", \"Russia\", \"Russia\", \"Russia\", \"Russia\", \"Russia\", \"Russia\", \"Russia\", \"Russia\", \"Russia\", \"Russia\", \"Russia\", \"Russia\", \"Russia\", \"Russia\", \"Russia\", \"Saudi Arabia\", \"Turkey\", \"Turkey\", \"Turkey\", \"Turkey\", \"Turkey\", \"Turkey\", \"Turkey\", \"Turkey\", \"Turkey\", \"Turkey\", \"Turkey\", \"Turkey\", \"Turkey\", \"Turkey\", \"Turkey\", \"Turkey\", \"Turkey\", \"Turkey\", \"Turkey\", \"Turkey\", \"Turkey\", \"Turkey\", \"Turkey\", \"Turkey\", \"Turkey\", \"Turkey\", \"United States\", \"United States\", \"United States\", \"United States\", \"United States\", \"United States\", \"United States\", \"United States\", \"United States\", \"United States\", \"United States\", \"United States\", \"United States\", \"United States\", \"United States\", \"United States\", \"United States\", \"United States\", \"United States\", \"United States\", \"United States\", \"United States\", \"United States\", \"United States\", \"United States\", \"United States\", \"United States\", \"United States\", \"United States\", \"United States\", \"United States\", \"United States\", \"United States\", \"United States\", \"United States\", \"United States\", \"United States\", \"United States\", \"United States\"], \"y\": [20814, 22194, 23403, 24983, 26667, 28018, 29647, 30589, 31119, 33573, 34809, 36138, 37183, 38496, 39983, 40956, 41889, 42797, 44293, 45325, 46134, 46687, 47334, 20727, 22169, 23430, 25262, 28320, 30425, 33682, 36599, 38654, 40581, 43079, 45757, 49492, 52995, 58509, 61888, 66501, 71886, 20748, 22133, 23301, 24365, 25663, 27046, 28364, 30081, 31872, 33341, 34777, 36823, 38413, 40179, 42099, 43877, 45341, 46884, 48489, 50015, 20201, 21022, 21574, 22164, 22710, 23495, 24228, 24820, 25220, 25499, 25753, 26336, 26651, 26997, 27322, 27658, 27826, 27981, 28186, 28414, 28595, 28811, 28978, 29081, 29181, 20448, 24320, 28047, 31207, 34625, 37232, 40206, 42696, 44724, 59865, 64021, 66559, 68566, 70618, 72508, 74258, 74652, 75543, 76369, 77016, 77234, 77749, 78159, 78598, 78927, 79355, 79929, 80134, 80261, 80380, 80497, 80667, 80768, 80814, 80859, 80879, 80908, 80932, 80954, 80973, 80995, 81020, 81063, 81086, 81130, 81229, 81281, 81346, 81484, 81553, 81631, 81733, 81827, 81946, 82059, 82157, 82241, 82295, 82395, 82465, 82527, 82575, 82642, 82698, 82784, 82870, 82925, 83004, 83097, 83209, 83303, 83352, 83402, 83754, 83785, 83803, 83817, 83849, 83864, 83876, 83884, 83899, 83909, 83912, 83938, 83940, 21463, 24774, 29212, 31554, 36508, 42288, 48582, 52547, 57298, 61913, 67366, 73522, 79696, 85778, 91714, 95391, 99225, 103228, 108202, 113525, 117658, 120479, 123016, 125098, 127584, 130450, 133830, 137439, 139897, 141672, 143457, 145694, 148046, 150383, 152438, 154175, 155193, 156337, 157641, 22719, 23240, 24258, 24926, 28572, 33089, 39673, 47610, 56188, 64059, 72248, 78797, 85195, 94417, 102136, 110238, 117710, 124736, 130759, 135032, 140510, 146690, 152446, 157022, 161852, 166019, 169496, 177464, 181504, 185904, 190008, 188578, 191163, 194515, 197142, 200194, 202961, 205905, 207634, 209465, 210773, 22302, 25233, 29155, 32964, 37575, 40174, 44550, 52128, 56989, 59105, 64338, 68605, 70478, 74390, 78167, 82048, 86334, 90676, 93790, 95403, 98076, 103573, 106206, 108847, 109252, 111821, 112606, 114657, 117324, 119151, 120804, 122577, 124114, 124575, 125770, 126835, 22141, 25150, 29474, 33718, 38168, 41903, 47806, 51608, 55242, 60733, 65077, 70272, 78991, 84279, 88621, 93873, 98476, 103093, 108692, 114217, 120067, 124743, 129044, 133495, 138078, 143464, 148377, 152840, 157149, 161145, 21393, 23077, 24506, 26496, 27892, 29435, 31332, 20610, 21638, 23049, 24811, 27017, 29406, 32332, 35408, 38309, 41495, 44606, 47593, 50468, 50468, 55743, 58226, 60500, 62589, 64586, 66220, 68192, 70029, 71686, 73303, 74877, 76389, 77995, 79494, 80868, 82211, 83505, 84802, 85996, 87026, 88194, 89328, 90481, 91472, 92584, 21157, 23980, 27980, 31506, 35713, 41035, 47021, 53578, 59138, 63927, 69176, 74386, 80539, 86498, 92472, 97689, 101739, 105792, 110574, 115242, 119827, 124632, 128948, 132547, 135586, 139422, 143626, 147577, 152271, 156363, 159516, 162488, 165155, 168941, 172434, 175925, 178972, 181228, 183957, 187327, 189973, 192994, 195351, 197675, 199414, 201505, 20549, 21762, 23097, 24413, 25587, 26551, 27419, 28153, 29214, 30449, 31589, 32655, 33405, 34134, 34842, 35729, 36535, 37190, 37845, 38245, 38416, 20914, 21648, 25331, 27517, 28699, 31190, 20206, 20863, 21379, 21982, 22353, 22797, 23392, 23864, 24027, 24322, 21102, 24490, 27938, 32008, 36793, 42853, 47121, 52763, 57999, 62773, 68622, 74588, 80949, 87147, 93558, 20077, 20921, 23934, 27069, 30217, 34109, 38226, 42282, 47029, 52167, 56956, 61049, 65111, 69392, 74193, 78546, 82329, 86306, 90980, 95591, 98674, 101790, 104912, 107773, 110130, 112261, 114653, 26747, 35206, 46442, 55231, 69194, 85991, 104686, 124665, 143025, 164620, 189618, 216721, 245540, 277965, 312237, 337635, 368196, 398809, 432132, 466033, 501560, 529951, 557571, 582594, 609516, 639664, 671331, 702164, 735086, 759687, 787752, 825041, 842629, 869172, 890524, 939053, 965910, 988451, 1012583]}],\n",
              "                        {\"template\": {\"data\": {\"bar\": [{\"error_x\": {\"color\": \"#2a3f5f\"}, \"error_y\": {\"color\": \"#2a3f5f\"}, \"marker\": {\"line\": {\"color\": \"#E5ECF6\", \"width\": 0.5}}, \"type\": \"bar\"}], \"barpolar\": [{\"marker\": {\"line\": {\"color\": \"#E5ECF6\", \"width\": 0.5}}, \"type\": \"barpolar\"}], \"carpet\": [{\"aaxis\": {\"endlinecolor\": \"#2a3f5f\", \"gridcolor\": \"white\", \"linecolor\": \"white\", \"minorgridcolor\": \"white\", \"startlinecolor\": \"#2a3f5f\"}, \"baxis\": {\"endlinecolor\": \"#2a3f5f\", \"gridcolor\": \"white\", \"linecolor\": \"white\", \"minorgridcolor\": \"white\", \"startlinecolor\": \"#2a3f5f\"}, \"type\": \"carpet\"}], \"choropleth\": [{\"colorbar\": {\"outlinewidth\": 0, \"ticks\": \"\"}, \"type\": \"choropleth\"}], \"contour\": [{\"colorbar\": {\"outlinewidth\": 0, \"ticks\": \"\"}, \"colorscale\": [[0.0, \"#0d0887\"], [0.1111111111111111, \"#46039f\"], [0.2222222222222222, \"#7201a8\"], [0.3333333333333333, \"#9c179e\"], [0.4444444444444444, \"#bd3786\"], [0.5555555555555556, \"#d8576b\"], [0.6666666666666666, \"#ed7953\"], [0.7777777777777778, \"#fb9f3a\"], [0.8888888888888888, \"#fdca26\"], [1.0, \"#f0f921\"]], \"type\": \"contour\"}], \"contourcarpet\": [{\"colorbar\": {\"outlinewidth\": 0, \"ticks\": \"\"}, \"type\": \"contourcarpet\"}], \"heatmap\": [{\"colorbar\": {\"outlinewidth\": 0, \"ticks\": \"\"}, \"colorscale\": [[0.0, \"#0d0887\"], [0.1111111111111111, \"#46039f\"], [0.2222222222222222, \"#7201a8\"], [0.3333333333333333, \"#9c179e\"], [0.4444444444444444, \"#bd3786\"], [0.5555555555555556, \"#d8576b\"], [0.6666666666666666, \"#ed7953\"], [0.7777777777777778, \"#fb9f3a\"], [0.8888888888888888, \"#fdca26\"], [1.0, \"#f0f921\"]], \"type\": \"heatmap\"}], \"heatmapgl\": [{\"colorbar\": {\"outlinewidth\": 0, \"ticks\": \"\"}, \"colorscale\": [[0.0, \"#0d0887\"], [0.1111111111111111, \"#46039f\"], [0.2222222222222222, \"#7201a8\"], [0.3333333333333333, \"#9c179e\"], [0.4444444444444444, \"#bd3786\"], [0.5555555555555556, \"#d8576b\"], [0.6666666666666666, \"#ed7953\"], [0.7777777777777778, \"#fb9f3a\"], [0.8888888888888888, \"#fdca26\"], [1.0, \"#f0f921\"]], \"type\": \"heatmapgl\"}], \"histogram\": [{\"marker\": {\"colorbar\": {\"outlinewidth\": 0, \"ticks\": \"\"}}, \"type\": \"histogram\"}], \"histogram2d\": [{\"colorbar\": {\"outlinewidth\": 0, \"ticks\": \"\"}, \"colorscale\": [[0.0, \"#0d0887\"], [0.1111111111111111, \"#46039f\"], [0.2222222222222222, \"#7201a8\"], [0.3333333333333333, \"#9c179e\"], [0.4444444444444444, \"#bd3786\"], [0.5555555555555556, \"#d8576b\"], [0.6666666666666666, \"#ed7953\"], [0.7777777777777778, \"#fb9f3a\"], [0.8888888888888888, \"#fdca26\"], [1.0, \"#f0f921\"]], \"type\": \"histogram2d\"}], \"histogram2dcontour\": [{\"colorbar\": {\"outlinewidth\": 0, \"ticks\": \"\"}, \"colorscale\": [[0.0, \"#0d0887\"], [0.1111111111111111, \"#46039f\"], [0.2222222222222222, \"#7201a8\"], [0.3333333333333333, \"#9c179e\"], [0.4444444444444444, \"#bd3786\"], [0.5555555555555556, \"#d8576b\"], [0.6666666666666666, \"#ed7953\"], [0.7777777777777778, \"#fb9f3a\"], [0.8888888888888888, \"#fdca26\"], [1.0, \"#f0f921\"]], \"type\": \"histogram2dcontour\"}], \"mesh3d\": [{\"colorbar\": {\"outlinewidth\": 0, \"ticks\": \"\"}, \"type\": \"mesh3d\"}], \"parcoords\": [{\"line\": {\"colorbar\": {\"outlinewidth\": 0, \"ticks\": \"\"}}, \"type\": \"parcoords\"}], \"pie\": [{\"automargin\": true, \"type\": \"pie\"}], \"scatter\": [{\"marker\": {\"colorbar\": {\"outlinewidth\": 0, \"ticks\": \"\"}}, \"type\": \"scatter\"}], \"scatter3d\": [{\"line\": {\"colorbar\": {\"outlinewidth\": 0, \"ticks\": \"\"}}, \"marker\": {\"colorbar\": {\"outlinewidth\": 0, \"ticks\": \"\"}}, \"type\": \"scatter3d\"}], \"scattercarpet\": [{\"marker\": {\"colorbar\": {\"outlinewidth\": 0, \"ticks\": \"\"}}, \"type\": \"scattercarpet\"}], \"scattergeo\": [{\"marker\": {\"colorbar\": {\"outlinewidth\": 0, \"ticks\": \"\"}}, \"type\": \"scattergeo\"}], \"scattergl\": [{\"marker\": {\"colorbar\": {\"outlinewidth\": 0, \"ticks\": \"\"}}, \"type\": \"scattergl\"}], \"scattermapbox\": [{\"marker\": {\"colorbar\": {\"outlinewidth\": 0, \"ticks\": \"\"}}, \"type\": \"scattermapbox\"}], \"scatterpolar\": [{\"marker\": {\"colorbar\": {\"outlinewidth\": 0, \"ticks\": \"\"}}, \"type\": \"scatterpolar\"}], \"scatterpolargl\": [{\"marker\": {\"colorbar\": {\"outlinewidth\": 0, \"ticks\": \"\"}}, \"type\": \"scatterpolargl\"}], \"scatterternary\": [{\"marker\": {\"colorbar\": {\"outlinewidth\": 0, \"ticks\": \"\"}}, \"type\": \"scatterternary\"}], \"surface\": [{\"colorbar\": {\"outlinewidth\": 0, \"ticks\": \"\"}, \"colorscale\": [[0.0, \"#0d0887\"], [0.1111111111111111, \"#46039f\"], [0.2222222222222222, \"#7201a8\"], [0.3333333333333333, \"#9c179e\"], [0.4444444444444444, \"#bd3786\"], [0.5555555555555556, \"#d8576b\"], [0.6666666666666666, \"#ed7953\"], [0.7777777777777778, \"#fb9f3a\"], [0.8888888888888888, \"#fdca26\"], [1.0, \"#f0f921\"]], \"type\": \"surface\"}], \"table\": [{\"cells\": {\"fill\": {\"color\": \"#EBF0F8\"}, \"line\": {\"color\": \"white\"}}, \"header\": {\"fill\": {\"color\": \"#C8D4E3\"}, \"line\": {\"color\": \"white\"}}, \"type\": \"table\"}]}, \"layout\": {\"annotationdefaults\": {\"arrowcolor\": \"#2a3f5f\", \"arrowhead\": 0, \"arrowwidth\": 1}, \"coloraxis\": {\"colorbar\": {\"outlinewidth\": 0, \"ticks\": \"\"}}, \"colorscale\": {\"diverging\": [[0, \"#8e0152\"], [0.1, \"#c51b7d\"], [0.2, \"#de77ae\"], [0.3, \"#f1b6da\"], [0.4, \"#fde0ef\"], [0.5, \"#f7f7f7\"], [0.6, \"#e6f5d0\"], [0.7, \"#b8e186\"], [0.8, \"#7fbc41\"], [0.9, \"#4d9221\"], [1, \"#276419\"]], \"sequential\": [[0.0, \"#0d0887\"], [0.1111111111111111, \"#46039f\"], [0.2222222222222222, \"#7201a8\"], [0.3333333333333333, \"#9c179e\"], [0.4444444444444444, \"#bd3786\"], [0.5555555555555556, \"#d8576b\"], [0.6666666666666666, \"#ed7953\"], [0.7777777777777778, \"#fb9f3a\"], [0.8888888888888888, \"#fdca26\"], [1.0, \"#f0f921\"]], \"sequentialminus\": [[0.0, \"#0d0887\"], [0.1111111111111111, \"#46039f\"], [0.2222222222222222, \"#7201a8\"], [0.3333333333333333, \"#9c179e\"], [0.4444444444444444, \"#bd3786\"], [0.5555555555555556, \"#d8576b\"], [0.6666666666666666, \"#ed7953\"], [0.7777777777777778, \"#fb9f3a\"], [0.8888888888888888, \"#fdca26\"], [1.0, \"#f0f921\"]]}, \"colorway\": [\"#636efa\", \"#EF553B\", \"#00cc96\", \"#ab63fa\", \"#FFA15A\", \"#19d3f3\", \"#FF6692\", \"#B6E880\", \"#FF97FF\", \"#FECB52\"], \"font\": {\"color\": \"#2a3f5f\"}, \"geo\": {\"bgcolor\": \"white\", \"lakecolor\": \"white\", \"landcolor\": \"#E5ECF6\", \"showlakes\": true, \"showland\": true, \"subunitcolor\": \"white\"}, \"hoverlabel\": {\"align\": \"left\"}, \"hovermode\": \"closest\", \"mapbox\": {\"style\": \"light\"}, \"paper_bgcolor\": \"white\", \"plot_bgcolor\": \"#E5ECF6\", \"polar\": {\"angularaxis\": {\"gridcolor\": \"white\", \"linecolor\": \"white\", \"ticks\": \"\"}, \"bgcolor\": \"#E5ECF6\", \"radialaxis\": {\"gridcolor\": \"white\", \"linecolor\": \"white\", \"ticks\": \"\"}}, \"scene\": {\"xaxis\": {\"backgroundcolor\": \"#E5ECF6\", \"gridcolor\": \"white\", \"gridwidth\": 2, \"linecolor\": \"white\", \"showbackground\": true, \"ticks\": \"\", \"zerolinecolor\": \"white\"}, \"yaxis\": {\"backgroundcolor\": \"#E5ECF6\", \"gridcolor\": \"white\", \"gridwidth\": 2, \"linecolor\": \"white\", \"showbackground\": true, \"ticks\": \"\", \"zerolinecolor\": \"white\"}, \"zaxis\": {\"backgroundcolor\": \"#E5ECF6\", \"gridcolor\": \"white\", \"gridwidth\": 2, \"linecolor\": \"white\", \"showbackground\": true, \"ticks\": \"\", \"zerolinecolor\": \"white\"}}, \"shapedefaults\": {\"line\": {\"color\": \"#2a3f5f\"}}, \"ternary\": {\"aaxis\": {\"gridcolor\": \"white\", \"linecolor\": \"white\", \"ticks\": \"\"}, \"baxis\": {\"gridcolor\": \"white\", \"linecolor\": \"white\", \"ticks\": \"\"}, \"bgcolor\": \"#E5ECF6\", \"caxis\": {\"gridcolor\": \"white\", \"linecolor\": \"white\", \"ticks\": \"\"}}, \"title\": {\"x\": 0.05}, \"xaxis\": {\"automargin\": true, \"gridcolor\": \"white\", \"linecolor\": \"white\", \"ticks\": \"\", \"title\": {\"standoff\": 15}, \"zerolinecolor\": \"white\", \"zerolinewidth\": 2}, \"yaxis\": {\"automargin\": true, \"gridcolor\": \"white\", \"linecolor\": \"white\", \"ticks\": \"\", \"title\": {\"standoff\": 15}, \"zerolinecolor\": \"white\", \"zerolinewidth\": 2}}}, \"title\": {\"text\": \"Countries with more than 20k cases\"}},\n",
              "                        {\"responsive\": true}\n",
              "                    ).then(function(){\n",
              "                            \n",
              "var gd = document.getElementById('4fb1bb80-cb94-4762-b943-1bdbffb2bb52');\n",
              "var x = new MutationObserver(function (mutations, observer) {{\n",
              "        var display = window.getComputedStyle(gd).display;\n",
              "        if (!display || display === 'none') {{\n",
              "            console.log([gd, 'removed!']);\n",
              "            Plotly.purge(gd);\n",
              "            observer.disconnect();\n",
              "        }}\n",
              "}});\n",
              "\n",
              "// Listen for the removal of the full notebook cells\n",
              "var notebookContainer = gd.closest('#notebook-container');\n",
              "if (notebookContainer) {{\n",
              "    x.observe(notebookContainer, {childList: true});\n",
              "}}\n",
              "\n",
              "// Listen for the clearing of the current output cell\n",
              "var outputEl = gd.closest('.output');\n",
              "if (outputEl) {{\n",
              "    x.observe(outputEl, {childList: true});\n",
              "}}\n",
              "\n",
              "                        })\n",
              "                };\n",
              "                });\n",
              "            </script>\n",
              "        </div>"
            ],
            "application/vnd.plotly.v1+json": {
              "data": [
                {
                  "y": [
                    20814,
                    22194,
                    23403,
                    24983,
                    26667,
                    28018,
                    29647,
                    30589,
                    31119,
                    33573,
                    34809,
                    36138,
                    37183,
                    38496,
                    39983,
                    40956,
                    41889,
                    42797,
                    44293,
                    45325,
                    46134,
                    46687,
                    47334,
                    20727,
                    22169,
                    23430,
                    25262,
                    28320,
                    30425,
                    33682,
                    36599,
                    38654,
                    40581,
                    43079,
                    45757,
                    49492,
                    52995,
                    58509,
                    61888,
                    66501,
                    71886,
                    20748,
                    22133,
                    23301,
                    24365,
                    25663,
                    27046,
                    28364,
                    30081,
                    31872,
                    33341,
                    34777,
                    36823,
                    38413,
                    40179,
                    42099,
                    43877,
                    45341,
                    46884,
                    48489,
                    50015,
                    20201,
                    21022,
                    21574,
                    22164,
                    22710,
                    23495,
                    24228,
                    24820,
                    25220,
                    25499,
                    25753,
                    26336,
                    26651,
                    26997,
                    27322,
                    27658,
                    27826,
                    27981,
                    28186,
                    28414,
                    28595,
                    28811,
                    28978,
                    29081,
                    29181,
                    20448,
                    24320,
                    28047,
                    31207,
                    34625,
                    37232,
                    40206,
                    42696,
                    44724,
                    59865,
                    64021,
                    66559,
                    68566,
                    70618,
                    72508,
                    74258,
                    74652,
                    75543,
                    76369,
                    77016,
                    77234,
                    77749,
                    78159,
                    78598,
                    78927,
                    79355,
                    79929,
                    80134,
                    80261,
                    80380,
                    80497,
                    80667,
                    80768,
                    80814,
                    80859,
                    80879,
                    80908,
                    80932,
                    80954,
                    80973,
                    80995,
                    81020,
                    81063,
                    81086,
                    81130,
                    81229,
                    81281,
                    81346,
                    81484,
                    81553,
                    81631,
                    81733,
                    81827,
                    81946,
                    82059,
                    82157,
                    82241,
                    82295,
                    82395,
                    82465,
                    82527,
                    82575,
                    82642,
                    82698,
                    82784,
                    82870,
                    82925,
                    83004,
                    83097,
                    83209,
                    83303,
                    83352,
                    83402,
                    83754,
                    83785,
                    83803,
                    83817,
                    83849,
                    83864,
                    83876,
                    83884,
                    83899,
                    83909,
                    83912,
                    83938,
                    83940,
                    21463,
                    24774,
                    29212,
                    31554,
                    36508,
                    42288,
                    48582,
                    52547,
                    57298,
                    61913,
                    67366,
                    73522,
                    79696,
                    85778,
                    91714,
                    95391,
                    99225,
                    103228,
                    108202,
                    113525,
                    117658,
                    120479,
                    123016,
                    125098,
                    127584,
                    130450,
                    133830,
                    137439,
                    139897,
                    141672,
                    143457,
                    145694,
                    148046,
                    150383,
                    152438,
                    154175,
                    155193,
                    156337,
                    157641,
                    22719,
                    23240,
                    24258,
                    24926,
                    28572,
                    33089,
                    39673,
                    47610,
                    56188,
                    64059,
                    72248,
                    78797,
                    85195,
                    94417,
                    102136,
                    110238,
                    117710,
                    124736,
                    130759,
                    135032,
                    140510,
                    146690,
                    152446,
                    157022,
                    161852,
                    166019,
                    169496,
                    177464,
                    181504,
                    185904,
                    190008,
                    188578,
                    191163,
                    194515,
                    197142,
                    200194,
                    202961,
                    205905,
                    207634,
                    209465,
                    210773,
                    22302,
                    25233,
                    29155,
                    32964,
                    37575,
                    40174,
                    44550,
                    52128,
                    56989,
                    59105,
                    64338,
                    68605,
                    70478,
                    74390,
                    78167,
                    82048,
                    86334,
                    90676,
                    93790,
                    95403,
                    98076,
                    103573,
                    106206,
                    108847,
                    109252,
                    111821,
                    112606,
                    114657,
                    117324,
                    119151,
                    120804,
                    122577,
                    124114,
                    124575,
                    125770,
                    126835,
                    22141,
                    25150,
                    29474,
                    33718,
                    38168,
                    41903,
                    47806,
                    51608,
                    55242,
                    60733,
                    65077,
                    70272,
                    78991,
                    84279,
                    88621,
                    93873,
                    98476,
                    103093,
                    108692,
                    114217,
                    120067,
                    124743,
                    129044,
                    133495,
                    138078,
                    143464,
                    148377,
                    152840,
                    157149,
                    161145,
                    21393,
                    23077,
                    24506,
                    26496,
                    27892,
                    29435,
                    31332,
                    20610,
                    21638,
                    23049,
                    24811,
                    27017,
                    29406,
                    32332,
                    35408,
                    38309,
                    41495,
                    44606,
                    47593,
                    50468,
                    50468,
                    55743,
                    58226,
                    60500,
                    62589,
                    64586,
                    66220,
                    68192,
                    70029,
                    71686,
                    73303,
                    74877,
                    76389,
                    77995,
                    79494,
                    80868,
                    82211,
                    83505,
                    84802,
                    85996,
                    87026,
                    88194,
                    89328,
                    90481,
                    91472,
                    92584,
                    21157,
                    23980,
                    27980,
                    31506,
                    35713,
                    41035,
                    47021,
                    53578,
                    59138,
                    63927,
                    69176,
                    74386,
                    80539,
                    86498,
                    92472,
                    97689,
                    101739,
                    105792,
                    110574,
                    115242,
                    119827,
                    124632,
                    128948,
                    132547,
                    135586,
                    139422,
                    143626,
                    147577,
                    152271,
                    156363,
                    159516,
                    162488,
                    165155,
                    168941,
                    172434,
                    175925,
                    178972,
                    181228,
                    183957,
                    187327,
                    189973,
                    192994,
                    195351,
                    197675,
                    199414,
                    201505,
                    20549,
                    21762,
                    23097,
                    24413,
                    25587,
                    26551,
                    27419,
                    28153,
                    29214,
                    30449,
                    31589,
                    32655,
                    33405,
                    34134,
                    34842,
                    35729,
                    36535,
                    37190,
                    37845,
                    38245,
                    38416,
                    20914,
                    21648,
                    25331,
                    27517,
                    28699,
                    31190,
                    20206,
                    20863,
                    21379,
                    21982,
                    22353,
                    22797,
                    23392,
                    23864,
                    24027,
                    24322,
                    21102,
                    24490,
                    27938,
                    32008,
                    36793,
                    42853,
                    47121,
                    52763,
                    57999,
                    62773,
                    68622,
                    74588,
                    80949,
                    87147,
                    93558,
                    20077,
                    20921,
                    23934,
                    27069,
                    30217,
                    34109,
                    38226,
                    42282,
                    47029,
                    52167,
                    56956,
                    61049,
                    65111,
                    69392,
                    74193,
                    78546,
                    82329,
                    86306,
                    90980,
                    95591,
                    98674,
                    101790,
                    104912,
                    107773,
                    110130,
                    112261,
                    114653,
                    26747,
                    35206,
                    46442,
                    55231,
                    69194,
                    85991,
                    104686,
                    124665,
                    143025,
                    164620,
                    189618,
                    216721,
                    245540,
                    277965,
                    312237,
                    337635,
                    368196,
                    398809,
                    432132,
                    466033,
                    501560,
                    529951,
                    557571,
                    582594,
                    609516,
                    639664,
                    671331,
                    702164,
                    735086,
                    759687,
                    787752,
                    825041,
                    842629,
                    869172,
                    890524,
                    939053,
                    965910,
                    988451,
                    1012583
                  ],
                  "width": 0.5,
                  "type": "bar",
                  "x": [
                    "Belgium",
                    "Belgium",
                    "Belgium",
                    "Belgium",
                    "Belgium",
                    "Belgium",
                    "Belgium",
                    "Belgium",
                    "Belgium",
                    "Belgium",
                    "Belgium",
                    "Belgium",
                    "Belgium",
                    "Belgium",
                    "Belgium",
                    "Belgium",
                    "Belgium",
                    "Belgium",
                    "Belgium",
                    "Belgium",
                    "Belgium",
                    "Belgium",
                    "Belgium",
                    "Brazil",
                    "Brazil",
                    "Brazil",
                    "Brazil",
                    "Brazil",
                    "Brazil",
                    "Brazil",
                    "Brazil",
                    "Brazil",
                    "Brazil",
                    "Brazil",
                    "Brazil",
                    "Brazil",
                    "Brazil",
                    "Brazil",
                    "Brazil",
                    "Brazil",
                    "Brazil",
                    "Canada",
                    "Canada",
                    "Canada",
                    "Canada",
                    "Canada",
                    "Canada",
                    "Canada",
                    "Canada",
                    "Canada",
                    "Canada",
                    "Canada",
                    "Canada",
                    "Canada",
                    "Canada",
                    "Canada",
                    "Canada",
                    "Canada",
                    "Canada",
                    "Canada",
                    "Canada",
                    "Switzerland",
                    "Switzerland",
                    "Switzerland",
                    "Switzerland",
                    "Switzerland",
                    "Switzerland",
                    "Switzerland",
                    "Switzerland",
                    "Switzerland",
                    "Switzerland",
                    "Switzerland",
                    "Switzerland",
                    "Switzerland",
                    "Switzerland",
                    "Switzerland",
                    "Switzerland",
                    "Switzerland",
                    "Switzerland",
                    "Switzerland",
                    "Switzerland",
                    "Switzerland",
                    "Switzerland",
                    "Switzerland",
                    "Switzerland",
                    "Switzerland",
                    "China",
                    "China",
                    "China",
                    "China",
                    "China",
                    "China",
                    "China",
                    "China",
                    "China",
                    "China",
                    "China",
                    "China",
                    "China",
                    "China",
                    "China",
                    "China",
                    "China",
                    "China",
                    "China",
                    "China",
                    "China",
                    "China",
                    "China",
                    "China",
                    "China",
                    "China",
                    "China",
                    "China",
                    "China",
                    "China",
                    "China",
                    "China",
                    "China",
                    "China",
                    "China",
                    "China",
                    "China",
                    "China",
                    "China",
                    "China",
                    "China",
                    "China",
                    "China",
                    "China",
                    "China",
                    "China",
                    "China",
                    "China",
                    "China",
                    "China",
                    "China",
                    "China",
                    "China",
                    "China",
                    "China",
                    "China",
                    "China",
                    "China",
                    "China",
                    "China",
                    "China",
                    "China",
                    "China",
                    "China",
                    "China",
                    "China",
                    "China",
                    "China",
                    "China",
                    "China",
                    "China",
                    "China",
                    "China",
                    "China",
                    "China",
                    "China",
                    "China",
                    "China",
                    "China",
                    "China",
                    "China",
                    "China",
                    "China",
                    "China",
                    "China",
                    "China",
                    "Germany",
                    "Germany",
                    "Germany",
                    "Germany",
                    "Germany",
                    "Germany",
                    "Germany",
                    "Germany",
                    "Germany",
                    "Germany",
                    "Germany",
                    "Germany",
                    "Germany",
                    "Germany",
                    "Germany",
                    "Germany",
                    "Germany",
                    "Germany",
                    "Germany",
                    "Germany",
                    "Germany",
                    "Germany",
                    "Germany",
                    "Germany",
                    "Germany",
                    "Germany",
                    "Germany",
                    "Germany",
                    "Germany",
                    "Germany",
                    "Germany",
                    "Germany",
                    "Germany",
                    "Germany",
                    "Germany",
                    "Germany",
                    "Germany",
                    "Germany",
                    "Germany",
                    "Ecuador",
                    "Ecuador",
                    "Ecuador",
                    "Spain",
                    "Spain",
                    "Spain",
                    "Spain",
                    "Spain",
                    "Spain",
                    "Spain",
                    "Spain",
                    "Spain",
                    "Spain",
                    "Spain",
                    "Spain",
                    "Spain",
                    "Spain",
                    "Spain",
                    "Spain",
                    "Spain",
                    "Spain",
                    "Spain",
                    "Spain",
                    "Spain",
                    "Spain",
                    "Spain",
                    "Spain",
                    "Spain",
                    "Spain",
                    "Spain",
                    "Spain",
                    "Spain",
                    "Spain",
                    "Spain",
                    "Spain",
                    "Spain",
                    "Spain",
                    "Spain",
                    "Spain",
                    "Spain",
                    "Spain",
                    "France",
                    "France",
                    "France",
                    "France",
                    "France",
                    "France",
                    "France",
                    "France",
                    "France",
                    "France",
                    "France",
                    "France",
                    "France",
                    "France",
                    "France",
                    "France",
                    "France",
                    "France",
                    "France",
                    "France",
                    "France",
                    "France",
                    "France",
                    "France",
                    "France",
                    "France",
                    "France",
                    "France",
                    "France",
                    "France",
                    "France",
                    "France",
                    "France",
                    "France",
                    "France",
                    "France",
                    "United Kingdom",
                    "United Kingdom",
                    "United Kingdom",
                    "United Kingdom",
                    "United Kingdom",
                    "United Kingdom",
                    "United Kingdom",
                    "United Kingdom",
                    "United Kingdom",
                    "United Kingdom",
                    "United Kingdom",
                    "United Kingdom",
                    "United Kingdom",
                    "United Kingdom",
                    "United Kingdom",
                    "United Kingdom",
                    "United Kingdom",
                    "United Kingdom",
                    "United Kingdom",
                    "United Kingdom",
                    "United Kingdom",
                    "United Kingdom",
                    "United Kingdom",
                    "United Kingdom",
                    "United Kingdom",
                    "United Kingdom",
                    "United Kingdom",
                    "United Kingdom",
                    "United Kingdom",
                    "United Kingdom",
                    "India",
                    "India",
                    "India",
                    "India",
                    "India",
                    "India",
                    "India",
                    "Iran",
                    "Iran",
                    "Iran",
                    "Iran",
                    "Iran",
                    "Iran",
                    "Iran",
                    "Iran",
                    "Iran",
                    "Iran",
                    "Iran",
                    "Iran",
                    "Iran",
                    "Iran",
                    "Iran",
                    "Iran",
                    "Iran",
                    "Iran",
                    "Iran",
                    "Iran",
                    "Iran",
                    "Iran",
                    "Iran",
                    "Iran",
                    "Iran",
                    "Iran",
                    "Iran",
                    "Iran",
                    "Iran",
                    "Iran",
                    "Iran",
                    "Iran",
                    "Iran",
                    "Iran",
                    "Iran",
                    "Iran",
                    "Iran",
                    "Iran",
                    "Iran",
                    "Italy",
                    "Italy",
                    "Italy",
                    "Italy",
                    "Italy",
                    "Italy",
                    "Italy",
                    "Italy",
                    "Italy",
                    "Italy",
                    "Italy",
                    "Italy",
                    "Italy",
                    "Italy",
                    "Italy",
                    "Italy",
                    "Italy",
                    "Italy",
                    "Italy",
                    "Italy",
                    "Italy",
                    "Italy",
                    "Italy",
                    "Italy",
                    "Italy",
                    "Italy",
                    "Italy",
                    "Italy",
                    "Italy",
                    "Italy",
                    "Italy",
                    "Italy",
                    "Italy",
                    "Italy",
                    "Italy",
                    "Italy",
                    "Italy",
                    "Italy",
                    "Italy",
                    "Italy",
                    "Italy",
                    "Italy",
                    "Italy",
                    "Italy",
                    "Italy",
                    "Italy",
                    "Netherlands",
                    "Netherlands",
                    "Netherlands",
                    "Netherlands",
                    "Netherlands",
                    "Netherlands",
                    "Netherlands",
                    "Netherlands",
                    "Netherlands",
                    "Netherlands",
                    "Netherlands",
                    "Netherlands",
                    "Netherlands",
                    "Netherlands",
                    "Netherlands",
                    "Netherlands",
                    "Netherlands",
                    "Netherlands",
                    "Netherlands",
                    "Netherlands",
                    "Netherlands",
                    "Peru",
                    "Peru",
                    "Peru",
                    "Peru",
                    "Peru",
                    "Peru",
                    "Portugal",
                    "Portugal",
                    "Portugal",
                    "Portugal",
                    "Portugal",
                    "Portugal",
                    "Portugal",
                    "Portugal",
                    "Portugal",
                    "Portugal",
                    "Russia",
                    "Russia",
                    "Russia",
                    "Russia",
                    "Russia",
                    "Russia",
                    "Russia",
                    "Russia",
                    "Russia",
                    "Russia",
                    "Russia",
                    "Russia",
                    "Russia",
                    "Russia",
                    "Russia",
                    "Saudi Arabia",
                    "Turkey",
                    "Turkey",
                    "Turkey",
                    "Turkey",
                    "Turkey",
                    "Turkey",
                    "Turkey",
                    "Turkey",
                    "Turkey",
                    "Turkey",
                    "Turkey",
                    "Turkey",
                    "Turkey",
                    "Turkey",
                    "Turkey",
                    "Turkey",
                    "Turkey",
                    "Turkey",
                    "Turkey",
                    "Turkey",
                    "Turkey",
                    "Turkey",
                    "Turkey",
                    "Turkey",
                    "Turkey",
                    "Turkey",
                    "United States",
                    "United States",
                    "United States",
                    "United States",
                    "United States",
                    "United States",
                    "United States",
                    "United States",
                    "United States",
                    "United States",
                    "United States",
                    "United States",
                    "United States",
                    "United States",
                    "United States",
                    "United States",
                    "United States",
                    "United States",
                    "United States",
                    "United States",
                    "United States",
                    "United States",
                    "United States",
                    "United States",
                    "United States",
                    "United States",
                    "United States",
                    "United States",
                    "United States",
                    "United States",
                    "United States",
                    "United States",
                    "United States",
                    "United States",
                    "United States",
                    "United States",
                    "United States",
                    "United States",
                    "United States"
                  ]
                }
              ],
              "config": {
                "plotlyServerURL": "https://plot.ly"
              },
              "layout": {
                "template": {
                  "layout": {
                    "shapedefaults": {
                      "line": {
                        "color": "#2a3f5f"
                      }
                    },
                    "polar": {
                      "radialaxis": {
                        "ticks": "",
                        "gridcolor": "white",
                        "linecolor": "white"
                      },
                      "bgcolor": "#E5ECF6",
                      "angularaxis": {
                        "ticks": "",
                        "gridcolor": "white",
                        "linecolor": "white"
                      }
                    },
                    "colorway": [
                      "#636efa",
                      "#EF553B",
                      "#00cc96",
                      "#ab63fa",
                      "#FFA15A",
                      "#19d3f3",
                      "#FF6692",
                      "#B6E880",
                      "#FF97FF",
                      "#FECB52"
                    ],
                    "xaxis": {
                      "automargin": true,
                      "title": {
                        "standoff": 15
                      },
                      "zerolinewidth": 2,
                      "ticks": "",
                      "zerolinecolor": "white",
                      "gridcolor": "white",
                      "linecolor": "white"
                    },
                    "colorscale": {
                      "diverging": [
                        [
                          0,
                          "#8e0152"
                        ],
                        [
                          0.1,
                          "#c51b7d"
                        ],
                        [
                          0.2,
                          "#de77ae"
                        ],
                        [
                          0.3,
                          "#f1b6da"
                        ],
                        [
                          0.4,
                          "#fde0ef"
                        ],
                        [
                          0.5,
                          "#f7f7f7"
                        ],
                        [
                          0.6,
                          "#e6f5d0"
                        ],
                        [
                          0.7,
                          "#b8e186"
                        ],
                        [
                          0.8,
                          "#7fbc41"
                        ],
                        [
                          0.9,
                          "#4d9221"
                        ],
                        [
                          1,
                          "#276419"
                        ]
                      ],
                      "sequential": [
                        [
                          0,
                          "#0d0887"
                        ],
                        [
                          0.1111111111111111,
                          "#46039f"
                        ],
                        [
                          0.2222222222222222,
                          "#7201a8"
                        ],
                        [
                          0.3333333333333333,
                          "#9c179e"
                        ],
                        [
                          0.4444444444444444,
                          "#bd3786"
                        ],
                        [
                          0.5555555555555556,
                          "#d8576b"
                        ],
                        [
                          0.6666666666666666,
                          "#ed7953"
                        ],
                        [
                          0.7777777777777778,
                          "#fb9f3a"
                        ],
                        [
                          0.8888888888888888,
                          "#fdca26"
                        ],
                        [
                          1,
                          "#f0f921"
                        ]
                      ],
                      "sequentialminus": [
                        [
                          0,
                          "#0d0887"
                        ],
                        [
                          0.1111111111111111,
                          "#46039f"
                        ],
                        [
                          0.2222222222222222,
                          "#7201a8"
                        ],
                        [
                          0.3333333333333333,
                          "#9c179e"
                        ],
                        [
                          0.4444444444444444,
                          "#bd3786"
                        ],
                        [
                          0.5555555555555556,
                          "#d8576b"
                        ],
                        [
                          0.6666666666666666,
                          "#ed7953"
                        ],
                        [
                          0.7777777777777778,
                          "#fb9f3a"
                        ],
                        [
                          0.8888888888888888,
                          "#fdca26"
                        ],
                        [
                          1,
                          "#f0f921"
                        ]
                      ]
                    },
                    "paper_bgcolor": "white",
                    "plot_bgcolor": "#E5ECF6",
                    "title": {
                      "x": 0.05
                    },
                    "scene": {
                      "zaxis": {
                        "backgroundcolor": "#E5ECF6",
                        "ticks": "",
                        "gridwidth": 2,
                        "showbackground": true,
                        "zerolinecolor": "white",
                        "gridcolor": "white",
                        "linecolor": "white"
                      },
                      "xaxis": {
                        "backgroundcolor": "#E5ECF6",
                        "ticks": "",
                        "gridwidth": 2,
                        "showbackground": true,
                        "zerolinecolor": "white",
                        "gridcolor": "white",
                        "linecolor": "white"
                      },
                      "yaxis": {
                        "backgroundcolor": "#E5ECF6",
                        "ticks": "",
                        "gridwidth": 2,
                        "showbackground": true,
                        "zerolinecolor": "white",
                        "gridcolor": "white",
                        "linecolor": "white"
                      }
                    },
                    "yaxis": {
                      "automargin": true,
                      "title": {
                        "standoff": 15
                      },
                      "zerolinewidth": 2,
                      "ticks": "",
                      "zerolinecolor": "white",
                      "gridcolor": "white",
                      "linecolor": "white"
                    },
                    "annotationdefaults": {
                      "arrowwidth": 1,
                      "arrowhead": 0,
                      "arrowcolor": "#2a3f5f"
                    },
                    "hoverlabel": {
                      "align": "left"
                    },
                    "ternary": {
                      "bgcolor": "#E5ECF6",
                      "baxis": {
                        "ticks": "",
                        "gridcolor": "white",
                        "linecolor": "white"
                      },
                      "caxis": {
                        "ticks": "",
                        "gridcolor": "white",
                        "linecolor": "white"
                      },
                      "aaxis": {
                        "ticks": "",
                        "gridcolor": "white",
                        "linecolor": "white"
                      }
                    },
                    "mapbox": {
                      "style": "light"
                    },
                    "hovermode": "closest",
                    "font": {
                      "color": "#2a3f5f"
                    },
                    "geo": {
                      "showland": true,
                      "landcolor": "#E5ECF6",
                      "showlakes": true,
                      "bgcolor": "white",
                      "subunitcolor": "white",
                      "lakecolor": "white"
                    },
                    "coloraxis": {
                      "colorbar": {
                        "outlinewidth": 0,
                        "ticks": ""
                      }
                    }
                  },
                  "data": {
                    "mesh3d": [
                      {
                        "colorbar": {
                          "outlinewidth": 0,
                          "ticks": ""
                        },
                        "type": "mesh3d"
                      }
                    ],
                    "scattercarpet": [
                      {
                        "marker": {
                          "colorbar": {
                            "outlinewidth": 0,
                            "ticks": ""
                          }
                        },
                        "type": "scattercarpet"
                      }
                    ],
                    "pie": [
                      {
                        "automargin": true,
                        "type": "pie"
                      }
                    ],
                    "surface": [
                      {
                        "colorbar": {
                          "outlinewidth": 0,
                          "ticks": ""
                        },
                        "type": "surface",
                        "colorscale": [
                          [
                            0,
                            "#0d0887"
                          ],
                          [
                            0.1111111111111111,
                            "#46039f"
                          ],
                          [
                            0.2222222222222222,
                            "#7201a8"
                          ],
                          [
                            0.3333333333333333,
                            "#9c179e"
                          ],
                          [
                            0.4444444444444444,
                            "#bd3786"
                          ],
                          [
                            0.5555555555555556,
                            "#d8576b"
                          ],
                          [
                            0.6666666666666666,
                            "#ed7953"
                          ],
                          [
                            0.7777777777777778,
                            "#fb9f3a"
                          ],
                          [
                            0.8888888888888888,
                            "#fdca26"
                          ],
                          [
                            1,
                            "#f0f921"
                          ]
                        ]
                      }
                    ],
                    "table": [
                      {
                        "header": {
                          "line": {
                            "color": "white"
                          },
                          "fill": {
                            "color": "#C8D4E3"
                          }
                        },
                        "cells": {
                          "line": {
                            "color": "white"
                          },
                          "fill": {
                            "color": "#EBF0F8"
                          }
                        },
                        "type": "table"
                      }
                    ],
                    "scatterpolargl": [
                      {
                        "marker": {
                          "colorbar": {
                            "outlinewidth": 0,
                            "ticks": ""
                          }
                        },
                        "type": "scatterpolargl"
                      }
                    ],
                    "contour": [
                      {
                        "colorbar": {
                          "outlinewidth": 0,
                          "ticks": ""
                        },
                        "type": "contour",
                        "colorscale": [
                          [
                            0,
                            "#0d0887"
                          ],
                          [
                            0.1111111111111111,
                            "#46039f"
                          ],
                          [
                            0.2222222222222222,
                            "#7201a8"
                          ],
                          [
                            0.3333333333333333,
                            "#9c179e"
                          ],
                          [
                            0.4444444444444444,
                            "#bd3786"
                          ],
                          [
                            0.5555555555555556,
                            "#d8576b"
                          ],
                          [
                            0.6666666666666666,
                            "#ed7953"
                          ],
                          [
                            0.7777777777777778,
                            "#fb9f3a"
                          ],
                          [
                            0.8888888888888888,
                            "#fdca26"
                          ],
                          [
                            1,
                            "#f0f921"
                          ]
                        ]
                      }
                    ],
                    "carpet": [
                      {
                        "type": "carpet",
                        "baxis": {
                          "minorgridcolor": "white",
                          "gridcolor": "white",
                          "linecolor": "white",
                          "endlinecolor": "#2a3f5f",
                          "startlinecolor": "#2a3f5f"
                        },
                        "aaxis": {
                          "minorgridcolor": "white",
                          "gridcolor": "white",
                          "linecolor": "white",
                          "endlinecolor": "#2a3f5f",
                          "startlinecolor": "#2a3f5f"
                        }
                      }
                    ],
                    "contourcarpet": [
                      {
                        "colorbar": {
                          "outlinewidth": 0,
                          "ticks": ""
                        },
                        "type": "contourcarpet"
                      }
                    ],
                    "heatmap": [
                      {
                        "colorbar": {
                          "outlinewidth": 0,
                          "ticks": ""
                        },
                        "type": "heatmap",
                        "colorscale": [
                          [
                            0,
                            "#0d0887"
                          ],
                          [
                            0.1111111111111111,
                            "#46039f"
                          ],
                          [
                            0.2222222222222222,
                            "#7201a8"
                          ],
                          [
                            0.3333333333333333,
                            "#9c179e"
                          ],
                          [
                            0.4444444444444444,
                            "#bd3786"
                          ],
                          [
                            0.5555555555555556,
                            "#d8576b"
                          ],
                          [
                            0.6666666666666666,
                            "#ed7953"
                          ],
                          [
                            0.7777777777777778,
                            "#fb9f3a"
                          ],
                          [
                            0.8888888888888888,
                            "#fdca26"
                          ],
                          [
                            1,
                            "#f0f921"
                          ]
                        ]
                      }
                    ],
                    "scattermapbox": [
                      {
                        "marker": {
                          "colorbar": {
                            "outlinewidth": 0,
                            "ticks": ""
                          }
                        },
                        "type": "scattermapbox"
                      }
                    ],
                    "scatter3d": [
                      {
                        "marker": {
                          "colorbar": {
                            "outlinewidth": 0,
                            "ticks": ""
                          }
                        },
                        "line": {
                          "colorbar": {
                            "outlinewidth": 0,
                            "ticks": ""
                          }
                        },
                        "type": "scatter3d"
                      }
                    ],
                    "scattergl": [
                      {
                        "marker": {
                          "colorbar": {
                            "outlinewidth": 0,
                            "ticks": ""
                          }
                        },
                        "type": "scattergl"
                      }
                    ],
                    "scatterternary": [
                      {
                        "marker": {
                          "colorbar": {
                            "outlinewidth": 0,
                            "ticks": ""
                          }
                        },
                        "type": "scatterternary"
                      }
                    ],
                    "histogram": [
                      {
                        "marker": {
                          "colorbar": {
                            "outlinewidth": 0,
                            "ticks": ""
                          }
                        },
                        "type": "histogram"
                      }
                    ],
                    "heatmapgl": [
                      {
                        "colorbar": {
                          "outlinewidth": 0,
                          "ticks": ""
                        },
                        "type": "heatmapgl",
                        "colorscale": [
                          [
                            0,
                            "#0d0887"
                          ],
                          [
                            0.1111111111111111,
                            "#46039f"
                          ],
                          [
                            0.2222222222222222,
                            "#7201a8"
                          ],
                          [
                            0.3333333333333333,
                            "#9c179e"
                          ],
                          [
                            0.4444444444444444,
                            "#bd3786"
                          ],
                          [
                            0.5555555555555556,
                            "#d8576b"
                          ],
                          [
                            0.6666666666666666,
                            "#ed7953"
                          ],
                          [
                            0.7777777777777778,
                            "#fb9f3a"
                          ],
                          [
                            0.8888888888888888,
                            "#fdca26"
                          ],
                          [
                            1,
                            "#f0f921"
                          ]
                        ]
                      }
                    ],
                    "scatterpolar": [
                      {
                        "marker": {
                          "colorbar": {
                            "outlinewidth": 0,
                            "ticks": ""
                          }
                        },
                        "type": "scatterpolar"
                      }
                    ],
                    "histogram2d": [
                      {
                        "colorbar": {
                          "outlinewidth": 0,
                          "ticks": ""
                        },
                        "type": "histogram2d",
                        "colorscale": [
                          [
                            0,
                            "#0d0887"
                          ],
                          [
                            0.1111111111111111,
                            "#46039f"
                          ],
                          [
                            0.2222222222222222,
                            "#7201a8"
                          ],
                          [
                            0.3333333333333333,
                            "#9c179e"
                          ],
                          [
                            0.4444444444444444,
                            "#bd3786"
                          ],
                          [
                            0.5555555555555556,
                            "#d8576b"
                          ],
                          [
                            0.6666666666666666,
                            "#ed7953"
                          ],
                          [
                            0.7777777777777778,
                            "#fb9f3a"
                          ],
                          [
                            0.8888888888888888,
                            "#fdca26"
                          ],
                          [
                            1,
                            "#f0f921"
                          ]
                        ]
                      }
                    ],
                    "scattergeo": [
                      {
                        "marker": {
                          "colorbar": {
                            "outlinewidth": 0,
                            "ticks": ""
                          }
                        },
                        "type": "scattergeo"
                      }
                    ],
                    "bar": [
                      {
                        "marker": {
                          "line": {
                            "color": "#E5ECF6",
                            "width": 0.5
                          }
                        },
                        "type": "bar",
                        "error_x": {
                          "color": "#2a3f5f"
                        },
                        "error_y": {
                          "color": "#2a3f5f"
                        }
                      }
                    ],
                    "choropleth": [
                      {
                        "colorbar": {
                          "outlinewidth": 0,
                          "ticks": ""
                        },
                        "type": "choropleth"
                      }
                    ],
                    "parcoords": [
                      {
                        "line": {
                          "colorbar": {
                            "outlinewidth": 0,
                            "ticks": ""
                          }
                        },
                        "type": "parcoords"
                      }
                    ],
                    "barpolar": [
                      {
                        "marker": {
                          "line": {
                            "color": "#E5ECF6",
                            "width": 0.5
                          }
                        },
                        "type": "barpolar"
                      }
                    ],
                    "histogram2dcontour": [
                      {
                        "colorbar": {
                          "outlinewidth": 0,
                          "ticks": ""
                        },
                        "type": "histogram2dcontour",
                        "colorscale": [
                          [
                            0,
                            "#0d0887"
                          ],
                          [
                            0.1111111111111111,
                            "#46039f"
                          ],
                          [
                            0.2222222222222222,
                            "#7201a8"
                          ],
                          [
                            0.3333333333333333,
                            "#9c179e"
                          ],
                          [
                            0.4444444444444444,
                            "#bd3786"
                          ],
                          [
                            0.5555555555555556,
                            "#d8576b"
                          ],
                          [
                            0.6666666666666666,
                            "#ed7953"
                          ],
                          [
                            0.7777777777777778,
                            "#fb9f3a"
                          ],
                          [
                            0.8888888888888888,
                            "#fdca26"
                          ],
                          [
                            1,
                            "#f0f921"
                          ]
                        ]
                      }
                    ],
                    "scatter": [
                      {
                        "marker": {
                          "colorbar": {
                            "outlinewidth": 0,
                            "ticks": ""
                          }
                        },
                        "type": "scatter"
                      }
                    ]
                  }
                },
                "title": {
                  "text": "Countries with more than 20k cases"
                }
              }
            }
          },
          "metadata": {
            "tags": []
          }
        }
      ]
    },
    {
      "cell_type": "code",
      "metadata": {
        "id": "CIr-s6nX_j5l"
      },
      "source": [
        ""
      ],
      "execution_count": 35,
      "outputs": []
    },
    {
      "cell_type": "code",
      "metadata": {
        "id": "rvzHRLDi_j5l"
      },
      "source": [
        ""
      ],
      "execution_count": 35,
      "outputs": []
    }
  ]
}